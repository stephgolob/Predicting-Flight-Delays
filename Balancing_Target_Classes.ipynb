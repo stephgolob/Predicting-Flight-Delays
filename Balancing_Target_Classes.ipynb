{
 "cells": [
  {
   "cell_type": "markdown",
   "id": "df7a1155",
   "metadata": {},
   "source": [
    "# Balancing Target Classes\n",
    "\n",
    "**Author**: Stephanie Golob\n",
    "\n",
    "**contact**: estefaniagolob@gmail.com\n",
    "\n",
    "**Date**: July 4, 2022\n",
    "\n",
    "**Previous Notebook**: 3 of 7 (Exploratory Data Analysis)\n",
    "\n",
    "**Current Notebook**: 4 of 7\n",
    "\n",
    "**Next Notebook**: 5 of 7 (Logistic Regression)\n",
    "\n",
    "---\n",
    "\n",
    "In this notebook I will explore using different methods to balance the classes of 'Dep_Delay_classes' so that there is no bias towards the majority class when fitting different models. I have decided to compare the results of Upsampling using the RandomOverSampler method, Downsampling using the RandomUnderSampler method and Upsampling using the SMOTEN method, all from the Imbalanced Learn library. After balancing the data I will run simple Logistic Regression models to test whether balancing the data has improved model precision and recall. \n",
    "\n",
    "**RandomOverSampler** randomly samples with replacement from the minority classes to balance the data.\n",
    "\n",
    "**RandomUnderSampler** randomly samples a subset of the data from the majority class to balance the data.\n",
    "\n",
    "**SMOTE** (Synthetic Minority Oversampling Technique - SMOTE) generates new samples of the minority classes through interpolation."
   ]
  },
  {
   "cell_type": "markdown",
   "id": "2f80cdc9",
   "metadata": {
    "toc": true
   },
   "source": [
    "<h1>Table of Contents<span class=\"tocSkip\"></span></h1>\n",
    "<div class=\"toc\"><ul class=\"toc-item\"><li><span><a href=\"#Balancing-Target-Classes\" data-toc-modified-id=\"Balancing-Target-Classes-1\"><span class=\"toc-item-num\">1&nbsp;&nbsp;</span>Balancing Target Classes</a></span><ul class=\"toc-item\"><li><span><a href=\"#Upsampling-with-SMOTE\" data-toc-modified-id=\"Upsampling-with-SMOTE-1.1\"><span class=\"toc-item-num\">1.1&nbsp;&nbsp;</span>Upsampling with SMOTE</a></span></li><li><span><a href=\"#Upsampling-with-RandomOverSampler\" data-toc-modified-id=\"Upsampling-with-RandomOverSampler-1.2\"><span class=\"toc-item-num\">1.2&nbsp;&nbsp;</span>Upsampling with RandomOverSampler</a></span></li><li><span><a href=\"#Downsampling-with-RandomUnderSampler\" data-toc-modified-id=\"Downsampling-with-RandomUnderSampler-1.3\"><span class=\"toc-item-num\">1.3&nbsp;&nbsp;</span>Downsampling with RandomUnderSampler</a></span><ul class=\"toc-item\"><li><span><a href=\"#Save-balanced-data-sets\" data-toc-modified-id=\"Save-balanced-data-sets-1.3.1\"><span class=\"toc-item-num\">1.3.1&nbsp;&nbsp;</span>Save balanced data sets</a></span></li></ul></li><li><span><a href=\"#Logistic-Regression\" data-toc-modified-id=\"Logistic-Regression-1.4\"><span class=\"toc-item-num\">1.4&nbsp;&nbsp;</span>Logistic Regression</a></span><ul class=\"toc-item\"><li><ul class=\"toc-item\"><li><span><a href=\"#Upsampled-Data-Using-Random-Over-Sampler\" data-toc-modified-id=\"Upsampled-Data-Using-Random-Over-Sampler-1.4.0.1\"><span class=\"toc-item-num\">1.4.0.1&nbsp;&nbsp;</span>Upsampled Data Using Random Over Sampler</a></span></li><li><span><a href=\"#Downsampled-Data-Using-Random-Under-Sampler\" data-toc-modified-id=\"Downsampled-Data-Using-Random-Under-Sampler-1.4.0.2\"><span class=\"toc-item-num\">1.4.0.2&nbsp;&nbsp;</span>Downsampled Data Using Random Under Sampler</a></span></li><li><span><a href=\"#Upsampled-Data-Using-SMOTE\" data-toc-modified-id=\"Upsampled-Data-Using-SMOTE-1.4.0.3\"><span class=\"toc-item-num\">1.4.0.3&nbsp;&nbsp;</span>Upsampled Data Using SMOTE</a></span></li></ul></li></ul></li><li><span><a href=\"#Results\" data-toc-modified-id=\"Results-1.5\"><span class=\"toc-item-num\">1.5&nbsp;&nbsp;</span>Results</a></span></li><li><span><a href=\"#Next-Steps\" data-toc-modified-id=\"Next-Steps-1.6\"><span class=\"toc-item-num\">1.6&nbsp;&nbsp;</span>Next Steps</a></span></li></ul></li></ul></div>"
   ]
  },
  {
   "cell_type": "markdown",
   "id": "f8c1c9db",
   "metadata": {},
   "source": [
    "---"
   ]
  },
  {
   "cell_type": "markdown",
   "id": "c600c9b9",
   "metadata": {},
   "source": [
    "Install Imbalanced Learn library using pip install:"
   ]
  },
  {
   "cell_type": "code",
   "execution_count": 1,
   "id": "0b6f1caf",
   "metadata": {
    "collapsed": true
   },
   "outputs": [
    {
     "name": "stdout",
     "output_type": "stream",
     "text": [
      "Requirement already satisfied: imbalanced-learn in /Users/stephgolob/opt/anaconda3/lib/python3.9/site-packages (0.9.1)\n",
      "Requirement already satisfied: scipy>=1.3.2 in /Users/stephgolob/opt/anaconda3/lib/python3.9/site-packages (from imbalanced-learn) (1.7.1)\n",
      "Requirement already satisfied: numpy>=1.17.3 in /Users/stephgolob/opt/anaconda3/lib/python3.9/site-packages (from imbalanced-learn) (1.20.3)\n",
      "Requirement already satisfied: scikit-learn>=1.1.0 in /Users/stephgolob/opt/anaconda3/lib/python3.9/site-packages (from imbalanced-learn) (1.1.1)\n",
      "Requirement already satisfied: joblib>=1.0.0 in /Users/stephgolob/opt/anaconda3/lib/python3.9/site-packages (from imbalanced-learn) (1.1.0)\n",
      "Requirement already satisfied: threadpoolctl>=2.0.0 in /Users/stephgolob/opt/anaconda3/lib/python3.9/site-packages (from imbalanced-learn) (2.2.0)\n"
     ]
    }
   ],
   "source": [
    "!pip install imbalanced-learn"
   ]
  },
  {
   "cell_type": "markdown",
   "id": "414486b3",
   "metadata": {},
   "source": [
    "Read in the required libraries. "
   ]
  },
  {
   "cell_type": "code",
   "execution_count": 1,
   "id": "77168703",
   "metadata": {},
   "outputs": [],
   "source": [
    "import numpy as np\n",
    "import pandas as pd\n",
    "import matplotlib.pyplot as plt\n",
    "\n",
    "#split the data for SMOTEN sampling\n",
    "from sklearn.model_selection import train_test_split\n",
    "\n",
    "# count the target classes\n",
    "from collections import Counter\n",
    "\n",
    "# sampling techniques\n",
    "from imblearn.over_sampling import SMOTE\n",
    "from imblearn.over_sampling import RandomOverSampler\n",
    "from imblearn.under_sampling import RandomUnderSampler\n",
    "\n",
    "# models and metrics\n",
    "from sklearn.linear_model import LogisticRegression\n",
    "from sklearn.metrics import plot_confusion_matrix, confusion_matrix\n",
    "from sklearn.metrics import classification_report\n",
    "\n",
    "# ignore warnings\n",
    "import warnings\n",
    "warnings.filterwarnings(\"ignore\")"
   ]
  },
  {
   "cell_type": "markdown",
   "id": "422f55c7",
   "metadata": {},
   "source": [
    "Read in the training and validation data sets that were created in Notebook 3 (EDA)."
   ]
  },
  {
   "cell_type": "code",
   "execution_count": 2,
   "id": "af2e58a4",
   "metadata": {},
   "outputs": [],
   "source": [
    "X_train = pd.read_pickle(\"data/X_train.pkl\")\n",
    "y_train = pd.read_pickle(\"data/y_train.pkl\")\n",
    "\n",
    "X_validation = pd.read_pickle(\"data/X_validation.pkl\")\n",
    "y_validation = pd.read_pickle(\"data/y_validation.pkl\")"
   ]
  },
  {
   "cell_type": "markdown",
   "id": "4d32da73",
   "metadata": {},
   "source": [
    "Check the shape of the data sets."
   ]
  },
  {
   "cell_type": "code",
   "execution_count": 3,
   "id": "07736343",
   "metadata": {
    "scrolled": true
   },
   "outputs": [
    {
     "data": {
      "text/plain": [
       "((304062, 26), (304062,), (130313, 26), (130313,))"
      ]
     },
     "execution_count": 3,
     "metadata": {},
     "output_type": "execute_result"
    }
   ],
   "source": [
    "X_train.shape, y_train.shape, X_validation.shape, y_validation.shape"
   ]
  },
  {
   "cell_type": "markdown",
   "id": "6c680943",
   "metadata": {},
   "source": [
    "---"
   ]
  },
  {
   "cell_type": "markdown",
   "id": "19bce609",
   "metadata": {},
   "source": [
    "## Upsampling with SMOTE"
   ]
  },
  {
   "cell_type": "code",
   "execution_count": 4,
   "id": "584e79f5",
   "metadata": {},
   "outputs": [
    {
     "name": "stdout",
     "output_type": "stream",
     "text": [
      "Original class counts: Counter({'0': 227138, '1': 76924})\n"
     ]
    }
   ],
   "source": [
    "print(f\"Original class counts: {Counter(y_train)}\")"
   ]
  },
  {
   "cell_type": "code",
   "execution_count": 5,
   "id": "564c52ba",
   "metadata": {},
   "outputs": [],
   "source": [
    "# instantiate SMOTE, random_state = 10 makes the results reproducible\n",
    "sampler = SMOTE(random_state = 10)\n",
    "\n",
    "# Upsample X_train1 and y_train1 and save the outputs\n",
    "X_train_smote, y_train_smote = sampler.fit_resample(X_train, y_train)"
   ]
  },
  {
   "cell_type": "markdown",
   "id": "54f6e524",
   "metadata": {},
   "source": [
    "Print the counts for each class after upsampling. "
   ]
  },
  {
   "cell_type": "code",
   "execution_count": 6,
   "id": "c2bdcc03",
   "metadata": {},
   "outputs": [
    {
     "name": "stdout",
     "output_type": "stream",
     "text": [
      "Class counts after resampling: Counter({'0': 227138, '1': 227138})\n"
     ]
    }
   ],
   "source": [
    "print(f\"Class counts after resampling: {Counter(y_train_smote)}\")"
   ]
  },
  {
   "cell_type": "markdown",
   "id": "9afc8dc1",
   "metadata": {},
   "source": [
    "---"
   ]
  },
  {
   "cell_type": "markdown",
   "id": "5d4b3ad6",
   "metadata": {},
   "source": [
    "## Upsampling with RandomOverSampler"
   ]
  },
  {
   "cell_type": "code",
   "execution_count": 7,
   "id": "0951587a",
   "metadata": {},
   "outputs": [
    {
     "name": "stdout",
     "output_type": "stream",
     "text": [
      "Original class counts: Counter({'0': 227138, '1': 76924})\n"
     ]
    }
   ],
   "source": [
    "# print the original class balance\n",
    "print(f\"Original class counts: {Counter(y_train)}\")"
   ]
  },
  {
   "cell_type": "code",
   "execution_count": 8,
   "id": "481a8df0",
   "metadata": {},
   "outputs": [],
   "source": [
    "# instantiate RandomOverSampler use random_state = 10 to make the results reproducible\n",
    "ros = RandomOverSampler(random_state = 10)\n",
    "\n",
    "# fit on X_train and y_train data and save the outputs \n",
    "X_train_over, y_train_over = ros.fit_resample(X_train, y_train)"
   ]
  },
  {
   "cell_type": "code",
   "execution_count": 9,
   "id": "1c06893d",
   "metadata": {},
   "outputs": [
    {
     "name": "stdout",
     "output_type": "stream",
     "text": [
      "Class counts after resampling Counter({'0': 227138, '1': 227138})\n"
     ]
    }
   ],
   "source": [
    "# print the class balance after upsampling\n",
    "print(f\"Class counts after resampling {Counter(y_train_over)}\")"
   ]
  },
  {
   "cell_type": "markdown",
   "id": "190ef080",
   "metadata": {},
   "source": [
    "---"
   ]
  },
  {
   "cell_type": "markdown",
   "id": "fce5faa5",
   "metadata": {},
   "source": [
    "## Downsampling with RandomUnderSampler"
   ]
  },
  {
   "cell_type": "code",
   "execution_count": 10,
   "id": "ef1c12e1",
   "metadata": {},
   "outputs": [
    {
     "name": "stdout",
     "output_type": "stream",
     "text": [
      "Original class counts: Counter({'0': 227138, '1': 76924})\n"
     ]
    }
   ],
   "source": [
    "# print the original class balance\n",
    "print(f\"Original class counts: {Counter(y_train)}\")"
   ]
  },
  {
   "cell_type": "code",
   "execution_count": 11,
   "id": "460eb268",
   "metadata": {},
   "outputs": [],
   "source": [
    "# instantiate RandomUnderSampler use random_state = 10 to make the results reproducible\n",
    "rus = RandomUnderSampler(random_state = 10, replacement = True)\n",
    "\n",
    "# fit on the X_train and y_train data and save the outputs\n",
    "X_train_under, y_train_under = rus.fit_resample(X_train, y_train)"
   ]
  },
  {
   "cell_type": "code",
   "execution_count": 12,
   "id": "da8df434",
   "metadata": {},
   "outputs": [
    {
     "name": "stdout",
     "output_type": "stream",
     "text": [
      "Class counts after resampling Counter({'0': 76924, '1': 76924})\n"
     ]
    }
   ],
   "source": [
    "# print the class balance after down sampling\n",
    "print(f\"Class counts after resampling {Counter(y_train_under)}\")"
   ]
  },
  {
   "cell_type": "markdown",
   "id": "9a72d13b",
   "metadata": {},
   "source": [
    "---"
   ]
  },
  {
   "cell_type": "markdown",
   "id": "92c9897f",
   "metadata": {},
   "source": [
    "### Save balanced data sets"
   ]
  },
  {
   "cell_type": "markdown",
   "id": "bffb0156",
   "metadata": {},
   "source": [
    "Save the new balanced data sets using `to_pickle` so they can be used in modeling notebooks."
   ]
  },
  {
   "cell_type": "code",
   "execution_count": 13,
   "id": "3f70fda3",
   "metadata": {},
   "outputs": [],
   "source": [
    "X_train_smote.to_pickle(\"data/X_train_smote.pkl\")\n",
    "y_train_smote.to_pickle(\"data/y_train_smote.pkl\")\n",
    "\n",
    "X_train_over.to_pickle(\"data/X_train_over.pkl\")\n",
    "y_train_over.to_pickle(\"data/y_train_over.pkl\")\n",
    "\n",
    "X_train_under.to_pickle(\"data/X_train_under.pkl\")\n",
    "y_train_under.to_pickle(\"data/y_train_under.pkl\")"
   ]
  },
  {
   "cell_type": "markdown",
   "id": "5b05ba0b",
   "metadata": {},
   "source": [
    "---"
   ]
  },
  {
   "cell_type": "markdown",
   "id": "7c102ec8",
   "metadata": {},
   "source": [
    "## Logistic Regression\n",
    "\n",
    "I will fit basic Logistic Regression models on the original data as well as the balanced data sets to compare the sampling methods. I will use precision, recall and f1-scores to evaluate the sampling methods since the models will be making predictions on imbalanced data sets. These metrics will allow me to understand how the model is predicting each class. I want to have higher recall scores for class 1 since I am trying to predict departure delays."
   ]
  },
  {
   "cell_type": "markdown",
   "id": "66afde4c",
   "metadata": {},
   "source": [
    "#### Upsampled Data Using Random Over Sampler"
   ]
  },
  {
   "cell_type": "code",
   "execution_count": 14,
   "id": "a4e287bb",
   "metadata": {
    "scrolled": false
   },
   "outputs": [
    {
     "name": "stdout",
     "output_type": "stream",
     "text": [
      "Confusion matrices: \n",
      "=======================================================\n",
      "\n"
     ]
    },
    {
     "data": {
      "image/png": "[encoded data removed]",
      "text/plain": [
       "<Figure size 720x216 with 4 Axes>"
      ]
     },
     "metadata": {
      "needs_background": "light"
     },
     "output_type": "display_data"
    },
    {
     "name": "stdout",
     "output_type": "stream",
     "text": [
      "\n",
      "Original data classification report: \n",
      "=======================================================\n",
      "               precision    recall  f1-score   support\n",
      "\n",
      "           0       0.75      1.00      0.86     97346\n",
      "           1       0.00      0.00      0.00     32967\n",
      "\n",
      "    accuracy                           0.75    130313\n",
      "   macro avg       0.37      0.50      0.43    130313\n",
      "weighted avg       0.56      0.75      0.64    130313\n",
      "\n",
      "\n",
      "Upsampled data classification report: \n",
      "=======================================================\n",
      "               precision    recall  f1-score   support\n",
      "\n",
      "           0       0.00      0.00      0.00     97346\n",
      "           1       0.25      1.00      0.40     32967\n",
      "\n",
      "    accuracy                           0.25    130313\n",
      "   macro avg       0.13      0.50      0.20    130313\n",
      "weighted avg       0.06      0.25      0.10    130313\n",
      "\n"
     ]
    }
   ],
   "source": [
    "# MODELING \n",
    "\n",
    "### ORIGINAL DATA ###\n",
    "# instantiate the model\n",
    "LR_model_1 = LogisticRegression(solver = 'lbfgs', random_state = 10, max_iter = 10000)\n",
    "\n",
    "# fit the model on the original X_train and y_train data\n",
    "LR_model_1.fit(X_train, y_train)\n",
    "\n",
    "# make predictions using original X_validation data\n",
    "y_predictions = LR_model_1.predict(X_validation)\n",
    "\n",
    "# create a classification report using y_validation and y_predictions\n",
    "report_original = classification_report(y_validation, y_predictions)\n",
    "\n",
    "\n",
    "\n",
    "\n",
    "### UPSAMPLED DATA ###\n",
    "# instantiate the model\n",
    "LR_model_2 = LogisticRegression(solver = 'lbfgs', random_state = 10, max_iter = 10000)\n",
    "\n",
    "# fit the model on the upsampled X_train_over and y_train_over data\n",
    "LR_model_2.fit(X_train_over, y_train_over)\n",
    "\n",
    "# make predictions using original X_validation data\n",
    "y_predictions_up = LR_model_2.predict(X_validation) \n",
    "\n",
    "# classification report\n",
    "report_up = classification_report(y_validation, y_predictions_up)\n",
    "\n",
    "\n",
    "\n",
    "\n",
    "\n",
    "# RESULTS\n",
    "\n",
    "print_line = \"\\n=======================================================\\n\"\n",
    "\n",
    "# Confusion matrices\n",
    "print(\"Confusion matrices:\", print_line)\n",
    "\n",
    "fig, axes = plt.subplots(1, 2, figsize=(10, 3))\n",
    "\n",
    "# Model on the original data\n",
    "plot_confusion_matrix(LR_model_1, X_validation, y_validation, ax=axes[0])\n",
    "axes[0].set_title('Original Confusion Matrix')\n",
    "\n",
    "# Model on the upsampled data\n",
    "plot_confusion_matrix(LR_model_2, X_validation, y_validation, ax=axes[1])\n",
    "axes[1].set_title('Upsampled Confusion Matrix')\n",
    "\n",
    "plt.show()\n",
    "\n",
    "# Classification Reports\n",
    "print(\"\\nOriginal data classification report:\", print_line, report_original)\n",
    "print(\"\\nUpsampled data classification report:\", print_line, report_up)"
   ]
  },
  {
   "cell_type": "markdown",
   "id": "2b0b62d0",
   "metadata": {},
   "source": [
    "The Logistic Regression (LR) model that was fit on the original data (LR_model_1) only predicted the majority class (Class 0 - on-time flights). The LR model fit on the upsampled data (LR_model_2) only predicted Class 1 (delayed flights). Since this was only a basic LR model, tuning the hyperparameters and exploring other more powerful models should help improve the precision and recall scores."
   ]
  },
  {
   "cell_type": "markdown",
   "id": "1a4ac81e",
   "metadata": {},
   "source": [
    "---"
   ]
  },
  {
   "cell_type": "markdown",
   "id": "ce18c5c9",
   "metadata": {},
   "source": [
    "#### Downsampled Data Using Random Under Sampler"
   ]
  },
  {
   "cell_type": "code",
   "execution_count": 15,
   "id": "0b350aa9",
   "metadata": {
    "scrolled": false
   },
   "outputs": [
    {
     "name": "stdout",
     "output_type": "stream",
     "text": [
      "Confusion matrices: \n",
      "=======================================================\n",
      "\n"
     ]
    },
    {
     "data": {
      "image/png": "[encoded data removed]",
      "text/plain": [
       "<Figure size 720x216 with 4 Axes>"
      ]
     },
     "metadata": {
      "needs_background": "light"
     },
     "output_type": "display_data"
    },
    {
     "name": "stdout",
     "output_type": "stream",
     "text": [
      "\n",
      "Original data classification report: \n",
      "=======================================================\n",
      "               precision    recall  f1-score   support\n",
      "\n",
      "           0       0.75      1.00      0.86     97346\n",
      "           1       0.00      0.00      0.00     32967\n",
      "\n",
      "    accuracy                           0.75    130313\n",
      "   macro avg       0.37      0.50      0.43    130313\n",
      "weighted avg       0.56      0.75      0.64    130313\n",
      "\n",
      "\n",
      "Downsampled data classification report: \n",
      "=======================================================\n",
      "               precision    recall  f1-score   support\n",
      "\n",
      "           0       0.00      0.00      0.00     97346\n",
      "           1       0.25      1.00      0.40     32967\n",
      "\n",
      "    accuracy                           0.25    130313\n",
      "   macro avg       0.13      0.50      0.20    130313\n",
      "weighted avg       0.06      0.25      0.10    130313\n",
      "\n"
     ]
    }
   ],
   "source": [
    "# Modeling\n",
    "\n",
    "### DOWNSAMPLED DATA ###\n",
    "# instantiate the model\n",
    "LR_model_4 = LogisticRegression(solver = 'lbfgs', random_state = 10, max_iter = 10000)\n",
    "\n",
    "# fit the model on the downsampled X_train_down and y_train_down data\n",
    "LR_model_4.fit(X_train_under, y_train_under)\n",
    "\n",
    "# make predictions using original X_validation data\n",
    "y_predictions_down = LR_model_4.predict(X_validation) \n",
    "\n",
    "# create a classification report using y_validation and y_predictions_down\n",
    "report_down = classification_report(y_validation, y_predictions_down)\n",
    "\n",
    "\n",
    "\n",
    "\n",
    "\n",
    "# RESULTS\n",
    "\n",
    "print_line = \"\\n=======================================================\\n\"\n",
    "\n",
    "# Confusion matrices\n",
    "print(\"Confusion matrices:\", print_line)\n",
    "\n",
    "fig, axes = plt.subplots(1, 2, figsize = (10, 3))\n",
    "\n",
    "# Model on the original data\n",
    "plot_confusion_matrix(LR_model_1, X_validation, y_validation, ax=axes[0])\n",
    "axes[0].set_title('Original Confusion Matrix')\n",
    "\n",
    "# Model on the downsampled data\n",
    "plot_confusion_matrix(LR_model_4, X_validation, y_validation, ax=axes[1])\n",
    "axes[1].set_title('Downsampled Confusion Matrix')\n",
    "\n",
    "plt.show()\n",
    "\n",
    "# Classification Reports\n",
    "print(\"\\nOriginal data classification report:\", print_line, report_original)\n",
    "print(\"\\nDownsampled data classification report:\", print_line, report_down)"
   ]
  },
  {
   "cell_type": "markdown",
   "id": "7ca65cca",
   "metadata": {},
   "source": [
    "The downsampled LR model performs the same as the upsampled LR model."
   ]
  },
  {
   "cell_type": "markdown",
   "id": "bf35a1e4",
   "metadata": {},
   "source": [
    "#### Upsampled Data Using SMOTE"
   ]
  },
  {
   "cell_type": "code",
   "execution_count": 16,
   "id": "0f150120",
   "metadata": {
    "scrolled": false
   },
   "outputs": [
    {
     "name": "stdout",
     "output_type": "stream",
     "text": [
      "Confusion matrices: \n",
      "=======================================================\n",
      "\n"
     ]
    },
    {
     "data": {
      "image/png": "[encoded data removed]",
      "text/plain": [
       "<Figure size 720x216 with 4 Axes>"
      ]
     },
     "metadata": {
      "needs_background": "light"
     },
     "output_type": "display_data"
    },
    {
     "name": "stdout",
     "output_type": "stream",
     "text": [
      "\n",
      "Original data classification report: \n",
      "=======================================================\n",
      "               precision    recall  f1-score   support\n",
      "\n",
      "           0       0.75      1.00      0.86     97346\n",
      "           1       0.00      0.00      0.00     32967\n",
      "\n",
      "    accuracy                           0.75    130313\n",
      "   macro avg       0.37      0.50      0.43    130313\n",
      "weighted avg       0.56      0.75      0.64    130313\n",
      "\n",
      "\n",
      "Upsampled SMOTE data classification report: \n",
      "=======================================================\n",
      "               precision    recall  f1-score   support\n",
      "\n",
      "           0       0.00      0.00      0.00     97346\n",
      "           1       0.25      1.00      0.40     32967\n",
      "\n",
      "    accuracy                           0.25    130313\n",
      "   macro avg       0.13      0.50      0.20    130313\n",
      "weighted avg       0.06      0.25      0.10    130313\n",
      "\n"
     ]
    }
   ],
   "source": [
    "# MODELING\n",
    "\n",
    "### SMOTE UPSAMPLED DATA ###\n",
    "# instantiate the model\n",
    "LR_model_6 = LogisticRegression(solver = 'lbfgs', random_state = 10, max_iter = 10000)\n",
    "\n",
    "# fit the model on the SMOTE upsampled X_train_smote and y_train_smote data\n",
    "LR_model_6.fit(X_train_smote, y_train_smote)\n",
    "\n",
    "# make predictions using original X_validation data\n",
    "y_predictions_smote = LR_model_6.predict(X_validation) \n",
    "\n",
    "# create a classification report using y_validation and y_predictions_smote\n",
    "report_smote = classification_report(y_validation, y_predictions_smote)\n",
    "\n",
    "\n",
    "\n",
    "\n",
    "# RESULTS \n",
    "\n",
    "print_line = \"\\n=======================================================\\n\"\n",
    "\n",
    "# Confusion matrices\n",
    "print(\"Confusion matrices:\", print_line)\n",
    "\n",
    "fig, axes = plt.subplots(1, 2, figsize=(10, 3))\n",
    "\n",
    "# Model on the original data\n",
    "plot_confusion_matrix(LR_model_1, X_validation, y_validation, ax=axes[0])\n",
    "axes[0].set_title('Original Confusion Matrix')\n",
    "\n",
    "# Model on the upsampled data\n",
    "plot_confusion_matrix(LR_model_6, X_validation, y_validation, ax=axes[1])\n",
    "axes[1].set_title('Upsampled SMOTEN Confusion Matrix')\n",
    "\n",
    "plt.show()\n",
    "\n",
    "# Classification Reports\n",
    "print(\"\\nOriginal data classification report:\", print_line, report_original)\n",
    "print(\"\\nUpsampled SMOTE data classification report:\", print_line, report_smote)"
   ]
  },
  {
   "cell_type": "markdown",
   "id": "9bd91201",
   "metadata": {},
   "source": [
    "The SMOTE model performs the same as the downsampled and upsampled models, therefore hyperparameter tuning will be needed to see which data set ultimately performs the best."
   ]
  },
  {
   "cell_type": "markdown",
   "id": "8ad1b06b",
   "metadata": {},
   "source": [
    "----"
   ]
  },
  {
   "cell_type": "markdown",
   "id": "fee6cfc8",
   "metadata": {},
   "source": [
    "## Results"
   ]
  },
  {
   "cell_type": "markdown",
   "id": "0dd0e2e3",
   "metadata": {},
   "source": [
    "Comparing the results side-by-side."
   ]
  },
  {
   "cell_type": "code",
   "execution_count": 18,
   "id": "efc30401",
   "metadata": {},
   "outputs": [
    {
     "data": {
      "image/png": "[encoded data removed]",
      "text/plain": [
       "<Figure size 720x720 with 8 Axes>"
      ]
     },
     "metadata": {
      "needs_background": "light"
     },
     "output_type": "display_data"
    },
    {
     "name": "stdout",
     "output_type": "stream",
     "text": [
      "\n",
      "Original data classification report: \n",
      "=======================================================\n",
      "               precision    recall  f1-score   support\n",
      "\n",
      "           0       0.75      1.00      0.86     97346\n",
      "           1       0.00      0.00      0.00     32967\n",
      "\n",
      "    accuracy                           0.75    130313\n",
      "   macro avg       0.37      0.50      0.43    130313\n",
      "weighted avg       0.56      0.75      0.64    130313\n",
      "\n",
      "\n",
      "Upsampled data classification report: \n",
      "=======================================================\n",
      "               precision    recall  f1-score   support\n",
      "\n",
      "           0       0.00      0.00      0.00     97346\n",
      "           1       0.25      1.00      0.40     32967\n",
      "\n",
      "    accuracy                           0.25    130313\n",
      "   macro avg       0.13      0.50      0.20    130313\n",
      "weighted avg       0.06      0.25      0.10    130313\n",
      "\n",
      "\n",
      "Downsampled data classification report: \n",
      "=======================================================\n",
      "               precision    recall  f1-score   support\n",
      "\n",
      "           0       0.00      0.00      0.00     97346\n",
      "           1       0.25      1.00      0.40     32967\n",
      "\n",
      "    accuracy                           0.25    130313\n",
      "   macro avg       0.13      0.50      0.20    130313\n",
      "weighted avg       0.06      0.25      0.10    130313\n",
      "\n",
      "\n",
      "SMOTE Upsampled data classification report: \n",
      "=======================================================\n",
      "               precision    recall  f1-score   support\n",
      "\n",
      "           0       0.00      0.00      0.00     97346\n",
      "           1       0.25      1.00      0.40     32967\n",
      "\n",
      "    accuracy                           0.25    130313\n",
      "   macro avg       0.13      0.50      0.20    130313\n",
      "weighted avg       0.06      0.25      0.10    130313\n",
      "\n"
     ]
    }
   ],
   "source": [
    "fig, axes = plt.subplots(2, 2, figsize=(10, 10))\n",
    "\n",
    "# Model on the original data\n",
    "plot_confusion_matrix(LR_model_1, X_validation, y_validation, ax=axes[0, 0])\n",
    "axes[0, 0].set_title(\"Original Confusion Matrix\")\n",
    "\n",
    "plot_confusion_matrix(LR_model_2, X_validation, y_validation, ax=axes[0, 1])\n",
    "axes[0, 1].set_title(\"Upsampled Confusion Matrix\")\n",
    "\n",
    "# Model on the upsampled data\n",
    "plot_confusion_matrix(LR_model_4, X_validation, y_validation, ax=axes[1, 0])\n",
    "axes[1, 0].set_title('Downsampled Confusion Matrix')\n",
    "\n",
    "plot_confusion_matrix(LR_model_6, X_validation, y_validation, ax=axes[1, 1])\n",
    "axes[1, 1].set_title('SMOTE Upsampled Confusion Matrix')\n",
    "\n",
    "plt.show()\n",
    "\n",
    "print_line = \"\\n=======================================================\\n\"\n",
    "\n",
    "# Classification Reports\n",
    "print(\"\\nOriginal data classification report:\", print_line, report_original)\n",
    "print(\"\\nUpsampled data classification report:\", print_line, report_up)\n",
    "print(\"\\nDownsampled data classification report:\", print_line, report_down)\n",
    "print(\"\\nSMOTE Upsampled data classification report:\", print_line, report_smote)"
   ]
  },
  {
   "cell_type": "markdown",
   "id": "cb1f9484",
   "metadata": {},
   "source": [
    "All the sampling techniques improved the model's precision, recall and f1-scores for Class 1, albeit at the cost of predicting Class 0. \n",
    "\n",
    "\n",
    "## Next Steps\n",
    "In the next notebook (Notebook 5 Logistic Regression) I will create pipelines for Logistic Regression and tune the hyperparameters and check the results for each data set again. "
   ]
  },
  {
   "cell_type": "markdown",
   "id": "3f1071c3",
   "metadata": {},
   "source": [
    "---"
   ]
  }
 ],
 "metadata": {
  "kernelspec": {
   "display_name": "Python 3 (ipykernel)",
   "language": "python",
   "name": "python3"
  },
  "language_info": {
   "codemirror_mode": {
    "name": "ipython",
    "version": 3
   },
   "file_extension": ".py",
   "mimetype": "text/x-python",
   "name": "python",
   "nbconvert_exporter": "python",
   "pygments_lexer": "ipython3",
   "version": "3.9.7"
  },
  "toc": {
   "base_numbering": 1,
   "nav_menu": {},
   "number_sections": true,
   "sideBar": true,
   "skip_h1_title": false,
   "title_cell": "Table of Contents",
   "title_sidebar": "Contents",
   "toc_cell": true,
   "toc_position": {},
   "toc_section_display": false,
   "toc_window_display": false
  },
  "varInspector": {
   "cols": {
    "lenName": 16,
    "lenType": 16,
    "lenVar": 40
   },
   "kernels_config": {
    "python": {
     "delete_cmd_postfix": "",
     "delete_cmd_prefix": "del ",
     "library": "var_list.py",
     "varRefreshCmd": "print(var_dic_list())"
    },
    "r": {
     "delete_cmd_postfix": ") ",
     "delete_cmd_prefix": "rm(",
     "library": "var_list.r",
     "varRefreshCmd": "cat(var_dic_list()) "
    }
   },
   "types_to_exclude": [
    "module",
    "function",
    "builtin_function_or_method",
    "instance",
    "_Feature"
   ],
   "window_display": false
  }
 },
 "nbformat": 4,
 "nbformat_minor": 5
}
