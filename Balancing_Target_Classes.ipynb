{
 "cells": [
  {
   "cell_type": "markdown",
   "id": "df7a1155",
   "metadata": {},
   "source": [
    "# Balancing Target Classes\n",
    "\n",
    "**Author**: Stephanie Golob\n",
    "\n",
    "**contact**: estefaniagolob@gmail.com\n",
    "\n",
    "**Date**: July 4, 2022\n",
    "\n",
    "**Previous Notebook**: 3 of 7 (Exploratory Data Analysis)\n",
    "\n",
    "**Current Notebook**: 4 of 7\n",
    "\n",
    "**Next Notebook**: 5 of 7 (Logistic Regression)\n",
    "\n",
    "---\n",
    "\n",
    "In this notebook I will explore using different methods to balance the classes of 'Dep_Delay_classes' so that there is no bias towards the majority class when fitting different models. I have decided to compare the results of Upsampling using the RandomOverSampler method, Downsampling using the RandomUnderSampler method and Upsampling using the SMOTEN method, all from the Imbalanced Learn library. After balancing the data I will run simple Logistic Regression models to test whether balancing the data has improved model precision and recall. \n",
    "\n",
    "**RandomOverSampler** randomly samples with replacement from the minority classes to balance the data.\n",
    "\n",
    "**RandomUnderSampler** randomly samples a subset of the data from the majority class to balance the data.\n",
    "\n",
    "**SMOTEN** (Synthetic Minority Oversampling Technique - SMOTE) generates new samples of the minority classes through interpolation. SMOTEN is specifically used for categorical data. "
   ]
  },
  {
   "cell_type": "markdown",
   "id": "2f80cdc9",
   "metadata": {
    "toc": true
   },
   "source": [
    "<h1>Table of Contents<span class=\"tocSkip\"></span></h1>\n",
    "<div class=\"toc\"><ul class=\"toc-item\"><li><span><a href=\"#Balancing-Target-Classes\" data-toc-modified-id=\"Balancing-Target-Classes-1\"><span class=\"toc-item-num\">1&nbsp;&nbsp;</span>Balancing Target Classes</a></span><ul class=\"toc-item\"><li><span><a href=\"#Upsampling-with-SMOTEN\" data-toc-modified-id=\"Upsampling-with-SMOTEN-1.1\"><span class=\"toc-item-num\">1.1&nbsp;&nbsp;</span>Upsampling with SMOTEN</a></span></li><li><span><a href=\"#Upsampling-with-RandomOverSampler\" data-toc-modified-id=\"Upsampling-with-RandomOverSampler-1.2\"><span class=\"toc-item-num\">1.2&nbsp;&nbsp;</span>Upsampling with RandomOverSampler</a></span></li><li><span><a href=\"#Downsampling-with-RandomUnderSampler\" data-toc-modified-id=\"Downsampling-with-RandomUnderSampler-1.3\"><span class=\"toc-item-num\">1.3&nbsp;&nbsp;</span>Downsampling with RandomUnderSampler</a></span><ul class=\"toc-item\"><li><span><a href=\"#Save-balanced-data-sets\" data-toc-modified-id=\"Save-balanced-data-sets-1.3.1\"><span class=\"toc-item-num\">1.3.1&nbsp;&nbsp;</span>Save balanced data sets</a></span></li></ul></li><li><span><a href=\"#Logistic-Regression\" data-toc-modified-id=\"Logistic-Regression-1.4\"><span class=\"toc-item-num\">1.4&nbsp;&nbsp;</span>Logistic Regression</a></span><ul class=\"toc-item\"><li><ul class=\"toc-item\"><li><span><a href=\"#Upsampled-Data-Using-Random-Over-Sampler\" data-toc-modified-id=\"Upsampled-Data-Using-Random-Over-Sampler-1.4.0.1\"><span class=\"toc-item-num\">1.4.0.1&nbsp;&nbsp;</span>Upsampled Data Using Random Over Sampler</a></span></li><li><span><a href=\"#Downsampled-Data-Using-Random-Under-Sampler\" data-toc-modified-id=\"Downsampled-Data-Using-Random-Under-Sampler-1.4.0.2\"><span class=\"toc-item-num\">1.4.0.2&nbsp;&nbsp;</span>Downsampled Data Using Random Under Sampler</a></span></li><li><span><a href=\"#Upsampled-Data-Using-SMOTEN\" data-toc-modified-id=\"Upsampled-Data-Using-SMOTEN-1.4.0.3\"><span class=\"toc-item-num\">1.4.0.3&nbsp;&nbsp;</span>Upsampled Data Using SMOTEN</a></span></li></ul></li></ul></li><li><span><a href=\"#Results\" data-toc-modified-id=\"Results-1.5\"><span class=\"toc-item-num\">1.5&nbsp;&nbsp;</span>Results</a></span></li><li><span><a href=\"#Next-Steps\" data-toc-modified-id=\"Next-Steps-1.6\"><span class=\"toc-item-num\">1.6&nbsp;&nbsp;</span>Next Steps</a></span></li></ul></li></ul></div>"
   ]
  },
  {
   "cell_type": "markdown",
   "id": "f8c1c9db",
   "metadata": {},
   "source": [
    "---"
   ]
  },
  {
   "cell_type": "markdown",
   "id": "c600c9b9",
   "metadata": {},
   "source": [
    "Install Imbalanced Learn library using pip install:"
   ]
  },
  {
   "cell_type": "code",
   "execution_count": 1,
   "id": "0b6f1caf",
   "metadata": {
    "collapsed": true
   },
   "outputs": [
    {
     "name": "stdout",
     "output_type": "stream",
     "text": [
      "Requirement already satisfied: imbalanced-learn in /Users/stephgolob/opt/anaconda3/lib/python3.9/site-packages (0.9.1)\n",
      "Requirement already satisfied: scipy>=1.3.2 in /Users/stephgolob/opt/anaconda3/lib/python3.9/site-packages (from imbalanced-learn) (1.7.1)\n",
      "Requirement already satisfied: numpy>=1.17.3 in /Users/stephgolob/opt/anaconda3/lib/python3.9/site-packages (from imbalanced-learn) (1.20.3)\n",
      "Requirement already satisfied: scikit-learn>=1.1.0 in /Users/stephgolob/opt/anaconda3/lib/python3.9/site-packages (from imbalanced-learn) (1.1.1)\n",
      "Requirement already satisfied: joblib>=1.0.0 in /Users/stephgolob/opt/anaconda3/lib/python3.9/site-packages (from imbalanced-learn) (1.1.0)\n",
      "Requirement already satisfied: threadpoolctl>=2.0.0 in /Users/stephgolob/opt/anaconda3/lib/python3.9/site-packages (from imbalanced-learn) (2.2.0)\n"
     ]
    }
   ],
   "source": [
    "!pip install imbalanced-learn"
   ]
  },
  {
   "cell_type": "markdown",
   "id": "414486b3",
   "metadata": {},
   "source": [
    "Read in the required libraries. "
   ]
  },
  {
   "cell_type": "code",
   "execution_count": 2,
   "id": "77168703",
   "metadata": {},
   "outputs": [],
   "source": [
    "import numpy as np\n",
    "import pandas as pd\n",
    "import matplotlib.pyplot as plt\n",
    "\n",
    "#split the data for SMOTEN sampling\n",
    "from sklearn.model_selection import train_test_split\n",
    "\n",
    "# count the target classes\n",
    "from collections import Counter\n",
    "\n",
    "# sampling techniques\n",
    "from imblearn.over_sampling import SMOTEN\n",
    "from imblearn.over_sampling import RandomOverSampler\n",
    "from imblearn.under_sampling import RandomUnderSampler\n",
    "\n",
    "# models and metrics\n",
    "from sklearn.linear_model import LogisticRegression\n",
    "from sklearn.metrics import plot_confusion_matrix, confusion_matrix\n",
    "from sklearn.metrics import classification_report"
   ]
  },
  {
   "cell_type": "markdown",
   "id": "422f55c7",
   "metadata": {},
   "source": [
    "Read in the training and validation data sets that were created in Notebook 3 (EDA)."
   ]
  },
  {
   "cell_type": "code",
   "execution_count": 3,
   "id": "af2e58a4",
   "metadata": {},
   "outputs": [],
   "source": [
    "X_train = pd.read_pickle(\"data/X_train.pkl\")\n",
    "y_train = pd.read_pickle(\"data/y_train.pkl\")\n",
    "\n",
    "X_validation = pd.read_pickle(\"data/X_validation.pkl\")\n",
    "y_validation = pd.read_pickle(\"data/y_validation.pkl\")"
   ]
  },
  {
   "cell_type": "markdown",
   "id": "4d32da73",
   "metadata": {},
   "source": [
    "Check the shape of the data sets."
   ]
  },
  {
   "cell_type": "code",
   "execution_count": 4,
   "id": "07736343",
   "metadata": {
    "scrolled": true
   },
   "outputs": [
    {
     "data": {
      "text/plain": [
       "((304062, 14), (304062,), (130313, 14), (130313,))"
      ]
     },
     "execution_count": 4,
     "metadata": {},
     "output_type": "execute_result"
    }
   ],
   "source": [
    "X_train.shape, y_train.shape, X_validation.shape, y_validation.shape"
   ]
  },
  {
   "cell_type": "markdown",
   "id": "6c680943",
   "metadata": {},
   "source": [
    "---"
   ]
  },
  {
   "cell_type": "markdown",
   "id": "19bce609",
   "metadata": {},
   "source": [
    "## Upsampling with SMOTEN"
   ]
  },
  {
   "cell_type": "markdown",
   "id": "a92508ce",
   "metadata": {},
   "source": [
    "Before I can use SMOTEN to balance X_train and y_train, I need to use train_test_split to divide X_train and y_train into two 50/50 samples. I'm doing this because my kernel was crashing when I attempted to run SMOTEN on the full X_train and y_train data sets. As a workaround I am splitting the data, running SMOTEN on each half of the data sets and then concatenating them together once the upsampling is complete. "
   ]
  },
  {
   "cell_type": "markdown",
   "id": "e9f98d6a",
   "metadata": {},
   "source": [
    "Use `train_test_split` to split X_train and y_train into X_train1, y_train1 and X_train2 and y_train2. Set test_size = 0.5 so they are split evenly at 50%. Random_state = 10 so the results are reproducible and stratify = y_train so an even number of classes are preserved in each split."
   ]
  },
  {
   "cell_type": "code",
   "execution_count": 5,
   "id": "c7d12fb7",
   "metadata": {},
   "outputs": [],
   "source": [
    "X_train1, X_train2, y_train1, y_train2 = train_test_split(X_train, y_train, test_size = 0.5, random_state = 10, stratify = y_train)\n",
    "\n"
   ]
  },
  {
   "cell_type": "markdown",
   "id": "475cec90",
   "metadata": {},
   "source": [
    "Check the shape of the new dataframes are correct."
   ]
  },
  {
   "cell_type": "code",
   "execution_count": 6,
   "id": "ff9e4942",
   "metadata": {},
   "outputs": [
    {
     "data": {
      "text/plain": [
       "((152031, 14), (152031,))"
      ]
     },
     "execution_count": 6,
     "metadata": {},
     "output_type": "execute_result"
    }
   ],
   "source": [
    "X_train1.shape, y_train1.shape"
   ]
  },
  {
   "cell_type": "code",
   "execution_count": 7,
   "id": "7164e805",
   "metadata": {},
   "outputs": [
    {
     "data": {
      "text/plain": [
       "((152031, 14), (152031,))"
      ]
     },
     "execution_count": 7,
     "metadata": {},
     "output_type": "execute_result"
    }
   ],
   "source": [
    "X_train2.shape, y_train2.shape"
   ]
  },
  {
   "cell_type": "markdown",
   "id": "4c707972",
   "metadata": {},
   "source": [
    "---"
   ]
  },
  {
   "cell_type": "markdown",
   "id": "319d8845",
   "metadata": {},
   "source": [
    "Use `Counter` to get the original counts for each class in y_train1."
   ]
  },
  {
   "cell_type": "code",
   "execution_count": 8,
   "id": "52501738",
   "metadata": {},
   "outputs": [
    {
     "name": "stdout",
     "output_type": "stream",
     "text": [
      "Original class counts: Counter({'1': 113570, '2': 30199, '3': 8262})\n"
     ]
    }
   ],
   "source": [
    "print(f\"Original class counts: {Counter(y_train1)}\")"
   ]
  },
  {
   "cell_type": "markdown",
   "id": "593be645",
   "metadata": {},
   "source": [
    "Run SMOTEN with X_train1 and y_train1."
   ]
  },
  {
   "cell_type": "code",
   "execution_count": 9,
   "id": "ed728959",
   "metadata": {},
   "outputs": [],
   "source": [
    "# instantiate SMOTEN, random_state = 10 makes the results reproducible\n",
    "sampler = SMOTEN(random_state = 10)\n",
    "\n",
    "# Upsample X_train1 and y_train1 and save the outputs\n",
    "X_train1_smote, y_train1_smote = sampler.fit_resample(X_train1, y_train1)"
   ]
  },
  {
   "cell_type": "markdown",
   "id": "59ec3c11",
   "metadata": {},
   "source": [
    "Print the counts for each class after upsampling. "
   ]
  },
  {
   "cell_type": "code",
   "execution_count": 10,
   "id": "8cc5ff1b",
   "metadata": {},
   "outputs": [
    {
     "name": "stdout",
     "output_type": "stream",
     "text": [
      "Class counts after resampling: Counter({'1': 113570, '3': 113570, '2': 113570})\n"
     ]
    }
   ],
   "source": [
    "print(f\"Class counts after resampling: {Counter(y_train1_smote)}\")"
   ]
  },
  {
   "cell_type": "markdown",
   "id": "d3ede166",
   "metadata": {},
   "source": [
    "---"
   ]
  },
  {
   "cell_type": "markdown",
   "id": "54e09083",
   "metadata": {},
   "source": [
    "Repeat for X_train2 and y_train2."
   ]
  },
  {
   "cell_type": "markdown",
   "id": "a03d27b6",
   "metadata": {},
   "source": [
    "Original class counts for y_train2."
   ]
  },
  {
   "cell_type": "code",
   "execution_count": 58,
   "id": "751cb525",
   "metadata": {},
   "outputs": [
    {
     "name": "stdout",
     "output_type": "stream",
     "text": [
      "Original class counts: Counter({'1': 113569, '2': 30200, '3': 8262})\n"
     ]
    }
   ],
   "source": [
    "print(f\"Original class counts: {Counter(y_train2)}\")"
   ]
  },
  {
   "cell_type": "markdown",
   "id": "22b8bedf",
   "metadata": {},
   "source": [
    "Run SMOTEN with X_train2 and y_train2."
   ]
  },
  {
   "cell_type": "code",
   "execution_count": 59,
   "id": "39a17bc0",
   "metadata": {},
   "outputs": [],
   "source": [
    "# instantiate SMOTEN, random_state = 10 makes the results reproducible\n",
    "sampler = SMOTEN(random_state = 10)\n",
    "\n",
    "# Upsample X_train1 and y_train1 and save the outputs\n",
    "X_train2_smote, y_train2_smote = sampler.fit_resample(X_train2, y_train2)"
   ]
  },
  {
   "cell_type": "markdown",
   "id": "156034f4",
   "metadata": {},
   "source": [
    "New class counts after upsampling with SMOTEN."
   ]
  },
  {
   "cell_type": "code",
   "execution_count": 67,
   "id": "c9470997",
   "metadata": {},
   "outputs": [
    {
     "name": "stdout",
     "output_type": "stream",
     "text": [
      "Class counts after resampling: Counter({'1': 113569, '2': 113569, '3': 113569})\n"
     ]
    }
   ],
   "source": [
    "print(f\"Class counts after resampling: {Counter(y_train2_smote)}\")"
   ]
  },
  {
   "cell_type": "markdown",
   "id": "06c9cc52",
   "metadata": {},
   "source": [
    "---"
   ]
  },
  {
   "cell_type": "markdown",
   "id": "e43a0825",
   "metadata": {},
   "source": [
    "Concatenate X_train1_smote and X_train2_smote, and y_train1_smote and y_train2_smote using `concat`."
   ]
  },
  {
   "cell_type": "code",
   "execution_count": 61,
   "id": "067f2e75",
   "metadata": {},
   "outputs": [],
   "source": [
    "X_train_smote = pd.concat([X_train1_smote, X_train2_smote])"
   ]
  },
  {
   "cell_type": "markdown",
   "id": "0dae65f3",
   "metadata": {},
   "source": [
    "Check the shape of X_train_smote."
   ]
  },
  {
   "cell_type": "code",
   "execution_count": 62,
   "id": "0e42fef4",
   "metadata": {},
   "outputs": [
    {
     "data": {
      "text/plain": [
       "(681417, 14)"
      ]
     },
     "execution_count": 62,
     "metadata": {},
     "output_type": "execute_result"
    }
   ],
   "source": [
    "X_train_smote.shape"
   ]
  },
  {
   "cell_type": "markdown",
   "id": "f217804d",
   "metadata": {},
   "source": [
    "Repeat for y_train."
   ]
  },
  {
   "cell_type": "code",
   "execution_count": 64,
   "id": "23b856bc",
   "metadata": {},
   "outputs": [],
   "source": [
    "y_train_smote = pd.concat([y_train1_smote, y_train2_smote])"
   ]
  },
  {
   "cell_type": "markdown",
   "id": "31f45668",
   "metadata": {},
   "source": [
    "Check the shape of y_train_smote."
   ]
  },
  {
   "cell_type": "code",
   "execution_count": 65,
   "id": "c43cae8c",
   "metadata": {},
   "outputs": [
    {
     "data": {
      "text/plain": [
       "(681417,)"
      ]
     },
     "execution_count": 65,
     "metadata": {},
     "output_type": "execute_result"
    }
   ],
   "source": [
    "y_train_smote.shape"
   ]
  },
  {
   "cell_type": "markdown",
   "id": "9afc8dc1",
   "metadata": {},
   "source": [
    "---"
   ]
  },
  {
   "cell_type": "markdown",
   "id": "5d4b3ad6",
   "metadata": {},
   "source": [
    "## Upsampling with RandomOverSampler\n",
    "\n",
    "This method can be run on the full data set."
   ]
  },
  {
   "cell_type": "code",
   "execution_count": 11,
   "id": "0951587a",
   "metadata": {},
   "outputs": [
    {
     "name": "stdout",
     "output_type": "stream",
     "text": [
      "Original class counts: Counter({'1': 227139, '2': 60399, '3': 16524})\n"
     ]
    }
   ],
   "source": [
    "# print the original class balance\n",
    "print(f\"Original class counts: {Counter(y_train)}\")"
   ]
  },
  {
   "cell_type": "code",
   "execution_count": 12,
   "id": "481a8df0",
   "metadata": {},
   "outputs": [],
   "source": [
    "# instantiate RandomOverSampler use random_state = 10 to make the results reproducible\n",
    "ros = RandomOverSampler(random_state = 10)\n",
    "\n",
    "# fit on X_train and y_train data and save the outputs \n",
    "X_train_over, y_train_over = ros.fit_resample(X_train, y_train)"
   ]
  },
  {
   "cell_type": "code",
   "execution_count": 13,
   "id": "1c06893d",
   "metadata": {},
   "outputs": [
    {
     "name": "stdout",
     "output_type": "stream",
     "text": [
      "Class counts after resampling Counter({'3': 227139, '1': 227139, '2': 227139})\n"
     ]
    }
   ],
   "source": [
    "# print the class balance after upsampling\n",
    "print(f\"Class counts after resampling {Counter(y_train_over)}\")"
   ]
  },
  {
   "cell_type": "markdown",
   "id": "190ef080",
   "metadata": {},
   "source": [
    "---"
   ]
  },
  {
   "cell_type": "markdown",
   "id": "fce5faa5",
   "metadata": {},
   "source": [
    "## Downsampling with RandomUnderSampler\n",
    "\n",
    "This method can be run on the full data set."
   ]
  },
  {
   "cell_type": "code",
   "execution_count": 14,
   "id": "ef1c12e1",
   "metadata": {},
   "outputs": [
    {
     "name": "stdout",
     "output_type": "stream",
     "text": [
      "Original class counts: Counter({'1': 227139, '2': 60399, '3': 16524})\n"
     ]
    }
   ],
   "source": [
    "# print the original class balance\n",
    "print(f\"Original class counts: {Counter(y_train)}\")"
   ]
  },
  {
   "cell_type": "code",
   "execution_count": 15,
   "id": "460eb268",
   "metadata": {},
   "outputs": [],
   "source": [
    "# instantiate RandomUnderSampler use random_state = 10 to make the results reproducible\n",
    "rus = RandomUnderSampler(random_state = 10, replacement = True)\n",
    "\n",
    "# fit on the X_train and y_train data and save the outputs\n",
    "X_train_under, y_train_under = rus.fit_resample(X_train, y_train)"
   ]
  },
  {
   "cell_type": "code",
   "execution_count": 16,
   "id": "da8df434",
   "metadata": {},
   "outputs": [
    {
     "name": "stdout",
     "output_type": "stream",
     "text": [
      "Class counts after resampling Counter({'1': 16524, '2': 16524, '3': 16524})\n"
     ]
    }
   ],
   "source": [
    "# print the class balance after down sampling\n",
    "print(f\"Class counts after resampling {Counter(y_train_under)}\")"
   ]
  },
  {
   "cell_type": "markdown",
   "id": "9a72d13b",
   "metadata": {},
   "source": [
    "---"
   ]
  },
  {
   "cell_type": "markdown",
   "id": "92c9897f",
   "metadata": {},
   "source": [
    "### Save balanced data sets"
   ]
  },
  {
   "cell_type": "markdown",
   "id": "bffb0156",
   "metadata": {},
   "source": [
    "Save the new balanced data sets using `to_pickle` so they can be used in modeling notebooks."
   ]
  },
  {
   "cell_type": "code",
   "execution_count": 18,
   "id": "3f70fda3",
   "metadata": {},
   "outputs": [],
   "source": [
    "X_train_smote.to_pickle(\"X_train_smote.pkl\")\n",
    "y_train_smote.to_pickle(\"y_train_smote.pkl\")\n",
    "\n",
    "X_train_over.to_pickle(\"X_train_over.pkl\")\n",
    "y_train_over.to_pickle(\"y_train_over.pkl\")\n",
    "\n",
    "X_train_under.to_pickle(\"X_train_under.pkl\")\n",
    "y_train_under.to_pickle(\"y_train_under.pkl\")"
   ]
  },
  {
   "cell_type": "markdown",
   "id": "5b05ba0b",
   "metadata": {},
   "source": [
    "---"
   ]
  },
  {
   "cell_type": "markdown",
   "id": "7c102ec8",
   "metadata": {},
   "source": [
    "## Logistic Regression\n",
    "\n",
    "I will fit basic Logistic Regression models on the original data as well as the balanced data sets to compare the sampling methods. I will use precision, recall and f1-scores to evaluate the sampling methods since the models will be making predictions on imbalanced data sets. These metrics will allow me to understand how the model is predicting each class. I want to have higher recall scores for classes 2 and 3 since I am trying to predict departure delays."
   ]
  },
  {
   "cell_type": "markdown",
   "id": "66afde4c",
   "metadata": {},
   "source": [
    "#### Upsampled Data Using Random Over Sampler"
   ]
  },
  {
   "cell_type": "code",
   "execution_count": 19,
   "id": "a4e287bb",
   "metadata": {
    "scrolled": false
   },
   "outputs": [
    {
     "name": "stderr",
     "output_type": "stream",
     "text": [
      "/Users/stephgolob/opt/anaconda3/lib/python3.9/site-packages/sklearn/metrics/_classification.py:1327: UndefinedMetricWarning: Precision and F-score are ill-defined and being set to 0.0 in labels with no predicted samples. Use `zero_division` parameter to control this behavior.\n",
      "  _warn_prf(average, modifier, msg_start, len(result))\n",
      "/Users/stephgolob/opt/anaconda3/lib/python3.9/site-packages/sklearn/metrics/_classification.py:1327: UndefinedMetricWarning: Precision and F-score are ill-defined and being set to 0.0 in labels with no predicted samples. Use `zero_division` parameter to control this behavior.\n",
      "  _warn_prf(average, modifier, msg_start, len(result))\n",
      "/Users/stephgolob/opt/anaconda3/lib/python3.9/site-packages/sklearn/metrics/_classification.py:1327: UndefinedMetricWarning: Precision and F-score are ill-defined and being set to 0.0 in labels with no predicted samples. Use `zero_division` parameter to control this behavior.\n",
      "  _warn_prf(average, modifier, msg_start, len(result))\n"
     ]
    },
    {
     "name": "stdout",
     "output_type": "stream",
     "text": [
      "Confusion matrices: \n",
      "=======================================================\n",
      "\n"
     ]
    },
    {
     "name": "stderr",
     "output_type": "stream",
     "text": [
      "/Users/stephgolob/opt/anaconda3/lib/python3.9/site-packages/sklearn/utils/deprecation.py:87: FutureWarning: Function plot_confusion_matrix is deprecated; Function `plot_confusion_matrix` is deprecated in 1.0 and will be removed in 1.2. Use one of the class methods: ConfusionMatrixDisplay.from_predictions or ConfusionMatrixDisplay.from_estimator.\n",
      "  warnings.warn(msg, category=FutureWarning)\n",
      "/Users/stephgolob/opt/anaconda3/lib/python3.9/site-packages/sklearn/utils/deprecation.py:87: FutureWarning: Function plot_confusion_matrix is deprecated; Function `plot_confusion_matrix` is deprecated in 1.0 and will be removed in 1.2. Use one of the class methods: ConfusionMatrixDisplay.from_predictions or ConfusionMatrixDisplay.from_estimator.\n",
      "  warnings.warn(msg, category=FutureWarning)\n"
     ]
    },
    {
     "data": {
      "image/png": "[encoded data removed]",
      "text/plain": [
       "<Figure size 720x216 with 4 Axes>"
      ]
     },
     "metadata": {
      "needs_background": "light"
     },
     "output_type": "display_data"
    },
    {
     "name": "stdout",
     "output_type": "stream",
     "text": [
      "\n",
      "Original data classification report: \n",
      "=======================================================\n",
      "               precision    recall  f1-score   support\n",
      "\n",
      "           1       0.75      1.00      0.86     97345\n",
      "           2       0.00      0.00      0.00     25886\n",
      "           3       0.00      0.00      0.00      7082\n",
      "\n",
      "    accuracy                           0.75    130313\n",
      "   macro avg       0.25      0.33      0.29    130313\n",
      "weighted avg       0.56      0.75      0.64    130313\n",
      "\n",
      "\n",
      "Upsampled data classification report: \n",
      "=======================================================\n",
      "               precision    recall  f1-score   support\n",
      "\n",
      "           1       0.77      0.69      0.73     97345\n",
      "           2       0.23      0.38      0.29     25886\n",
      "           3       0.00      0.00      0.00      7082\n",
      "\n",
      "    accuracy                           0.59    130313\n",
      "   macro avg       0.33      0.36      0.34    130313\n",
      "weighted avg       0.62      0.59      0.60    130313\n",
      "\n"
     ]
    }
   ],
   "source": [
    "# MODELING \n",
    "\n",
    "### ORIGINAL DATA ###\n",
    "# instantiate the model\n",
    "LR_model_1 = LogisticRegression(solver = 'lbfgs', random_state = 10, max_iter = 10000)\n",
    "\n",
    "# fit the model on the original X_train and y_train data\n",
    "LR_model_1.fit(X_train, y_train)\n",
    "\n",
    "# make predictions using original X_validation data\n",
    "y_predictions = LR_model_1.predict(X_validation)\n",
    "\n",
    "# create a classification report using y_validation and y_predictions\n",
    "report_original = classification_report(y_validation, y_predictions)\n",
    "\n",
    "\n",
    "\n",
    "\n",
    "### UPSAMPLED DATA ###\n",
    "# instantiate the model\n",
    "LR_model_2 = LogisticRegression(solver = 'lbfgs', random_state = 10, max_iter = 10000)\n",
    "\n",
    "# fit the model on the upsampled X_train_over and y_train_over data\n",
    "LR_model_2.fit(X_train_over, y_train_over)\n",
    "\n",
    "# make predictions using original X_validation data\n",
    "y_predictions_up = LR_model_2.predict(X_validation) \n",
    "\n",
    "# classification report\n",
    "report_up = classification_report(y_validation, y_predictions_up)\n",
    "\n",
    "\n",
    "\n",
    "\n",
    "\n",
    "# RESULTS\n",
    "\n",
    "print_line = \"\\n=======================================================\\n\"\n",
    "\n",
    "# Confusion matrices\n",
    "print(\"Confusion matrices:\", print_line)\n",
    "\n",
    "fig, axes = plt.subplots(1, 2, figsize=(10, 3))\n",
    "\n",
    "# Model on the original data\n",
    "plot_confusion_matrix(LR_model_1, X_validation, y_validation, ax=axes[0])\n",
    "axes[0].set_title('Original Confusion Matrix')\n",
    "\n",
    "# Model on the upsampled data\n",
    "plot_confusion_matrix(LR_model_2, X_validation, y_validation, ax=axes[1])\n",
    "axes[1].set_title('Upsampled Confusion Matrix')\n",
    "\n",
    "plt.show()\n",
    "\n",
    "# Classification Reports\n",
    "print(\"\\nOriginal data classification report:\", print_line, report_original)\n",
    "print(\"\\nUpsampled data classification report:\", print_line, report_up)"
   ]
  },
  {
   "cell_type": "markdown",
   "id": "2b0b62d0",
   "metadata": {},
   "source": [
    "The Logistic Regression (LR) model that was fit on the original data (LR_model_1) only predicted the majority class (Class 1 - on-time flights). The LR model fit on the upsampled data (LR_model_2) has better precision and recall scores for Class 2 (0-30 minutes delay), but still does not predict Class 3 (30-120 minutes delay). Since this was only a basic LR model, tuning the hyperparameters and exploring other more powerful models should help improve the precision and recall scores."
   ]
  },
  {
   "cell_type": "markdown",
   "id": "1a4ac81e",
   "metadata": {},
   "source": [
    "---"
   ]
  },
  {
   "cell_type": "markdown",
   "id": "ce18c5c9",
   "metadata": {},
   "source": [
    "#### Downsampled Data Using Random Under Sampler"
   ]
  },
  {
   "cell_type": "code",
   "execution_count": 24,
   "id": "0b350aa9",
   "metadata": {
    "scrolled": false
   },
   "outputs": [
    {
     "name": "stdout",
     "output_type": "stream",
     "text": [
      "Confusion matrices: \n",
      "=======================================================\n",
      "\n"
     ]
    },
    {
     "name": "stderr",
     "output_type": "stream",
     "text": [
      "/Users/stephgolob/opt/anaconda3/lib/python3.9/site-packages/sklearn/utils/deprecation.py:87: FutureWarning: Function plot_confusion_matrix is deprecated; Function `plot_confusion_matrix` is deprecated in 1.0 and will be removed in 1.2. Use one of the class methods: ConfusionMatrixDisplay.from_predictions or ConfusionMatrixDisplay.from_estimator.\n",
      "  warnings.warn(msg, category=FutureWarning)\n",
      "/Users/stephgolob/opt/anaconda3/lib/python3.9/site-packages/sklearn/utils/deprecation.py:87: FutureWarning: Function plot_confusion_matrix is deprecated; Function `plot_confusion_matrix` is deprecated in 1.0 and will be removed in 1.2. Use one of the class methods: ConfusionMatrixDisplay.from_predictions or ConfusionMatrixDisplay.from_estimator.\n",
      "  warnings.warn(msg, category=FutureWarning)\n"
     ]
    },
    {
     "data": {
      "image/png": "[encoded data removed]",
      "text/plain": [
       "<Figure size 720x216 with 4 Axes>"
      ]
     },
     "metadata": {
      "needs_background": "light"
     },
     "output_type": "display_data"
    },
    {
     "name": "stdout",
     "output_type": "stream",
     "text": [
      "\n",
      "Original data classification report: \n",
      "=======================================================\n",
      "               precision    recall  f1-score   support\n",
      "\n",
      "           1       0.75      1.00      0.86     97345\n",
      "           2       0.00      0.00      0.00     25886\n",
      "           3       0.00      0.00      0.00      7082\n",
      "\n",
      "    accuracy                           0.75    130313\n",
      "   macro avg       0.25      0.33      0.29    130313\n",
      "weighted avg       0.56      0.75      0.64    130313\n",
      "\n",
      "\n",
      "Downsampled data classification report: \n",
      "=======================================================\n",
      "               precision    recall  f1-score   support\n",
      "\n",
      "           1       0.77      0.69      0.73     97345\n",
      "           2       0.23      0.38      0.29     25886\n",
      "           3       0.02      0.00      0.00      7082\n",
      "\n",
      "    accuracy                           0.59    130313\n",
      "   macro avg       0.34      0.36      0.34    130313\n",
      "weighted avg       0.62      0.59      0.60    130313\n",
      "\n"
     ]
    }
   ],
   "source": [
    "# Modeling\n",
    "\n",
    "### DOWNSAMPLED DATA ###\n",
    "# instantiate the model\n",
    "LR_model_4 = LogisticRegression(solver = 'lbfgs', random_state = 10, max_iter = 10000)\n",
    "\n",
    "# fit the model on the downsampled X_train_down and y_train_down data\n",
    "LR_model_4.fit(X_train_under, y_train_under)\n",
    "\n",
    "# make predictions using original X_validation data\n",
    "y_predictions_down = LR_model_4.predict(X_validation) \n",
    "\n",
    "# create a classification report using y_validation and y_predictions_down\n",
    "report_down = classification_report(y_validation, y_predictions_down)\n",
    "\n",
    "\n",
    "\n",
    "\n",
    "\n",
    "# RESULTS\n",
    "\n",
    "print_line = \"\\n=======================================================\\n\"\n",
    "\n",
    "# Confusion matrices\n",
    "print(\"Confusion matrices:\", print_line)\n",
    "\n",
    "fig, axes = plt.subplots(1, 2, figsize = (10, 3))\n",
    "\n",
    "# Model on the original data\n",
    "plot_confusion_matrix(LR_model_1, X_validation, y_validation, ax=axes[0])\n",
    "axes[0].set_title('Original Confusion Matrix')\n",
    "\n",
    "# Model on the downsampled data\n",
    "plot_confusion_matrix(LR_model_4, X_validation, y_validation, ax=axes[1])\n",
    "axes[1].set_title('Downsampled Confusion Matrix')\n",
    "\n",
    "plt.show()\n",
    "\n",
    "# Classification Reports\n",
    "print(\"\\nOriginal data classification report:\", print_line, report_original)\n",
    "print(\"\\nDownsampled data classification report:\", print_line, report_down)"
   ]
  },
  {
   "cell_type": "markdown",
   "id": "7ca65cca",
   "metadata": {},
   "source": [
    "The downsampled LR model performs slightly better than the upsampled LR model, it makes some right predictions for class 3, however the precision and recall scores remain the same. "
   ]
  },
  {
   "cell_type": "markdown",
   "id": "bf35a1e4",
   "metadata": {},
   "source": [
    "#### Upsampled Data Using SMOTEN"
   ]
  },
  {
   "cell_type": "code",
   "execution_count": 21,
   "id": "0f150120",
   "metadata": {
    "scrolled": false
   },
   "outputs": [
    {
     "name": "stderr",
     "output_type": "stream",
     "text": [
      "/Users/stephgolob/opt/anaconda3/lib/python3.9/site-packages/sklearn/metrics/_classification.py:1327: UndefinedMetricWarning: Precision and F-score are ill-defined and being set to 0.0 in labels with no predicted samples. Use `zero_division` parameter to control this behavior.\n",
      "  _warn_prf(average, modifier, msg_start, len(result))\n",
      "/Users/stephgolob/opt/anaconda3/lib/python3.9/site-packages/sklearn/metrics/_classification.py:1327: UndefinedMetricWarning: Precision and F-score are ill-defined and being set to 0.0 in labels with no predicted samples. Use `zero_division` parameter to control this behavior.\n",
      "  _warn_prf(average, modifier, msg_start, len(result))\n",
      "/Users/stephgolob/opt/anaconda3/lib/python3.9/site-packages/sklearn/metrics/_classification.py:1327: UndefinedMetricWarning: Precision and F-score are ill-defined and being set to 0.0 in labels with no predicted samples. Use `zero_division` parameter to control this behavior.\n",
      "  _warn_prf(average, modifier, msg_start, len(result))\n",
      "/Users/stephgolob/opt/anaconda3/lib/python3.9/site-packages/sklearn/utils/deprecation.py:87: FutureWarning: Function plot_confusion_matrix is deprecated; Function `plot_confusion_matrix` is deprecated in 1.0 and will be removed in 1.2. Use one of the class methods: ConfusionMatrixDisplay.from_predictions or ConfusionMatrixDisplay.from_estimator.\n",
      "  warnings.warn(msg, category=FutureWarning)\n"
     ]
    },
    {
     "name": "stdout",
     "output_type": "stream",
     "text": [
      "Confusion matrices: \n",
      "=======================================================\n",
      "\n"
     ]
    },
    {
     "name": "stderr",
     "output_type": "stream",
     "text": [
      "/Users/stephgolob/opt/anaconda3/lib/python3.9/site-packages/sklearn/utils/deprecation.py:87: FutureWarning: Function plot_confusion_matrix is deprecated; Function `plot_confusion_matrix` is deprecated in 1.0 and will be removed in 1.2. Use one of the class methods: ConfusionMatrixDisplay.from_predictions or ConfusionMatrixDisplay.from_estimator.\n",
      "  warnings.warn(msg, category=FutureWarning)\n"
     ]
    },
    {
     "data": {
      "image/png": "[encoded data removed]",
      "text/plain": [
       "<Figure size 720x216 with 4 Axes>"
      ]
     },
     "metadata": {
      "needs_background": "light"
     },
     "output_type": "display_data"
    },
    {
     "name": "stdout",
     "output_type": "stream",
     "text": [
      "\n",
      "Original data classification report: \n",
      "=======================================================\n",
      "               precision    recall  f1-score   support\n",
      "\n",
      "           1       0.75      1.00      0.86     97345\n",
      "           2       0.00      0.00      0.00     25886\n",
      "           3       0.00      0.00      0.00      7082\n",
      "\n",
      "    accuracy                           0.75    130313\n",
      "   macro avg       0.25      0.33      0.29    130313\n",
      "weighted avg       0.56      0.75      0.64    130313\n",
      "\n",
      "\n",
      "Upsampled SMOTEN data classification report: \n",
      "=======================================================\n",
      "               precision    recall  f1-score   support\n",
      "\n",
      "           1       0.77      0.69      0.73     97345\n",
      "           2       0.23      0.38      0.29     25886\n",
      "           3       0.00      0.00      0.00      7082\n",
      "\n",
      "    accuracy                           0.59    130313\n",
      "   macro avg       0.33      0.36      0.34    130313\n",
      "weighted avg       0.62      0.59      0.60    130313\n",
      "\n"
     ]
    }
   ],
   "source": [
    "# MODELING\n",
    "\n",
    "### SMOTEN UPSAMPLED DATA ###\n",
    "# instantiate the model\n",
    "LR_model_6 = LogisticRegression(solver = 'lbfgs', random_state = 10, max_iter = 10000)\n",
    "\n",
    "# fit the model on the SMOTEN upsampled X_train_smote and y_train_smote data\n",
    "LR_model_6.fit(X_train_smote, y_train_smote)\n",
    "\n",
    "# make predictions using original X_validation data\n",
    "y_predictions_smote = LR_model_6.predict(X_validation) \n",
    "\n",
    "# create a classification report using y_validation and y_predictions_smote\n",
    "report_smote = classification_report(y_validation, y_predictions_smote)\n",
    "\n",
    "\n",
    "\n",
    "\n",
    "# RESULTS \n",
    "\n",
    "print_line = \"\\n=======================================================\\n\"\n",
    "\n",
    "# Confusion matrices\n",
    "print(\"Confusion matrices:\", print_line)\n",
    "\n",
    "fig, axes = plt.subplots(1, 2, figsize=(10, 3))\n",
    "\n",
    "# Model on the original data\n",
    "plot_confusion_matrix(LR_model_1, X_validation, y_validation, ax=axes[0])\n",
    "axes[0].set_title('Original Confusion Matrix')\n",
    "\n",
    "# Model on the upsampled data\n",
    "plot_confusion_matrix(LR_model_6, X_validation, y_validation, ax=axes[1])\n",
    "axes[1].set_title('Upsampled SMOTEN Confusion Matrix')\n",
    "\n",
    "plt.show()\n",
    "\n",
    "# Classification Reports\n",
    "print(\"\\nOriginal data classification report:\", print_line, report_original)\n",
    "print(\"\\nUpsampled SMOTEN data classification report:\", print_line, report_smote)"
   ]
  },
  {
   "cell_type": "markdown",
   "id": "9bd91201",
   "metadata": {},
   "source": [
    "Sampling with SMOTEN does not improve the results more than upsampling or downsampling. The SMOTEN LR model does not make any predictions for class 3, so it's actually slightly worse than downsampling. "
   ]
  },
  {
   "cell_type": "markdown",
   "id": "8ad1b06b",
   "metadata": {},
   "source": [
    "----"
   ]
  },
  {
   "cell_type": "markdown",
   "id": "fee6cfc8",
   "metadata": {},
   "source": [
    "## Results"
   ]
  },
  {
   "cell_type": "markdown",
   "id": "0dd0e2e3",
   "metadata": {},
   "source": [
    "Comparing the results side-by-side."
   ]
  },
  {
   "cell_type": "code",
   "execution_count": 25,
   "id": "efc30401",
   "metadata": {},
   "outputs": [
    {
     "name": "stderr",
     "output_type": "stream",
     "text": [
      "/Users/stephgolob/opt/anaconda3/lib/python3.9/site-packages/sklearn/utils/deprecation.py:87: FutureWarning: Function plot_confusion_matrix is deprecated; Function `plot_confusion_matrix` is deprecated in 1.0 and will be removed in 1.2. Use one of the class methods: ConfusionMatrixDisplay.from_predictions or ConfusionMatrixDisplay.from_estimator.\n",
      "  warnings.warn(msg, category=FutureWarning)\n",
      "/Users/stephgolob/opt/anaconda3/lib/python3.9/site-packages/sklearn/utils/deprecation.py:87: FutureWarning: Function plot_confusion_matrix is deprecated; Function `plot_confusion_matrix` is deprecated in 1.0 and will be removed in 1.2. Use one of the class methods: ConfusionMatrixDisplay.from_predictions or ConfusionMatrixDisplay.from_estimator.\n",
      "  warnings.warn(msg, category=FutureWarning)\n",
      "/Users/stephgolob/opt/anaconda3/lib/python3.9/site-packages/sklearn/utils/deprecation.py:87: FutureWarning: Function plot_confusion_matrix is deprecated; Function `plot_confusion_matrix` is deprecated in 1.0 and will be removed in 1.2. Use one of the class methods: ConfusionMatrixDisplay.from_predictions or ConfusionMatrixDisplay.from_estimator.\n",
      "  warnings.warn(msg, category=FutureWarning)\n",
      "/Users/stephgolob/opt/anaconda3/lib/python3.9/site-packages/sklearn/utils/deprecation.py:87: FutureWarning: Function plot_confusion_matrix is deprecated; Function `plot_confusion_matrix` is deprecated in 1.0 and will be removed in 1.2. Use one of the class methods: ConfusionMatrixDisplay.from_predictions or ConfusionMatrixDisplay.from_estimator.\n",
      "  warnings.warn(msg, category=FutureWarning)\n"
     ]
    },
    {
     "data": {
      "image/png": "[encoded data removed]",
      "text/plain": [
       "<Figure size 720x720 with 8 Axes>"
      ]
     },
     "metadata": {
      "needs_background": "light"
     },
     "output_type": "display_data"
    },
    {
     "name": "stdout",
     "output_type": "stream",
     "text": [
      "\n",
      "Upsampled data classification report: \n",
      "=======================================================\n",
      "               precision    recall  f1-score   support\n",
      "\n",
      "           1       0.75      1.00      0.86     97345\n",
      "           2       0.00      0.00      0.00     25886\n",
      "           3       0.00      0.00      0.00      7082\n",
      "\n",
      "    accuracy                           0.75    130313\n",
      "   macro avg       0.25      0.33      0.29    130313\n",
      "weighted avg       0.56      0.75      0.64    130313\n",
      "\n",
      "\n",
      "Upsampled data classification report: \n",
      "=======================================================\n",
      "               precision    recall  f1-score   support\n",
      "\n",
      "           1       0.77      0.69      0.73     97345\n",
      "           2       0.23      0.38      0.29     25886\n",
      "           3       0.00      0.00      0.00      7082\n",
      "\n",
      "    accuracy                           0.59    130313\n",
      "   macro avg       0.33      0.36      0.34    130313\n",
      "weighted avg       0.62      0.59      0.60    130313\n",
      "\n",
      "\n",
      "Downsampled data classification report: \n",
      "=======================================================\n",
      "               precision    recall  f1-score   support\n",
      "\n",
      "           1       0.77      0.69      0.73     97345\n",
      "           2       0.23      0.38      0.29     25886\n",
      "           3       0.02      0.00      0.00      7082\n",
      "\n",
      "    accuracy                           0.59    130313\n",
      "   macro avg       0.34      0.36      0.34    130313\n",
      "weighted avg       0.62      0.59      0.60    130313\n",
      "\n",
      "\n",
      "SMOTEN Upsampled data classification report: \n",
      "=======================================================\n",
      "               precision    recall  f1-score   support\n",
      "\n",
      "           1       0.77      0.69      0.73     97345\n",
      "           2       0.23      0.38      0.29     25886\n",
      "           3       0.00      0.00      0.00      7082\n",
      "\n",
      "    accuracy                           0.59    130313\n",
      "   macro avg       0.33      0.36      0.34    130313\n",
      "weighted avg       0.62      0.59      0.60    130313\n",
      "\n"
     ]
    }
   ],
   "source": [
    "fig, axes = plt.subplots(2, 2, figsize=(10, 10))\n",
    "\n",
    "# Model on the original data\n",
    "plot_confusion_matrix(LR_model_1, X_validation, y_validation, ax=axes[0, 0])\n",
    "axes[0, 0].set_title(\"Original Confusion Matrix\")\n",
    "\n",
    "plot_confusion_matrix(LR_model_2, X_validation, y_validation, ax=axes[0, 1])\n",
    "axes[0, 1].set_title(\"Upsampled Confusion Matrix\")\n",
    "\n",
    "# Model on the upsampled data\n",
    "plot_confusion_matrix(LR_model_4, X_validation, y_validation, ax=axes[1, 0])\n",
    "axes[1, 0].set_title('Downsampled Confusion Matrix')\n",
    "\n",
    "plot_confusion_matrix(LR_model_6, X_validation, y_validation, ax=axes[1, 1])\n",
    "axes[1, 1].set_title('SMOTEN Upsampled Confusion Matrix')\n",
    "\n",
    "plt.show()\n",
    "\n",
    "print_line = \"\\n=======================================================\\n\"\n",
    "\n",
    "# Classification Reports\n",
    "print(\"\\nUpsampled data classification report:\", print_line, report_original)\n",
    "print(\"\\nUpsampled data classification report:\", print_line, report_up)\n",
    "print(\"\\nDownsampled data classification report:\", print_line, report_down)\n",
    "print(\"\\nSMOTEN Upsampled data classification report:\", print_line, report_smote)"
   ]
  },
  {
   "cell_type": "markdown",
   "id": "cb1f9484",
   "metadata": {},
   "source": [
    "All methods of sampling improved the precision and recall scores for class 2, but no models were able to correctly predict class 3. This seems to be a limitation of the model rather than the data sets. \n",
    "\n",
    "\n",
    "## Next Steps\n",
    "In the next notebook (Notebook 5 Logistic Regression) I will create pipelines for Logistic Regression and tune the hyperparameters and check the results for each data set again. "
   ]
  },
  {
   "cell_type": "markdown",
   "id": "3f1071c3",
   "metadata": {},
   "source": [
    "---"
   ]
  }
 ],
 "metadata": {
  "kernelspec": {
   "display_name": "Python 3 (ipykernel)",
   "language": "python",
   "name": "python3"
  },
  "language_info": {
   "codemirror_mode": {
    "name": "ipython",
    "version": 3
   },
   "file_extension": ".py",
   "mimetype": "text/x-python",
   "name": "python",
   "nbconvert_exporter": "python",
   "pygments_lexer": "ipython3",
   "version": "3.9.7"
  },
  "toc": {
   "base_numbering": 1,
   "nav_menu": {},
   "number_sections": true,
   "sideBar": true,
   "skip_h1_title": false,
   "title_cell": "Table of Contents",
   "title_sidebar": "Contents",
   "toc_cell": true,
   "toc_position": {},
   "toc_section_display": false,
   "toc_window_display": false
  },
  "varInspector": {
   "cols": {
    "lenName": 16,
    "lenType": 16,
    "lenVar": 40
   },
   "kernels_config": {
    "python": {
     "delete_cmd_postfix": "",
     "delete_cmd_prefix": "del ",
     "library": "var_list.py",
     "varRefreshCmd": "print(var_dic_list())"
    },
    "r": {
     "delete_cmd_postfix": ") ",
     "delete_cmd_prefix": "rm(",
     "library": "var_list.r",
     "varRefreshCmd": "cat(var_dic_list()) "
    }
   },
   "types_to_exclude": [
    "module",
    "function",
    "builtin_function_or_method",
    "instance",
    "_Feature"
   ],
   "window_display": false
  }
 },
 "nbformat": 4,
 "nbformat_minor": 5
}
