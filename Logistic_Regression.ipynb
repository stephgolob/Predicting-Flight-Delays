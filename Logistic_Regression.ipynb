{
 "cells": [
  {
   "cell_type": "markdown",
   "id": "46c629d1",
   "metadata": {},
   "source": [
    "# Logistic Regression\n",
    "\n",
    "**Author**: Stephanie Golob\n",
    "\n",
    "**contact**: estefaniagolob@gmail.com\n",
    "\n",
    "**Date**: July 4, 2022\n",
    "\n",
    "**Previous Notebook**: 4 of 7 (Balancing Target Classes)\n",
    "\n",
    "**Current Notebook**: 5 of 7\n",
    "\n",
    "**Next Notebook**: 6 of 7 (Decision Tree)\n",
    "\n",
    "---\n",
    "\n",
    "In this notebook I will optimize Logistic Regression models using a pipeline and cross-validation and compare the results of the original data set and the balanced data sets."
   ]
  },
  {
   "cell_type": "markdown",
   "id": "777f6e01",
   "metadata": {
    "toc": true
   },
   "source": [
    "<h1>Table of Contents<span class=\"tocSkip\"></span></h1>\n",
    "<div class=\"toc\"><ul class=\"toc-item\"><li><span><a href=\"#Logistic-Regression\" data-toc-modified-id=\"Logistic-Regression-1\"><span class=\"toc-item-num\">1&nbsp;&nbsp;</span>Logistic Regression</a></span><ul class=\"toc-item\"><li><span><a href=\"#Basic-Logistic-Regression-Model\" data-toc-modified-id=\"Basic-Logistic-Regression-Model-1.1\"><span class=\"toc-item-num\">1.1&nbsp;&nbsp;</span>Basic Logistic Regression Model</a></span></li><li><span><a href=\"#Model-Optimization-using-original-and-balanced-data-sets\" data-toc-modified-id=\"Model-Optimization-using-original-and-balanced-data-sets-1.2\"><span class=\"toc-item-num\">1.2&nbsp;&nbsp;</span>Model Optimization using original and balanced data sets</a></span><ul class=\"toc-item\"><li><span><a href=\"#Original-data\" data-toc-modified-id=\"Original-data-1.2.1\"><span class=\"toc-item-num\">1.2.1&nbsp;&nbsp;</span>Original data</a></span><ul class=\"toc-item\"><li><span><a href=\"#Optimized-Logisitic-Regression-Model-with-Original-Data\" data-toc-modified-id=\"Optimized-Logisitic-Regression-Model-with-Original-Data-1.2.1.1\"><span class=\"toc-item-num\">1.2.1.1&nbsp;&nbsp;</span>Optimized Logisitic Regression Model with Original Data</a></span></li></ul></li><li><span><a href=\"#Upsampled-Data\" data-toc-modified-id=\"Upsampled-Data-1.2.2\"><span class=\"toc-item-num\">1.2.2&nbsp;&nbsp;</span>Upsampled Data</a></span></li><li><span><a href=\"#Downsampled-Data\" data-toc-modified-id=\"Downsampled-Data-1.2.3\"><span class=\"toc-item-num\">1.2.3&nbsp;&nbsp;</span>Downsampled Data</a></span></li><li><span><a href=\"#SMOTEN-Upsampled-Data\" data-toc-modified-id=\"SMOTEN-Upsampled-Data-1.2.4\"><span class=\"toc-item-num\">1.2.4&nbsp;&nbsp;</span>SMOTEN Upsampled Data</a></span></li></ul></li><li><span><a href=\"#Model-Summary-Table\" data-toc-modified-id=\"Model-Summary-Table-1.3\"><span class=\"toc-item-num\">1.3&nbsp;&nbsp;</span>Model Summary Table</a></span></li><li><span><a href=\"#Feature-Evaluation\" data-toc-modified-id=\"Feature-Evaluation-1.4\"><span class=\"toc-item-num\">1.4&nbsp;&nbsp;</span>Feature Evaluation</a></span></li><li><span><a href=\"#Next-Steps\" data-toc-modified-id=\"Next-Steps-1.5\"><span class=\"toc-item-num\">1.5&nbsp;&nbsp;</span>Next Steps</a></span></li></ul></li></ul></div>"
   ]
  },
  {
   "cell_type": "markdown",
   "id": "cf1c7378",
   "metadata": {},
   "source": [
    "---"
   ]
  },
  {
   "cell_type": "markdown",
   "id": "f316ed1f",
   "metadata": {},
   "source": [
    "Import the required libraries."
   ]
  },
  {
   "cell_type": "code",
   "execution_count": 106,
   "id": "0af94201",
   "metadata": {},
   "outputs": [],
   "source": [
    "import pandas as pd\n",
    "import numpy as np\n",
    "import matplotlib.pyplot as plt\n",
    "\n",
    "# for scaling the data\n",
    "from sklearn.preprocessing import StandardScaler\n",
    "\n",
    "# modeling\n",
    "from sklearn.pipeline import Pipeline\n",
    "from sklearn.linear_model import LogisticRegression\n",
    "from sklearn.model_selection import GridSearchCV\n",
    "\n",
    "# saving model outputs\n",
    "import joblib\n",
    "\n",
    "# model evaluation\n",
    "from sklearn.metrics import plot_confusion_matrix, confusion_matrix\n",
    "from sklearn.metrics import classification_report"
   ]
  },
  {
   "cell_type": "markdown",
   "id": "1c538ab1",
   "metadata": {},
   "source": [
    "Read in the train and validation sets."
   ]
  },
  {
   "cell_type": "code",
   "execution_count": 2,
   "id": "ad62c7a3",
   "metadata": {},
   "outputs": [],
   "source": [
    "X_train = pd.read_pickle(\"data/X_train.pkl\")\n",
    "y_train = pd.read_pickle(\"data/y_train.pkl\")\n",
    "\n",
    "X_validation = pd.read_pickle(\"data/X_validation.pkl\")\n",
    "y_validation = pd.read_pickle(\"data/y_validation.pkl\")"
   ]
  },
  {
   "cell_type": "markdown",
   "id": "a4ddccf0",
   "metadata": {},
   "source": [
    "## Basic Logistic Regression Model"
   ]
  },
  {
   "cell_type": "markdown",
   "id": "9de97118",
   "metadata": {},
   "source": [
    "Fit a basic Logistic Regression model with the original X_train and y_train data sets."
   ]
  },
  {
   "cell_type": "code",
   "execution_count": 3,
   "id": "25b4dfeb",
   "metadata": {},
   "outputs": [
    {
     "data": {
      "text/html": [
       "<style>#sk-container-id-1 {color: black;background-color: white;}#sk-container-id-1 pre{padding: 0;}#sk-container-id-1 div.sk-toggleable {background-color: white;}#sk-container-id-1 label.sk-toggleable__label {cursor: pointer;display: block;width: 100%;margin-bottom: 0;padding: 0.3em;box-sizing: border-box;text-align: center;}#sk-container-id-1 label.sk-toggleable__label-arrow:before {content: \"▸\";float: left;margin-right: 0.25em;color: #696969;}#sk-container-id-1 label.sk-toggleable__label-arrow:hover:before {color: black;}#sk-container-id-1 div.sk-estimator:hover label.sk-toggleable__label-arrow:before {color: black;}#sk-container-id-1 div.sk-toggleable__content {max-height: 0;max-width: 0;overflow: hidden;text-align: left;background-color: #f0f8ff;}#sk-container-id-1 div.sk-toggleable__content pre {margin: 0.2em;color: black;border-radius: 0.25em;background-color: #f0f8ff;}#sk-container-id-1 input.sk-toggleable__control:checked~div.sk-toggleable__content {max-height: 200px;max-width: 100%;overflow: auto;}#sk-container-id-1 input.sk-toggleable__control:checked~label.sk-toggleable__label-arrow:before {content: \"▾\";}#sk-container-id-1 div.sk-estimator input.sk-toggleable__control:checked~label.sk-toggleable__label {background-color: #d4ebff;}#sk-container-id-1 div.sk-label input.sk-toggleable__control:checked~label.sk-toggleable__label {background-color: #d4ebff;}#sk-container-id-1 input.sk-hidden--visually {border: 0;clip: rect(1px 1px 1px 1px);clip: rect(1px, 1px, 1px, 1px);height: 1px;margin: -1px;overflow: hidden;padding: 0;position: absolute;width: 1px;}#sk-container-id-1 div.sk-estimator {font-family: monospace;background-color: #f0f8ff;border: 1px dotted black;border-radius: 0.25em;box-sizing: border-box;margin-bottom: 0.5em;}#sk-container-id-1 div.sk-estimator:hover {background-color: #d4ebff;}#sk-container-id-1 div.sk-parallel-item::after {content: \"\";width: 100%;border-bottom: 1px solid gray;flex-grow: 1;}#sk-container-id-1 div.sk-label:hover label.sk-toggleable__label {background-color: #d4ebff;}#sk-container-id-1 div.sk-serial::before {content: \"\";position: absolute;border-left: 1px solid gray;box-sizing: border-box;top: 0;bottom: 0;left: 50%;z-index: 0;}#sk-container-id-1 div.sk-serial {display: flex;flex-direction: column;align-items: center;background-color: white;padding-right: 0.2em;padding-left: 0.2em;position: relative;}#sk-container-id-1 div.sk-item {position: relative;z-index: 1;}#sk-container-id-1 div.sk-parallel {display: flex;align-items: stretch;justify-content: center;background-color: white;position: relative;}#sk-container-id-1 div.sk-item::before, #sk-container-id-1 div.sk-parallel-item::before {content: \"\";position: absolute;border-left: 1px solid gray;box-sizing: border-box;top: 0;bottom: 0;left: 50%;z-index: -1;}#sk-container-id-1 div.sk-parallel-item {display: flex;flex-direction: column;z-index: 1;position: relative;background-color: white;}#sk-container-id-1 div.sk-parallel-item:first-child::after {align-self: flex-end;width: 50%;}#sk-container-id-1 div.sk-parallel-item:last-child::after {align-self: flex-start;width: 50%;}#sk-container-id-1 div.sk-parallel-item:only-child::after {width: 0;}#sk-container-id-1 div.sk-dashed-wrapped {border: 1px dashed gray;margin: 0 0.4em 0.5em 0.4em;box-sizing: border-box;padding-bottom: 0.4em;background-color: white;}#sk-container-id-1 div.sk-label label {font-family: monospace;font-weight: bold;display: inline-block;line-height: 1.2em;}#sk-container-id-1 div.sk-label-container {text-align: center;}#sk-container-id-1 div.sk-container {/* jupyter's `normalize.less` sets `[hidden] { display: none; }` but bootstrap.min.css set `[hidden] { display: none !important; }` so we also need the `!important` here to be able to override the default hidden behavior on the sphinx rendered scikit-learn.org. See: https://github.com/scikit-learn/scikit-learn/issues/21755 */display: inline-block !important;position: relative;}#sk-container-id-1 div.sk-text-repr-fallback {display: none;}</style><div id=\"sk-container-id-1\" class=\"sk-top-container\"><div class=\"sk-text-repr-fallback\"><pre>LogisticRegression(max_iter=10000, random_state=10)</pre><b>In a Jupyter environment, please rerun this cell to show the HTML representation or trust the notebook. <br />On GitHub, the HTML representation is unable to render, please try loading this page with nbviewer.org.</b></div><div class=\"sk-container\" hidden><div class=\"sk-item\"><div class=\"sk-estimator sk-toggleable\"><input class=\"sk-toggleable__control sk-hidden--visually\" id=\"sk-estimator-id-1\" type=\"checkbox\" checked><label for=\"sk-estimator-id-1\" class=\"sk-toggleable__label sk-toggleable__label-arrow\">LogisticRegression</label><div class=\"sk-toggleable__content\"><pre>LogisticRegression(max_iter=10000, random_state=10)</pre></div></div></div></div></div>"
      ],
      "text/plain": [
       "LogisticRegression(max_iter=10000, random_state=10)"
      ]
     },
     "execution_count": 3,
     "metadata": {},
     "output_type": "execute_result"
    }
   ],
   "source": [
    "#instantiate the model\n",
    "LR_model = LogisticRegression(solver = 'lbfgs', random_state = 10, max_iter = 10000)\n",
    "\n",
    "# fit the model\n",
    "LR_model.fit(X_train, y_train)"
   ]
  },
  {
   "cell_type": "code",
   "execution_count": 4,
   "id": "0f733f55",
   "metadata": {
    "scrolled": true
   },
   "outputs": [
    {
     "name": "stdout",
     "output_type": "stream",
     "text": [
      "Training score:  0.7470154113305839\n",
      "Validation score:  0.7470091241856146\n"
     ]
    }
   ],
   "source": [
    "# 3. Score on the training data \n",
    "print(\"Training score: \", LR_model.score(X_train, y_train))\n",
    "\n",
    "# 4. Score on the validation data\n",
    "print(\"Validation score: \", LR_model.score(X_validation, y_validation))"
   ]
  },
  {
   "cell_type": "markdown",
   "id": "53f4ecf6",
   "metadata": {},
   "source": [
    "The training score and validation score are very similar, the model is not overfitting to the training data. But in order to evaluate the predictions the model is making I am going to plot the confusion matrix. "
   ]
  },
  {
   "cell_type": "code",
   "execution_count": 5,
   "id": "a85d4ec3",
   "metadata": {
    "scrolled": false
   },
   "outputs": [
    {
     "name": "stderr",
     "output_type": "stream",
     "text": [
      "/Users/stephgolob/opt/anaconda3/lib/python3.9/site-packages/sklearn/utils/deprecation.py:87: FutureWarning: Function plot_confusion_matrix is deprecated; Function `plot_confusion_matrix` is deprecated in 1.0 and will be removed in 1.2. Use one of the class methods: ConfusionMatrixDisplay.from_predictions or ConfusionMatrixDisplay.from_estimator.\n",
      "  warnings.warn(msg, category=FutureWarning)\n"
     ]
    },
    {
     "data": {
      "image/png": "[encoded data removed]",
      "text/plain": [
       "<Figure size 432x288 with 2 Axes>"
      ]
     },
     "metadata": {
      "needs_background": "light"
     },
     "output_type": "display_data"
    }
   ],
   "source": [
    "plot_confusion_matrix(LR_model, X_validation, y_validation)\n",
    "plt.title(\"Logistic Regression Confusion Matrix\");"
   ]
  },
  {
   "cell_type": "markdown",
   "id": "b8ca7ad4",
   "metadata": {},
   "source": [
    "The basic Logistic Regression model is only predicting class 1 (On-time flights)."
   ]
  },
  {
   "cell_type": "markdown",
   "id": "bbb29320",
   "metadata": {},
   "source": [
    "Get the predicted y values by using `predict` on the X_validation data set."
   ]
  },
  {
   "cell_type": "code",
   "execution_count": 6,
   "id": "69f0c402",
   "metadata": {},
   "outputs": [],
   "source": [
    "y_predictions = LR_model.predict(X_validation)"
   ]
  },
  {
   "cell_type": "markdown",
   "id": "a44321f1",
   "metadata": {},
   "source": [
    "Use the predictions and the y_validation set to get the precision, recall and f1-scores for the model."
   ]
  },
  {
   "cell_type": "code",
   "execution_count": 7,
   "id": "87abbc45",
   "metadata": {},
   "outputs": [
    {
     "name": "stderr",
     "output_type": "stream",
     "text": [
      "/Users/stephgolob/opt/anaconda3/lib/python3.9/site-packages/sklearn/metrics/_classification.py:1327: UndefinedMetricWarning: Precision and F-score are ill-defined and being set to 0.0 in labels with no predicted samples. Use `zero_division` parameter to control this behavior.\n",
      "  _warn_prf(average, modifier, msg_start, len(result))\n",
      "/Users/stephgolob/opt/anaconda3/lib/python3.9/site-packages/sklearn/metrics/_classification.py:1327: UndefinedMetricWarning: Precision and F-score are ill-defined and being set to 0.0 in labels with no predicted samples. Use `zero_division` parameter to control this behavior.\n",
      "  _warn_prf(average, modifier, msg_start, len(result))\n"
     ]
    },
    {
     "name": "stdout",
     "output_type": "stream",
     "text": [
      "              precision    recall  f1-score   support\n",
      "\n",
      "           1       0.75      1.00      0.86     97345\n",
      "           2       0.00      0.00      0.00     25886\n",
      "           3       0.00      0.00      0.00      7082\n",
      "\n",
      "    accuracy                           0.75    130313\n",
      "   macro avg       0.25      0.33      0.29    130313\n",
      "weighted avg       0.56      0.75      0.64    130313\n",
      "\n"
     ]
    },
    {
     "name": "stderr",
     "output_type": "stream",
     "text": [
      "/Users/stephgolob/opt/anaconda3/lib/python3.9/site-packages/sklearn/metrics/_classification.py:1327: UndefinedMetricWarning: Precision and F-score are ill-defined and being set to 0.0 in labels with no predicted samples. Use `zero_division` parameter to control this behavior.\n",
      "  _warn_prf(average, modifier, msg_start, len(result))\n"
     ]
    }
   ],
   "source": [
    "report_LR_basic = classification_report(y_validation, y_predictions)\n",
    "print(report_LR_basic)"
   ]
  },
  {
   "cell_type": "markdown",
   "id": "52cceb1b",
   "metadata": {},
   "source": [
    "The precision and recall scores are very high for class 1 and 0 for all other classes, as is expected from the confusion matrix."
   ]
  },
  {
   "cell_type": "markdown",
   "id": "56900f3f",
   "metadata": {},
   "source": [
    "---"
   ]
  },
  {
   "cell_type": "markdown",
   "id": "01cd0c1c",
   "metadata": {},
   "source": [
    "## Model Optimization using original and balanced data sets"
   ]
  },
  {
   "cell_type": "markdown",
   "id": "18704c62",
   "metadata": {},
   "source": [
    "I'm going to create a pipeline to optimize the Logistic Regression models using the original and balanced data sets. I will then make predictions and compare the model outputs using the confusion matrices and precision, recall and f1-scores.\n",
    "\n",
    "- First - original data\n",
    "- Second - Upsampled data\n",
    "- Third - Downsampled data\n",
    "- Fourth - SMOTEN Upsampled data"
   ]
  },
  {
   "cell_type": "markdown",
   "id": "8ca33e64",
   "metadata": {},
   "source": [
    "### Original data"
   ]
  },
  {
   "cell_type": "code",
   "execution_count": 8,
   "id": "56607ba0",
   "metadata": {
    "scrolled": true
   },
   "outputs": [
    {
     "name": "stdout",
     "output_type": "stream",
     "text": [
      "Fitting 5 folds for each of 12 candidates, totalling 60 fits\n",
      "[CV] END model=LogisticRegression(), model__C=0.001, normalise=StandardScaler(); total time=   0.8s\n",
      "[CV] END model=LogisticRegression(), model__C=0.001, normalise=StandardScaler(); total time=   0.8s\n",
      "[CV] END model=LogisticRegression(), model__C=0.001, normalise=StandardScaler(); total time=   0.8s\n",
      "[CV] END model=LogisticRegression(), model__C=0.001, normalise=StandardScaler(); total time=   0.8s\n",
      "[CV] END model=LogisticRegression(), model__C=0.001, normalise=StandardScaler(); total time=   0.8s\n",
      "[CV] END model=LogisticRegression(), model__C=0.001, normalise=None; total time=   1.5s\n",
      "[CV] END model=LogisticRegression(), model__C=0.001, normalise=None; total time=   1.7s\n",
      "[CV] END model=LogisticRegression(), model__C=0.001, normalise=None; total time=   1.6s\n",
      "[CV] END model=LogisticRegression(), model__C=0.001, normalise=None; total time=   2.4s\n",
      "[CV] END model=LogisticRegression(), model__C=0.001, normalise=None; total time=   1.5s\n",
      "[CV] END model=LogisticRegression(), model__C=0.01, normalise=StandardScaler(); total time=   0.7s\n",
      "[CV] END model=LogisticRegression(), model__C=0.01, normalise=StandardScaler(); total time=   0.7s\n",
      "[CV] END model=LogisticRegression(), model__C=0.01, normalise=StandardScaler(); total time=   0.8s\n",
      "[CV] END model=LogisticRegression(), model__C=0.01, normalise=StandardScaler(); total time=   0.7s\n",
      "[CV] END model=LogisticRegression(), model__C=0.01, normalise=StandardScaler(); total time=   0.8s\n",
      "[CV] END model=LogisticRegression(), model__C=0.01, normalise=None; total time=   1.5s\n",
      "[CV] END model=LogisticRegression(), model__C=0.01, normalise=None; total time=   1.6s\n",
      "[CV] END model=LogisticRegression(), model__C=0.01, normalise=None; total time=   1.6s\n",
      "[CV] END model=LogisticRegression(), model__C=0.01, normalise=None; total time=   2.0s\n",
      "[CV] END model=LogisticRegression(), model__C=0.01, normalise=None; total time=   1.5s\n",
      "[CV] END model=LogisticRegression(), model__C=0.1, normalise=StandardScaler(); total time=   0.7s\n",
      "[CV] END model=LogisticRegression(), model__C=0.1, normalise=StandardScaler(); total time=   0.7s\n",
      "[CV] END model=LogisticRegression(), model__C=0.1, normalise=StandardScaler(); total time=   0.7s\n",
      "[CV] END model=LogisticRegression(), model__C=0.1, normalise=StandardScaler(); total time=   0.7s\n",
      "[CV] END model=LogisticRegression(), model__C=0.1, normalise=StandardScaler(); total time=   0.8s\n",
      "[CV] END model=LogisticRegression(), model__C=0.1, normalise=None; total time=   1.5s\n",
      "[CV] END model=LogisticRegression(), model__C=0.1, normalise=None; total time=   1.6s\n",
      "[CV] END model=LogisticRegression(), model__C=0.1, normalise=None; total time=   1.5s\n",
      "[CV] END model=LogisticRegression(), model__C=0.1, normalise=None; total time=   2.0s\n",
      "[CV] END model=LogisticRegression(), model__C=0.1, normalise=None; total time=   1.5s\n",
      "[CV] END model=LogisticRegression(), model__C=1, normalise=StandardScaler(); total time=   0.7s\n",
      "[CV] END model=LogisticRegression(), model__C=1, normalise=StandardScaler(); total time=   0.7s\n",
      "[CV] END model=LogisticRegression(), model__C=1, normalise=StandardScaler(); total time=   0.7s\n",
      "[CV] END model=LogisticRegression(), model__C=1, normalise=StandardScaler(); total time=   0.7s\n",
      "[CV] END model=LogisticRegression(), model__C=1, normalise=StandardScaler(); total time=   0.7s\n",
      "[CV] END model=LogisticRegression(), model__C=1, normalise=None; total time=   1.5s\n",
      "[CV] END model=LogisticRegression(), model__C=1, normalise=None; total time=   1.6s\n",
      "[CV] END model=LogisticRegression(), model__C=1, normalise=None; total time=   1.5s\n",
      "[CV] END model=LogisticRegression(), model__C=1, normalise=None; total time=   2.0s\n",
      "[CV] END model=LogisticRegression(), model__C=1, normalise=None; total time=   1.5s\n",
      "[CV] END model=LogisticRegression(), model__C=10, normalise=StandardScaler(); total time=   0.8s\n",
      "[CV] END model=LogisticRegression(), model__C=10, normalise=StandardScaler(); total time=   0.7s\n",
      "[CV] END model=LogisticRegression(), model__C=10, normalise=StandardScaler(); total time=   0.7s\n",
      "[CV] END model=LogisticRegression(), model__C=10, normalise=StandardScaler(); total time=   0.7s\n",
      "[CV] END model=LogisticRegression(), model__C=10, normalise=StandardScaler(); total time=   0.7s\n",
      "[CV] END model=LogisticRegression(), model__C=10, normalise=None; total time=   1.5s\n",
      "[CV] END model=LogisticRegression(), model__C=10, normalise=None; total time=   1.6s\n",
      "[CV] END model=LogisticRegression(), model__C=10, normalise=None; total time=   1.6s\n",
      "[CV] END model=LogisticRegression(), model__C=10, normalise=None; total time=   2.0s\n",
      "[CV] END model=LogisticRegression(), model__C=10, normalise=None; total time=   1.5s\n",
      "[CV] END model=LogisticRegression(), model__C=100, normalise=StandardScaler(); total time=   0.7s\n",
      "[CV] END model=LogisticRegression(), model__C=100, normalise=StandardScaler(); total time=   0.7s\n",
      "[CV] END model=LogisticRegression(), model__C=100, normalise=StandardScaler(); total time=   0.7s\n",
      "[CV] END model=LogisticRegression(), model__C=100, normalise=StandardScaler(); total time=   0.7s\n",
      "[CV] END model=LogisticRegression(), model__C=100, normalise=StandardScaler(); total time=   0.7s\n",
      "[CV] END model=LogisticRegression(), model__C=100, normalise=None; total time=   1.5s\n",
      "[CV] END model=LogisticRegression(), model__C=100, normalise=None; total time=   1.5s\n",
      "[CV] END model=LogisticRegression(), model__C=100, normalise=None; total time=   1.6s\n",
      "[CV] END model=LogisticRegression(), model__C=100, normalise=None; total time=   2.0s\n",
      "[CV] END model=LogisticRegression(), model__C=100, normalise=None; total time=   1.5s\n"
     ]
    }
   ],
   "source": [
    "# create a list of tuples to store the functions that will be completed in the pipeline\n",
    "# normalize the data using a StandardScaler\n",
    "# instantiate the Logistic Regression model\n",
    "estimators = [('normalise', StandardScaler()),\n",
    "              ('model', LogisticRegression())]\n",
    "\n",
    "# intialize the pipeline, input estimators as the steps for the pipeline to take\n",
    "pipe = Pipeline(estimators)\n",
    "\n",
    "# set the parameters that you want GridSearchCV to iterate through\n",
    "# I want the pipeline to test whether a StandardScaler or none is optimal\n",
    "# then it will fit the LR model, and loop through the range of C values I have input\n",
    "parameters = [\n",
    "            {'model': [LogisticRegression()], \n",
    "             'normalise': [StandardScaler(), None],\n",
    "             'model__C': [0.001, 0.01, 0.1, 1, 10, 100]}\n",
    "]\n",
    "\n",
    "# use GridSearchCV, input the pipeline, the parameters to test and the number of times it should cross-validate\n",
    "# cross-validation creates a different number of splits of the data\n",
    "# we don't need to split the data again because cross-validation will split the data 5 times into different variations\n",
    "# of train and validation\n",
    "orig_grid = GridSearchCV(pipe, parameters, cv = 5, verbose = 2)\n",
    "\n",
    "# fit the grid on the original X_train and y_train data\n",
    "orig_fitgrid = orig_grid.fit(X_train, y_train)"
   ]
  },
  {
   "cell_type": "markdown",
   "id": "65ae4d65",
   "metadata": {},
   "source": [
    "Save the grid output using `dump` from the joblib library."
   ]
  },
  {
   "cell_type": "code",
   "execution_count": 10,
   "id": "18b4daa5",
   "metadata": {},
   "outputs": [
    {
     "data": {
      "text/plain": [
       "['LR_orig_grid.pkl']"
      ]
     },
     "execution_count": 10,
     "metadata": {},
     "output_type": "execute_result"
    }
   ],
   "source": [
    "# select the output to save and give it a name\n",
    "# saves as a .pkl file\n",
    "\n",
    "joblib.dump(orig_fitgrid, 'LR_orig_grid.pkl')"
   ]
  },
  {
   "cell_type": "markdown",
   "id": "097c6910",
   "metadata": {},
   "source": [
    "The grid has fit on X_train and y_train. From the gridsearch outputs we can see that the run-time using StandardScaler is approximately twice as fast as without. \n",
    "\n",
    "The results of the gridsearch can be saved in a dataframe using `cv_results` to get the grid outputs."
   ]
  },
  {
   "cell_type": "code",
   "execution_count": 81,
   "id": "2a4f7bad",
   "metadata": {},
   "outputs": [
    {
     "data": {
      "text/html": [
       "<div>\n",
       "<style scoped>\n",
       "    .dataframe tbody tr th:only-of-type {\n",
       "        vertical-align: middle;\n",
       "    }\n",
       "\n",
       "    .dataframe tbody tr th {\n",
       "        vertical-align: top;\n",
       "    }\n",
       "\n",
       "    .dataframe thead th {\n",
       "        text-align: right;\n",
       "    }\n",
       "</style>\n",
       "<table border=\"1\" class=\"dataframe\">\n",
       "  <thead>\n",
       "    <tr style=\"text-align: right;\">\n",
       "      <th></th>\n",
       "      <th>mean_fit_time</th>\n",
       "      <th>std_fit_time</th>\n",
       "      <th>mean_score_time</th>\n",
       "      <th>std_score_time</th>\n",
       "      <th>param_model</th>\n",
       "      <th>param_model__C</th>\n",
       "      <th>param_normalise</th>\n",
       "      <th>params</th>\n",
       "      <th>split0_test_score</th>\n",
       "      <th>split1_test_score</th>\n",
       "      <th>split2_test_score</th>\n",
       "      <th>split3_test_score</th>\n",
       "      <th>split4_test_score</th>\n",
       "      <th>mean_test_score</th>\n",
       "      <th>std_test_score</th>\n",
       "      <th>rank_test_score</th>\n",
       "    </tr>\n",
       "  </thead>\n",
       "  <tbody>\n",
       "    <tr>\n",
       "      <th>0</th>\n",
       "      <td>0.718173</td>\n",
       "      <td>0.010266</td>\n",
       "      <td>0.050797</td>\n",
       "      <td>0.000384</td>\n",
       "      <td>LogisticRegression(C=1)</td>\n",
       "      <td>0.001</td>\n",
       "      <td>StandardScaler()</td>\n",
       "      <td>{'model': LogisticRegression(C=1), 'model__C':...</td>\n",
       "      <td>0.747159</td>\n",
       "      <td>0.747439</td>\n",
       "      <td>0.746629</td>\n",
       "      <td>0.747155</td>\n",
       "      <td>0.747106</td>\n",
       "      <td>0.747098</td>\n",
       "      <td>0.000262</td>\n",
       "      <td>5</td>\n",
       "    </tr>\n",
       "    <tr>\n",
       "      <th>1</th>\n",
       "      <td>1.694883</td>\n",
       "      <td>0.309853</td>\n",
       "      <td>0.050056</td>\n",
       "      <td>0.000690</td>\n",
       "      <td>LogisticRegression(C=1)</td>\n",
       "      <td>0.001</td>\n",
       "      <td>None</td>\n",
       "      <td>{'model': LogisticRegression(C=1), 'model__C':...</td>\n",
       "      <td>0.747011</td>\n",
       "      <td>0.747011</td>\n",
       "      <td>0.747024</td>\n",
       "      <td>0.747007</td>\n",
       "      <td>0.747024</td>\n",
       "      <td>0.747015</td>\n",
       "      <td>0.000007</td>\n",
       "      <td>7</td>\n",
       "    </tr>\n",
       "    <tr>\n",
       "      <th>2</th>\n",
       "      <td>0.701485</td>\n",
       "      <td>0.019126</td>\n",
       "      <td>0.050754</td>\n",
       "      <td>0.000886</td>\n",
       "      <td>LogisticRegression(C=1)</td>\n",
       "      <td>0.01</td>\n",
       "      <td>StandardScaler()</td>\n",
       "      <td>{'model': LogisticRegression(C=1), 'model__C':...</td>\n",
       "      <td>0.747159</td>\n",
       "      <td>0.747390</td>\n",
       "      <td>0.746613</td>\n",
       "      <td>0.747188</td>\n",
       "      <td>0.747106</td>\n",
       "      <td>0.747091</td>\n",
       "      <td>0.000258</td>\n",
       "      <td>6</td>\n",
       "    </tr>\n",
       "    <tr>\n",
       "      <th>3</th>\n",
       "      <td>1.592301</td>\n",
       "      <td>0.197613</td>\n",
       "      <td>0.050273</td>\n",
       "      <td>0.001025</td>\n",
       "      <td>LogisticRegression(C=1)</td>\n",
       "      <td>0.01</td>\n",
       "      <td>None</td>\n",
       "      <td>{'model': LogisticRegression(C=1), 'model__C':...</td>\n",
       "      <td>0.747011</td>\n",
       "      <td>0.747011</td>\n",
       "      <td>0.747024</td>\n",
       "      <td>0.747007</td>\n",
       "      <td>0.747024</td>\n",
       "      <td>0.747015</td>\n",
       "      <td>0.000007</td>\n",
       "      <td>7</td>\n",
       "    </tr>\n",
       "    <tr>\n",
       "      <th>4</th>\n",
       "      <td>0.686466</td>\n",
       "      <td>0.012468</td>\n",
       "      <td>0.050672</td>\n",
       "      <td>0.000489</td>\n",
       "      <td>LogisticRegression(C=1)</td>\n",
       "      <td>0.1</td>\n",
       "      <td>StandardScaler()</td>\n",
       "      <td>{'model': LogisticRegression(C=1), 'model__C':...</td>\n",
       "      <td>0.747209</td>\n",
       "      <td>0.747390</td>\n",
       "      <td>0.746596</td>\n",
       "      <td>0.747188</td>\n",
       "      <td>0.747139</td>\n",
       "      <td>0.747104</td>\n",
       "      <td>0.000268</td>\n",
       "      <td>4</td>\n",
       "    </tr>\n",
       "    <tr>\n",
       "      <th>5</th>\n",
       "      <td>1.579383</td>\n",
       "      <td>0.196144</td>\n",
       "      <td>0.050219</td>\n",
       "      <td>0.000855</td>\n",
       "      <td>LogisticRegression(C=1)</td>\n",
       "      <td>0.1</td>\n",
       "      <td>None</td>\n",
       "      <td>{'model': LogisticRegression(C=1), 'model__C':...</td>\n",
       "      <td>0.747011</td>\n",
       "      <td>0.747011</td>\n",
       "      <td>0.747024</td>\n",
       "      <td>0.747007</td>\n",
       "      <td>0.747024</td>\n",
       "      <td>0.747015</td>\n",
       "      <td>0.000007</td>\n",
       "      <td>7</td>\n",
       "    </tr>\n",
       "    <tr>\n",
       "      <th>6</th>\n",
       "      <td>0.682626</td>\n",
       "      <td>0.010989</td>\n",
       "      <td>0.050809</td>\n",
       "      <td>0.001455</td>\n",
       "      <td>LogisticRegression(C=1)</td>\n",
       "      <td>1</td>\n",
       "      <td>StandardScaler()</td>\n",
       "      <td>{'model': LogisticRegression(C=1), 'model__C':...</td>\n",
       "      <td>0.747209</td>\n",
       "      <td>0.747390</td>\n",
       "      <td>0.746596</td>\n",
       "      <td>0.747204</td>\n",
       "      <td>0.747139</td>\n",
       "      <td>0.747107</td>\n",
       "      <td>0.000269</td>\n",
       "      <td>1</td>\n",
       "    </tr>\n",
       "    <tr>\n",
       "      <th>7</th>\n",
       "      <td>1.575230</td>\n",
       "      <td>0.193218</td>\n",
       "      <td>0.049557</td>\n",
       "      <td>0.000799</td>\n",
       "      <td>LogisticRegression(C=1)</td>\n",
       "      <td>1</td>\n",
       "      <td>None</td>\n",
       "      <td>{'model': LogisticRegression(C=1), 'model__C':...</td>\n",
       "      <td>0.747011</td>\n",
       "      <td>0.747011</td>\n",
       "      <td>0.747024</td>\n",
       "      <td>0.747007</td>\n",
       "      <td>0.747024</td>\n",
       "      <td>0.747015</td>\n",
       "      <td>0.000007</td>\n",
       "      <td>7</td>\n",
       "    </tr>\n",
       "    <tr>\n",
       "      <th>8</th>\n",
       "      <td>0.689858</td>\n",
       "      <td>0.010196</td>\n",
       "      <td>0.050033</td>\n",
       "      <td>0.000778</td>\n",
       "      <td>LogisticRegression(C=1)</td>\n",
       "      <td>10</td>\n",
       "      <td>StandardScaler()</td>\n",
       "      <td>{'model': LogisticRegression(C=1), 'model__C':...</td>\n",
       "      <td>0.747209</td>\n",
       "      <td>0.747390</td>\n",
       "      <td>0.746596</td>\n",
       "      <td>0.747204</td>\n",
       "      <td>0.747139</td>\n",
       "      <td>0.747107</td>\n",
       "      <td>0.000269</td>\n",
       "      <td>1</td>\n",
       "    </tr>\n",
       "    <tr>\n",
       "      <th>9</th>\n",
       "      <td>1.582435</td>\n",
       "      <td>0.196969</td>\n",
       "      <td>0.049474</td>\n",
       "      <td>0.000836</td>\n",
       "      <td>LogisticRegression(C=1)</td>\n",
       "      <td>10</td>\n",
       "      <td>None</td>\n",
       "      <td>{'model': LogisticRegression(C=1), 'model__C':...</td>\n",
       "      <td>0.747011</td>\n",
       "      <td>0.747011</td>\n",
       "      <td>0.747024</td>\n",
       "      <td>0.747007</td>\n",
       "      <td>0.747024</td>\n",
       "      <td>0.747015</td>\n",
       "      <td>0.000007</td>\n",
       "      <td>7</td>\n",
       "    </tr>\n",
       "    <tr>\n",
       "      <th>10</th>\n",
       "      <td>0.686942</td>\n",
       "      <td>0.005179</td>\n",
       "      <td>0.050658</td>\n",
       "      <td>0.000873</td>\n",
       "      <td>LogisticRegression(C=1)</td>\n",
       "      <td>100</td>\n",
       "      <td>StandardScaler()</td>\n",
       "      <td>{'model': LogisticRegression(C=1), 'model__C':...</td>\n",
       "      <td>0.747209</td>\n",
       "      <td>0.747390</td>\n",
       "      <td>0.746596</td>\n",
       "      <td>0.747204</td>\n",
       "      <td>0.747139</td>\n",
       "      <td>0.747107</td>\n",
       "      <td>0.000269</td>\n",
       "      <td>1</td>\n",
       "    </tr>\n",
       "    <tr>\n",
       "      <th>11</th>\n",
       "      <td>1.570989</td>\n",
       "      <td>0.196104</td>\n",
       "      <td>0.050049</td>\n",
       "      <td>0.000541</td>\n",
       "      <td>LogisticRegression(C=1)</td>\n",
       "      <td>100</td>\n",
       "      <td>None</td>\n",
       "      <td>{'model': LogisticRegression(C=1), 'model__C':...</td>\n",
       "      <td>0.747011</td>\n",
       "      <td>0.747011</td>\n",
       "      <td>0.747024</td>\n",
       "      <td>0.747007</td>\n",
       "      <td>0.747024</td>\n",
       "      <td>0.747015</td>\n",
       "      <td>0.000007</td>\n",
       "      <td>7</td>\n",
       "    </tr>\n",
       "  </tbody>\n",
       "</table>\n",
       "</div>"
      ],
      "text/plain": [
       "    mean_fit_time  std_fit_time  mean_score_time  std_score_time  \\\n",
       "0        0.718173      0.010266         0.050797        0.000384   \n",
       "1        1.694883      0.309853         0.050056        0.000690   \n",
       "2        0.701485      0.019126         0.050754        0.000886   \n",
       "3        1.592301      0.197613         0.050273        0.001025   \n",
       "4        0.686466      0.012468         0.050672        0.000489   \n",
       "5        1.579383      0.196144         0.050219        0.000855   \n",
       "6        0.682626      0.010989         0.050809        0.001455   \n",
       "7        1.575230      0.193218         0.049557        0.000799   \n",
       "8        0.689858      0.010196         0.050033        0.000778   \n",
       "9        1.582435      0.196969         0.049474        0.000836   \n",
       "10       0.686942      0.005179         0.050658        0.000873   \n",
       "11       1.570989      0.196104         0.050049        0.000541   \n",
       "\n",
       "                param_model param_model__C   param_normalise  \\\n",
       "0   LogisticRegression(C=1)          0.001  StandardScaler()   \n",
       "1   LogisticRegression(C=1)          0.001              None   \n",
       "2   LogisticRegression(C=1)           0.01  StandardScaler()   \n",
       "3   LogisticRegression(C=1)           0.01              None   \n",
       "4   LogisticRegression(C=1)            0.1  StandardScaler()   \n",
       "5   LogisticRegression(C=1)            0.1              None   \n",
       "6   LogisticRegression(C=1)              1  StandardScaler()   \n",
       "7   LogisticRegression(C=1)              1              None   \n",
       "8   LogisticRegression(C=1)             10  StandardScaler()   \n",
       "9   LogisticRegression(C=1)             10              None   \n",
       "10  LogisticRegression(C=1)            100  StandardScaler()   \n",
       "11  LogisticRegression(C=1)            100              None   \n",
       "\n",
       "                                               params  split0_test_score  \\\n",
       "0   {'model': LogisticRegression(C=1), 'model__C':...           0.747159   \n",
       "1   {'model': LogisticRegression(C=1), 'model__C':...           0.747011   \n",
       "2   {'model': LogisticRegression(C=1), 'model__C':...           0.747159   \n",
       "3   {'model': LogisticRegression(C=1), 'model__C':...           0.747011   \n",
       "4   {'model': LogisticRegression(C=1), 'model__C':...           0.747209   \n",
       "5   {'model': LogisticRegression(C=1), 'model__C':...           0.747011   \n",
       "6   {'model': LogisticRegression(C=1), 'model__C':...           0.747209   \n",
       "7   {'model': LogisticRegression(C=1), 'model__C':...           0.747011   \n",
       "8   {'model': LogisticRegression(C=1), 'model__C':...           0.747209   \n",
       "9   {'model': LogisticRegression(C=1), 'model__C':...           0.747011   \n",
       "10  {'model': LogisticRegression(C=1), 'model__C':...           0.747209   \n",
       "11  {'model': LogisticRegression(C=1), 'model__C':...           0.747011   \n",
       "\n",
       "    split1_test_score  split2_test_score  split3_test_score  \\\n",
       "0            0.747439           0.746629           0.747155   \n",
       "1            0.747011           0.747024           0.747007   \n",
       "2            0.747390           0.746613           0.747188   \n",
       "3            0.747011           0.747024           0.747007   \n",
       "4            0.747390           0.746596           0.747188   \n",
       "5            0.747011           0.747024           0.747007   \n",
       "6            0.747390           0.746596           0.747204   \n",
       "7            0.747011           0.747024           0.747007   \n",
       "8            0.747390           0.746596           0.747204   \n",
       "9            0.747011           0.747024           0.747007   \n",
       "10           0.747390           0.746596           0.747204   \n",
       "11           0.747011           0.747024           0.747007   \n",
       "\n",
       "    split4_test_score  mean_test_score  std_test_score  rank_test_score  \n",
       "0            0.747106         0.747098        0.000262                5  \n",
       "1            0.747024         0.747015        0.000007                7  \n",
       "2            0.747106         0.747091        0.000258                6  \n",
       "3            0.747024         0.747015        0.000007                7  \n",
       "4            0.747139         0.747104        0.000268                4  \n",
       "5            0.747024         0.747015        0.000007                7  \n",
       "6            0.747139         0.747107        0.000269                1  \n",
       "7            0.747024         0.747015        0.000007                7  \n",
       "8            0.747139         0.747107        0.000269                1  \n",
       "9            0.747024         0.747015        0.000007                7  \n",
       "10           0.747139         0.747107        0.000269                1  \n",
       "11           0.747024         0.747015        0.000007                7  "
      ]
     },
     "execution_count": 81,
     "metadata": {},
     "output_type": "execute_result"
    }
   ],
   "source": [
    "orig_df = pd.DataFrame(orig_fitgrid.cv_results_)\n",
    "orig_df"
   ]
  },
  {
   "cell_type": "markdown",
   "id": "7fe34912",
   "metadata": {},
   "source": [
    "Use `best_estimator_` to get the optimal hyperparameters for this data."
   ]
  },
  {
   "cell_type": "code",
   "execution_count": 9,
   "id": "668cbb35",
   "metadata": {
    "scrolled": true
   },
   "outputs": [
    {
     "data": {
      "text/html": [
       "<style>#sk-container-id-2 {color: black;background-color: white;}#sk-container-id-2 pre{padding: 0;}#sk-container-id-2 div.sk-toggleable {background-color: white;}#sk-container-id-2 label.sk-toggleable__label {cursor: pointer;display: block;width: 100%;margin-bottom: 0;padding: 0.3em;box-sizing: border-box;text-align: center;}#sk-container-id-2 label.sk-toggleable__label-arrow:before {content: \"▸\";float: left;margin-right: 0.25em;color: #696969;}#sk-container-id-2 label.sk-toggleable__label-arrow:hover:before {color: black;}#sk-container-id-2 div.sk-estimator:hover label.sk-toggleable__label-arrow:before {color: black;}#sk-container-id-2 div.sk-toggleable__content {max-height: 0;max-width: 0;overflow: hidden;text-align: left;background-color: #f0f8ff;}#sk-container-id-2 div.sk-toggleable__content pre {margin: 0.2em;color: black;border-radius: 0.25em;background-color: #f0f8ff;}#sk-container-id-2 input.sk-toggleable__control:checked~div.sk-toggleable__content {max-height: 200px;max-width: 100%;overflow: auto;}#sk-container-id-2 input.sk-toggleable__control:checked~label.sk-toggleable__label-arrow:before {content: \"▾\";}#sk-container-id-2 div.sk-estimator input.sk-toggleable__control:checked~label.sk-toggleable__label {background-color: #d4ebff;}#sk-container-id-2 div.sk-label input.sk-toggleable__control:checked~label.sk-toggleable__label {background-color: #d4ebff;}#sk-container-id-2 input.sk-hidden--visually {border: 0;clip: rect(1px 1px 1px 1px);clip: rect(1px, 1px, 1px, 1px);height: 1px;margin: -1px;overflow: hidden;padding: 0;position: absolute;width: 1px;}#sk-container-id-2 div.sk-estimator {font-family: monospace;background-color: #f0f8ff;border: 1px dotted black;border-radius: 0.25em;box-sizing: border-box;margin-bottom: 0.5em;}#sk-container-id-2 div.sk-estimator:hover {background-color: #d4ebff;}#sk-container-id-2 div.sk-parallel-item::after {content: \"\";width: 100%;border-bottom: 1px solid gray;flex-grow: 1;}#sk-container-id-2 div.sk-label:hover label.sk-toggleable__label {background-color: #d4ebff;}#sk-container-id-2 div.sk-serial::before {content: \"\";position: absolute;border-left: 1px solid gray;box-sizing: border-box;top: 0;bottom: 0;left: 50%;z-index: 0;}#sk-container-id-2 div.sk-serial {display: flex;flex-direction: column;align-items: center;background-color: white;padding-right: 0.2em;padding-left: 0.2em;position: relative;}#sk-container-id-2 div.sk-item {position: relative;z-index: 1;}#sk-container-id-2 div.sk-parallel {display: flex;align-items: stretch;justify-content: center;background-color: white;position: relative;}#sk-container-id-2 div.sk-item::before, #sk-container-id-2 div.sk-parallel-item::before {content: \"\";position: absolute;border-left: 1px solid gray;box-sizing: border-box;top: 0;bottom: 0;left: 50%;z-index: -1;}#sk-container-id-2 div.sk-parallel-item {display: flex;flex-direction: column;z-index: 1;position: relative;background-color: white;}#sk-container-id-2 div.sk-parallel-item:first-child::after {align-self: flex-end;width: 50%;}#sk-container-id-2 div.sk-parallel-item:last-child::after {align-self: flex-start;width: 50%;}#sk-container-id-2 div.sk-parallel-item:only-child::after {width: 0;}#sk-container-id-2 div.sk-dashed-wrapped {border: 1px dashed gray;margin: 0 0.4em 0.5em 0.4em;box-sizing: border-box;padding-bottom: 0.4em;background-color: white;}#sk-container-id-2 div.sk-label label {font-family: monospace;font-weight: bold;display: inline-block;line-height: 1.2em;}#sk-container-id-2 div.sk-label-container {text-align: center;}#sk-container-id-2 div.sk-container {/* jupyter's `normalize.less` sets `[hidden] { display: none; }` but bootstrap.min.css set `[hidden] { display: none !important; }` so we also need the `!important` here to be able to override the default hidden behavior on the sphinx rendered scikit-learn.org. See: https://github.com/scikit-learn/scikit-learn/issues/21755 */display: inline-block !important;position: relative;}#sk-container-id-2 div.sk-text-repr-fallback {display: none;}</style><div id=\"sk-container-id-2\" class=\"sk-top-container\"><div class=\"sk-text-repr-fallback\"><pre>Pipeline(steps=[(&#x27;normalise&#x27;, StandardScaler()),\n",
       "                (&#x27;model&#x27;, LogisticRegression(C=1))])</pre><b>In a Jupyter environment, please rerun this cell to show the HTML representation or trust the notebook. <br />On GitHub, the HTML representation is unable to render, please try loading this page with nbviewer.org.</b></div><div class=\"sk-container\" hidden><div class=\"sk-item sk-dashed-wrapped\"><div class=\"sk-label-container\"><div class=\"sk-label sk-toggleable\"><input class=\"sk-toggleable__control sk-hidden--visually\" id=\"sk-estimator-id-2\" type=\"checkbox\" ><label for=\"sk-estimator-id-2\" class=\"sk-toggleable__label sk-toggleable__label-arrow\">Pipeline</label><div class=\"sk-toggleable__content\"><pre>Pipeline(steps=[(&#x27;normalise&#x27;, StandardScaler()),\n",
       "                (&#x27;model&#x27;, LogisticRegression(C=1))])</pre></div></div></div><div class=\"sk-serial\"><div class=\"sk-item\"><div class=\"sk-estimator sk-toggleable\"><input class=\"sk-toggleable__control sk-hidden--visually\" id=\"sk-estimator-id-3\" type=\"checkbox\" ><label for=\"sk-estimator-id-3\" class=\"sk-toggleable__label sk-toggleable__label-arrow\">StandardScaler</label><div class=\"sk-toggleable__content\"><pre>StandardScaler()</pre></div></div></div><div class=\"sk-item\"><div class=\"sk-estimator sk-toggleable\"><input class=\"sk-toggleable__control sk-hidden--visually\" id=\"sk-estimator-id-4\" type=\"checkbox\" ><label for=\"sk-estimator-id-4\" class=\"sk-toggleable__label sk-toggleable__label-arrow\">LogisticRegression</label><div class=\"sk-toggleable__content\"><pre>LogisticRegression(C=1)</pre></div></div></div></div></div></div></div>"
      ],
      "text/plain": [
       "Pipeline(steps=[('normalise', StandardScaler()),\n",
       "                ('model', LogisticRegression(C=1))])"
      ]
     },
     "execution_count": 9,
     "metadata": {},
     "output_type": "execute_result"
    }
   ],
   "source": [
    "orig_fitgrid.best_estimator_"
   ]
  },
  {
   "cell_type": "markdown",
   "id": "1e368e55",
   "metadata": {},
   "source": [
    "The best model was normalized using StandardScaler and had a C value of 1. To get the results from this model I need to re-fit a LR model with the parameters selected by gridsearch. First I will scale X_train and transform the X_train and X_validation data sets."
   ]
  },
  {
   "cell_type": "code",
   "execution_count": 11,
   "id": "d5841a09",
   "metadata": {},
   "outputs": [],
   "source": [
    "# instantiate the scaler\n",
    "scaler = StandardScaler()\n",
    "\n",
    "#fit the scaler on X_train\n",
    "scaler.fit(X_train)\n",
    "\n",
    "# transform X_train and X_validation\n",
    "X_train_s = scaler.transform(X_train)\n",
    "X_validation_s = scaler.transform(X_validation)"
   ]
  },
  {
   "cell_type": "markdown",
   "id": "705d8fb4",
   "metadata": {},
   "source": [
    "#### Optimized Logisitic Regression Model with Original Data"
   ]
  },
  {
   "cell_type": "code",
   "execution_count": 12,
   "id": "4552df41",
   "metadata": {},
   "outputs": [
    {
     "data": {
      "text/html": [
       "<style>#sk-container-id-3 {color: black;background-color: white;}#sk-container-id-3 pre{padding: 0;}#sk-container-id-3 div.sk-toggleable {background-color: white;}#sk-container-id-3 label.sk-toggleable__label {cursor: pointer;display: block;width: 100%;margin-bottom: 0;padding: 0.3em;box-sizing: border-box;text-align: center;}#sk-container-id-3 label.sk-toggleable__label-arrow:before {content: \"▸\";float: left;margin-right: 0.25em;color: #696969;}#sk-container-id-3 label.sk-toggleable__label-arrow:hover:before {color: black;}#sk-container-id-3 div.sk-estimator:hover label.sk-toggleable__label-arrow:before {color: black;}#sk-container-id-3 div.sk-toggleable__content {max-height: 0;max-width: 0;overflow: hidden;text-align: left;background-color: #f0f8ff;}#sk-container-id-3 div.sk-toggleable__content pre {margin: 0.2em;color: black;border-radius: 0.25em;background-color: #f0f8ff;}#sk-container-id-3 input.sk-toggleable__control:checked~div.sk-toggleable__content {max-height: 200px;max-width: 100%;overflow: auto;}#sk-container-id-3 input.sk-toggleable__control:checked~label.sk-toggleable__label-arrow:before {content: \"▾\";}#sk-container-id-3 div.sk-estimator input.sk-toggleable__control:checked~label.sk-toggleable__label {background-color: #d4ebff;}#sk-container-id-3 div.sk-label input.sk-toggleable__control:checked~label.sk-toggleable__label {background-color: #d4ebff;}#sk-container-id-3 input.sk-hidden--visually {border: 0;clip: rect(1px 1px 1px 1px);clip: rect(1px, 1px, 1px, 1px);height: 1px;margin: -1px;overflow: hidden;padding: 0;position: absolute;width: 1px;}#sk-container-id-3 div.sk-estimator {font-family: monospace;background-color: #f0f8ff;border: 1px dotted black;border-radius: 0.25em;box-sizing: border-box;margin-bottom: 0.5em;}#sk-container-id-3 div.sk-estimator:hover {background-color: #d4ebff;}#sk-container-id-3 div.sk-parallel-item::after {content: \"\";width: 100%;border-bottom: 1px solid gray;flex-grow: 1;}#sk-container-id-3 div.sk-label:hover label.sk-toggleable__label {background-color: #d4ebff;}#sk-container-id-3 div.sk-serial::before {content: \"\";position: absolute;border-left: 1px solid gray;box-sizing: border-box;top: 0;bottom: 0;left: 50%;z-index: 0;}#sk-container-id-3 div.sk-serial {display: flex;flex-direction: column;align-items: center;background-color: white;padding-right: 0.2em;padding-left: 0.2em;position: relative;}#sk-container-id-3 div.sk-item {position: relative;z-index: 1;}#sk-container-id-3 div.sk-parallel {display: flex;align-items: stretch;justify-content: center;background-color: white;position: relative;}#sk-container-id-3 div.sk-item::before, #sk-container-id-3 div.sk-parallel-item::before {content: \"\";position: absolute;border-left: 1px solid gray;box-sizing: border-box;top: 0;bottom: 0;left: 50%;z-index: -1;}#sk-container-id-3 div.sk-parallel-item {display: flex;flex-direction: column;z-index: 1;position: relative;background-color: white;}#sk-container-id-3 div.sk-parallel-item:first-child::after {align-self: flex-end;width: 50%;}#sk-container-id-3 div.sk-parallel-item:last-child::after {align-self: flex-start;width: 50%;}#sk-container-id-3 div.sk-parallel-item:only-child::after {width: 0;}#sk-container-id-3 div.sk-dashed-wrapped {border: 1px dashed gray;margin: 0 0.4em 0.5em 0.4em;box-sizing: border-box;padding-bottom: 0.4em;background-color: white;}#sk-container-id-3 div.sk-label label {font-family: monospace;font-weight: bold;display: inline-block;line-height: 1.2em;}#sk-container-id-3 div.sk-label-container {text-align: center;}#sk-container-id-3 div.sk-container {/* jupyter's `normalize.less` sets `[hidden] { display: none; }` but bootstrap.min.css set `[hidden] { display: none !important; }` so we also need the `!important` here to be able to override the default hidden behavior on the sphinx rendered scikit-learn.org. See: https://github.com/scikit-learn/scikit-learn/issues/21755 */display: inline-block !important;position: relative;}#sk-container-id-3 div.sk-text-repr-fallback {display: none;}</style><div id=\"sk-container-id-3\" class=\"sk-top-container\"><div class=\"sk-text-repr-fallback\"><pre>LogisticRegression(C=1, max_iter=10000, random_state=10)</pre><b>In a Jupyter environment, please rerun this cell to show the HTML representation or trust the notebook. <br />On GitHub, the HTML representation is unable to render, please try loading this page with nbviewer.org.</b></div><div class=\"sk-container\" hidden><div class=\"sk-item\"><div class=\"sk-estimator sk-toggleable\"><input class=\"sk-toggleable__control sk-hidden--visually\" id=\"sk-estimator-id-5\" type=\"checkbox\" checked><label for=\"sk-estimator-id-5\" class=\"sk-toggleable__label sk-toggleable__label-arrow\">LogisticRegression</label><div class=\"sk-toggleable__content\"><pre>LogisticRegression(C=1, max_iter=10000, random_state=10)</pre></div></div></div></div></div>"
      ],
      "text/plain": [
       "LogisticRegression(C=1, max_iter=10000, random_state=10)"
      ]
     },
     "execution_count": 12,
     "metadata": {},
     "output_type": "execute_result"
    }
   ],
   "source": [
    "#Model with original scaled data\n",
    "\n",
    "#instantiate the model\n",
    "LR_model_orig = LogisticRegression(solver = 'lbfgs', random_state = 10, max_iter = 10000, C = 1)\n",
    "\n",
    "# fit the model\n",
    "LR_model_orig.fit(X_train_s, y_train)"
   ]
  },
  {
   "cell_type": "markdown",
   "id": "9023bc44",
   "metadata": {},
   "source": [
    "Get the accuracy scores of the model."
   ]
  },
  {
   "cell_type": "code",
   "execution_count": 13,
   "id": "514695cf",
   "metadata": {},
   "outputs": [
    {
     "name": "stdout",
     "output_type": "stream",
     "text": [
      "Training score:  0.7471535410541271\n",
      "Validation score:  0.7474311849163169\n"
     ]
    }
   ],
   "source": [
    "# 3. Score on the training data \n",
    "print(\"Training score: \", LR_model_orig.score(X_train_s, y_train))\n",
    "\n",
    "# 4. Score on the validation data\n",
    "print(\"Validation score: \", LR_model_orig.score(X_validation_s, y_validation))"
   ]
  },
  {
   "cell_type": "code",
   "execution_count": 15,
   "id": "67ab1828",
   "metadata": {
    "scrolled": false
   },
   "outputs": [
    {
     "name": "stderr",
     "output_type": "stream",
     "text": [
      "/Users/stephgolob/opt/anaconda3/lib/python3.9/site-packages/sklearn/utils/deprecation.py:87: FutureWarning: Function plot_confusion_matrix is deprecated; Function `plot_confusion_matrix` is deprecated in 1.0 and will be removed in 1.2. Use one of the class methods: ConfusionMatrixDisplay.from_predictions or ConfusionMatrixDisplay.from_estimator.\n",
      "  warnings.warn(msg, category=FutureWarning)\n"
     ]
    },
    {
     "data": {
      "image/png": "[encoded data removed]",
      "text/plain": [
       "<Figure size 432x288 with 2 Axes>"
      ]
     },
     "metadata": {
      "needs_background": "light"
     },
     "output_type": "display_data"
    }
   ],
   "source": [
    "plot_confusion_matrix(LR_model_orig, X_validation_s, y_validation)\n",
    "plt.title(\"Original Data Confusion Matrix\");"
   ]
  },
  {
   "cell_type": "markdown",
   "id": "a4d8ba52",
   "metadata": {},
   "source": [
    "The model improves at predicting classes 2 and 3 using scaled data."
   ]
  },
  {
   "cell_type": "markdown",
   "id": "3095c3d6",
   "metadata": {},
   "source": [
    "Make predictions using the scaled X_validation_s set."
   ]
  },
  {
   "cell_type": "code",
   "execution_count": 17,
   "id": "87b734a0",
   "metadata": {},
   "outputs": [],
   "source": [
    "y_predictions_orig = LR_model_orig.predict(X_validation_s)"
   ]
  },
  {
   "cell_type": "markdown",
   "id": "b98e4fbd",
   "metadata": {},
   "source": [
    "Use the predictions and the y_validation data set to create a classification report."
   ]
  },
  {
   "cell_type": "code",
   "execution_count": 18,
   "id": "8ac7c528",
   "metadata": {
    "scrolled": true
   },
   "outputs": [
    {
     "name": "stdout",
     "output_type": "stream",
     "text": [
      "              precision    recall  f1-score   support\n",
      "\n",
      "           1       0.75      1.00      0.86     97345\n",
      "           2       0.41      0.02      0.03     25886\n",
      "           3       0.39      0.00      0.01      7082\n",
      "\n",
      "    accuracy                           0.75    130313\n",
      "   macro avg       0.52      0.34      0.30    130313\n",
      "weighted avg       0.66      0.75      0.65    130313\n",
      "\n"
     ]
    }
   ],
   "source": [
    "report_orig = classification_report(y_validation, y_predictions_orig)\n",
    "print(report_orig)"
   ]
  },
  {
   "cell_type": "markdown",
   "id": "94efbc95",
   "metadata": {},
   "source": [
    "The optimized Logistic Regression model using the original data has improved the precision but not the recall for classes 2 and 3. It's still doing a very poor job of predicting these classes."
   ]
  },
  {
   "cell_type": "markdown",
   "id": "ac101b87",
   "metadata": {},
   "source": [
    "---"
   ]
  },
  {
   "cell_type": "markdown",
   "id": "0f0577bc",
   "metadata": {},
   "source": [
    "###  Upsampled Data"
   ]
  },
  {
   "cell_type": "markdown",
   "id": "77a456cf",
   "metadata": {},
   "source": [
    "Read in the upsampled X_train and y_train data."
   ]
  },
  {
   "cell_type": "code",
   "execution_count": 19,
   "id": "addc050a",
   "metadata": {},
   "outputs": [],
   "source": [
    "X_train_up = pd.read_pickle(\"data/X_train_over.pkl\")\n",
    "y_train_up = pd.read_pickle(\"data/y_train_over.pkl\")"
   ]
  },
  {
   "cell_type": "code",
   "execution_count": 20,
   "id": "e4d940f9",
   "metadata": {
    "scrolled": true
   },
   "outputs": [
    {
     "name": "stdout",
     "output_type": "stream",
     "text": [
      "Fitting 5 folds for each of 12 candidates, totalling 60 fits\n",
      "[CV] END model=LogisticRegression(), model__C=0.001, normalise=StandardScaler(); total time=   1.5s\n",
      "[CV] END model=LogisticRegression(), model__C=0.001, normalise=StandardScaler(); total time=   1.5s\n",
      "[CV] END model=LogisticRegression(), model__C=0.001, normalise=StandardScaler(); total time=   1.5s\n",
      "[CV] END model=LogisticRegression(), model__C=0.001, normalise=StandardScaler(); total time=   1.5s\n",
      "[CV] END model=LogisticRegression(), model__C=0.001, normalise=StandardScaler(); total time=   1.4s\n",
      "[CV] END model=LogisticRegression(), model__C=0.001, normalise=None; total time=   2.0s\n",
      "[CV] END model=LogisticRegression(), model__C=0.001, normalise=None; total time=   1.3s\n",
      "[CV] END model=LogisticRegression(), model__C=0.001, normalise=None; total time=   2.1s\n",
      "[CV] END model=LogisticRegression(), model__C=0.001, normalise=None; total time=   2.0s\n",
      "[CV] END model=LogisticRegression(), model__C=0.001, normalise=None; total time=   2.1s\n",
      "[CV] END model=LogisticRegression(), model__C=0.01, normalise=StandardScaler(); total time=   1.4s\n",
      "[CV] END model=LogisticRegression(), model__C=0.01, normalise=StandardScaler(); total time=   1.5s\n",
      "[CV] END model=LogisticRegression(), model__C=0.01, normalise=StandardScaler(); total time=   1.4s\n",
      "[CV] END model=LogisticRegression(), model__C=0.01, normalise=StandardScaler(); total time=   1.4s\n",
      "[CV] END model=LogisticRegression(), model__C=0.01, normalise=StandardScaler(); total time=   1.4s\n",
      "[CV] END model=LogisticRegression(), model__C=0.01, normalise=None; total time=   2.0s\n",
      "[CV] END model=LogisticRegression(), model__C=0.01, normalise=None; total time=   1.3s\n",
      "[CV] END model=LogisticRegression(), model__C=0.01, normalise=None; total time=   2.1s\n",
      "[CV] END model=LogisticRegression(), model__C=0.01, normalise=None; total time=   2.0s\n",
      "[CV] END model=LogisticRegression(), model__C=0.01, normalise=None; total time=   2.1s\n",
      "[CV] END model=LogisticRegression(), model__C=0.1, normalise=StandardScaler(); total time=   1.4s\n",
      "[CV] END model=LogisticRegression(), model__C=0.1, normalise=StandardScaler(); total time=   1.4s\n",
      "[CV] END model=LogisticRegression(), model__C=0.1, normalise=StandardScaler(); total time=   1.4s\n",
      "[CV] END model=LogisticRegression(), model__C=0.1, normalise=StandardScaler(); total time=   1.4s\n",
      "[CV] END model=LogisticRegression(), model__C=0.1, normalise=StandardScaler(); total time=   1.4s\n",
      "[CV] END model=LogisticRegression(), model__C=0.1, normalise=None; total time=   2.0s\n",
      "[CV] END model=LogisticRegression(), model__C=0.1, normalise=None; total time=   1.3s\n",
      "[CV] END model=LogisticRegression(), model__C=0.1, normalise=None; total time=   2.1s\n",
      "[CV] END model=LogisticRegression(), model__C=0.1, normalise=None; total time=   2.0s\n",
      "[CV] END model=LogisticRegression(), model__C=0.1, normalise=None; total time=   2.1s\n",
      "[CV] END model=LogisticRegression(), model__C=1, normalise=StandardScaler(); total time=   1.4s\n",
      "[CV] END model=LogisticRegression(), model__C=1, normalise=StandardScaler(); total time=   1.4s\n",
      "[CV] END model=LogisticRegression(), model__C=1, normalise=StandardScaler(); total time=   1.4s\n",
      "[CV] END model=LogisticRegression(), model__C=1, normalise=StandardScaler(); total time=   1.4s\n",
      "[CV] END model=LogisticRegression(), model__C=1, normalise=StandardScaler(); total time=   1.4s\n",
      "[CV] END model=LogisticRegression(), model__C=1, normalise=None; total time=   2.0s\n",
      "[CV] END model=LogisticRegression(), model__C=1, normalise=None; total time=   1.3s\n",
      "[CV] END model=LogisticRegression(), model__C=1, normalise=None; total time=   2.1s\n",
      "[CV] END model=LogisticRegression(), model__C=1, normalise=None; total time=   2.1s\n",
      "[CV] END model=LogisticRegression(), model__C=1, normalise=None; total time=   2.1s\n",
      "[CV] END model=LogisticRegression(), model__C=10, normalise=StandardScaler(); total time=   1.4s\n",
      "[CV] END model=LogisticRegression(), model__C=10, normalise=StandardScaler(); total time=   1.5s\n",
      "[CV] END model=LogisticRegression(), model__C=10, normalise=StandardScaler(); total time=   1.4s\n",
      "[CV] END model=LogisticRegression(), model__C=10, normalise=StandardScaler(); total time=   1.4s\n",
      "[CV] END model=LogisticRegression(), model__C=10, normalise=StandardScaler(); total time=   1.5s\n",
      "[CV] END model=LogisticRegression(), model__C=10, normalise=None; total time=   2.1s\n",
      "[CV] END model=LogisticRegression(), model__C=10, normalise=None; total time=   1.3s\n",
      "[CV] END model=LogisticRegression(), model__C=10, normalise=None; total time=   2.1s\n",
      "[CV] END model=LogisticRegression(), model__C=10, normalise=None; total time=   2.1s\n",
      "[CV] END model=LogisticRegression(), model__C=10, normalise=None; total time=   2.1s\n",
      "[CV] END model=LogisticRegression(), model__C=100, normalise=StandardScaler(); total time=   1.4s\n",
      "[CV] END model=LogisticRegression(), model__C=100, normalise=StandardScaler(); total time=   1.5s\n",
      "[CV] END model=LogisticRegression(), model__C=100, normalise=StandardScaler(); total time=   1.4s\n",
      "[CV] END model=LogisticRegression(), model__C=100, normalise=StandardScaler(); total time=   1.4s\n",
      "[CV] END model=LogisticRegression(), model__C=100, normalise=StandardScaler(); total time=   1.5s\n",
      "[CV] END model=LogisticRegression(), model__C=100, normalise=None; total time=   2.0s\n",
      "[CV] END model=LogisticRegression(), model__C=100, normalise=None; total time=   1.3s\n",
      "[CV] END model=LogisticRegression(), model__C=100, normalise=None; total time=   2.1s\n",
      "[CV] END model=LogisticRegression(), model__C=100, normalise=None; total time=   2.0s\n",
      "[CV] END model=LogisticRegression(), model__C=100, normalise=None; total time=   2.1s\n"
     ]
    }
   ],
   "source": [
    "# store estimators\n",
    "estimators = [('normalise', StandardScaler()),\n",
    "              ('model', LogisticRegression())]\n",
    "\n",
    "# instantiate pipeline\n",
    "pipe = Pipeline(estimators)\n",
    "\n",
    "# create parameters for gridsearch\n",
    "parameters = [\n",
    "            {'model': [LogisticRegression()], \n",
    "             'normalise': [StandardScaler(), None],\n",
    "             'model__C': [0.001, 0.01, 0.1, 1, 10, 100]}\n",
    "]\n",
    "\n",
    "#instantiate gridsearch\n",
    "up_grid = GridSearchCV(pipe, parameters, cv = 5, verbose = 2)\n",
    "\n",
    "# fit the grid on the upsampled X_train and y_train data\n",
    "up_fitgrid = up_grid.fit(X_train_up, y_train_up)"
   ]
  },
  {
   "cell_type": "markdown",
   "id": "25fed1cf",
   "metadata": {},
   "source": [
    "Save the grid output using `dump` from the joblib library."
   ]
  },
  {
   "cell_type": "code",
   "execution_count": 21,
   "id": "4eb89885",
   "metadata": {},
   "outputs": [
    {
     "data": {
      "text/plain": [
       "['LR_up_grid.pkl']"
      ]
     },
     "execution_count": 21,
     "metadata": {},
     "output_type": "execute_result"
    }
   ],
   "source": [
    "# select the output to save and give it a name\n",
    "# saves as a .pkl file\n",
    "\n",
    "joblib.dump(up_fitgrid, 'LR_up_grid.pkl')"
   ]
  },
  {
   "cell_type": "markdown",
   "id": "04bef495",
   "metadata": {},
   "source": [
    "The grid has fit on X_train_up and y_train_up. \n",
    "\n",
    "The results of the gridsearch can be saved in a dataframe using `cv_results` to get the grid outputs."
   ]
  },
  {
   "cell_type": "code",
   "execution_count": 87,
   "id": "9674adeb",
   "metadata": {},
   "outputs": [
    {
     "data": {
      "text/html": [
       "<div>\n",
       "<style scoped>\n",
       "    .dataframe tbody tr th:only-of-type {\n",
       "        vertical-align: middle;\n",
       "    }\n",
       "\n",
       "    .dataframe tbody tr th {\n",
       "        vertical-align: top;\n",
       "    }\n",
       "\n",
       "    .dataframe thead th {\n",
       "        text-align: right;\n",
       "    }\n",
       "</style>\n",
       "<table border=\"1\" class=\"dataframe\">\n",
       "  <thead>\n",
       "    <tr style=\"text-align: right;\">\n",
       "      <th></th>\n",
       "      <th>mean_fit_time</th>\n",
       "      <th>std_fit_time</th>\n",
       "      <th>mean_score_time</th>\n",
       "      <th>std_score_time</th>\n",
       "      <th>param_model</th>\n",
       "      <th>param_model__C</th>\n",
       "      <th>param_normalise</th>\n",
       "      <th>params</th>\n",
       "      <th>split0_test_score</th>\n",
       "      <th>split1_test_score</th>\n",
       "      <th>split2_test_score</th>\n",
       "      <th>split3_test_score</th>\n",
       "      <th>split4_test_score</th>\n",
       "      <th>mean_test_score</th>\n",
       "      <th>std_test_score</th>\n",
       "      <th>rank_test_score</th>\n",
       "    </tr>\n",
       "  </thead>\n",
       "  <tbody>\n",
       "    <tr>\n",
       "      <th>0</th>\n",
       "      <td>1.334996</td>\n",
       "      <td>0.007122</td>\n",
       "      <td>0.120594</td>\n",
       "      <td>0.003099</td>\n",
       "      <td>LogisticRegression(C=0.001)</td>\n",
       "      <td>0.001</td>\n",
       "      <td>StandardScaler()</td>\n",
       "      <td>{'model': LogisticRegression(C=0.001), 'model_...</td>\n",
       "      <td>0.445085</td>\n",
       "      <td>0.442759</td>\n",
       "      <td>0.445030</td>\n",
       "      <td>0.444296</td>\n",
       "      <td>0.444032</td>\n",
       "      <td>0.444240</td>\n",
       "      <td>0.000846</td>\n",
       "      <td>1</td>\n",
       "    </tr>\n",
       "    <tr>\n",
       "      <th>1</th>\n",
       "      <td>1.802045</td>\n",
       "      <td>0.296172</td>\n",
       "      <td>0.117471</td>\n",
       "      <td>0.002080</td>\n",
       "      <td>LogisticRegression(C=0.001)</td>\n",
       "      <td>0.001</td>\n",
       "      <td>None</td>\n",
       "      <td>{'model': LogisticRegression(C=0.001), 'model_...</td>\n",
       "      <td>0.358780</td>\n",
       "      <td>0.333333</td>\n",
       "      <td>0.357895</td>\n",
       "      <td>0.356134</td>\n",
       "      <td>0.358313</td>\n",
       "      <td>0.352891</td>\n",
       "      <td>0.009820</td>\n",
       "      <td>7</td>\n",
       "    </tr>\n",
       "    <tr>\n",
       "      <th>2</th>\n",
       "      <td>1.319129</td>\n",
       "      <td>0.009299</td>\n",
       "      <td>0.119539</td>\n",
       "      <td>0.002969</td>\n",
       "      <td>LogisticRegression(C=0.001)</td>\n",
       "      <td>0.01</td>\n",
       "      <td>StandardScaler()</td>\n",
       "      <td>{'model': LogisticRegression(C=0.001), 'model_...</td>\n",
       "      <td>0.445115</td>\n",
       "      <td>0.442767</td>\n",
       "      <td>0.444868</td>\n",
       "      <td>0.444347</td>\n",
       "      <td>0.444054</td>\n",
       "      <td>0.444230</td>\n",
       "      <td>0.000822</td>\n",
       "      <td>2</td>\n",
       "    </tr>\n",
       "    <tr>\n",
       "      <th>3</th>\n",
       "      <td>1.786160</td>\n",
       "      <td>0.302038</td>\n",
       "      <td>0.118305</td>\n",
       "      <td>0.001937</td>\n",
       "      <td>LogisticRegression(C=0.001)</td>\n",
       "      <td>0.01</td>\n",
       "      <td>None</td>\n",
       "      <td>{'model': LogisticRegression(C=0.001), 'model_...</td>\n",
       "      <td>0.358780</td>\n",
       "      <td>0.333333</td>\n",
       "      <td>0.357895</td>\n",
       "      <td>0.356134</td>\n",
       "      <td>0.358313</td>\n",
       "      <td>0.352891</td>\n",
       "      <td>0.009820</td>\n",
       "      <td>7</td>\n",
       "    </tr>\n",
       "    <tr>\n",
       "      <th>4</th>\n",
       "      <td>1.315474</td>\n",
       "      <td>0.010191</td>\n",
       "      <td>0.119673</td>\n",
       "      <td>0.002595</td>\n",
       "      <td>LogisticRegression(C=0.001)</td>\n",
       "      <td>0.1</td>\n",
       "      <td>StandardScaler()</td>\n",
       "      <td>{'model': LogisticRegression(C=0.001), 'model_...</td>\n",
       "      <td>0.445063</td>\n",
       "      <td>0.442796</td>\n",
       "      <td>0.444868</td>\n",
       "      <td>0.444303</td>\n",
       "      <td>0.444047</td>\n",
       "      <td>0.444216</td>\n",
       "      <td>0.000800</td>\n",
       "      <td>3</td>\n",
       "    </tr>\n",
       "    <tr>\n",
       "      <th>5</th>\n",
       "      <td>1.795467</td>\n",
       "      <td>0.300506</td>\n",
       "      <td>0.115797</td>\n",
       "      <td>0.002340</td>\n",
       "      <td>LogisticRegression(C=0.001)</td>\n",
       "      <td>0.1</td>\n",
       "      <td>None</td>\n",
       "      <td>{'model': LogisticRegression(C=0.001), 'model_...</td>\n",
       "      <td>0.358780</td>\n",
       "      <td>0.333333</td>\n",
       "      <td>0.357895</td>\n",
       "      <td>0.356134</td>\n",
       "      <td>0.358313</td>\n",
       "      <td>0.352891</td>\n",
       "      <td>0.009820</td>\n",
       "      <td>7</td>\n",
       "    </tr>\n",
       "    <tr>\n",
       "      <th>6</th>\n",
       "      <td>1.312451</td>\n",
       "      <td>0.013095</td>\n",
       "      <td>0.121507</td>\n",
       "      <td>0.001196</td>\n",
       "      <td>LogisticRegression(C=0.001)</td>\n",
       "      <td>1</td>\n",
       "      <td>StandardScaler()</td>\n",
       "      <td>{'model': LogisticRegression(C=0.001), 'model_...</td>\n",
       "      <td>0.445063</td>\n",
       "      <td>0.442796</td>\n",
       "      <td>0.444868</td>\n",
       "      <td>0.444281</td>\n",
       "      <td>0.444047</td>\n",
       "      <td>0.444211</td>\n",
       "      <td>0.000799</td>\n",
       "      <td>4</td>\n",
       "    </tr>\n",
       "    <tr>\n",
       "      <th>7</th>\n",
       "      <td>1.807059</td>\n",
       "      <td>0.299631</td>\n",
       "      <td>0.117037</td>\n",
       "      <td>0.001528</td>\n",
       "      <td>LogisticRegression(C=0.001)</td>\n",
       "      <td>1</td>\n",
       "      <td>None</td>\n",
       "      <td>{'model': LogisticRegression(C=0.001), 'model_...</td>\n",
       "      <td>0.358780</td>\n",
       "      <td>0.333333</td>\n",
       "      <td>0.357895</td>\n",
       "      <td>0.356134</td>\n",
       "      <td>0.358313</td>\n",
       "      <td>0.352891</td>\n",
       "      <td>0.009820</td>\n",
       "      <td>7</td>\n",
       "    </tr>\n",
       "    <tr>\n",
       "      <th>8</th>\n",
       "      <td>1.325170</td>\n",
       "      <td>0.011672</td>\n",
       "      <td>0.120059</td>\n",
       "      <td>0.002718</td>\n",
       "      <td>LogisticRegression(C=0.001)</td>\n",
       "      <td>10</td>\n",
       "      <td>StandardScaler()</td>\n",
       "      <td>{'model': LogisticRegression(C=0.001), 'model_...</td>\n",
       "      <td>0.445063</td>\n",
       "      <td>0.442796</td>\n",
       "      <td>0.444868</td>\n",
       "      <td>0.444281</td>\n",
       "      <td>0.444047</td>\n",
       "      <td>0.444211</td>\n",
       "      <td>0.000799</td>\n",
       "      <td>4</td>\n",
       "    </tr>\n",
       "    <tr>\n",
       "      <th>9</th>\n",
       "      <td>1.815670</td>\n",
       "      <td>0.314033</td>\n",
       "      <td>0.117340</td>\n",
       "      <td>0.001591</td>\n",
       "      <td>LogisticRegression(C=0.001)</td>\n",
       "      <td>10</td>\n",
       "      <td>None</td>\n",
       "      <td>{'model': LogisticRegression(C=0.001), 'model_...</td>\n",
       "      <td>0.358780</td>\n",
       "      <td>0.333333</td>\n",
       "      <td>0.357895</td>\n",
       "      <td>0.356134</td>\n",
       "      <td>0.358313</td>\n",
       "      <td>0.352891</td>\n",
       "      <td>0.009820</td>\n",
       "      <td>7</td>\n",
       "    </tr>\n",
       "    <tr>\n",
       "      <th>10</th>\n",
       "      <td>1.328452</td>\n",
       "      <td>0.012898</td>\n",
       "      <td>0.122815</td>\n",
       "      <td>0.001092</td>\n",
       "      <td>LogisticRegression(C=0.001)</td>\n",
       "      <td>100</td>\n",
       "      <td>StandardScaler()</td>\n",
       "      <td>{'model': LogisticRegression(C=0.001), 'model_...</td>\n",
       "      <td>0.445063</td>\n",
       "      <td>0.442796</td>\n",
       "      <td>0.444868</td>\n",
       "      <td>0.444281</td>\n",
       "      <td>0.444047</td>\n",
       "      <td>0.444211</td>\n",
       "      <td>0.000799</td>\n",
       "      <td>4</td>\n",
       "    </tr>\n",
       "    <tr>\n",
       "      <th>11</th>\n",
       "      <td>1.801543</td>\n",
       "      <td>0.306008</td>\n",
       "      <td>0.116968</td>\n",
       "      <td>0.002251</td>\n",
       "      <td>LogisticRegression(C=0.001)</td>\n",
       "      <td>100</td>\n",
       "      <td>None</td>\n",
       "      <td>{'model': LogisticRegression(C=0.001), 'model_...</td>\n",
       "      <td>0.358780</td>\n",
       "      <td>0.333333</td>\n",
       "      <td>0.357895</td>\n",
       "      <td>0.356134</td>\n",
       "      <td>0.358313</td>\n",
       "      <td>0.352891</td>\n",
       "      <td>0.009820</td>\n",
       "      <td>7</td>\n",
       "    </tr>\n",
       "  </tbody>\n",
       "</table>\n",
       "</div>"
      ],
      "text/plain": [
       "    mean_fit_time  std_fit_time  mean_score_time  std_score_time  \\\n",
       "0        1.334996      0.007122         0.120594        0.003099   \n",
       "1        1.802045      0.296172         0.117471        0.002080   \n",
       "2        1.319129      0.009299         0.119539        0.002969   \n",
       "3        1.786160      0.302038         0.118305        0.001937   \n",
       "4        1.315474      0.010191         0.119673        0.002595   \n",
       "5        1.795467      0.300506         0.115797        0.002340   \n",
       "6        1.312451      0.013095         0.121507        0.001196   \n",
       "7        1.807059      0.299631         0.117037        0.001528   \n",
       "8        1.325170      0.011672         0.120059        0.002718   \n",
       "9        1.815670      0.314033         0.117340        0.001591   \n",
       "10       1.328452      0.012898         0.122815        0.001092   \n",
       "11       1.801543      0.306008         0.116968        0.002251   \n",
       "\n",
       "                    param_model param_model__C   param_normalise  \\\n",
       "0   LogisticRegression(C=0.001)          0.001  StandardScaler()   \n",
       "1   LogisticRegression(C=0.001)          0.001              None   \n",
       "2   LogisticRegression(C=0.001)           0.01  StandardScaler()   \n",
       "3   LogisticRegression(C=0.001)           0.01              None   \n",
       "4   LogisticRegression(C=0.001)            0.1  StandardScaler()   \n",
       "5   LogisticRegression(C=0.001)            0.1              None   \n",
       "6   LogisticRegression(C=0.001)              1  StandardScaler()   \n",
       "7   LogisticRegression(C=0.001)              1              None   \n",
       "8   LogisticRegression(C=0.001)             10  StandardScaler()   \n",
       "9   LogisticRegression(C=0.001)             10              None   \n",
       "10  LogisticRegression(C=0.001)            100  StandardScaler()   \n",
       "11  LogisticRegression(C=0.001)            100              None   \n",
       "\n",
       "                                               params  split0_test_score  \\\n",
       "0   {'model': LogisticRegression(C=0.001), 'model_...           0.445085   \n",
       "1   {'model': LogisticRegression(C=0.001), 'model_...           0.358780   \n",
       "2   {'model': LogisticRegression(C=0.001), 'model_...           0.445115   \n",
       "3   {'model': LogisticRegression(C=0.001), 'model_...           0.358780   \n",
       "4   {'model': LogisticRegression(C=0.001), 'model_...           0.445063   \n",
       "5   {'model': LogisticRegression(C=0.001), 'model_...           0.358780   \n",
       "6   {'model': LogisticRegression(C=0.001), 'model_...           0.445063   \n",
       "7   {'model': LogisticRegression(C=0.001), 'model_...           0.358780   \n",
       "8   {'model': LogisticRegression(C=0.001), 'model_...           0.445063   \n",
       "9   {'model': LogisticRegression(C=0.001), 'model_...           0.358780   \n",
       "10  {'model': LogisticRegression(C=0.001), 'model_...           0.445063   \n",
       "11  {'model': LogisticRegression(C=0.001), 'model_...           0.358780   \n",
       "\n",
       "    split1_test_score  split2_test_score  split3_test_score  \\\n",
       "0            0.442759           0.445030           0.444296   \n",
       "1            0.333333           0.357895           0.356134   \n",
       "2            0.442767           0.444868           0.444347   \n",
       "3            0.333333           0.357895           0.356134   \n",
       "4            0.442796           0.444868           0.444303   \n",
       "5            0.333333           0.357895           0.356134   \n",
       "6            0.442796           0.444868           0.444281   \n",
       "7            0.333333           0.357895           0.356134   \n",
       "8            0.442796           0.444868           0.444281   \n",
       "9            0.333333           0.357895           0.356134   \n",
       "10           0.442796           0.444868           0.444281   \n",
       "11           0.333333           0.357895           0.356134   \n",
       "\n",
       "    split4_test_score  mean_test_score  std_test_score  rank_test_score  \n",
       "0            0.444032         0.444240        0.000846                1  \n",
       "1            0.358313         0.352891        0.009820                7  \n",
       "2            0.444054         0.444230        0.000822                2  \n",
       "3            0.358313         0.352891        0.009820                7  \n",
       "4            0.444047         0.444216        0.000800                3  \n",
       "5            0.358313         0.352891        0.009820                7  \n",
       "6            0.444047         0.444211        0.000799                4  \n",
       "7            0.358313         0.352891        0.009820                7  \n",
       "8            0.444047         0.444211        0.000799                4  \n",
       "9            0.358313         0.352891        0.009820                7  \n",
       "10           0.444047         0.444211        0.000799                4  \n",
       "11           0.358313         0.352891        0.009820                7  "
      ]
     },
     "execution_count": 87,
     "metadata": {},
     "output_type": "execute_result"
    }
   ],
   "source": [
    "up_df = pd.DataFrame(up_fitgrid.cv_results_)\n",
    "up_df"
   ]
  },
  {
   "cell_type": "markdown",
   "id": "4f06e767",
   "metadata": {},
   "source": [
    "Use `best_estimator_` to get the optimal hyperparameters for this data."
   ]
  },
  {
   "cell_type": "code",
   "execution_count": 22,
   "id": "b51a7106",
   "metadata": {
    "scrolled": true
   },
   "outputs": [
    {
     "data": {
      "text/html": [
       "<style>#sk-container-id-4 {color: black;background-color: white;}#sk-container-id-4 pre{padding: 0;}#sk-container-id-4 div.sk-toggleable {background-color: white;}#sk-container-id-4 label.sk-toggleable__label {cursor: pointer;display: block;width: 100%;margin-bottom: 0;padding: 0.3em;box-sizing: border-box;text-align: center;}#sk-container-id-4 label.sk-toggleable__label-arrow:before {content: \"▸\";float: left;margin-right: 0.25em;color: #696969;}#sk-container-id-4 label.sk-toggleable__label-arrow:hover:before {color: black;}#sk-container-id-4 div.sk-estimator:hover label.sk-toggleable__label-arrow:before {color: black;}#sk-container-id-4 div.sk-toggleable__content {max-height: 0;max-width: 0;overflow: hidden;text-align: left;background-color: #f0f8ff;}#sk-container-id-4 div.sk-toggleable__content pre {margin: 0.2em;color: black;border-radius: 0.25em;background-color: #f0f8ff;}#sk-container-id-4 input.sk-toggleable__control:checked~div.sk-toggleable__content {max-height: 200px;max-width: 100%;overflow: auto;}#sk-container-id-4 input.sk-toggleable__control:checked~label.sk-toggleable__label-arrow:before {content: \"▾\";}#sk-container-id-4 div.sk-estimator input.sk-toggleable__control:checked~label.sk-toggleable__label {background-color: #d4ebff;}#sk-container-id-4 div.sk-label input.sk-toggleable__control:checked~label.sk-toggleable__label {background-color: #d4ebff;}#sk-container-id-4 input.sk-hidden--visually {border: 0;clip: rect(1px 1px 1px 1px);clip: rect(1px, 1px, 1px, 1px);height: 1px;margin: -1px;overflow: hidden;padding: 0;position: absolute;width: 1px;}#sk-container-id-4 div.sk-estimator {font-family: monospace;background-color: #f0f8ff;border: 1px dotted black;border-radius: 0.25em;box-sizing: border-box;margin-bottom: 0.5em;}#sk-container-id-4 div.sk-estimator:hover {background-color: #d4ebff;}#sk-container-id-4 div.sk-parallel-item::after {content: \"\";width: 100%;border-bottom: 1px solid gray;flex-grow: 1;}#sk-container-id-4 div.sk-label:hover label.sk-toggleable__label {background-color: #d4ebff;}#sk-container-id-4 div.sk-serial::before {content: \"\";position: absolute;border-left: 1px solid gray;box-sizing: border-box;top: 0;bottom: 0;left: 50%;z-index: 0;}#sk-container-id-4 div.sk-serial {display: flex;flex-direction: column;align-items: center;background-color: white;padding-right: 0.2em;padding-left: 0.2em;position: relative;}#sk-container-id-4 div.sk-item {position: relative;z-index: 1;}#sk-container-id-4 div.sk-parallel {display: flex;align-items: stretch;justify-content: center;background-color: white;position: relative;}#sk-container-id-4 div.sk-item::before, #sk-container-id-4 div.sk-parallel-item::before {content: \"\";position: absolute;border-left: 1px solid gray;box-sizing: border-box;top: 0;bottom: 0;left: 50%;z-index: -1;}#sk-container-id-4 div.sk-parallel-item {display: flex;flex-direction: column;z-index: 1;position: relative;background-color: white;}#sk-container-id-4 div.sk-parallel-item:first-child::after {align-self: flex-end;width: 50%;}#sk-container-id-4 div.sk-parallel-item:last-child::after {align-self: flex-start;width: 50%;}#sk-container-id-4 div.sk-parallel-item:only-child::after {width: 0;}#sk-container-id-4 div.sk-dashed-wrapped {border: 1px dashed gray;margin: 0 0.4em 0.5em 0.4em;box-sizing: border-box;padding-bottom: 0.4em;background-color: white;}#sk-container-id-4 div.sk-label label {font-family: monospace;font-weight: bold;display: inline-block;line-height: 1.2em;}#sk-container-id-4 div.sk-label-container {text-align: center;}#sk-container-id-4 div.sk-container {/* jupyter's `normalize.less` sets `[hidden] { display: none; }` but bootstrap.min.css set `[hidden] { display: none !important; }` so we also need the `!important` here to be able to override the default hidden behavior on the sphinx rendered scikit-learn.org. See: https://github.com/scikit-learn/scikit-learn/issues/21755 */display: inline-block !important;position: relative;}#sk-container-id-4 div.sk-text-repr-fallback {display: none;}</style><div id=\"sk-container-id-4\" class=\"sk-top-container\"><div class=\"sk-text-repr-fallback\"><pre>Pipeline(steps=[(&#x27;normalise&#x27;, StandardScaler()),\n",
       "                (&#x27;model&#x27;, LogisticRegression(C=0.001))])</pre><b>In a Jupyter environment, please rerun this cell to show the HTML representation or trust the notebook. <br />On GitHub, the HTML representation is unable to render, please try loading this page with nbviewer.org.</b></div><div class=\"sk-container\" hidden><div class=\"sk-item sk-dashed-wrapped\"><div class=\"sk-label-container\"><div class=\"sk-label sk-toggleable\"><input class=\"sk-toggleable__control sk-hidden--visually\" id=\"sk-estimator-id-6\" type=\"checkbox\" ><label for=\"sk-estimator-id-6\" class=\"sk-toggleable__label sk-toggleable__label-arrow\">Pipeline</label><div class=\"sk-toggleable__content\"><pre>Pipeline(steps=[(&#x27;normalise&#x27;, StandardScaler()),\n",
       "                (&#x27;model&#x27;, LogisticRegression(C=0.001))])</pre></div></div></div><div class=\"sk-serial\"><div class=\"sk-item\"><div class=\"sk-estimator sk-toggleable\"><input class=\"sk-toggleable__control sk-hidden--visually\" id=\"sk-estimator-id-7\" type=\"checkbox\" ><label for=\"sk-estimator-id-7\" class=\"sk-toggleable__label sk-toggleable__label-arrow\">StandardScaler</label><div class=\"sk-toggleable__content\"><pre>StandardScaler()</pre></div></div></div><div class=\"sk-item\"><div class=\"sk-estimator sk-toggleable\"><input class=\"sk-toggleable__control sk-hidden--visually\" id=\"sk-estimator-id-8\" type=\"checkbox\" ><label for=\"sk-estimator-id-8\" class=\"sk-toggleable__label sk-toggleable__label-arrow\">LogisticRegression</label><div class=\"sk-toggleable__content\"><pre>LogisticRegression(C=0.001)</pre></div></div></div></div></div></div></div>"
      ],
      "text/plain": [
       "Pipeline(steps=[('normalise', StandardScaler()),\n",
       "                ('model', LogisticRegression(C=0.001))])"
      ]
     },
     "execution_count": 22,
     "metadata": {},
     "output_type": "execute_result"
    }
   ],
   "source": [
    "up_fitgrid.best_estimator_"
   ]
  },
  {
   "cell_type": "markdown",
   "id": "78e456eb",
   "metadata": {},
   "source": [
    "The best model is normalized using Standard Scaler and has a C value of 0.001. Re-run the Logistic Regression model using Standard Scaler and C=0.001 to produce the confusion matrix and the precision, recall and f1-scores."
   ]
  },
  {
   "cell_type": "code",
   "execution_count": 23,
   "id": "163159b4",
   "metadata": {},
   "outputs": [
    {
     "data": {
      "text/html": [
       "<style>#sk-container-id-5 {color: black;background-color: white;}#sk-container-id-5 pre{padding: 0;}#sk-container-id-5 div.sk-toggleable {background-color: white;}#sk-container-id-5 label.sk-toggleable__label {cursor: pointer;display: block;width: 100%;margin-bottom: 0;padding: 0.3em;box-sizing: border-box;text-align: center;}#sk-container-id-5 label.sk-toggleable__label-arrow:before {content: \"▸\";float: left;margin-right: 0.25em;color: #696969;}#sk-container-id-5 label.sk-toggleable__label-arrow:hover:before {color: black;}#sk-container-id-5 div.sk-estimator:hover label.sk-toggleable__label-arrow:before {color: black;}#sk-container-id-5 div.sk-toggleable__content {max-height: 0;max-width: 0;overflow: hidden;text-align: left;background-color: #f0f8ff;}#sk-container-id-5 div.sk-toggleable__content pre {margin: 0.2em;color: black;border-radius: 0.25em;background-color: #f0f8ff;}#sk-container-id-5 input.sk-toggleable__control:checked~div.sk-toggleable__content {max-height: 200px;max-width: 100%;overflow: auto;}#sk-container-id-5 input.sk-toggleable__control:checked~label.sk-toggleable__label-arrow:before {content: \"▾\";}#sk-container-id-5 div.sk-estimator input.sk-toggleable__control:checked~label.sk-toggleable__label {background-color: #d4ebff;}#sk-container-id-5 div.sk-label input.sk-toggleable__control:checked~label.sk-toggleable__label {background-color: #d4ebff;}#sk-container-id-5 input.sk-hidden--visually {border: 0;clip: rect(1px 1px 1px 1px);clip: rect(1px, 1px, 1px, 1px);height: 1px;margin: -1px;overflow: hidden;padding: 0;position: absolute;width: 1px;}#sk-container-id-5 div.sk-estimator {font-family: monospace;background-color: #f0f8ff;border: 1px dotted black;border-radius: 0.25em;box-sizing: border-box;margin-bottom: 0.5em;}#sk-container-id-5 div.sk-estimator:hover {background-color: #d4ebff;}#sk-container-id-5 div.sk-parallel-item::after {content: \"\";width: 100%;border-bottom: 1px solid gray;flex-grow: 1;}#sk-container-id-5 div.sk-label:hover label.sk-toggleable__label {background-color: #d4ebff;}#sk-container-id-5 div.sk-serial::before {content: \"\";position: absolute;border-left: 1px solid gray;box-sizing: border-box;top: 0;bottom: 0;left: 50%;z-index: 0;}#sk-container-id-5 div.sk-serial {display: flex;flex-direction: column;align-items: center;background-color: white;padding-right: 0.2em;padding-left: 0.2em;position: relative;}#sk-container-id-5 div.sk-item {position: relative;z-index: 1;}#sk-container-id-5 div.sk-parallel {display: flex;align-items: stretch;justify-content: center;background-color: white;position: relative;}#sk-container-id-5 div.sk-item::before, #sk-container-id-5 div.sk-parallel-item::before {content: \"\";position: absolute;border-left: 1px solid gray;box-sizing: border-box;top: 0;bottom: 0;left: 50%;z-index: -1;}#sk-container-id-5 div.sk-parallel-item {display: flex;flex-direction: column;z-index: 1;position: relative;background-color: white;}#sk-container-id-5 div.sk-parallel-item:first-child::after {align-self: flex-end;width: 50%;}#sk-container-id-5 div.sk-parallel-item:last-child::after {align-self: flex-start;width: 50%;}#sk-container-id-5 div.sk-parallel-item:only-child::after {width: 0;}#sk-container-id-5 div.sk-dashed-wrapped {border: 1px dashed gray;margin: 0 0.4em 0.5em 0.4em;box-sizing: border-box;padding-bottom: 0.4em;background-color: white;}#sk-container-id-5 div.sk-label label {font-family: monospace;font-weight: bold;display: inline-block;line-height: 1.2em;}#sk-container-id-5 div.sk-label-container {text-align: center;}#sk-container-id-5 div.sk-container {/* jupyter's `normalize.less` sets `[hidden] { display: none; }` but bootstrap.min.css set `[hidden] { display: none !important; }` so we also need the `!important` here to be able to override the default hidden behavior on the sphinx rendered scikit-learn.org. See: https://github.com/scikit-learn/scikit-learn/issues/21755 */display: inline-block !important;position: relative;}#sk-container-id-5 div.sk-text-repr-fallback {display: none;}</style><div id=\"sk-container-id-5\" class=\"sk-top-container\"><div class=\"sk-text-repr-fallback\"><pre>LogisticRegression(C=0.001, max_iter=10000, random_state=10)</pre><b>In a Jupyter environment, please rerun this cell to show the HTML representation or trust the notebook. <br />On GitHub, the HTML representation is unable to render, please try loading this page with nbviewer.org.</b></div><div class=\"sk-container\" hidden><div class=\"sk-item\"><div class=\"sk-estimator sk-toggleable\"><input class=\"sk-toggleable__control sk-hidden--visually\" id=\"sk-estimator-id-9\" type=\"checkbox\" checked><label for=\"sk-estimator-id-9\" class=\"sk-toggleable__label sk-toggleable__label-arrow\">LogisticRegression</label><div class=\"sk-toggleable__content\"><pre>LogisticRegression(C=0.001, max_iter=10000, random_state=10)</pre></div></div></div></div></div>"
      ],
      "text/plain": [
       "LogisticRegression(C=0.001, max_iter=10000, random_state=10)"
      ]
     },
     "execution_count": 23,
     "metadata": {},
     "output_type": "execute_result"
    }
   ],
   "source": [
    "# Model with upsampled scaled data\n",
    "\n",
    "# Scale the upsampled data\n",
    "scaler = StandardScaler()\n",
    "\n",
    "# fit on X_train_up\n",
    "scaler.fit(X_train_up)\n",
    "\n",
    "# transform X_train_up and X_validation\n",
    "X_train_up_s = scaler.transform(X_train_up)\n",
    "X_validation_s = scaler.transform(X_validation)\n",
    "\n",
    "#instantiate the model\n",
    "LR_model_up = LogisticRegression(solver = 'lbfgs', random_state = 10, max_iter = 10000, C = 0.001)\n",
    "\n",
    "# fit the model\n",
    "LR_model_up.fit(X_train_up_s, y_train_up)"
   ]
  },
  {
   "cell_type": "markdown",
   "id": "bb7648b4",
   "metadata": {},
   "source": [
    "Check the accuracy scores for the training and validation sets."
   ]
  },
  {
   "cell_type": "code",
   "execution_count": 24,
   "id": "9ecb5614",
   "metadata": {},
   "outputs": [
    {
     "name": "stdout",
     "output_type": "stream",
     "text": [
      "Training score:  0.44429475636798027\n",
      "Validation score:  0.5087366571255362\n"
     ]
    }
   ],
   "source": [
    "# 3. Score on the training data \n",
    "print(\"Training score: \", LR_model_up.score(X_train_up_s, y_train_up))\n",
    "\n",
    "# 4. Score on the testing data\n",
    "print(\"Validation score: \", LR_model_up.score(X_validation_s, y_validation))"
   ]
  },
  {
   "cell_type": "markdown",
   "id": "2867e7f4",
   "metadata": {},
   "source": [
    "The model accuracy has gone down significantly. The validation set is scoring higher than the training set. But I want to check the confusion matrix and the precision, recall and f1-scores to see how it's predicting each class."
   ]
  },
  {
   "cell_type": "code",
   "execution_count": 25,
   "id": "ba77efd3",
   "metadata": {
    "scrolled": false
   },
   "outputs": [
    {
     "name": "stderr",
     "output_type": "stream",
     "text": [
      "/Users/stephgolob/opt/anaconda3/lib/python3.9/site-packages/sklearn/utils/deprecation.py:87: FutureWarning: Function plot_confusion_matrix is deprecated; Function `plot_confusion_matrix` is deprecated in 1.0 and will be removed in 1.2. Use one of the class methods: ConfusionMatrixDisplay.from_predictions or ConfusionMatrixDisplay.from_estimator.\n",
      "  warnings.warn(msg, category=FutureWarning)\n"
     ]
    },
    {
     "data": {
      "image/png": "[encoded data removed]",
      "text/plain": [
       "<Figure size 432x288 with 2 Axes>"
      ]
     },
     "metadata": {
      "needs_background": "light"
     },
     "output_type": "display_data"
    }
   ],
   "source": [
    "plot_confusion_matrix(LR_model_up, X_validation_s, y_validation)\n",
    "plt.title(\"Upsampled Confusion Matrix\");"
   ]
  },
  {
   "cell_type": "markdown",
   "id": "8aba12f4",
   "metadata": {},
   "source": [
    "The model improves at predicting classes 2 and 3 using scaled upsampled data, but performs worse with class 1."
   ]
  },
  {
   "cell_type": "markdown",
   "id": "bc3d98dd",
   "metadata": {},
   "source": [
    "Make predictions using the scaled X_validation_s data."
   ]
  },
  {
   "cell_type": "code",
   "execution_count": 26,
   "id": "57b645e7",
   "metadata": {},
   "outputs": [],
   "source": [
    "y_predictions_up = LR_model_up.predict(X_validation_s)"
   ]
  },
  {
   "cell_type": "markdown",
   "id": "6d72f19f",
   "metadata": {},
   "source": [
    "Create the classification report."
   ]
  },
  {
   "cell_type": "code",
   "execution_count": 28,
   "id": "419a5677",
   "metadata": {
    "scrolled": true
   },
   "outputs": [
    {
     "name": "stdout",
     "output_type": "stream",
     "text": [
      "              precision    recall  f1-score   support\n",
      "\n",
      "           1       0.84      0.55      0.66     97345\n",
      "           2       0.28      0.38      0.32     25886\n",
      "           3       0.09      0.41      0.15      7082\n",
      "\n",
      "    accuracy                           0.51    130313\n",
      "   macro avg       0.40      0.45      0.38    130313\n",
      "weighted avg       0.69      0.51      0.57    130313\n",
      "\n"
     ]
    }
   ],
   "source": [
    "report_up = classification_report(y_validation, y_predictions_up)\n",
    "print(report_up)"
   ]
  },
  {
   "cell_type": "markdown",
   "id": "ad25eb70",
   "metadata": {},
   "source": [
    "Precision and recall scores have improved for classes 2 and 3, recall has decreased for class 1. This is a big improvement for classes 2 and 3 as compared to the original data sets, the f1-score shows that more of a balance is being struck between precision and recall for all the classes."
   ]
  },
  {
   "cell_type": "markdown",
   "id": "1ce6482f",
   "metadata": {},
   "source": [
    "---"
   ]
  },
  {
   "cell_type": "markdown",
   "id": "82eaaa9e",
   "metadata": {},
   "source": [
    "### Downsampled Data"
   ]
  },
  {
   "cell_type": "markdown",
   "id": "b6e8b2ba",
   "metadata": {},
   "source": [
    "Read in the downsampled X_train and y_train data."
   ]
  },
  {
   "cell_type": "code",
   "execution_count": 29,
   "id": "044e9ebf",
   "metadata": {},
   "outputs": [],
   "source": [
    "X_train_down = pd.read_pickle(\"data/X_train_under.pkl\")\n",
    "y_train_down = pd.read_pickle(\"data/y_train_under.pkl\")"
   ]
  },
  {
   "cell_type": "code",
   "execution_count": 30,
   "id": "e968fdbc",
   "metadata": {
    "scrolled": true
   },
   "outputs": [
    {
     "name": "stdout",
     "output_type": "stream",
     "text": [
      "Fitting 5 folds for each of 12 candidates, totalling 60 fits\n",
      "[CV] END model=LogisticRegression(), model__C=0.001, normalise=StandardScaler(); total time=   0.1s\n",
      "[CV] END model=LogisticRegression(), model__C=0.001, normalise=StandardScaler(); total time=   0.1s\n",
      "[CV] END model=LogisticRegression(), model__C=0.001, normalise=StandardScaler(); total time=   0.1s\n",
      "[CV] END model=LogisticRegression(), model__C=0.001, normalise=StandardScaler(); total time=   0.1s\n",
      "[CV] END model=LogisticRegression(), model__C=0.001, normalise=StandardScaler(); total time=   0.1s\n",
      "[CV] END model=LogisticRegression(), model__C=0.001, normalise=None; total time=   0.2s\n",
      "[CV] END model=LogisticRegression(), model__C=0.001, normalise=None; total time=   0.2s\n",
      "[CV] END model=LogisticRegression(), model__C=0.001, normalise=None; total time=   0.2s\n",
      "[CV] END model=LogisticRegression(), model__C=0.001, normalise=None; total time=   0.2s\n",
      "[CV] END model=LogisticRegression(), model__C=0.001, normalise=None; total time=   0.2s\n",
      "[CV] END model=LogisticRegression(), model__C=0.01, normalise=StandardScaler(); total time=   0.1s\n",
      "[CV] END model=LogisticRegression(), model__C=0.01, normalise=StandardScaler(); total time=   0.1s\n",
      "[CV] END model=LogisticRegression(), model__C=0.01, normalise=StandardScaler(); total time=   0.1s\n",
      "[CV] END model=LogisticRegression(), model__C=0.01, normalise=StandardScaler(); total time=   0.1s\n",
      "[CV] END model=LogisticRegression(), model__C=0.01, normalise=StandardScaler(); total time=   0.1s\n",
      "[CV] END model=LogisticRegression(), model__C=0.01, normalise=None; total time=   0.2s\n",
      "[CV] END model=LogisticRegression(), model__C=0.01, normalise=None; total time=   0.2s\n",
      "[CV] END model=LogisticRegression(), model__C=0.01, normalise=None; total time=   0.2s\n",
      "[CV] END model=LogisticRegression(), model__C=0.01, normalise=None; total time=   0.2s\n",
      "[CV] END model=LogisticRegression(), model__C=0.01, normalise=None; total time=   0.2s\n",
      "[CV] END model=LogisticRegression(), model__C=0.1, normalise=StandardScaler(); total time=   0.1s\n",
      "[CV] END model=LogisticRegression(), model__C=0.1, normalise=StandardScaler(); total time=   0.1s\n",
      "[CV] END model=LogisticRegression(), model__C=0.1, normalise=StandardScaler(); total time=   0.1s\n",
      "[CV] END model=LogisticRegression(), model__C=0.1, normalise=StandardScaler(); total time=   0.1s\n",
      "[CV] END model=LogisticRegression(), model__C=0.1, normalise=StandardScaler(); total time=   0.1s\n",
      "[CV] END model=LogisticRegression(), model__C=0.1, normalise=None; total time=   0.2s\n",
      "[CV] END model=LogisticRegression(), model__C=0.1, normalise=None; total time=   0.2s\n",
      "[CV] END model=LogisticRegression(), model__C=0.1, normalise=None; total time=   0.2s\n",
      "[CV] END model=LogisticRegression(), model__C=0.1, normalise=None; total time=   0.2s\n",
      "[CV] END model=LogisticRegression(), model__C=0.1, normalise=None; total time=   0.2s\n",
      "[CV] END model=LogisticRegression(), model__C=1, normalise=StandardScaler(); total time=   0.1s\n",
      "[CV] END model=LogisticRegression(), model__C=1, normalise=StandardScaler(); total time=   0.1s\n",
      "[CV] END model=LogisticRegression(), model__C=1, normalise=StandardScaler(); total time=   0.1s\n",
      "[CV] END model=LogisticRegression(), model__C=1, normalise=StandardScaler(); total time=   0.1s\n",
      "[CV] END model=LogisticRegression(), model__C=1, normalise=StandardScaler(); total time=   0.1s\n",
      "[CV] END model=LogisticRegression(), model__C=1, normalise=None; total time=   0.2s\n",
      "[CV] END model=LogisticRegression(), model__C=1, normalise=None; total time=   0.2s\n",
      "[CV] END model=LogisticRegression(), model__C=1, normalise=None; total time=   0.2s\n",
      "[CV] END model=LogisticRegression(), model__C=1, normalise=None; total time=   0.2s\n",
      "[CV] END model=LogisticRegression(), model__C=1, normalise=None; total time=   0.2s\n",
      "[CV] END model=LogisticRegression(), model__C=10, normalise=StandardScaler(); total time=   0.1s\n",
      "[CV] END model=LogisticRegression(), model__C=10, normalise=StandardScaler(); total time=   0.1s\n",
      "[CV] END model=LogisticRegression(), model__C=10, normalise=StandardScaler(); total time=   0.1s\n",
      "[CV] END model=LogisticRegression(), model__C=10, normalise=StandardScaler(); total time=   0.1s\n",
      "[CV] END model=LogisticRegression(), model__C=10, normalise=StandardScaler(); total time=   0.1s\n",
      "[CV] END model=LogisticRegression(), model__C=10, normalise=None; total time=   0.2s\n",
      "[CV] END model=LogisticRegression(), model__C=10, normalise=None; total time=   0.2s\n",
      "[CV] END model=LogisticRegression(), model__C=10, normalise=None; total time=   0.2s\n",
      "[CV] END model=LogisticRegression(), model__C=10, normalise=None; total time=   0.2s\n",
      "[CV] END model=LogisticRegression(), model__C=10, normalise=None; total time=   0.2s\n",
      "[CV] END model=LogisticRegression(), model__C=100, normalise=StandardScaler(); total time=   0.1s\n",
      "[CV] END model=LogisticRegression(), model__C=100, normalise=StandardScaler(); total time=   0.1s\n",
      "[CV] END model=LogisticRegression(), model__C=100, normalise=StandardScaler(); total time=   0.1s\n",
      "[CV] END model=LogisticRegression(), model__C=100, normalise=StandardScaler(); total time=   0.1s\n",
      "[CV] END model=LogisticRegression(), model__C=100, normalise=StandardScaler(); total time=   0.1s\n",
      "[CV] END model=LogisticRegression(), model__C=100, normalise=None; total time=   0.2s\n",
      "[CV] END model=LogisticRegression(), model__C=100, normalise=None; total time=   0.2s\n",
      "[CV] END model=LogisticRegression(), model__C=100, normalise=None; total time=   0.2s\n",
      "[CV] END model=LogisticRegression(), model__C=100, normalise=None; total time=   0.2s\n",
      "[CV] END model=LogisticRegression(), model__C=100, normalise=None; total time=   0.2s\n"
     ]
    }
   ],
   "source": [
    "# store estimators\n",
    "estimators = [('normalise', StandardScaler()),\n",
    "              ('model', LogisticRegression())]\n",
    "\n",
    "# instantiate pipeline\n",
    "pipe = Pipeline(estimators)\n",
    "\n",
    "# create parameters for gridsearch\n",
    "parameters = [\n",
    "            {'model': [LogisticRegression()], \n",
    "             'normalise': [StandardScaler(), None],\n",
    "             'model__C': [0.001, 0.01, 0.1, 1, 10, 100]}\n",
    "]\n",
    "\n",
    "#instantiate gridsearch\n",
    "down_grid = GridSearchCV(pipe, parameters, cv = 5, verbose = 2)\n",
    "\n",
    "# fit the grid on the upsampled X_train and y_train data\n",
    "down_fitgrid = down_grid.fit(X_train_down, y_train_down)"
   ]
  },
  {
   "cell_type": "markdown",
   "id": "7e58f70b",
   "metadata": {},
   "source": [
    "Save the grid output using `dump` from the joblib library."
   ]
  },
  {
   "cell_type": "code",
   "execution_count": 31,
   "id": "b213e81d",
   "metadata": {},
   "outputs": [
    {
     "data": {
      "text/plain": [
       "['LR_down_grid.pkl']"
      ]
     },
     "execution_count": 31,
     "metadata": {},
     "output_type": "execute_result"
    }
   ],
   "source": [
    "# select the output to save and give it a name\n",
    "# saves as a .pkl file\n",
    "\n",
    "joblib.dump(down_fitgrid, 'LR_down_grid.pkl')"
   ]
  },
  {
   "cell_type": "markdown",
   "id": "5b0e1146",
   "metadata": {},
   "source": [
    "The grid has fit on X_train_down and y_train_down. \n",
    "\n",
    "The results of the gridsearch can be saved in a dataframe using `cv_results` to get the grid outputs."
   ]
  },
  {
   "cell_type": "code",
   "execution_count": 88,
   "id": "0744bfab",
   "metadata": {},
   "outputs": [
    {
     "data": {
      "text/html": [
       "<div>\n",
       "<style scoped>\n",
       "    .dataframe tbody tr th:only-of-type {\n",
       "        vertical-align: middle;\n",
       "    }\n",
       "\n",
       "    .dataframe tbody tr th {\n",
       "        vertical-align: top;\n",
       "    }\n",
       "\n",
       "    .dataframe thead th {\n",
       "        text-align: right;\n",
       "    }\n",
       "</style>\n",
       "<table border=\"1\" class=\"dataframe\">\n",
       "  <thead>\n",
       "    <tr style=\"text-align: right;\">\n",
       "      <th></th>\n",
       "      <th>mean_fit_time</th>\n",
       "      <th>std_fit_time</th>\n",
       "      <th>mean_score_time</th>\n",
       "      <th>std_score_time</th>\n",
       "      <th>param_model</th>\n",
       "      <th>param_model__C</th>\n",
       "      <th>param_normalise</th>\n",
       "      <th>params</th>\n",
       "      <th>split0_test_score</th>\n",
       "      <th>split1_test_score</th>\n",
       "      <th>split2_test_score</th>\n",
       "      <th>split3_test_score</th>\n",
       "      <th>split4_test_score</th>\n",
       "      <th>mean_test_score</th>\n",
       "      <th>std_test_score</th>\n",
       "      <th>rank_test_score</th>\n",
       "    </tr>\n",
       "  </thead>\n",
       "  <tbody>\n",
       "    <tr>\n",
       "      <th>0</th>\n",
       "      <td>0.097019</td>\n",
       "      <td>0.002484</td>\n",
       "      <td>0.008242</td>\n",
       "      <td>0.000247</td>\n",
       "      <td>LogisticRegression(C=0.1)</td>\n",
       "      <td>0.001</td>\n",
       "      <td>StandardScaler()</td>\n",
       "      <td>{'model': LogisticRegression(C=0.1), 'model__C...</td>\n",
       "      <td>0.444377</td>\n",
       "      <td>0.441856</td>\n",
       "      <td>0.451483</td>\n",
       "      <td>0.456224</td>\n",
       "      <td>0.451684</td>\n",
       "      <td>0.449125</td>\n",
       "      <td>0.005251</td>\n",
       "      <td>6</td>\n",
       "    </tr>\n",
       "    <tr>\n",
       "      <th>1</th>\n",
       "      <td>0.156026</td>\n",
       "      <td>0.005592</td>\n",
       "      <td>0.008249</td>\n",
       "      <td>0.000407</td>\n",
       "      <td>LogisticRegression(C=0.1)</td>\n",
       "      <td>0.001</td>\n",
       "      <td>None</td>\n",
       "      <td>{'model': LogisticRegression(C=0.1), 'model__C...</td>\n",
       "      <td>0.361674</td>\n",
       "      <td>0.357136</td>\n",
       "      <td>0.361005</td>\n",
       "      <td>0.359895</td>\n",
       "      <td>0.359693</td>\n",
       "      <td>0.359881</td>\n",
       "      <td>0.001552</td>\n",
       "      <td>7</td>\n",
       "    </tr>\n",
       "    <tr>\n",
       "      <th>2</th>\n",
       "      <td>0.095420</td>\n",
       "      <td>0.001412</td>\n",
       "      <td>0.008525</td>\n",
       "      <td>0.000202</td>\n",
       "      <td>LogisticRegression(C=0.1)</td>\n",
       "      <td>0.01</td>\n",
       "      <td>StandardScaler()</td>\n",
       "      <td>{'model': LogisticRegression(C=0.1), 'model__C...</td>\n",
       "      <td>0.445184</td>\n",
       "      <td>0.442965</td>\n",
       "      <td>0.451584</td>\n",
       "      <td>0.456829</td>\n",
       "      <td>0.451987</td>\n",
       "      <td>0.449710</td>\n",
       "      <td>0.005007</td>\n",
       "      <td>4</td>\n",
       "    </tr>\n",
       "    <tr>\n",
       "      <th>3</th>\n",
       "      <td>0.154883</td>\n",
       "      <td>0.006378</td>\n",
       "      <td>0.007941</td>\n",
       "      <td>0.000246</td>\n",
       "      <td>LogisticRegression(C=0.1)</td>\n",
       "      <td>0.01</td>\n",
       "      <td>None</td>\n",
       "      <td>{'model': LogisticRegression(C=0.1), 'model__C...</td>\n",
       "      <td>0.361674</td>\n",
       "      <td>0.357136</td>\n",
       "      <td>0.361005</td>\n",
       "      <td>0.359895</td>\n",
       "      <td>0.359693</td>\n",
       "      <td>0.359881</td>\n",
       "      <td>0.001552</td>\n",
       "      <td>7</td>\n",
       "    </tr>\n",
       "    <tr>\n",
       "      <th>4</th>\n",
       "      <td>0.095465</td>\n",
       "      <td>0.002866</td>\n",
       "      <td>0.008281</td>\n",
       "      <td>0.000238</td>\n",
       "      <td>LogisticRegression(C=0.1)</td>\n",
       "      <td>0.1</td>\n",
       "      <td>StandardScaler()</td>\n",
       "      <td>{'model': LogisticRegression(C=0.1), 'model__C...</td>\n",
       "      <td>0.445184</td>\n",
       "      <td>0.442965</td>\n",
       "      <td>0.451886</td>\n",
       "      <td>0.456627</td>\n",
       "      <td>0.452189</td>\n",
       "      <td>0.449770</td>\n",
       "      <td>0.004994</td>\n",
       "      <td>1</td>\n",
       "    </tr>\n",
       "    <tr>\n",
       "      <th>5</th>\n",
       "      <td>0.154386</td>\n",
       "      <td>0.005097</td>\n",
       "      <td>0.008058</td>\n",
       "      <td>0.000125</td>\n",
       "      <td>LogisticRegression(C=0.1)</td>\n",
       "      <td>0.1</td>\n",
       "      <td>None</td>\n",
       "      <td>{'model': LogisticRegression(C=0.1), 'model__C...</td>\n",
       "      <td>0.361674</td>\n",
       "      <td>0.357136</td>\n",
       "      <td>0.361005</td>\n",
       "      <td>0.359895</td>\n",
       "      <td>0.359693</td>\n",
       "      <td>0.359881</td>\n",
       "      <td>0.001552</td>\n",
       "      <td>7</td>\n",
       "    </tr>\n",
       "    <tr>\n",
       "      <th>6</th>\n",
       "      <td>0.094633</td>\n",
       "      <td>0.001429</td>\n",
       "      <td>0.008244</td>\n",
       "      <td>0.000131</td>\n",
       "      <td>LogisticRegression(C=0.1)</td>\n",
       "      <td>1</td>\n",
       "      <td>StandardScaler()</td>\n",
       "      <td>{'model': LogisticRegression(C=0.1), 'model__C...</td>\n",
       "      <td>0.445184</td>\n",
       "      <td>0.442864</td>\n",
       "      <td>0.451886</td>\n",
       "      <td>0.456425</td>\n",
       "      <td>0.452290</td>\n",
       "      <td>0.449730</td>\n",
       "      <td>0.004977</td>\n",
       "      <td>2</td>\n",
       "    </tr>\n",
       "    <tr>\n",
       "      <th>7</th>\n",
       "      <td>0.163602</td>\n",
       "      <td>0.007189</td>\n",
       "      <td>0.008798</td>\n",
       "      <td>0.001157</td>\n",
       "      <td>LogisticRegression(C=0.1)</td>\n",
       "      <td>1</td>\n",
       "      <td>None</td>\n",
       "      <td>{'model': LogisticRegression(C=0.1), 'model__C...</td>\n",
       "      <td>0.361674</td>\n",
       "      <td>0.357136</td>\n",
       "      <td>0.361005</td>\n",
       "      <td>0.359895</td>\n",
       "      <td>0.359693</td>\n",
       "      <td>0.359881</td>\n",
       "      <td>0.001552</td>\n",
       "      <td>7</td>\n",
       "    </tr>\n",
       "    <tr>\n",
       "      <th>8</th>\n",
       "      <td>0.095830</td>\n",
       "      <td>0.000210</td>\n",
       "      <td>0.008364</td>\n",
       "      <td>0.000237</td>\n",
       "      <td>LogisticRegression(C=0.1)</td>\n",
       "      <td>10</td>\n",
       "      <td>StandardScaler()</td>\n",
       "      <td>{'model': LogisticRegression(C=0.1), 'model__C...</td>\n",
       "      <td>0.445083</td>\n",
       "      <td>0.442864</td>\n",
       "      <td>0.451886</td>\n",
       "      <td>0.456425</td>\n",
       "      <td>0.452290</td>\n",
       "      <td>0.449710</td>\n",
       "      <td>0.004995</td>\n",
       "      <td>3</td>\n",
       "    </tr>\n",
       "    <tr>\n",
       "      <th>9</th>\n",
       "      <td>0.154610</td>\n",
       "      <td>0.006882</td>\n",
       "      <td>0.007974</td>\n",
       "      <td>0.000198</td>\n",
       "      <td>LogisticRegression(C=0.1)</td>\n",
       "      <td>10</td>\n",
       "      <td>None</td>\n",
       "      <td>{'model': LogisticRegression(C=0.1), 'model__C...</td>\n",
       "      <td>0.361674</td>\n",
       "      <td>0.357136</td>\n",
       "      <td>0.361005</td>\n",
       "      <td>0.359895</td>\n",
       "      <td>0.359693</td>\n",
       "      <td>0.359881</td>\n",
       "      <td>0.001552</td>\n",
       "      <td>7</td>\n",
       "    </tr>\n",
       "    <tr>\n",
       "      <th>10</th>\n",
       "      <td>0.096091</td>\n",
       "      <td>0.001694</td>\n",
       "      <td>0.008379</td>\n",
       "      <td>0.000389</td>\n",
       "      <td>LogisticRegression(C=0.1)</td>\n",
       "      <td>100</td>\n",
       "      <td>StandardScaler()</td>\n",
       "      <td>{'model': LogisticRegression(C=0.1), 'model__C...</td>\n",
       "      <td>0.445083</td>\n",
       "      <td>0.442763</td>\n",
       "      <td>0.451886</td>\n",
       "      <td>0.456425</td>\n",
       "      <td>0.452290</td>\n",
       "      <td>0.449690</td>\n",
       "      <td>0.005023</td>\n",
       "      <td>5</td>\n",
       "    </tr>\n",
       "    <tr>\n",
       "      <th>11</th>\n",
       "      <td>0.156497</td>\n",
       "      <td>0.010831</td>\n",
       "      <td>0.008151</td>\n",
       "      <td>0.000378</td>\n",
       "      <td>LogisticRegression(C=0.1)</td>\n",
       "      <td>100</td>\n",
       "      <td>None</td>\n",
       "      <td>{'model': LogisticRegression(C=0.1), 'model__C...</td>\n",
       "      <td>0.361674</td>\n",
       "      <td>0.357136</td>\n",
       "      <td>0.361005</td>\n",
       "      <td>0.359895</td>\n",
       "      <td>0.359693</td>\n",
       "      <td>0.359881</td>\n",
       "      <td>0.001552</td>\n",
       "      <td>7</td>\n",
       "    </tr>\n",
       "  </tbody>\n",
       "</table>\n",
       "</div>"
      ],
      "text/plain": [
       "    mean_fit_time  std_fit_time  mean_score_time  std_score_time  \\\n",
       "0        0.097019      0.002484         0.008242        0.000247   \n",
       "1        0.156026      0.005592         0.008249        0.000407   \n",
       "2        0.095420      0.001412         0.008525        0.000202   \n",
       "3        0.154883      0.006378         0.007941        0.000246   \n",
       "4        0.095465      0.002866         0.008281        0.000238   \n",
       "5        0.154386      0.005097         0.008058        0.000125   \n",
       "6        0.094633      0.001429         0.008244        0.000131   \n",
       "7        0.163602      0.007189         0.008798        0.001157   \n",
       "8        0.095830      0.000210         0.008364        0.000237   \n",
       "9        0.154610      0.006882         0.007974        0.000198   \n",
       "10       0.096091      0.001694         0.008379        0.000389   \n",
       "11       0.156497      0.010831         0.008151        0.000378   \n",
       "\n",
       "                  param_model param_model__C   param_normalise  \\\n",
       "0   LogisticRegression(C=0.1)          0.001  StandardScaler()   \n",
       "1   LogisticRegression(C=0.1)          0.001              None   \n",
       "2   LogisticRegression(C=0.1)           0.01  StandardScaler()   \n",
       "3   LogisticRegression(C=0.1)           0.01              None   \n",
       "4   LogisticRegression(C=0.1)            0.1  StandardScaler()   \n",
       "5   LogisticRegression(C=0.1)            0.1              None   \n",
       "6   LogisticRegression(C=0.1)              1  StandardScaler()   \n",
       "7   LogisticRegression(C=0.1)              1              None   \n",
       "8   LogisticRegression(C=0.1)             10  StandardScaler()   \n",
       "9   LogisticRegression(C=0.1)             10              None   \n",
       "10  LogisticRegression(C=0.1)            100  StandardScaler()   \n",
       "11  LogisticRegression(C=0.1)            100              None   \n",
       "\n",
       "                                               params  split0_test_score  \\\n",
       "0   {'model': LogisticRegression(C=0.1), 'model__C...           0.444377   \n",
       "1   {'model': LogisticRegression(C=0.1), 'model__C...           0.361674   \n",
       "2   {'model': LogisticRegression(C=0.1), 'model__C...           0.445184   \n",
       "3   {'model': LogisticRegression(C=0.1), 'model__C...           0.361674   \n",
       "4   {'model': LogisticRegression(C=0.1), 'model__C...           0.445184   \n",
       "5   {'model': LogisticRegression(C=0.1), 'model__C...           0.361674   \n",
       "6   {'model': LogisticRegression(C=0.1), 'model__C...           0.445184   \n",
       "7   {'model': LogisticRegression(C=0.1), 'model__C...           0.361674   \n",
       "8   {'model': LogisticRegression(C=0.1), 'model__C...           0.445083   \n",
       "9   {'model': LogisticRegression(C=0.1), 'model__C...           0.361674   \n",
       "10  {'model': LogisticRegression(C=0.1), 'model__C...           0.445083   \n",
       "11  {'model': LogisticRegression(C=0.1), 'model__C...           0.361674   \n",
       "\n",
       "    split1_test_score  split2_test_score  split3_test_score  \\\n",
       "0            0.441856           0.451483           0.456224   \n",
       "1            0.357136           0.361005           0.359895   \n",
       "2            0.442965           0.451584           0.456829   \n",
       "3            0.357136           0.361005           0.359895   \n",
       "4            0.442965           0.451886           0.456627   \n",
       "5            0.357136           0.361005           0.359895   \n",
       "6            0.442864           0.451886           0.456425   \n",
       "7            0.357136           0.361005           0.359895   \n",
       "8            0.442864           0.451886           0.456425   \n",
       "9            0.357136           0.361005           0.359895   \n",
       "10           0.442763           0.451886           0.456425   \n",
       "11           0.357136           0.361005           0.359895   \n",
       "\n",
       "    split4_test_score  mean_test_score  std_test_score  rank_test_score  \n",
       "0            0.451684         0.449125        0.005251                6  \n",
       "1            0.359693         0.359881        0.001552                7  \n",
       "2            0.451987         0.449710        0.005007                4  \n",
       "3            0.359693         0.359881        0.001552                7  \n",
       "4            0.452189         0.449770        0.004994                1  \n",
       "5            0.359693         0.359881        0.001552                7  \n",
       "6            0.452290         0.449730        0.004977                2  \n",
       "7            0.359693         0.359881        0.001552                7  \n",
       "8            0.452290         0.449710        0.004995                3  \n",
       "9            0.359693         0.359881        0.001552                7  \n",
       "10           0.452290         0.449690        0.005023                5  \n",
       "11           0.359693         0.359881        0.001552                7  "
      ]
     },
     "execution_count": 88,
     "metadata": {},
     "output_type": "execute_result"
    }
   ],
   "source": [
    "down_df = pd.DataFrame(down_fitgrid.cv_results_)\n",
    "down_df"
   ]
  },
  {
   "cell_type": "code",
   "execution_count": 32,
   "id": "d213d46d",
   "metadata": {
    "scrolled": true
   },
   "outputs": [
    {
     "data": {
      "text/html": [
       "<style>#sk-container-id-6 {color: black;background-color: white;}#sk-container-id-6 pre{padding: 0;}#sk-container-id-6 div.sk-toggleable {background-color: white;}#sk-container-id-6 label.sk-toggleable__label {cursor: pointer;display: block;width: 100%;margin-bottom: 0;padding: 0.3em;box-sizing: border-box;text-align: center;}#sk-container-id-6 label.sk-toggleable__label-arrow:before {content: \"▸\";float: left;margin-right: 0.25em;color: #696969;}#sk-container-id-6 label.sk-toggleable__label-arrow:hover:before {color: black;}#sk-container-id-6 div.sk-estimator:hover label.sk-toggleable__label-arrow:before {color: black;}#sk-container-id-6 div.sk-toggleable__content {max-height: 0;max-width: 0;overflow: hidden;text-align: left;background-color: #f0f8ff;}#sk-container-id-6 div.sk-toggleable__content pre {margin: 0.2em;color: black;border-radius: 0.25em;background-color: #f0f8ff;}#sk-container-id-6 input.sk-toggleable__control:checked~div.sk-toggleable__content {max-height: 200px;max-width: 100%;overflow: auto;}#sk-container-id-6 input.sk-toggleable__control:checked~label.sk-toggleable__label-arrow:before {content: \"▾\";}#sk-container-id-6 div.sk-estimator input.sk-toggleable__control:checked~label.sk-toggleable__label {background-color: #d4ebff;}#sk-container-id-6 div.sk-label input.sk-toggleable__control:checked~label.sk-toggleable__label {background-color: #d4ebff;}#sk-container-id-6 input.sk-hidden--visually {border: 0;clip: rect(1px 1px 1px 1px);clip: rect(1px, 1px, 1px, 1px);height: 1px;margin: -1px;overflow: hidden;padding: 0;position: absolute;width: 1px;}#sk-container-id-6 div.sk-estimator {font-family: monospace;background-color: #f0f8ff;border: 1px dotted black;border-radius: 0.25em;box-sizing: border-box;margin-bottom: 0.5em;}#sk-container-id-6 div.sk-estimator:hover {background-color: #d4ebff;}#sk-container-id-6 div.sk-parallel-item::after {content: \"\";width: 100%;border-bottom: 1px solid gray;flex-grow: 1;}#sk-container-id-6 div.sk-label:hover label.sk-toggleable__label {background-color: #d4ebff;}#sk-container-id-6 div.sk-serial::before {content: \"\";position: absolute;border-left: 1px solid gray;box-sizing: border-box;top: 0;bottom: 0;left: 50%;z-index: 0;}#sk-container-id-6 div.sk-serial {display: flex;flex-direction: column;align-items: center;background-color: white;padding-right: 0.2em;padding-left: 0.2em;position: relative;}#sk-container-id-6 div.sk-item {position: relative;z-index: 1;}#sk-container-id-6 div.sk-parallel {display: flex;align-items: stretch;justify-content: center;background-color: white;position: relative;}#sk-container-id-6 div.sk-item::before, #sk-container-id-6 div.sk-parallel-item::before {content: \"\";position: absolute;border-left: 1px solid gray;box-sizing: border-box;top: 0;bottom: 0;left: 50%;z-index: -1;}#sk-container-id-6 div.sk-parallel-item {display: flex;flex-direction: column;z-index: 1;position: relative;background-color: white;}#sk-container-id-6 div.sk-parallel-item:first-child::after {align-self: flex-end;width: 50%;}#sk-container-id-6 div.sk-parallel-item:last-child::after {align-self: flex-start;width: 50%;}#sk-container-id-6 div.sk-parallel-item:only-child::after {width: 0;}#sk-container-id-6 div.sk-dashed-wrapped {border: 1px dashed gray;margin: 0 0.4em 0.5em 0.4em;box-sizing: border-box;padding-bottom: 0.4em;background-color: white;}#sk-container-id-6 div.sk-label label {font-family: monospace;font-weight: bold;display: inline-block;line-height: 1.2em;}#sk-container-id-6 div.sk-label-container {text-align: center;}#sk-container-id-6 div.sk-container {/* jupyter's `normalize.less` sets `[hidden] { display: none; }` but bootstrap.min.css set `[hidden] { display: none !important; }` so we also need the `!important` here to be able to override the default hidden behavior on the sphinx rendered scikit-learn.org. See: https://github.com/scikit-learn/scikit-learn/issues/21755 */display: inline-block !important;position: relative;}#sk-container-id-6 div.sk-text-repr-fallback {display: none;}</style><div id=\"sk-container-id-6\" class=\"sk-top-container\"><div class=\"sk-text-repr-fallback\"><pre>Pipeline(steps=[(&#x27;normalise&#x27;, StandardScaler()),\n",
       "                (&#x27;model&#x27;, LogisticRegression(C=0.1))])</pre><b>In a Jupyter environment, please rerun this cell to show the HTML representation or trust the notebook. <br />On GitHub, the HTML representation is unable to render, please try loading this page with nbviewer.org.</b></div><div class=\"sk-container\" hidden><div class=\"sk-item sk-dashed-wrapped\"><div class=\"sk-label-container\"><div class=\"sk-label sk-toggleable\"><input class=\"sk-toggleable__control sk-hidden--visually\" id=\"sk-estimator-id-10\" type=\"checkbox\" ><label for=\"sk-estimator-id-10\" class=\"sk-toggleable__label sk-toggleable__label-arrow\">Pipeline</label><div class=\"sk-toggleable__content\"><pre>Pipeline(steps=[(&#x27;normalise&#x27;, StandardScaler()),\n",
       "                (&#x27;model&#x27;, LogisticRegression(C=0.1))])</pre></div></div></div><div class=\"sk-serial\"><div class=\"sk-item\"><div class=\"sk-estimator sk-toggleable\"><input class=\"sk-toggleable__control sk-hidden--visually\" id=\"sk-estimator-id-11\" type=\"checkbox\" ><label for=\"sk-estimator-id-11\" class=\"sk-toggleable__label sk-toggleable__label-arrow\">StandardScaler</label><div class=\"sk-toggleable__content\"><pre>StandardScaler()</pre></div></div></div><div class=\"sk-item\"><div class=\"sk-estimator sk-toggleable\"><input class=\"sk-toggleable__control sk-hidden--visually\" id=\"sk-estimator-id-12\" type=\"checkbox\" ><label for=\"sk-estimator-id-12\" class=\"sk-toggleable__label sk-toggleable__label-arrow\">LogisticRegression</label><div class=\"sk-toggleable__content\"><pre>LogisticRegression(C=0.1)</pre></div></div></div></div></div></div></div>"
      ],
      "text/plain": [
       "Pipeline(steps=[('normalise', StandardScaler()),\n",
       "                ('model', LogisticRegression(C=0.1))])"
      ]
     },
     "execution_count": 32,
     "metadata": {},
     "output_type": "execute_result"
    }
   ],
   "source": [
    "down_fitgrid.best_estimator_"
   ]
  },
  {
   "cell_type": "markdown",
   "id": "dbf9937e",
   "metadata": {},
   "source": [
    "The best model is normalized using Standard Scaler and has a C value of 0.1. Re-run the Logistic Regression model using Standard Scaler and C=0.1 to produce the confusion matrix and the precision, recall and f1-scores."
   ]
  },
  {
   "cell_type": "code",
   "execution_count": 34,
   "id": "a3172486",
   "metadata": {},
   "outputs": [
    {
     "data": {
      "text/html": [
       "<style>#sk-container-id-7 {color: black;background-color: white;}#sk-container-id-7 pre{padding: 0;}#sk-container-id-7 div.sk-toggleable {background-color: white;}#sk-container-id-7 label.sk-toggleable__label {cursor: pointer;display: block;width: 100%;margin-bottom: 0;padding: 0.3em;box-sizing: border-box;text-align: center;}#sk-container-id-7 label.sk-toggleable__label-arrow:before {content: \"▸\";float: left;margin-right: 0.25em;color: #696969;}#sk-container-id-7 label.sk-toggleable__label-arrow:hover:before {color: black;}#sk-container-id-7 div.sk-estimator:hover label.sk-toggleable__label-arrow:before {color: black;}#sk-container-id-7 div.sk-toggleable__content {max-height: 0;max-width: 0;overflow: hidden;text-align: left;background-color: #f0f8ff;}#sk-container-id-7 div.sk-toggleable__content pre {margin: 0.2em;color: black;border-radius: 0.25em;background-color: #f0f8ff;}#sk-container-id-7 input.sk-toggleable__control:checked~div.sk-toggleable__content {max-height: 200px;max-width: 100%;overflow: auto;}#sk-container-id-7 input.sk-toggleable__control:checked~label.sk-toggleable__label-arrow:before {content: \"▾\";}#sk-container-id-7 div.sk-estimator input.sk-toggleable__control:checked~label.sk-toggleable__label {background-color: #d4ebff;}#sk-container-id-7 div.sk-label input.sk-toggleable__control:checked~label.sk-toggleable__label {background-color: #d4ebff;}#sk-container-id-7 input.sk-hidden--visually {border: 0;clip: rect(1px 1px 1px 1px);clip: rect(1px, 1px, 1px, 1px);height: 1px;margin: -1px;overflow: hidden;padding: 0;position: absolute;width: 1px;}#sk-container-id-7 div.sk-estimator {font-family: monospace;background-color: #f0f8ff;border: 1px dotted black;border-radius: 0.25em;box-sizing: border-box;margin-bottom: 0.5em;}#sk-container-id-7 div.sk-estimator:hover {background-color: #d4ebff;}#sk-container-id-7 div.sk-parallel-item::after {content: \"\";width: 100%;border-bottom: 1px solid gray;flex-grow: 1;}#sk-container-id-7 div.sk-label:hover label.sk-toggleable__label {background-color: #d4ebff;}#sk-container-id-7 div.sk-serial::before {content: \"\";position: absolute;border-left: 1px solid gray;box-sizing: border-box;top: 0;bottom: 0;left: 50%;z-index: 0;}#sk-container-id-7 div.sk-serial {display: flex;flex-direction: column;align-items: center;background-color: white;padding-right: 0.2em;padding-left: 0.2em;position: relative;}#sk-container-id-7 div.sk-item {position: relative;z-index: 1;}#sk-container-id-7 div.sk-parallel {display: flex;align-items: stretch;justify-content: center;background-color: white;position: relative;}#sk-container-id-7 div.sk-item::before, #sk-container-id-7 div.sk-parallel-item::before {content: \"\";position: absolute;border-left: 1px solid gray;box-sizing: border-box;top: 0;bottom: 0;left: 50%;z-index: -1;}#sk-container-id-7 div.sk-parallel-item {display: flex;flex-direction: column;z-index: 1;position: relative;background-color: white;}#sk-container-id-7 div.sk-parallel-item:first-child::after {align-self: flex-end;width: 50%;}#sk-container-id-7 div.sk-parallel-item:last-child::after {align-self: flex-start;width: 50%;}#sk-container-id-7 div.sk-parallel-item:only-child::after {width: 0;}#sk-container-id-7 div.sk-dashed-wrapped {border: 1px dashed gray;margin: 0 0.4em 0.5em 0.4em;box-sizing: border-box;padding-bottom: 0.4em;background-color: white;}#sk-container-id-7 div.sk-label label {font-family: monospace;font-weight: bold;display: inline-block;line-height: 1.2em;}#sk-container-id-7 div.sk-label-container {text-align: center;}#sk-container-id-7 div.sk-container {/* jupyter's `normalize.less` sets `[hidden] { display: none; }` but bootstrap.min.css set `[hidden] { display: none !important; }` so we also need the `!important` here to be able to override the default hidden behavior on the sphinx rendered scikit-learn.org. See: https://github.com/scikit-learn/scikit-learn/issues/21755 */display: inline-block !important;position: relative;}#sk-container-id-7 div.sk-text-repr-fallback {display: none;}</style><div id=\"sk-container-id-7\" class=\"sk-top-container\"><div class=\"sk-text-repr-fallback\"><pre>LogisticRegression(C=0.1, max_iter=10000, random_state=10)</pre><b>In a Jupyter environment, please rerun this cell to show the HTML representation or trust the notebook. <br />On GitHub, the HTML representation is unable to render, please try loading this page with nbviewer.org.</b></div><div class=\"sk-container\" hidden><div class=\"sk-item\"><div class=\"sk-estimator sk-toggleable\"><input class=\"sk-toggleable__control sk-hidden--visually\" id=\"sk-estimator-id-13\" type=\"checkbox\" checked><label for=\"sk-estimator-id-13\" class=\"sk-toggleable__label sk-toggleable__label-arrow\">LogisticRegression</label><div class=\"sk-toggleable__content\"><pre>LogisticRegression(C=0.1, max_iter=10000, random_state=10)</pre></div></div></div></div></div>"
      ],
      "text/plain": [
       "LogisticRegression(C=0.1, max_iter=10000, random_state=10)"
      ]
     },
     "execution_count": 34,
     "metadata": {},
     "output_type": "execute_result"
    }
   ],
   "source": [
    "#Model with downsampled scaled data\n",
    "\n",
    "# Scale the downsampled data\n",
    "# instantiate the scaler\n",
    "scaler = StandardScaler()\n",
    "\n",
    "# fit the scaler on X_train_down data\n",
    "scaler .fit(X_train_down)\n",
    "\n",
    "# transform X_train_down and X_validation\n",
    "X_train_down_s = scaler.transform(X_train_down)\n",
    "X_validation_s = scaler.transform(X_validation)\n",
    "\n",
    "#instantiate the model\n",
    "LR_model_down = LogisticRegression(solver = 'lbfgs', random_state = 10, max_iter = 10000, C = 0.1)\n",
    "\n",
    "# fit the model on the downsampled X_train_down and y_train_down data sets\n",
    "LR_model_down.fit(X_train_down_s, y_train_down)"
   ]
  },
  {
   "cell_type": "code",
   "execution_count": 35,
   "id": "4a909cf0",
   "metadata": {},
   "outputs": [
    {
     "name": "stdout",
     "output_type": "stream",
     "text": [
      "Training score:  0.4506979746631163\n",
      "Validation score:  0.5099874916547082\n"
     ]
    }
   ],
   "source": [
    "# Score on the training data \n",
    "print(\"Training score: \", LR_model_down.score(X_train_down_s, y_train_down))\n",
    "\n",
    "# Score on the validation data\n",
    "print(\"Validation score: \", LR_model_down.score(X_validation_s, y_validation))"
   ]
  },
  {
   "cell_type": "markdown",
   "id": "89791974",
   "metadata": {},
   "source": [
    "The accuracy scores for the downsampled data are low, and the validation sets have scored higher than the training sets. But I need to compare the results of the confusion matrix and classification report."
   ]
  },
  {
   "cell_type": "code",
   "execution_count": 36,
   "id": "57425e5b",
   "metadata": {
    "scrolled": false
   },
   "outputs": [
    {
     "name": "stderr",
     "output_type": "stream",
     "text": [
      "/Users/stephgolob/opt/anaconda3/lib/python3.9/site-packages/sklearn/utils/deprecation.py:87: FutureWarning: Function plot_confusion_matrix is deprecated; Function `plot_confusion_matrix` is deprecated in 1.0 and will be removed in 1.2. Use one of the class methods: ConfusionMatrixDisplay.from_predictions or ConfusionMatrixDisplay.from_estimator.\n",
      "  warnings.warn(msg, category=FutureWarning)\n"
     ]
    },
    {
     "data": {
      "image/png": "[encoded data removed]",
      "text/plain": [
       "<Figure size 432x288 with 2 Axes>"
      ]
     },
     "metadata": {
      "needs_background": "light"
     },
     "output_type": "display_data"
    }
   ],
   "source": [
    "plot_confusion_matrix(LR_model_down, X_validation_s, y_validation)\n",
    "plt.title(\"Downsampled Confusion Matrix\");"
   ]
  },
  {
   "cell_type": "markdown",
   "id": "5827eaa9",
   "metadata": {},
   "source": [
    "The model improves at predicting classes 2 and 3 using scaled downsampled data, but as with the upsampled data it also performs worse for class 1."
   ]
  },
  {
   "cell_type": "code",
   "execution_count": 37,
   "id": "f842a82a",
   "metadata": {},
   "outputs": [],
   "source": [
    "y_predictions_down = LR_model_down.predict(X_validation_s)"
   ]
  },
  {
   "cell_type": "code",
   "execution_count": 38,
   "id": "81a354f7",
   "metadata": {
    "scrolled": false
   },
   "outputs": [
    {
     "name": "stdout",
     "output_type": "stream",
     "text": [
      "              precision    recall  f1-score   support\n",
      "\n",
      "           1       0.84      0.55      0.66     97345\n",
      "           2       0.28      0.39      0.32     25886\n",
      "           3       0.09      0.40      0.15      7082\n",
      "\n",
      "    accuracy                           0.51    130313\n",
      "   macro avg       0.40      0.45      0.38    130313\n",
      "weighted avg       0.69      0.51      0.57    130313\n",
      "\n"
     ]
    }
   ],
   "source": [
    "report_down = classification_report(y_validation, y_predictions_down)\n",
    "print(report_down)"
   ]
  },
  {
   "cell_type": "markdown",
   "id": "fcc2c1f1",
   "metadata": {},
   "source": [
    "Precision and recall scores have improved for classes 2 and 3, recall has decreased for class 1. The f1-scores are the same as for the upsampled data."
   ]
  },
  {
   "cell_type": "markdown",
   "id": "8707d4b7",
   "metadata": {},
   "source": [
    "---"
   ]
  },
  {
   "cell_type": "markdown",
   "id": "6baef686",
   "metadata": {},
   "source": [
    "### SMOTEN Upsampled Data"
   ]
  },
  {
   "cell_type": "markdown",
   "id": "9fbe3d48",
   "metadata": {},
   "source": [
    "Read in the SMOTEN upsampled X_train and y_train data."
   ]
  },
  {
   "cell_type": "code",
   "execution_count": 39,
   "id": "b7220ddd",
   "metadata": {},
   "outputs": [],
   "source": [
    "X_train_smote = pd.read_pickle(\"data/X_train_smote.pkl\")\n",
    "y_train_smote = pd.read_pickle(\"data/y_train_smote.pkl\")"
   ]
  },
  {
   "cell_type": "code",
   "execution_count": 40,
   "id": "a60a8c3c",
   "metadata": {
    "scrolled": true
   },
   "outputs": [
    {
     "name": "stdout",
     "output_type": "stream",
     "text": [
      "Fitting 5 folds for each of 12 candidates, totalling 60 fits\n",
      "[CV] END model=LogisticRegression(), model__C=0.001, normalise=StandardScaler(); total time=   1.4s\n",
      "[CV] END model=LogisticRegression(), model__C=0.001, normalise=StandardScaler(); total time=   1.4s\n",
      "[CV] END model=LogisticRegression(), model__C=0.001, normalise=StandardScaler(); total time=   1.4s\n",
      "[CV] END model=LogisticRegression(), model__C=0.001, normalise=StandardScaler(); total time=   1.4s\n",
      "[CV] END model=LogisticRegression(), model__C=0.001, normalise=StandardScaler(); total time=   1.4s\n",
      "[CV] END model=LogisticRegression(), model__C=0.001, normalise=None; total time=   2.0s\n",
      "[CV] END model=LogisticRegression(), model__C=0.001, normalise=None; total time=   2.0s\n",
      "[CV] END model=LogisticRegression(), model__C=0.001, normalise=None; total time=   2.1s\n",
      "[CV] END model=LogisticRegression(), model__C=0.001, normalise=None; total time=   2.0s\n",
      "[CV] END model=LogisticRegression(), model__C=0.001, normalise=None; total time=   2.0s\n",
      "[CV] END model=LogisticRegression(), model__C=0.01, normalise=StandardScaler(); total time=   1.4s\n",
      "[CV] END model=LogisticRegression(), model__C=0.01, normalise=StandardScaler(); total time=   1.4s\n",
      "[CV] END model=LogisticRegression(), model__C=0.01, normalise=StandardScaler(); total time=   1.4s\n",
      "[CV] END model=LogisticRegression(), model__C=0.01, normalise=StandardScaler(); total time=   1.4s\n",
      "[CV] END model=LogisticRegression(), model__C=0.01, normalise=StandardScaler(); total time=   1.4s\n",
      "[CV] END model=LogisticRegression(), model__C=0.01, normalise=None; total time=   2.0s\n",
      "[CV] END model=LogisticRegression(), model__C=0.01, normalise=None; total time=   2.0s\n",
      "[CV] END model=LogisticRegression(), model__C=0.01, normalise=None; total time=   2.0s\n",
      "[CV] END model=LogisticRegression(), model__C=0.01, normalise=None; total time=   2.0s\n",
      "[CV] END model=LogisticRegression(), model__C=0.01, normalise=None; total time=   2.0s\n",
      "[CV] END model=LogisticRegression(), model__C=0.1, normalise=StandardScaler(); total time=   1.4s\n",
      "[CV] END model=LogisticRegression(), model__C=0.1, normalise=StandardScaler(); total time=   1.4s\n",
      "[CV] END model=LogisticRegression(), model__C=0.1, normalise=StandardScaler(); total time=   1.4s\n",
      "[CV] END model=LogisticRegression(), model__C=0.1, normalise=StandardScaler(); total time=   1.4s\n",
      "[CV] END model=LogisticRegression(), model__C=0.1, normalise=StandardScaler(); total time=   1.4s\n",
      "[CV] END model=LogisticRegression(), model__C=0.1, normalise=None; total time=   2.1s\n",
      "[CV] END model=LogisticRegression(), model__C=0.1, normalise=None; total time=   2.1s\n",
      "[CV] END model=LogisticRegression(), model__C=0.1, normalise=None; total time=   2.0s\n",
      "[CV] END model=LogisticRegression(), model__C=0.1, normalise=None; total time=   2.0s\n",
      "[CV] END model=LogisticRegression(), model__C=0.1, normalise=None; total time=   2.0s\n",
      "[CV] END model=LogisticRegression(), model__C=1, normalise=StandardScaler(); total time=   1.4s\n",
      "[CV] END model=LogisticRegression(), model__C=1, normalise=StandardScaler(); total time=   1.4s\n",
      "[CV] END model=LogisticRegression(), model__C=1, normalise=StandardScaler(); total time=   1.4s\n",
      "[CV] END model=LogisticRegression(), model__C=1, normalise=StandardScaler(); total time=   1.4s\n",
      "[CV] END model=LogisticRegression(), model__C=1, normalise=StandardScaler(); total time=   1.4s\n",
      "[CV] END model=LogisticRegression(), model__C=1, normalise=None; total time=   2.0s\n",
      "[CV] END model=LogisticRegression(), model__C=1, normalise=None; total time=   2.1s\n",
      "[CV] END model=LogisticRegression(), model__C=1, normalise=None; total time=   2.1s\n",
      "[CV] END model=LogisticRegression(), model__C=1, normalise=None; total time=   2.0s\n",
      "[CV] END model=LogisticRegression(), model__C=1, normalise=None; total time=   2.0s\n",
      "[CV] END model=LogisticRegression(), model__C=10, normalise=StandardScaler(); total time=   1.4s\n",
      "[CV] END model=LogisticRegression(), model__C=10, normalise=StandardScaler(); total time=   1.4s\n",
      "[CV] END model=LogisticRegression(), model__C=10, normalise=StandardScaler(); total time=   1.4s\n",
      "[CV] END model=LogisticRegression(), model__C=10, normalise=StandardScaler(); total time=   1.4s\n",
      "[CV] END model=LogisticRegression(), model__C=10, normalise=StandardScaler(); total time=   1.4s\n",
      "[CV] END model=LogisticRegression(), model__C=10, normalise=None; total time=   2.1s\n",
      "[CV] END model=LogisticRegression(), model__C=10, normalise=None; total time=   2.0s\n",
      "[CV] END model=LogisticRegression(), model__C=10, normalise=None; total time=   2.0s\n",
      "[CV] END model=LogisticRegression(), model__C=10, normalise=None; total time=   2.0s\n",
      "[CV] END model=LogisticRegression(), model__C=10, normalise=None; total time=   2.0s\n",
      "[CV] END model=LogisticRegression(), model__C=100, normalise=StandardScaler(); total time=   1.4s\n",
      "[CV] END model=LogisticRegression(), model__C=100, normalise=StandardScaler(); total time=   1.4s\n",
      "[CV] END model=LogisticRegression(), model__C=100, normalise=StandardScaler(); total time=   1.4s\n",
      "[CV] END model=LogisticRegression(), model__C=100, normalise=StandardScaler(); total time=   1.4s\n",
      "[CV] END model=LogisticRegression(), model__C=100, normalise=StandardScaler(); total time=   1.4s\n",
      "[CV] END model=LogisticRegression(), model__C=100, normalise=None; total time=   2.0s\n",
      "[CV] END model=LogisticRegression(), model__C=100, normalise=None; total time=   2.1s\n",
      "[CV] END model=LogisticRegression(), model__C=100, normalise=None; total time=   2.1s\n",
      "[CV] END model=LogisticRegression(), model__C=100, normalise=None; total time=   2.0s\n",
      "[CV] END model=LogisticRegression(), model__C=100, normalise=None; total time=   2.0s\n"
     ]
    }
   ],
   "source": [
    "# store estimators\n",
    "estimators = [('normalise', StandardScaler()),\n",
    "              ('model', LogisticRegression())]\n",
    "\n",
    "# instantiate pipeline\n",
    "pipe = Pipeline(estimators)\n",
    "\n",
    "# create parameters for gridsearch\n",
    "parameters = [\n",
    "            {'model': [LogisticRegression()], \n",
    "             'normalise': [StandardScaler(), None],\n",
    "             'model__C': [0.001, 0.01, 0.1, 1, 10, 100]}\n",
    "]\n",
    "\n",
    "#instantiate gridsearch\n",
    "smote_grid = GridSearchCV(pipe, parameters, cv = 5, verbose = 2)\n",
    "\n",
    "# fit the grid on the upsampled X_train and y_train data\n",
    "smote_fitgrid = smote_grid.fit(X_train_smote, y_train_smote)"
   ]
  },
  {
   "cell_type": "markdown",
   "id": "03539f58",
   "metadata": {},
   "source": [
    "Save the grid output using `dump` from the joblib library."
   ]
  },
  {
   "cell_type": "code",
   "execution_count": 41,
   "id": "599fe8cf",
   "metadata": {},
   "outputs": [
    {
     "data": {
      "text/plain": [
       "['LR_smote_grid.pkl']"
      ]
     },
     "execution_count": 41,
     "metadata": {},
     "output_type": "execute_result"
    }
   ],
   "source": [
    "# select the output to save and give it a name\n",
    "# saves as a .pkl file\n",
    "\n",
    "joblib.dump(smote_fitgrid, 'LR_smote_grid.pkl')"
   ]
  },
  {
   "cell_type": "markdown",
   "id": "6f8a58f8",
   "metadata": {},
   "source": [
    "The grid has fit on X_train_smote and y_train_smote. \n",
    "\n",
    "The results of the gridsearch can be saved in a dataframe using `cv_results` to get the grid outputs."
   ]
  },
  {
   "cell_type": "code",
   "execution_count": 89,
   "id": "42271b7e",
   "metadata": {},
   "outputs": [
    {
     "data": {
      "text/html": [
       "<div>\n",
       "<style scoped>\n",
       "    .dataframe tbody tr th:only-of-type {\n",
       "        vertical-align: middle;\n",
       "    }\n",
       "\n",
       "    .dataframe tbody tr th {\n",
       "        vertical-align: top;\n",
       "    }\n",
       "\n",
       "    .dataframe thead th {\n",
       "        text-align: right;\n",
       "    }\n",
       "</style>\n",
       "<table border=\"1\" class=\"dataframe\">\n",
       "  <thead>\n",
       "    <tr style=\"text-align: right;\">\n",
       "      <th></th>\n",
       "      <th>mean_fit_time</th>\n",
       "      <th>std_fit_time</th>\n",
       "      <th>mean_score_time</th>\n",
       "      <th>std_score_time</th>\n",
       "      <th>param_model</th>\n",
       "      <th>param_model__C</th>\n",
       "      <th>param_normalise</th>\n",
       "      <th>params</th>\n",
       "      <th>split0_test_score</th>\n",
       "      <th>split1_test_score</th>\n",
       "      <th>split2_test_score</th>\n",
       "      <th>split3_test_score</th>\n",
       "      <th>split4_test_score</th>\n",
       "      <th>mean_test_score</th>\n",
       "      <th>std_test_score</th>\n",
       "      <th>rank_test_score</th>\n",
       "    </tr>\n",
       "  </thead>\n",
       "  <tbody>\n",
       "    <tr>\n",
       "      <th>0</th>\n",
       "      <td>1.276503</td>\n",
       "      <td>0.005240</td>\n",
       "      <td>0.120918</td>\n",
       "      <td>0.002090</td>\n",
       "      <td>LogisticRegression(C=0.01)</td>\n",
       "      <td>0.001</td>\n",
       "      <td>StandardScaler()</td>\n",
       "      <td>{'model': LogisticRegression(C=0.01), 'model__...</td>\n",
       "      <td>0.438393</td>\n",
       "      <td>0.453296</td>\n",
       "      <td>0.440935</td>\n",
       "      <td>0.456704</td>\n",
       "      <td>0.459999</td>\n",
       "      <td>0.449866</td>\n",
       "      <td>0.008632</td>\n",
       "      <td>6</td>\n",
       "    </tr>\n",
       "    <tr>\n",
       "      <th>1</th>\n",
       "      <td>1.896673</td>\n",
       "      <td>0.037494</td>\n",
       "      <td>0.118360</td>\n",
       "      <td>0.000816</td>\n",
       "      <td>LogisticRegression(C=0.01)</td>\n",
       "      <td>0.001</td>\n",
       "      <td>None</td>\n",
       "      <td>{'model': LogisticRegression(C=0.01), 'model__...</td>\n",
       "      <td>0.359404</td>\n",
       "      <td>0.359022</td>\n",
       "      <td>0.360346</td>\n",
       "      <td>0.361043</td>\n",
       "      <td>0.362848</td>\n",
       "      <td>0.360533</td>\n",
       "      <td>0.001357</td>\n",
       "      <td>7</td>\n",
       "    </tr>\n",
       "    <tr>\n",
       "      <th>2</th>\n",
       "      <td>1.283096</td>\n",
       "      <td>0.006620</td>\n",
       "      <td>0.120380</td>\n",
       "      <td>0.002075</td>\n",
       "      <td>LogisticRegression(C=0.01)</td>\n",
       "      <td>0.01</td>\n",
       "      <td>StandardScaler()</td>\n",
       "      <td>{'model': LogisticRegression(C=0.01), 'model__...</td>\n",
       "      <td>0.438591</td>\n",
       "      <td>0.453252</td>\n",
       "      <td>0.441097</td>\n",
       "      <td>0.456763</td>\n",
       "      <td>0.459903</td>\n",
       "      <td>0.449921</td>\n",
       "      <td>0.008530</td>\n",
       "      <td>1</td>\n",
       "    </tr>\n",
       "    <tr>\n",
       "      <th>3</th>\n",
       "      <td>1.893115</td>\n",
       "      <td>0.036350</td>\n",
       "      <td>0.118313</td>\n",
       "      <td>0.000950</td>\n",
       "      <td>LogisticRegression(C=0.01)</td>\n",
       "      <td>0.01</td>\n",
       "      <td>None</td>\n",
       "      <td>{'model': LogisticRegression(C=0.01), 'model__...</td>\n",
       "      <td>0.359404</td>\n",
       "      <td>0.359022</td>\n",
       "      <td>0.360346</td>\n",
       "      <td>0.361043</td>\n",
       "      <td>0.362848</td>\n",
       "      <td>0.360533</td>\n",
       "      <td>0.001357</td>\n",
       "      <td>7</td>\n",
       "    </tr>\n",
       "    <tr>\n",
       "      <th>4</th>\n",
       "      <td>1.283079</td>\n",
       "      <td>0.007345</td>\n",
       "      <td>0.120539</td>\n",
       "      <td>0.001553</td>\n",
       "      <td>LogisticRegression(C=0.01)</td>\n",
       "      <td>0.1</td>\n",
       "      <td>StandardScaler()</td>\n",
       "      <td>{'model': LogisticRegression(C=0.01), 'model__...</td>\n",
       "      <td>0.438555</td>\n",
       "      <td>0.453252</td>\n",
       "      <td>0.441023</td>\n",
       "      <td>0.456777</td>\n",
       "      <td>0.459903</td>\n",
       "      <td>0.449902</td>\n",
       "      <td>0.008557</td>\n",
       "      <td>2</td>\n",
       "    </tr>\n",
       "    <tr>\n",
       "      <th>5</th>\n",
       "      <td>1.900658</td>\n",
       "      <td>0.032203</td>\n",
       "      <td>0.119618</td>\n",
       "      <td>0.000848</td>\n",
       "      <td>LogisticRegression(C=0.01)</td>\n",
       "      <td>0.1</td>\n",
       "      <td>None</td>\n",
       "      <td>{'model': LogisticRegression(C=0.01), 'model__...</td>\n",
       "      <td>0.359404</td>\n",
       "      <td>0.359022</td>\n",
       "      <td>0.360346</td>\n",
       "      <td>0.361043</td>\n",
       "      <td>0.362848</td>\n",
       "      <td>0.360533</td>\n",
       "      <td>0.001357</td>\n",
       "      <td>7</td>\n",
       "    </tr>\n",
       "    <tr>\n",
       "      <th>6</th>\n",
       "      <td>1.287644</td>\n",
       "      <td>0.005317</td>\n",
       "      <td>0.122274</td>\n",
       "      <td>0.001109</td>\n",
       "      <td>LogisticRegression(C=0.01)</td>\n",
       "      <td>1</td>\n",
       "      <td>StandardScaler()</td>\n",
       "      <td>{'model': LogisticRegression(C=0.01), 'model__...</td>\n",
       "      <td>0.438555</td>\n",
       "      <td>0.453252</td>\n",
       "      <td>0.441023</td>\n",
       "      <td>0.456770</td>\n",
       "      <td>0.459903</td>\n",
       "      <td>0.449901</td>\n",
       "      <td>0.008556</td>\n",
       "      <td>3</td>\n",
       "    </tr>\n",
       "    <tr>\n",
       "      <th>7</th>\n",
       "      <td>1.930786</td>\n",
       "      <td>0.033374</td>\n",
       "      <td>0.118260</td>\n",
       "      <td>0.000999</td>\n",
       "      <td>LogisticRegression(C=0.01)</td>\n",
       "      <td>1</td>\n",
       "      <td>None</td>\n",
       "      <td>{'model': LogisticRegression(C=0.01), 'model__...</td>\n",
       "      <td>0.359404</td>\n",
       "      <td>0.359022</td>\n",
       "      <td>0.360346</td>\n",
       "      <td>0.361043</td>\n",
       "      <td>0.362848</td>\n",
       "      <td>0.360533</td>\n",
       "      <td>0.001357</td>\n",
       "      <td>7</td>\n",
       "    </tr>\n",
       "    <tr>\n",
       "      <th>8</th>\n",
       "      <td>1.289866</td>\n",
       "      <td>0.006247</td>\n",
       "      <td>0.121061</td>\n",
       "      <td>0.001374</td>\n",
       "      <td>LogisticRegression(C=0.01)</td>\n",
       "      <td>10</td>\n",
       "      <td>StandardScaler()</td>\n",
       "      <td>{'model': LogisticRegression(C=0.01), 'model__...</td>\n",
       "      <td>0.438555</td>\n",
       "      <td>0.453252</td>\n",
       "      <td>0.441023</td>\n",
       "      <td>0.456770</td>\n",
       "      <td>0.459903</td>\n",
       "      <td>0.449901</td>\n",
       "      <td>0.008556</td>\n",
       "      <td>3</td>\n",
       "    </tr>\n",
       "    <tr>\n",
       "      <th>9</th>\n",
       "      <td>1.906269</td>\n",
       "      <td>0.041631</td>\n",
       "      <td>0.117312</td>\n",
       "      <td>0.001876</td>\n",
       "      <td>LogisticRegression(C=0.01)</td>\n",
       "      <td>10</td>\n",
       "      <td>None</td>\n",
       "      <td>{'model': LogisticRegression(C=0.01), 'model__...</td>\n",
       "      <td>0.359404</td>\n",
       "      <td>0.359022</td>\n",
       "      <td>0.360346</td>\n",
       "      <td>0.361043</td>\n",
       "      <td>0.362848</td>\n",
       "      <td>0.360533</td>\n",
       "      <td>0.001357</td>\n",
       "      <td>7</td>\n",
       "    </tr>\n",
       "    <tr>\n",
       "      <th>10</th>\n",
       "      <td>1.289167</td>\n",
       "      <td>0.005938</td>\n",
       "      <td>0.121668</td>\n",
       "      <td>0.002631</td>\n",
       "      <td>LogisticRegression(C=0.01)</td>\n",
       "      <td>100</td>\n",
       "      <td>StandardScaler()</td>\n",
       "      <td>{'model': LogisticRegression(C=0.01), 'model__...</td>\n",
       "      <td>0.438555</td>\n",
       "      <td>0.453252</td>\n",
       "      <td>0.441023</td>\n",
       "      <td>0.456770</td>\n",
       "      <td>0.459903</td>\n",
       "      <td>0.449901</td>\n",
       "      <td>0.008556</td>\n",
       "      <td>3</td>\n",
       "    </tr>\n",
       "    <tr>\n",
       "      <th>11</th>\n",
       "      <td>1.903962</td>\n",
       "      <td>0.041788</td>\n",
       "      <td>0.115896</td>\n",
       "      <td>0.001693</td>\n",
       "      <td>LogisticRegression(C=0.01)</td>\n",
       "      <td>100</td>\n",
       "      <td>None</td>\n",
       "      <td>{'model': LogisticRegression(C=0.01), 'model__...</td>\n",
       "      <td>0.359404</td>\n",
       "      <td>0.359022</td>\n",
       "      <td>0.360346</td>\n",
       "      <td>0.361043</td>\n",
       "      <td>0.362848</td>\n",
       "      <td>0.360533</td>\n",
       "      <td>0.001357</td>\n",
       "      <td>7</td>\n",
       "    </tr>\n",
       "  </tbody>\n",
       "</table>\n",
       "</div>"
      ],
      "text/plain": [
       "    mean_fit_time  std_fit_time  mean_score_time  std_score_time  \\\n",
       "0        1.276503      0.005240         0.120918        0.002090   \n",
       "1        1.896673      0.037494         0.118360        0.000816   \n",
       "2        1.283096      0.006620         0.120380        0.002075   \n",
       "3        1.893115      0.036350         0.118313        0.000950   \n",
       "4        1.283079      0.007345         0.120539        0.001553   \n",
       "5        1.900658      0.032203         0.119618        0.000848   \n",
       "6        1.287644      0.005317         0.122274        0.001109   \n",
       "7        1.930786      0.033374         0.118260        0.000999   \n",
       "8        1.289866      0.006247         0.121061        0.001374   \n",
       "9        1.906269      0.041631         0.117312        0.001876   \n",
       "10       1.289167      0.005938         0.121668        0.002631   \n",
       "11       1.903962      0.041788         0.115896        0.001693   \n",
       "\n",
       "                   param_model param_model__C   param_normalise  \\\n",
       "0   LogisticRegression(C=0.01)          0.001  StandardScaler()   \n",
       "1   LogisticRegression(C=0.01)          0.001              None   \n",
       "2   LogisticRegression(C=0.01)           0.01  StandardScaler()   \n",
       "3   LogisticRegression(C=0.01)           0.01              None   \n",
       "4   LogisticRegression(C=0.01)            0.1  StandardScaler()   \n",
       "5   LogisticRegression(C=0.01)            0.1              None   \n",
       "6   LogisticRegression(C=0.01)              1  StandardScaler()   \n",
       "7   LogisticRegression(C=0.01)              1              None   \n",
       "8   LogisticRegression(C=0.01)             10  StandardScaler()   \n",
       "9   LogisticRegression(C=0.01)             10              None   \n",
       "10  LogisticRegression(C=0.01)            100  StandardScaler()   \n",
       "11  LogisticRegression(C=0.01)            100              None   \n",
       "\n",
       "                                               params  split0_test_score  \\\n",
       "0   {'model': LogisticRegression(C=0.01), 'model__...           0.438393   \n",
       "1   {'model': LogisticRegression(C=0.01), 'model__...           0.359404   \n",
       "2   {'model': LogisticRegression(C=0.01), 'model__...           0.438591   \n",
       "3   {'model': LogisticRegression(C=0.01), 'model__...           0.359404   \n",
       "4   {'model': LogisticRegression(C=0.01), 'model__...           0.438555   \n",
       "5   {'model': LogisticRegression(C=0.01), 'model__...           0.359404   \n",
       "6   {'model': LogisticRegression(C=0.01), 'model__...           0.438555   \n",
       "7   {'model': LogisticRegression(C=0.01), 'model__...           0.359404   \n",
       "8   {'model': LogisticRegression(C=0.01), 'model__...           0.438555   \n",
       "9   {'model': LogisticRegression(C=0.01), 'model__...           0.359404   \n",
       "10  {'model': LogisticRegression(C=0.01), 'model__...           0.438555   \n",
       "11  {'model': LogisticRegression(C=0.01), 'model__...           0.359404   \n",
       "\n",
       "    split1_test_score  split2_test_score  split3_test_score  \\\n",
       "0            0.453296           0.440935           0.456704   \n",
       "1            0.359022           0.360346           0.361043   \n",
       "2            0.453252           0.441097           0.456763   \n",
       "3            0.359022           0.360346           0.361043   \n",
       "4            0.453252           0.441023           0.456777   \n",
       "5            0.359022           0.360346           0.361043   \n",
       "6            0.453252           0.441023           0.456770   \n",
       "7            0.359022           0.360346           0.361043   \n",
       "8            0.453252           0.441023           0.456770   \n",
       "9            0.359022           0.360346           0.361043   \n",
       "10           0.453252           0.441023           0.456770   \n",
       "11           0.359022           0.360346           0.361043   \n",
       "\n",
       "    split4_test_score  mean_test_score  std_test_score  rank_test_score  \n",
       "0            0.459999         0.449866        0.008632                6  \n",
       "1            0.362848         0.360533        0.001357                7  \n",
       "2            0.459903         0.449921        0.008530                1  \n",
       "3            0.362848         0.360533        0.001357                7  \n",
       "4            0.459903         0.449902        0.008557                2  \n",
       "5            0.362848         0.360533        0.001357                7  \n",
       "6            0.459903         0.449901        0.008556                3  \n",
       "7            0.362848         0.360533        0.001357                7  \n",
       "8            0.459903         0.449901        0.008556                3  \n",
       "9            0.362848         0.360533        0.001357                7  \n",
       "10           0.459903         0.449901        0.008556                3  \n",
       "11           0.362848         0.360533        0.001357                7  "
      ]
     },
     "execution_count": 89,
     "metadata": {},
     "output_type": "execute_result"
    }
   ],
   "source": [
    "smote_df = pd.DataFrame(smote_fitgrid.cv_results_)\n",
    "smote_df"
   ]
  },
  {
   "cell_type": "code",
   "execution_count": 42,
   "id": "e72a308c",
   "metadata": {
    "scrolled": true
   },
   "outputs": [
    {
     "data": {
      "text/html": [
       "<style>#sk-container-id-8 {color: black;background-color: white;}#sk-container-id-8 pre{padding: 0;}#sk-container-id-8 div.sk-toggleable {background-color: white;}#sk-container-id-8 label.sk-toggleable__label {cursor: pointer;display: block;width: 100%;margin-bottom: 0;padding: 0.3em;box-sizing: border-box;text-align: center;}#sk-container-id-8 label.sk-toggleable__label-arrow:before {content: \"▸\";float: left;margin-right: 0.25em;color: #696969;}#sk-container-id-8 label.sk-toggleable__label-arrow:hover:before {color: black;}#sk-container-id-8 div.sk-estimator:hover label.sk-toggleable__label-arrow:before {color: black;}#sk-container-id-8 div.sk-toggleable__content {max-height: 0;max-width: 0;overflow: hidden;text-align: left;background-color: #f0f8ff;}#sk-container-id-8 div.sk-toggleable__content pre {margin: 0.2em;color: black;border-radius: 0.25em;background-color: #f0f8ff;}#sk-container-id-8 input.sk-toggleable__control:checked~div.sk-toggleable__content {max-height: 200px;max-width: 100%;overflow: auto;}#sk-container-id-8 input.sk-toggleable__control:checked~label.sk-toggleable__label-arrow:before {content: \"▾\";}#sk-container-id-8 div.sk-estimator input.sk-toggleable__control:checked~label.sk-toggleable__label {background-color: #d4ebff;}#sk-container-id-8 div.sk-label input.sk-toggleable__control:checked~label.sk-toggleable__label {background-color: #d4ebff;}#sk-container-id-8 input.sk-hidden--visually {border: 0;clip: rect(1px 1px 1px 1px);clip: rect(1px, 1px, 1px, 1px);height: 1px;margin: -1px;overflow: hidden;padding: 0;position: absolute;width: 1px;}#sk-container-id-8 div.sk-estimator {font-family: monospace;background-color: #f0f8ff;border: 1px dotted black;border-radius: 0.25em;box-sizing: border-box;margin-bottom: 0.5em;}#sk-container-id-8 div.sk-estimator:hover {background-color: #d4ebff;}#sk-container-id-8 div.sk-parallel-item::after {content: \"\";width: 100%;border-bottom: 1px solid gray;flex-grow: 1;}#sk-container-id-8 div.sk-label:hover label.sk-toggleable__label {background-color: #d4ebff;}#sk-container-id-8 div.sk-serial::before {content: \"\";position: absolute;border-left: 1px solid gray;box-sizing: border-box;top: 0;bottom: 0;left: 50%;z-index: 0;}#sk-container-id-8 div.sk-serial {display: flex;flex-direction: column;align-items: center;background-color: white;padding-right: 0.2em;padding-left: 0.2em;position: relative;}#sk-container-id-8 div.sk-item {position: relative;z-index: 1;}#sk-container-id-8 div.sk-parallel {display: flex;align-items: stretch;justify-content: center;background-color: white;position: relative;}#sk-container-id-8 div.sk-item::before, #sk-container-id-8 div.sk-parallel-item::before {content: \"\";position: absolute;border-left: 1px solid gray;box-sizing: border-box;top: 0;bottom: 0;left: 50%;z-index: -1;}#sk-container-id-8 div.sk-parallel-item {display: flex;flex-direction: column;z-index: 1;position: relative;background-color: white;}#sk-container-id-8 div.sk-parallel-item:first-child::after {align-self: flex-end;width: 50%;}#sk-container-id-8 div.sk-parallel-item:last-child::after {align-self: flex-start;width: 50%;}#sk-container-id-8 div.sk-parallel-item:only-child::after {width: 0;}#sk-container-id-8 div.sk-dashed-wrapped {border: 1px dashed gray;margin: 0 0.4em 0.5em 0.4em;box-sizing: border-box;padding-bottom: 0.4em;background-color: white;}#sk-container-id-8 div.sk-label label {font-family: monospace;font-weight: bold;display: inline-block;line-height: 1.2em;}#sk-container-id-8 div.sk-label-container {text-align: center;}#sk-container-id-8 div.sk-container {/* jupyter's `normalize.less` sets `[hidden] { display: none; }` but bootstrap.min.css set `[hidden] { display: none !important; }` so we also need the `!important` here to be able to override the default hidden behavior on the sphinx rendered scikit-learn.org. See: https://github.com/scikit-learn/scikit-learn/issues/21755 */display: inline-block !important;position: relative;}#sk-container-id-8 div.sk-text-repr-fallback {display: none;}</style><div id=\"sk-container-id-8\" class=\"sk-top-container\"><div class=\"sk-text-repr-fallback\"><pre>Pipeline(steps=[(&#x27;normalise&#x27;, StandardScaler()),\n",
       "                (&#x27;model&#x27;, LogisticRegression(C=0.01))])</pre><b>In a Jupyter environment, please rerun this cell to show the HTML representation or trust the notebook. <br />On GitHub, the HTML representation is unable to render, please try loading this page with nbviewer.org.</b></div><div class=\"sk-container\" hidden><div class=\"sk-item sk-dashed-wrapped\"><div class=\"sk-label-container\"><div class=\"sk-label sk-toggleable\"><input class=\"sk-toggleable__control sk-hidden--visually\" id=\"sk-estimator-id-14\" type=\"checkbox\" ><label for=\"sk-estimator-id-14\" class=\"sk-toggleable__label sk-toggleable__label-arrow\">Pipeline</label><div class=\"sk-toggleable__content\"><pre>Pipeline(steps=[(&#x27;normalise&#x27;, StandardScaler()),\n",
       "                (&#x27;model&#x27;, LogisticRegression(C=0.01))])</pre></div></div></div><div class=\"sk-serial\"><div class=\"sk-item\"><div class=\"sk-estimator sk-toggleable\"><input class=\"sk-toggleable__control sk-hidden--visually\" id=\"sk-estimator-id-15\" type=\"checkbox\" ><label for=\"sk-estimator-id-15\" class=\"sk-toggleable__label sk-toggleable__label-arrow\">StandardScaler</label><div class=\"sk-toggleable__content\"><pre>StandardScaler()</pre></div></div></div><div class=\"sk-item\"><div class=\"sk-estimator sk-toggleable\"><input class=\"sk-toggleable__control sk-hidden--visually\" id=\"sk-estimator-id-16\" type=\"checkbox\" ><label for=\"sk-estimator-id-16\" class=\"sk-toggleable__label sk-toggleable__label-arrow\">LogisticRegression</label><div class=\"sk-toggleable__content\"><pre>LogisticRegression(C=0.01)</pre></div></div></div></div></div></div></div>"
      ],
      "text/plain": [
       "Pipeline(steps=[('normalise', StandardScaler()),\n",
       "                ('model', LogisticRegression(C=0.01))])"
      ]
     },
     "execution_count": 42,
     "metadata": {},
     "output_type": "execute_result"
    }
   ],
   "source": [
    "smote_fitgrid.best_estimator_"
   ]
  },
  {
   "cell_type": "markdown",
   "id": "b0dc19c1",
   "metadata": {},
   "source": [
    "The best model is normalized using Standard Scaler and has a C value of 0.01. Re-run the Logistic Regression model using Standard Scaler and C=0.01 to produce the confusion matrix and the precision, recall and f1-scores."
   ]
  },
  {
   "cell_type": "code",
   "execution_count": 43,
   "id": "1928af4c",
   "metadata": {},
   "outputs": [
    {
     "data": {
      "text/html": [
       "<style>#sk-container-id-9 {color: black;background-color: white;}#sk-container-id-9 pre{padding: 0;}#sk-container-id-9 div.sk-toggleable {background-color: white;}#sk-container-id-9 label.sk-toggleable__label {cursor: pointer;display: block;width: 100%;margin-bottom: 0;padding: 0.3em;box-sizing: border-box;text-align: center;}#sk-container-id-9 label.sk-toggleable__label-arrow:before {content: \"▸\";float: left;margin-right: 0.25em;color: #696969;}#sk-container-id-9 label.sk-toggleable__label-arrow:hover:before {color: black;}#sk-container-id-9 div.sk-estimator:hover label.sk-toggleable__label-arrow:before {color: black;}#sk-container-id-9 div.sk-toggleable__content {max-height: 0;max-width: 0;overflow: hidden;text-align: left;background-color: #f0f8ff;}#sk-container-id-9 div.sk-toggleable__content pre {margin: 0.2em;color: black;border-radius: 0.25em;background-color: #f0f8ff;}#sk-container-id-9 input.sk-toggleable__control:checked~div.sk-toggleable__content {max-height: 200px;max-width: 100%;overflow: auto;}#sk-container-id-9 input.sk-toggleable__control:checked~label.sk-toggleable__label-arrow:before {content: \"▾\";}#sk-container-id-9 div.sk-estimator input.sk-toggleable__control:checked~label.sk-toggleable__label {background-color: #d4ebff;}#sk-container-id-9 div.sk-label input.sk-toggleable__control:checked~label.sk-toggleable__label {background-color: #d4ebff;}#sk-container-id-9 input.sk-hidden--visually {border: 0;clip: rect(1px 1px 1px 1px);clip: rect(1px, 1px, 1px, 1px);height: 1px;margin: -1px;overflow: hidden;padding: 0;position: absolute;width: 1px;}#sk-container-id-9 div.sk-estimator {font-family: monospace;background-color: #f0f8ff;border: 1px dotted black;border-radius: 0.25em;box-sizing: border-box;margin-bottom: 0.5em;}#sk-container-id-9 div.sk-estimator:hover {background-color: #d4ebff;}#sk-container-id-9 div.sk-parallel-item::after {content: \"\";width: 100%;border-bottom: 1px solid gray;flex-grow: 1;}#sk-container-id-9 div.sk-label:hover label.sk-toggleable__label {background-color: #d4ebff;}#sk-container-id-9 div.sk-serial::before {content: \"\";position: absolute;border-left: 1px solid gray;box-sizing: border-box;top: 0;bottom: 0;left: 50%;z-index: 0;}#sk-container-id-9 div.sk-serial {display: flex;flex-direction: column;align-items: center;background-color: white;padding-right: 0.2em;padding-left: 0.2em;position: relative;}#sk-container-id-9 div.sk-item {position: relative;z-index: 1;}#sk-container-id-9 div.sk-parallel {display: flex;align-items: stretch;justify-content: center;background-color: white;position: relative;}#sk-container-id-9 div.sk-item::before, #sk-container-id-9 div.sk-parallel-item::before {content: \"\";position: absolute;border-left: 1px solid gray;box-sizing: border-box;top: 0;bottom: 0;left: 50%;z-index: -1;}#sk-container-id-9 div.sk-parallel-item {display: flex;flex-direction: column;z-index: 1;position: relative;background-color: white;}#sk-container-id-9 div.sk-parallel-item:first-child::after {align-self: flex-end;width: 50%;}#sk-container-id-9 div.sk-parallel-item:last-child::after {align-self: flex-start;width: 50%;}#sk-container-id-9 div.sk-parallel-item:only-child::after {width: 0;}#sk-container-id-9 div.sk-dashed-wrapped {border: 1px dashed gray;margin: 0 0.4em 0.5em 0.4em;box-sizing: border-box;padding-bottom: 0.4em;background-color: white;}#sk-container-id-9 div.sk-label label {font-family: monospace;font-weight: bold;display: inline-block;line-height: 1.2em;}#sk-container-id-9 div.sk-label-container {text-align: center;}#sk-container-id-9 div.sk-container {/* jupyter's `normalize.less` sets `[hidden] { display: none; }` but bootstrap.min.css set `[hidden] { display: none !important; }` so we also need the `!important` here to be able to override the default hidden behavior on the sphinx rendered scikit-learn.org. See: https://github.com/scikit-learn/scikit-learn/issues/21755 */display: inline-block !important;position: relative;}#sk-container-id-9 div.sk-text-repr-fallback {display: none;}</style><div id=\"sk-container-id-9\" class=\"sk-top-container\"><div class=\"sk-text-repr-fallback\"><pre>LogisticRegression(C=0.01, max_iter=10000, random_state=10)</pre><b>In a Jupyter environment, please rerun this cell to show the HTML representation or trust the notebook. <br />On GitHub, the HTML representation is unable to render, please try loading this page with nbviewer.org.</b></div><div class=\"sk-container\" hidden><div class=\"sk-item\"><div class=\"sk-estimator sk-toggleable\"><input class=\"sk-toggleable__control sk-hidden--visually\" id=\"sk-estimator-id-17\" type=\"checkbox\" checked><label for=\"sk-estimator-id-17\" class=\"sk-toggleable__label sk-toggleable__label-arrow\">LogisticRegression</label><div class=\"sk-toggleable__content\"><pre>LogisticRegression(C=0.01, max_iter=10000, random_state=10)</pre></div></div></div></div></div>"
      ],
      "text/plain": [
       "LogisticRegression(C=0.01, max_iter=10000, random_state=10)"
      ]
     },
     "execution_count": 43,
     "metadata": {},
     "output_type": "execute_result"
    }
   ],
   "source": [
    "#Model with SMOTEN upsampled scaled data\n",
    "\n",
    "# Scale the SMOTEN upsampled data\n",
    "#instantiate the scaler\n",
    "scaler = StandardScaler()\n",
    "\n",
    "# fit the scaler on the smote data\n",
    "scaler.fit(X_train_smote)\n",
    "\n",
    "# transform X_train_smote and X_validation\n",
    "X_train_smote_s = scaler.transform(X_train_smote)\n",
    "X_validation_s = scaler.transform(X_validation)\n",
    "\n",
    "\n",
    "#instantiate the model\n",
    "LR_model_smote = LogisticRegression(solver = 'lbfgs', random_state = 10, max_iter = 10000, C = 0.01)\n",
    "\n",
    "# fit the model on the scaled X_train_smote_s and y_train_smote_s\n",
    "LR_model_smote.fit(X_train_smote_s, y_train_smote)"
   ]
  },
  {
   "cell_type": "markdown",
   "id": "6d798d04",
   "metadata": {},
   "source": [
    "Get the scores of the optimized model."
   ]
  },
  {
   "cell_type": "code",
   "execution_count": 44,
   "id": "8061c7cf",
   "metadata": {},
   "outputs": [
    {
     "name": "stdout",
     "output_type": "stream",
     "text": [
      "Training score:  0.45215044532202747\n",
      "Validation score:  0.5089208290807518\n"
     ]
    }
   ],
   "source": [
    "# 3. Score on the training data \n",
    "print(\"Training score: \", LR_model_smote.score(X_train_smote_s, y_train_smote))\n",
    "\n",
    "# 4. Score on the validation data\n",
    "print(\"Validation score: \", LR_model_smote.score(X_validation_s, y_validation))"
   ]
  },
  {
   "cell_type": "markdown",
   "id": "8046debf",
   "metadata": {},
   "source": [
    "The validation score is higher than the training score, but I want to look at the confusion matrix and classification report to know how well the model is predicting each class."
   ]
  },
  {
   "cell_type": "code",
   "execution_count": 45,
   "id": "fbad5e1a",
   "metadata": {
    "scrolled": false
   },
   "outputs": [
    {
     "name": "stderr",
     "output_type": "stream",
     "text": [
      "/Users/stephgolob/opt/anaconda3/lib/python3.9/site-packages/sklearn/utils/deprecation.py:87: FutureWarning: Function plot_confusion_matrix is deprecated; Function `plot_confusion_matrix` is deprecated in 1.0 and will be removed in 1.2. Use one of the class methods: ConfusionMatrixDisplay.from_predictions or ConfusionMatrixDisplay.from_estimator.\n",
      "  warnings.warn(msg, category=FutureWarning)\n"
     ]
    },
    {
     "data": {
      "image/png": "[encoded data removed]",
      "text/plain": [
       "<Figure size 432x288 with 2 Axes>"
      ]
     },
     "metadata": {
      "needs_background": "light"
     },
     "output_type": "display_data"
    }
   ],
   "source": [
    "plot_confusion_matrix(LR_model_smote, X_validation_s, y_validation)\n",
    "plt.title(\"SMOTEN Upsampled Confusion Matrix\");"
   ]
  },
  {
   "cell_type": "markdown",
   "id": "647d8dd1",
   "metadata": {},
   "source": [
    "The model improves at predicting classes 2 and 3 using scaled SMOTEN data, as compared to the base model. But it performs worse than the downsampled data at predicting classes 2 and 3."
   ]
  },
  {
   "cell_type": "markdown",
   "id": "b686891f",
   "metadata": {},
   "source": [
    "Calculate the model predictions using the scaled X_validation data."
   ]
  },
  {
   "cell_type": "code",
   "execution_count": 46,
   "id": "8f51bf0c",
   "metadata": {},
   "outputs": [],
   "source": [
    "y_predictions_smote = LR_model_smote.predict(X_validation_s)"
   ]
  },
  {
   "cell_type": "markdown",
   "id": "74732f5c",
   "metadata": {},
   "source": [
    "Create a classification report."
   ]
  },
  {
   "cell_type": "code",
   "execution_count": 47,
   "id": "d5c1806f",
   "metadata": {
    "scrolled": false
   },
   "outputs": [
    {
     "name": "stdout",
     "output_type": "stream",
     "text": [
      "              precision    recall  f1-score   support\n",
      "\n",
      "           1       0.80      0.58      0.67     97345\n",
      "           2       0.27      0.32      0.29     25886\n",
      "           3       0.07      0.29      0.11      7082\n",
      "\n",
      "    accuracy                           0.51    130313\n",
      "   macro avg       0.38      0.39      0.36    130313\n",
      "weighted avg       0.65      0.51      0.56    130313\n",
      "\n"
     ]
    }
   ],
   "source": [
    "report_smote = classification_report(y_validation, y_predictions_smote)\n",
    "print(report_smote)"
   ]
  },
  {
   "cell_type": "markdown",
   "id": "180e2007",
   "metadata": {},
   "source": [
    "Precision and recall scores have decreased for classes 2 and 3 using SMOTEN upsampled data, as compared to the downsampled data.  "
   ]
  },
  {
   "cell_type": "markdown",
   "id": "68c851ac",
   "metadata": {},
   "source": [
    "---"
   ]
  },
  {
   "cell_type": "markdown",
   "id": "b7619036",
   "metadata": {},
   "source": [
    "## Model Summary Table\n",
    "\n",
    "The results of the classification reports of each model are summarized in the table below.\n",
    "\n",
    "| Data        | Class   | Precision | Recall | F1   |\n",
    "|-------------|---------|-----------|--------|------|\n",
    "| Original    |         |           |        |      |\n",
    "|             | Class 1 | 0.75      | 1.00   | 0.86 |\n",
    "|             | Class 2 | 0.41      | 0.02   | 0.03 |\n",
    "|             | Class 3 | 0.39      | 0.00   | 0.01 |\n",
    "| Upsampled   |         |           |        |      |\n",
    "|             | Class 1 | 0.84      | 0.55   | 0.66 |\n",
    "|             | Class 2 | 0.28      | 0.38   | 0.32 |\n",
    "|             | Class 3 | 0.09      | 0.41   | 0.15 |\n",
    "| Downsampled |         |           |        |      |\n",
    "|             | Class 1 | 0.84      | 0.55   | 0.66 |\n",
    "|             | Class 2 | 0.28      | 0.39   | 0.32 |\n",
    "|             | Class 3 | 0.09      | 0.40   | 0.15 |\n",
    "| SMOTEN      |         |           |        |      |\n",
    "|             | Class 1 | 0.80      | 0.58   | 0.67 |\n",
    "|             | Class 2 | 0.27      | 0.32   | 0.29 |\n",
    "|             | Class 3 | 0.07      | 0.29   | 0.11 |"
   ]
  },
  {
   "cell_type": "markdown",
   "id": "22a05353",
   "metadata": {},
   "source": [
    "---"
   ]
  },
  {
   "cell_type": "markdown",
   "id": "358b1204",
   "metadata": {},
   "source": [
    "## Feature Evaluation"
   ]
  },
  {
   "cell_type": "markdown",
   "id": "0755aad8",
   "metadata": {},
   "source": [
    "The best results from the optimized models were from the upsampled and downsampled data sets. Since I got the same f1-scores for each model, I will evaluate the features using the downsampled data."
   ]
  },
  {
   "cell_type": "markdown",
   "id": "b3e6b2d0",
   "metadata": {},
   "source": [
    "Get the coefficients for each feature from the downsampled model using `coef`."
   ]
  },
  {
   "cell_type": "code",
   "execution_count": 114,
   "id": "1797be8b",
   "metadata": {},
   "outputs": [],
   "source": [
    "LR_down_coefs = LR_model_down.coef_"
   ]
  },
  {
   "cell_type": "markdown",
   "id": "1ffcbc0a",
   "metadata": {},
   "source": [
    "Create a dataframe with the feature names and the coefficient values. I need to index the coefficients variable to get the results for each class."
   ]
  },
  {
   "cell_type": "code",
   "execution_count": 174,
   "id": "e1bdcab1",
   "metadata": {},
   "outputs": [
    {
     "data": {
      "text/html": [
       "<div>\n",
       "<style scoped>\n",
       "    .dataframe tbody tr th:only-of-type {\n",
       "        vertical-align: middle;\n",
       "    }\n",
       "\n",
       "    .dataframe tbody tr th {\n",
       "        vertical-align: top;\n",
       "    }\n",
       "\n",
       "    .dataframe thead th {\n",
       "        text-align: right;\n",
       "    }\n",
       "</style>\n",
       "<table border=\"1\" class=\"dataframe\">\n",
       "  <thead>\n",
       "    <tr style=\"text-align: right;\">\n",
       "      <th></th>\n",
       "      <th>Class_1_coefs</th>\n",
       "      <th>Class_2_coefs</th>\n",
       "      <th>Class_3_coefs</th>\n",
       "    </tr>\n",
       "    <tr>\n",
       "      <th>Feature</th>\n",
       "      <th></th>\n",
       "      <th></th>\n",
       "      <th></th>\n",
       "    </tr>\n",
       "  </thead>\n",
       "  <tbody>\n",
       "    <tr>\n",
       "      <th>Year</th>\n",
       "      <td>-0.208314</td>\n",
       "      <td>0.083101</td>\n",
       "      <td>0.125214</td>\n",
       "    </tr>\n",
       "    <tr>\n",
       "      <th>DayofMonth</th>\n",
       "      <td>0.004795</td>\n",
       "      <td>0.011585</td>\n",
       "      <td>-0.016380</td>\n",
       "    </tr>\n",
       "    <tr>\n",
       "      <th>Quarter</th>\n",
       "      <td>-0.024793</td>\n",
       "      <td>0.005916</td>\n",
       "      <td>0.018877</td>\n",
       "    </tr>\n",
       "    <tr>\n",
       "      <th>DayofWeek</th>\n",
       "      <td>-0.053651</td>\n",
       "      <td>0.019517</td>\n",
       "      <td>0.034134</td>\n",
       "    </tr>\n",
       "    <tr>\n",
       "      <th>DOT_ID_Reporting_Airline</th>\n",
       "      <td>0.135078</td>\n",
       "      <td>-0.145129</td>\n",
       "      <td>0.010051</td>\n",
       "    </tr>\n",
       "    <tr>\n",
       "      <th>DestAirportID</th>\n",
       "      <td>0.028702</td>\n",
       "      <td>-0.023833</td>\n",
       "      <td>-0.004869</td>\n",
       "    </tr>\n",
       "    <tr>\n",
       "      <th>DestStateFips</th>\n",
       "      <td>0.006200</td>\n",
       "      <td>-0.004395</td>\n",
       "      <td>-0.001805</td>\n",
       "    </tr>\n",
       "    <tr>\n",
       "      <th>CRSDepTime</th>\n",
       "      <td>-0.179111</td>\n",
       "      <td>0.005701</td>\n",
       "      <td>0.173410</td>\n",
       "    </tr>\n",
       "    <tr>\n",
       "      <th>DistanceGroup</th>\n",
       "      <td>-0.128400</td>\n",
       "      <td>0.103160</td>\n",
       "      <td>0.025239</td>\n",
       "    </tr>\n",
       "    <tr>\n",
       "      <th>PRCP</th>\n",
       "      <td>-0.205999</td>\n",
       "      <td>0.022758</td>\n",
       "      <td>0.183241</td>\n",
       "    </tr>\n",
       "    <tr>\n",
       "      <th>TMIN</th>\n",
       "      <td>-0.040124</td>\n",
       "      <td>-0.008290</td>\n",
       "      <td>0.048414</td>\n",
       "    </tr>\n",
       "    <tr>\n",
       "      <th>WDF2</th>\n",
       "      <td>-0.012816</td>\n",
       "      <td>-0.020914</td>\n",
       "      <td>0.033730</td>\n",
       "    </tr>\n",
       "    <tr>\n",
       "      <th>WSF2</th>\n",
       "      <td>-0.054695</td>\n",
       "      <td>-0.034545</td>\n",
       "      <td>0.089240</td>\n",
       "    </tr>\n",
       "    <tr>\n",
       "      <th>Dest_State_Population</th>\n",
       "      <td>-0.067585</td>\n",
       "      <td>0.023470</td>\n",
       "      <td>0.044115</td>\n",
       "    </tr>\n",
       "  </tbody>\n",
       "</table>\n",
       "</div>"
      ],
      "text/plain": [
       "                          Class_1_coefs  Class_2_coefs  Class_3_coefs\n",
       "Feature                                                              \n",
       "Year                          -0.208314       0.083101       0.125214\n",
       "DayofMonth                     0.004795       0.011585      -0.016380\n",
       "Quarter                       -0.024793       0.005916       0.018877\n",
       "DayofWeek                     -0.053651       0.019517       0.034134\n",
       "DOT_ID_Reporting_Airline       0.135078      -0.145129       0.010051\n",
       "DestAirportID                  0.028702      -0.023833      -0.004869\n",
       "DestStateFips                  0.006200      -0.004395      -0.001805\n",
       "CRSDepTime                    -0.179111       0.005701       0.173410\n",
       "DistanceGroup                 -0.128400       0.103160       0.025239\n",
       "PRCP                          -0.205999       0.022758       0.183241\n",
       "TMIN                          -0.040124      -0.008290       0.048414\n",
       "WDF2                          -0.012816      -0.020914       0.033730\n",
       "WSF2                          -0.054695      -0.034545       0.089240\n",
       "Dest_State_Population         -0.067585       0.023470       0.044115"
      ]
     },
     "execution_count": 174,
     "metadata": {},
     "output_type": "execute_result"
    }
   ],
   "source": [
    "# Put the feature names and their coefficient values into a data frame\n",
    "coef_df = pd.DataFrame({'Feature': X_train.columns, 'Class_1_coefs': LR_model_down.coef_[0], 'Class_2_coefs': LR_model_down.coef_[1], 'Class_3_coefs': LR_model_down.coef_[2]})\n",
    "\n",
    "# set the index as the variable name for plotting\n",
    "coef_df = coef_df.set_index(\"Feature\")\n",
    "coef_df"
   ]
  },
  {
   "cell_type": "markdown",
   "id": "484b3106",
   "metadata": {},
   "source": [
    "Plot out the values of each coefficient to see the feature importance for each class."
   ]
  },
  {
   "cell_type": "code",
   "execution_count": 178,
   "id": "4df305da",
   "metadata": {},
   "outputs": [
    {
     "data": {
      "image/png": "[encoded data removed]",
      "text/plain": [
       "<Figure size 1080x720 with 1 Axes>"
      ]
     },
     "metadata": {
      "needs_background": "light"
     },
     "output_type": "display_data"
    }
   ],
   "source": [
    "coef_df.plot(kind = \"barh\", stacked = False, figsize = (15,10))\n",
    "\n",
    "plt.title(\"Feature Coefficients for each Departure Delay Class\", fontsize = 15)\n",
    "plt.xlabel(\"Coefficients\", fontsize = 12)\n",
    "plt.ylabel(\"Feature\", fontsize = 12)\n",
    "\n",
    "plt.show()"
   ]
  },
  {
   "cell_type": "markdown",
   "id": "8e900a2a",
   "metadata": {},
   "source": [
    "Observations:\n",
    "\n",
    "- Precipitation (PRCP) increases the likelihood of class 2 or 3 delays, and where precipitation is lower the flights are more likely to leave on time;\n",
    "- Departure time (CRSDepTime) has positive coefficients for class 2 and 3, although it is a stronger predictor of class 3, this makes sense since we expect more delays later in the day since there are likely to be knock-on effects which could cause delays later in the day;\n",
    "- The year coefficient is positive for class 2 and 3 delays meaning that flights in 2021 are more likely to be delayed which was shown in the EDA section. In 2020 there was a decrease in the number of flights operating per day and we also know that less people were flying so there were less delays as a result. When travel returned to near pre-pandemic levels there were more likely to be delays since there were more travelers and a shortage of staff for all of these flights;\n",
    "- Reporting Airline is positive for class 1, meaning that certain airlines are more likely to depart on-time. And it's negative for class 2 meaning that some airlines are more likely to be delayed, this was seen in the EDA notebook which showed that JetBlue Airways, Spirit Airlines, Southwest Airlines, Envoy Air and Alaska Air had a higher proportion of delayed flights as compared to other airlines."
   ]
  },
  {
   "cell_type": "markdown",
   "id": "b808851e",
   "metadata": {},
   "source": [
    "Calculate the odds ratio for each class by indexing the coefficients and using `np.exp` to calculate the exponential function of each coefficient. Start with class 1."
   ]
  },
  {
   "cell_type": "code",
   "execution_count": 135,
   "id": "bd1ba8b7",
   "metadata": {},
   "outputs": [],
   "source": [
    "odds_1 = np.exp(LR_down_coefs[0])"
   ]
  },
  {
   "cell_type": "code",
   "execution_count": 136,
   "id": "7ea68537",
   "metadata": {},
   "outputs": [
    {
     "data": {
      "text/plain": [
       "array([0.81195175, 1.00480632, 0.97551227, 0.94776245, 1.14462584,\n",
       "       1.02911746, 1.00621917, 0.8360131 , 0.8795017 , 0.81383407,\n",
       "       0.96067005, 0.98726584, 0.94677364, 0.93464824])"
      ]
     },
     "execution_count": 136,
     "metadata": {},
     "output_type": "execute_result"
    }
   ],
   "source": [
    "odds_1"
   ]
  },
  {
   "cell_type": "markdown",
   "id": "56bd3fc4",
   "metadata": {},
   "source": [
    "Odds ratio calculation for class 2."
   ]
  },
  {
   "cell_type": "code",
   "execution_count": 137,
   "id": "698e9368",
   "metadata": {},
   "outputs": [],
   "source": [
    "odds_2 = np.exp(LR_down_coefs[1])"
   ]
  },
  {
   "cell_type": "code",
   "execution_count": 138,
   "id": "dba625dd",
   "metadata": {},
   "outputs": [
    {
     "data": {
      "text/plain": [
       "array([1.08665114, 1.01165213, 1.00593328, 1.01970873, 0.86491095,\n",
       "       0.97644916, 0.99561433, 1.00571694, 1.10866929, 1.0230186 ,\n",
       "       0.99174417, 0.97930316, 0.96604487, 1.02374756])"
      ]
     },
     "execution_count": 138,
     "metadata": {},
     "output_type": "execute_result"
    }
   ],
   "source": [
    "odds_2"
   ]
  },
  {
   "cell_type": "markdown",
   "id": "9dd6e58a",
   "metadata": {},
   "source": [
    "Odds ratio calculation for class 3."
   ]
  },
  {
   "cell_type": "code",
   "execution_count": 139,
   "id": "fe60ab56",
   "metadata": {},
   "outputs": [],
   "source": [
    "odds_3 = np.exp(LR_down_coefs[2])"
   ]
  },
  {
   "cell_type": "code",
   "execution_count": 140,
   "id": "f88db5d2",
   "metadata": {},
   "outputs": [
    {
     "data": {
      "text/plain": [
       "array([1.13339068, 0.98375384, 1.01905609, 1.03472363, 1.0101016 ,\n",
       "       0.99514283, 0.99819703, 1.18935404, 1.02556053, 1.20110397,\n",
       "       1.04960549, 1.03430526, 1.09334329, 1.04510259])"
      ]
     },
     "execution_count": 140,
     "metadata": {},
     "output_type": "execute_result"
    }
   ],
   "source": [
    "odds_3"
   ]
  },
  {
   "cell_type": "markdown",
   "id": "5fb05a43",
   "metadata": {},
   "source": [
    "Put the feature names and their coefficient values into a data frame."
   ]
  },
  {
   "cell_type": "code",
   "execution_count": 184,
   "id": "db8df488",
   "metadata": {},
   "outputs": [
    {
     "data": {
      "text/html": [
       "<div>\n",
       "<style scoped>\n",
       "    .dataframe tbody tr th:only-of-type {\n",
       "        vertical-align: middle;\n",
       "    }\n",
       "\n",
       "    .dataframe tbody tr th {\n",
       "        vertical-align: top;\n",
       "    }\n",
       "\n",
       "    .dataframe thead th {\n",
       "        text-align: right;\n",
       "    }\n",
       "</style>\n",
       "<table border=\"1\" class=\"dataframe\">\n",
       "  <thead>\n",
       "    <tr style=\"text-align: right;\">\n",
       "      <th></th>\n",
       "      <th>Class_1_odds</th>\n",
       "      <th>Class_2_odds</th>\n",
       "      <th>Class_3_odds</th>\n",
       "    </tr>\n",
       "    <tr>\n",
       "      <th>Feature</th>\n",
       "      <th></th>\n",
       "      <th></th>\n",
       "      <th></th>\n",
       "    </tr>\n",
       "  </thead>\n",
       "  <tbody>\n",
       "    <tr>\n",
       "      <th>Year</th>\n",
       "      <td>0.811952</td>\n",
       "      <td>1.086651</td>\n",
       "      <td>1.133391</td>\n",
       "    </tr>\n",
       "    <tr>\n",
       "      <th>DayofMonth</th>\n",
       "      <td>1.004806</td>\n",
       "      <td>1.011652</td>\n",
       "      <td>0.983754</td>\n",
       "    </tr>\n",
       "    <tr>\n",
       "      <th>Quarter</th>\n",
       "      <td>0.975512</td>\n",
       "      <td>1.005933</td>\n",
       "      <td>1.019056</td>\n",
       "    </tr>\n",
       "    <tr>\n",
       "      <th>DayofWeek</th>\n",
       "      <td>0.947762</td>\n",
       "      <td>1.019709</td>\n",
       "      <td>1.034724</td>\n",
       "    </tr>\n",
       "    <tr>\n",
       "      <th>DOT_ID_Reporting_Airline</th>\n",
       "      <td>1.144626</td>\n",
       "      <td>0.864911</td>\n",
       "      <td>1.010102</td>\n",
       "    </tr>\n",
       "    <tr>\n",
       "      <th>DestAirportID</th>\n",
       "      <td>1.029117</td>\n",
       "      <td>0.976449</td>\n",
       "      <td>0.995143</td>\n",
       "    </tr>\n",
       "    <tr>\n",
       "      <th>DestStateFips</th>\n",
       "      <td>1.006219</td>\n",
       "      <td>0.995614</td>\n",
       "      <td>0.998197</td>\n",
       "    </tr>\n",
       "    <tr>\n",
       "      <th>CRSDepTime</th>\n",
       "      <td>0.836013</td>\n",
       "      <td>1.005717</td>\n",
       "      <td>1.189354</td>\n",
       "    </tr>\n",
       "    <tr>\n",
       "      <th>DistanceGroup</th>\n",
       "      <td>0.879502</td>\n",
       "      <td>1.108669</td>\n",
       "      <td>1.025561</td>\n",
       "    </tr>\n",
       "    <tr>\n",
       "      <th>PRCP</th>\n",
       "      <td>0.813834</td>\n",
       "      <td>1.023019</td>\n",
       "      <td>1.201104</td>\n",
       "    </tr>\n",
       "    <tr>\n",
       "      <th>TMIN</th>\n",
       "      <td>0.960670</td>\n",
       "      <td>0.991744</td>\n",
       "      <td>1.049605</td>\n",
       "    </tr>\n",
       "    <tr>\n",
       "      <th>WDF2</th>\n",
       "      <td>0.987266</td>\n",
       "      <td>0.979303</td>\n",
       "      <td>1.034305</td>\n",
       "    </tr>\n",
       "    <tr>\n",
       "      <th>WSF2</th>\n",
       "      <td>0.946774</td>\n",
       "      <td>0.966045</td>\n",
       "      <td>1.093343</td>\n",
       "    </tr>\n",
       "    <tr>\n",
       "      <th>Dest_State_Population</th>\n",
       "      <td>0.934648</td>\n",
       "      <td>1.023748</td>\n",
       "      <td>1.045103</td>\n",
       "    </tr>\n",
       "  </tbody>\n",
       "</table>\n",
       "</div>"
      ],
      "text/plain": [
       "                          Class_1_odds  Class_2_odds  Class_3_odds\n",
       "Feature                                                           \n",
       "Year                          0.811952      1.086651      1.133391\n",
       "DayofMonth                    1.004806      1.011652      0.983754\n",
       "Quarter                       0.975512      1.005933      1.019056\n",
       "DayofWeek                     0.947762      1.019709      1.034724\n",
       "DOT_ID_Reporting_Airline      1.144626      0.864911      1.010102\n",
       "DestAirportID                 1.029117      0.976449      0.995143\n",
       "DestStateFips                 1.006219      0.995614      0.998197\n",
       "CRSDepTime                    0.836013      1.005717      1.189354\n",
       "DistanceGroup                 0.879502      1.108669      1.025561\n",
       "PRCP                          0.813834      1.023019      1.201104\n",
       "TMIN                          0.960670      0.991744      1.049605\n",
       "WDF2                          0.987266      0.979303      1.034305\n",
       "WSF2                          0.946774      0.966045      1.093343\n",
       "Dest_State_Population         0.934648      1.023748      1.045103"
      ]
     },
     "execution_count": 184,
     "metadata": {},
     "output_type": "execute_result"
    }
   ],
   "source": [
    "odds_df = pd.DataFrame({'Feature': X_train.columns, 'Class_1_odds': odds_1, 'Class_2_odds': odds_2, 'Class_3_odds': odds_3})\n",
    "\n",
    "odds_df = odds_df.set_index(\"Feature\")\n",
    "odds_df"
   ]
  },
  {
   "cell_type": "markdown",
   "id": "c507629b",
   "metadata": {},
   "source": [
    "Plot the odds ratio for each feature by class."
   ]
  },
  {
   "cell_type": "code",
   "execution_count": 182,
   "id": "6a3bbd81",
   "metadata": {
    "scrolled": false
   },
   "outputs": [
    {
     "data": {
      "image/png": "[encoded data removed]",
      "text/plain": [
       "<Figure size 1080x720 with 1 Axes>"
      ]
     },
     "metadata": {
      "needs_background": "light"
     },
     "output_type": "display_data"
    }
   ],
   "source": [
    "odds_df.plot(kind = \"barh\", stacked = False, figsize = (15,10))\n",
    "plt.axvline(x = 1, c = \"gray\", linestyle=\"--\")\n",
    "\n",
    "plt.title(\"Odds Ratio\")\n",
    "plt.xlabel(\"Odds\")\n",
    "plt.ylabel(\"Feature Name\")\n",
    "\n",
    "plt.show()"
   ]
  },
  {
   "cell_type": "markdown",
   "id": "f706ca24",
   "metadata": {},
   "source": [
    "Observations:\n",
    "\n",
    "- Precipitation (PRCP) appears to be a big driver for predicting class 3 delays (30-120 minutes), it does not have a big affect on class 2 delays (0-30 minutes) and is not a significant driver of predicting class 1 (on-time flights). These results are unsurprising as I would expect inclement weather to be a bigger driver of extreme delays;\n",
    "- The scheduled departure time (CRSDepTime) is also a big driver for predicting class 3 delays, this is also not surprising since flights that take off later in the day are more likely to be delayed due to knock-on effects of earlier flights;\n",
    "- The reporting airline (DOT_ID_Reporting_Airline) is an important predictor for on-time flights (class 1), this was discussed in the EDA notebook where I showed that certain airlines were more often delayed than others. So flying with certain airlines would improve the likelihood of an on-time departure;\n",
    "\n",
    "- Year is also a driver for predicting classes 2 and 3, it's more strongly linked with class 3 than class 2 but also from the EDA I showed that there were more delays in 2021 than 2020 due to the reduced number of flights in 2020 and therefore flying in 2021 would increase the odds of traveling on a delayed flight."
   ]
  },
  {
   "cell_type": "markdown",
   "id": "00924974",
   "metadata": {},
   "source": [
    "---"
   ]
  },
  {
   "cell_type": "markdown",
   "id": "56f244ab",
   "metadata": {},
   "source": [
    "## Next Steps\n",
    "\n",
    "I'm going to use Decision Trees in the next notebook (Notebook 6) to test if the precision and recall scores improve with another model."
   ]
  },
  {
   "cell_type": "markdown",
   "id": "0aeee270",
   "metadata": {},
   "source": [
    "---"
   ]
  }
 ],
 "metadata": {
  "kernelspec": {
   "display_name": "Python 3 (ipykernel)",
   "language": "python",
   "name": "python3"
  },
  "language_info": {
   "codemirror_mode": {
    "name": "ipython",
    "version": 3
   },
   "file_extension": ".py",
   "mimetype": "text/x-python",
   "name": "python",
   "nbconvert_exporter": "python",
   "pygments_lexer": "ipython3",
   "version": "3.9.7"
  },
  "toc": {
   "base_numbering": 1,
   "nav_menu": {},
   "number_sections": true,
   "sideBar": true,
   "skip_h1_title": false,
   "title_cell": "Table of Contents",
   "title_sidebar": "Contents",
   "toc_cell": true,
   "toc_position": {},
   "toc_section_display": false,
   "toc_window_display": false
  },
  "varInspector": {
   "cols": {
    "lenName": 16,
    "lenType": 16,
    "lenVar": 40
   },
   "kernels_config": {
    "python": {
     "delete_cmd_postfix": "",
     "delete_cmd_prefix": "del ",
     "library": "var_list.py",
     "varRefreshCmd": "print(var_dic_list())"
    },
    "r": {
     "delete_cmd_postfix": ") ",
     "delete_cmd_prefix": "rm(",
     "library": "var_list.r",
     "varRefreshCmd": "cat(var_dic_list()) "
    }
   },
   "types_to_exclude": [
    "module",
    "function",
    "builtin_function_or_method",
    "instance",
    "_Feature"
   ],
   "window_display": false
  }
 },
 "nbformat": 4,
 "nbformat_minor": 5
}
