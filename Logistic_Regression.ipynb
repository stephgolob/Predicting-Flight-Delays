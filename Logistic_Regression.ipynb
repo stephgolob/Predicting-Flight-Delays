{
 "cells": [
  {
   "cell_type": "markdown",
   "id": "46c629d1",
   "metadata": {},
   "source": [
    "# Logistic Regression\n",
    "\n",
    "**Author**: Stephanie Golob\n",
    "\n",
    "**contact**: estefaniagolob@gmail.com\n",
    "\n",
    "**Date**: July 4, 2022\n",
    "\n",
    "**Previous Notebook**: 4 of 7 (Balancing Target Classes)\n",
    "\n",
    "**Current Notebook**: 5 of 7\n",
    "\n",
    "**Next Notebook**: 6 of 7 (Decision Tree)\n",
    "\n",
    "---\n",
    "\n",
    "In this notebook I will optimize Logistic Regression models using a pipeline and cross-validation and compare the results of the original data set and the balanced data sets."
   ]
  },
  {
   "cell_type": "markdown",
   "id": "777f6e01",
   "metadata": {
    "toc": true
   },
   "source": [
    "<h1>Table of Contents<span class=\"tocSkip\"></span></h1>\n",
    "<div class=\"toc\"><ul class=\"toc-item\"><li><span><a href=\"#Logistic-Regression\" data-toc-modified-id=\"Logistic-Regression-1\"><span class=\"toc-item-num\">1&nbsp;&nbsp;</span>Logistic Regression</a></span><ul class=\"toc-item\"><li><span><a href=\"#Basic-Logistic-Regression-Model\" data-toc-modified-id=\"Basic-Logistic-Regression-Model-1.1\"><span class=\"toc-item-num\">1.1&nbsp;&nbsp;</span>Basic Logistic Regression Model</a></span></li><li><span><a href=\"#Model-Optimization-using-original-and-balanced-data-sets\" data-toc-modified-id=\"Model-Optimization-using-original-and-balanced-data-sets-1.2\"><span class=\"toc-item-num\">1.2&nbsp;&nbsp;</span>Model Optimization using original and balanced data sets</a></span><ul class=\"toc-item\"><li><span><a href=\"#Original-data\" data-toc-modified-id=\"Original-data-1.2.1\"><span class=\"toc-item-num\">1.2.1&nbsp;&nbsp;</span>Original data</a></span><ul class=\"toc-item\"><li><span><a href=\"#Optimized-Logisitic-Regression-Model-with-Original-Data\" data-toc-modified-id=\"Optimized-Logisitic-Regression-Model-with-Original-Data-1.2.1.1\"><span class=\"toc-item-num\">1.2.1.1&nbsp;&nbsp;</span>Optimized Logisitic Regression Model with Original Data</a></span></li></ul></li><li><span><a href=\"#Upsampled-Data\" data-toc-modified-id=\"Upsampled-Data-1.2.2\"><span class=\"toc-item-num\">1.2.2&nbsp;&nbsp;</span>Upsampled Data</a></span></li><li><span><a href=\"#Downsampled-Data\" data-toc-modified-id=\"Downsampled-Data-1.2.3\"><span class=\"toc-item-num\">1.2.3&nbsp;&nbsp;</span>Downsampled Data</a></span></li><li><span><a href=\"#SMOTE-Upsampled-Data\" data-toc-modified-id=\"SMOTE-Upsampled-Data-1.2.4\"><span class=\"toc-item-num\">1.2.4&nbsp;&nbsp;</span>SMOTE Upsampled Data</a></span></li></ul></li><li><span><a href=\"#Model-Summary-Table\" data-toc-modified-id=\"Model-Summary-Table-1.3\"><span class=\"toc-item-num\">1.3&nbsp;&nbsp;</span>Model Summary Table</a></span></li><li><span><a href=\"#Feature-Evaluation\" data-toc-modified-id=\"Feature-Evaluation-1.4\"><span class=\"toc-item-num\">1.4&nbsp;&nbsp;</span>Feature Evaluation</a></span></li><li><span><a href=\"#Next-Steps\" data-toc-modified-id=\"Next-Steps-1.5\"><span class=\"toc-item-num\">1.5&nbsp;&nbsp;</span>Next Steps</a></span></li></ul></li></ul></div>"
   ]
  },
  {
   "cell_type": "markdown",
   "id": "cf1c7378",
   "metadata": {},
   "source": [
    "---"
   ]
  },
  {
   "cell_type": "markdown",
   "id": "f316ed1f",
   "metadata": {},
   "source": [
    "Import the required libraries."
   ]
  },
  {
   "cell_type": "code",
   "execution_count": 1,
   "id": "0af94201",
   "metadata": {},
   "outputs": [],
   "source": [
    "import pandas as pd\n",
    "import numpy as np\n",
    "import matplotlib.pyplot as plt\n",
    "\n",
    "# for scaling the data\n",
    "from sklearn.preprocessing import StandardScaler\n",
    "from sklearn.preprocessing import MinMaxScaler\n",
    "\n",
    "# cache memory for gridsearch\n",
    "from tempfile import mkdtemp\n",
    "\n",
    "# modeling\n",
    "from sklearn.pipeline import Pipeline\n",
    "from sklearn.linear_model import LogisticRegression\n",
    "from sklearn.model_selection import GridSearchCV\n",
    "\n",
    "# save model outputs\n",
    "import joblib\n",
    "\n",
    "# model evaluation\n",
    "from sklearn.metrics import plot_confusion_matrix, confusion_matrix\n",
    "from sklearn.metrics import classification_report\n",
    "from sklearn.metrics import roc_auc_score\n",
    "from sklearn.metrics import plot_roc_curve\n",
    "\n",
    "# ignore warnings\n",
    "import warnings\n",
    "warnings.filterwarnings(\"ignore\")"
   ]
  },
  {
   "cell_type": "markdown",
   "id": "1c538ab1",
   "metadata": {},
   "source": [
    "Read in the train and validation sets."
   ]
  },
  {
   "cell_type": "code",
   "execution_count": 2,
   "id": "ad62c7a3",
   "metadata": {},
   "outputs": [],
   "source": [
    "X_train = pd.read_pickle(\"data/X_train.pkl\")\n",
    "y_train = pd.read_pickle(\"data/y_train.pkl\")\n",
    "\n",
    "X_validation = pd.read_pickle(\"data/X_validation.pkl\")\n",
    "y_validation = pd.read_pickle(\"data/y_validation.pkl\")"
   ]
  },
  {
   "cell_type": "markdown",
   "id": "a4ddccf0",
   "metadata": {},
   "source": [
    "## Basic Logistic Regression Model"
   ]
  },
  {
   "cell_type": "markdown",
   "id": "9de97118",
   "metadata": {},
   "source": [
    "Fit a basic Logistic Regression model with the original X_train and y_train data sets."
   ]
  },
  {
   "cell_type": "code",
   "execution_count": 3,
   "id": "25b4dfeb",
   "metadata": {},
   "outputs": [
    {
     "data": {
      "text/html": [
       "<style>#sk-container-id-1 {color: black;background-color: white;}#sk-container-id-1 pre{padding: 0;}#sk-container-id-1 div.sk-toggleable {background-color: white;}#sk-container-id-1 label.sk-toggleable__label {cursor: pointer;display: block;width: 100%;margin-bottom: 0;padding: 0.3em;box-sizing: border-box;text-align: center;}#sk-container-id-1 label.sk-toggleable__label-arrow:before {content: \"▸\";float: left;margin-right: 0.25em;color: #696969;}#sk-container-id-1 label.sk-toggleable__label-arrow:hover:before {color: black;}#sk-container-id-1 div.sk-estimator:hover label.sk-toggleable__label-arrow:before {color: black;}#sk-container-id-1 div.sk-toggleable__content {max-height: 0;max-width: 0;overflow: hidden;text-align: left;background-color: #f0f8ff;}#sk-container-id-1 div.sk-toggleable__content pre {margin: 0.2em;color: black;border-radius: 0.25em;background-color: #f0f8ff;}#sk-container-id-1 input.sk-toggleable__control:checked~div.sk-toggleable__content {max-height: 200px;max-width: 100%;overflow: auto;}#sk-container-id-1 input.sk-toggleable__control:checked~label.sk-toggleable__label-arrow:before {content: \"▾\";}#sk-container-id-1 div.sk-estimator input.sk-toggleable__control:checked~label.sk-toggleable__label {background-color: #d4ebff;}#sk-container-id-1 div.sk-label input.sk-toggleable__control:checked~label.sk-toggleable__label {background-color: #d4ebff;}#sk-container-id-1 input.sk-hidden--visually {border: 0;clip: rect(1px 1px 1px 1px);clip: rect(1px, 1px, 1px, 1px);height: 1px;margin: -1px;overflow: hidden;padding: 0;position: absolute;width: 1px;}#sk-container-id-1 div.sk-estimator {font-family: monospace;background-color: #f0f8ff;border: 1px dotted black;border-radius: 0.25em;box-sizing: border-box;margin-bottom: 0.5em;}#sk-container-id-1 div.sk-estimator:hover {background-color: #d4ebff;}#sk-container-id-1 div.sk-parallel-item::after {content: \"\";width: 100%;border-bottom: 1px solid gray;flex-grow: 1;}#sk-container-id-1 div.sk-label:hover label.sk-toggleable__label {background-color: #d4ebff;}#sk-container-id-1 div.sk-serial::before {content: \"\";position: absolute;border-left: 1px solid gray;box-sizing: border-box;top: 0;bottom: 0;left: 50%;z-index: 0;}#sk-container-id-1 div.sk-serial {display: flex;flex-direction: column;align-items: center;background-color: white;padding-right: 0.2em;padding-left: 0.2em;position: relative;}#sk-container-id-1 div.sk-item {position: relative;z-index: 1;}#sk-container-id-1 div.sk-parallel {display: flex;align-items: stretch;justify-content: center;background-color: white;position: relative;}#sk-container-id-1 div.sk-item::before, #sk-container-id-1 div.sk-parallel-item::before {content: \"\";position: absolute;border-left: 1px solid gray;box-sizing: border-box;top: 0;bottom: 0;left: 50%;z-index: -1;}#sk-container-id-1 div.sk-parallel-item {display: flex;flex-direction: column;z-index: 1;position: relative;background-color: white;}#sk-container-id-1 div.sk-parallel-item:first-child::after {align-self: flex-end;width: 50%;}#sk-container-id-1 div.sk-parallel-item:last-child::after {align-self: flex-start;width: 50%;}#sk-container-id-1 div.sk-parallel-item:only-child::after {width: 0;}#sk-container-id-1 div.sk-dashed-wrapped {border: 1px dashed gray;margin: 0 0.4em 0.5em 0.4em;box-sizing: border-box;padding-bottom: 0.4em;background-color: white;}#sk-container-id-1 div.sk-label label {font-family: monospace;font-weight: bold;display: inline-block;line-height: 1.2em;}#sk-container-id-1 div.sk-label-container {text-align: center;}#sk-container-id-1 div.sk-container {/* jupyter's `normalize.less` sets `[hidden] { display: none; }` but bootstrap.min.css set `[hidden] { display: none !important; }` so we also need the `!important` here to be able to override the default hidden behavior on the sphinx rendered scikit-learn.org. See: https://github.com/scikit-learn/scikit-learn/issues/21755 */display: inline-block !important;position: relative;}#sk-container-id-1 div.sk-text-repr-fallback {display: none;}</style><div id=\"sk-container-id-1\" class=\"sk-top-container\"><div class=\"sk-text-repr-fallback\"><pre>LogisticRegression(max_iter=10000, random_state=10)</pre><b>In a Jupyter environment, please rerun this cell to show the HTML representation or trust the notebook. <br />On GitHub, the HTML representation is unable to render, please try loading this page with nbviewer.org.</b></div><div class=\"sk-container\" hidden><div class=\"sk-item\"><div class=\"sk-estimator sk-toggleable\"><input class=\"sk-toggleable__control sk-hidden--visually\" id=\"sk-estimator-id-1\" type=\"checkbox\" checked><label for=\"sk-estimator-id-1\" class=\"sk-toggleable__label sk-toggleable__label-arrow\">LogisticRegression</label><div class=\"sk-toggleable__content\"><pre>LogisticRegression(max_iter=10000, random_state=10)</pre></div></div></div></div></div>"
      ],
      "text/plain": [
       "LogisticRegression(max_iter=10000, random_state=10)"
      ]
     },
     "execution_count": 3,
     "metadata": {},
     "output_type": "execute_result"
    }
   ],
   "source": [
    "#instantiate the model\n",
    "LR_model = LogisticRegression(random_state = 10, max_iter = 10000)\n",
    "\n",
    "# fit the model\n",
    "LR_model.fit(X_train, y_train)"
   ]
  },
  {
   "cell_type": "code",
   "execution_count": 4,
   "id": "0f733f55",
   "metadata": {
    "scrolled": true
   },
   "outputs": [
    {
     "name": "stdout",
     "output_type": "stream",
     "text": [
      "Training score:  0.7470121225276424\n",
      "Validation score:  0.747016798017082\n"
     ]
    }
   ],
   "source": [
    "# 3. Score on the training data \n",
    "print(\"Training score: \", LR_model.score(X_train, y_train))\n",
    "\n",
    "# 4. Score on the validation data\n",
    "print(\"Validation score: \", LR_model.score(X_validation, y_validation))"
   ]
  },
  {
   "cell_type": "markdown",
   "id": "53f4ecf6",
   "metadata": {},
   "source": [
    "The training score and validation score are very similar, the model is not overfitting to the training data. But in order to evaluate the predictions the model is making I am going to plot the confusion matrix. "
   ]
  },
  {
   "cell_type": "code",
   "execution_count": 5,
   "id": "a85d4ec3",
   "metadata": {
    "scrolled": false
   },
   "outputs": [
    {
     "data": {
      "image/png": "[encoded data removed]",
      "text/plain": [
       "<Figure size 432x288 with 2 Axes>"
      ]
     },
     "metadata": {
      "needs_background": "light"
     },
     "output_type": "display_data"
    }
   ],
   "source": [
    "plot_confusion_matrix(LR_model, X_validation, y_validation)\n",
    "plt.title(\"Logistic Regression Confusion Matrix\");"
   ]
  },
  {
   "cell_type": "markdown",
   "id": "b8ca7ad4",
   "metadata": {},
   "source": [
    "The basic Logistic Regression model is only predicting class 0 (On-time flights)."
   ]
  },
  {
   "cell_type": "markdown",
   "id": "bbb29320",
   "metadata": {},
   "source": [
    "Get the predicted y values by using `predict` on the X_validation data set."
   ]
  },
  {
   "cell_type": "code",
   "execution_count": 6,
   "id": "69f0c402",
   "metadata": {},
   "outputs": [],
   "source": [
    "y_predictions = LR_model.predict(X_validation)"
   ]
  },
  {
   "cell_type": "markdown",
   "id": "a44321f1",
   "metadata": {},
   "source": [
    "Use the predictions and the y_validation set to get the precision, recall and f1-scores for the model."
   ]
  },
  {
   "cell_type": "code",
   "execution_count": 7,
   "id": "87abbc45",
   "metadata": {},
   "outputs": [
    {
     "name": "stdout",
     "output_type": "stream",
     "text": [
      "              precision    recall  f1-score   support\n",
      "\n",
      "           0       0.75      1.00      0.86     97346\n",
      "           1       0.00      0.00      0.00     32967\n",
      "\n",
      "    accuracy                           0.75    130313\n",
      "   macro avg       0.37      0.50      0.43    130313\n",
      "weighted avg       0.56      0.75      0.64    130313\n",
      "\n"
     ]
    }
   ],
   "source": [
    "report_LR_basic = classification_report(y_validation, y_predictions)\n",
    "print(report_LR_basic)"
   ]
  },
  {
   "cell_type": "markdown",
   "id": "52cceb1b",
   "metadata": {},
   "source": [
    "The precision and recall scores are very high for class 0, and 0 for class 1, as is expected from the confusion matrix."
   ]
  },
  {
   "cell_type": "markdown",
   "id": "56900f3f",
   "metadata": {},
   "source": [
    "---"
   ]
  },
  {
   "cell_type": "markdown",
   "id": "01cd0c1c",
   "metadata": {},
   "source": [
    "## Model Optimization using original and balanced data sets"
   ]
  },
  {
   "cell_type": "markdown",
   "id": "18704c62",
   "metadata": {},
   "source": [
    "I'm going to create a pipeline to optimize the Logistic Regression models using the original and balanced data sets. I will then make predictions and compare the model outputs using the confusion matrices and precision, recall and f1-scores.\n",
    "\n",
    "- First - original data\n",
    "- Second - Upsampled data\n",
    "- Third - Downsampled data\n",
    "- Fourth - SMOTE Upsampled data"
   ]
  },
  {
   "cell_type": "markdown",
   "id": "8ca33e64",
   "metadata": {},
   "source": [
    "### Original data"
   ]
  },
  {
   "cell_type": "code",
   "execution_count": 8,
   "id": "56607ba0",
   "metadata": {
    "scrolled": true
   },
   "outputs": [
    {
     "name": "stdout",
     "output_type": "stream",
     "text": [
      "Fitting 5 folds for each of 12 candidates, totalling 60 fits\n",
      "[CV] END model=LogisticRegression(), model__C=0.001, normalise=StandardScaler(); total time=   0.5s\n",
      "[CV] END model=LogisticRegression(), model__C=0.001, normalise=StandardScaler(); total time=   0.5s\n",
      "[CV] END model=LogisticRegression(), model__C=0.001, normalise=StandardScaler(); total time=   0.5s\n",
      "[CV] END model=LogisticRegression(), model__C=0.001, normalise=StandardScaler(); total time=   0.5s\n",
      "[CV] END model=LogisticRegression(), model__C=0.001, normalise=StandardScaler(); total time=   0.5s\n",
      "[CV] END model=LogisticRegression(), model__C=0.001, normalise=None; total time=   0.7s\n",
      "[CV] END model=LogisticRegression(), model__C=0.001, normalise=None; total time=   0.7s\n",
      "[CV] END model=LogisticRegression(), model__C=0.001, normalise=None; total time=   0.7s\n",
      "[CV] END model=LogisticRegression(), model__C=0.001, normalise=None; total time=   0.7s\n",
      "[CV] END model=LogisticRegression(), model__C=0.001, normalise=None; total time=   0.7s\n",
      "[CV] END model=LogisticRegression(), model__C=0.01, normalise=StandardScaler(); total time=   0.5s\n",
      "[CV] END model=LogisticRegression(), model__C=0.01, normalise=StandardScaler(); total time=   0.5s\n",
      "[CV] END model=LogisticRegression(), model__C=0.01, normalise=StandardScaler(); total time=   0.5s\n",
      "[CV] END model=LogisticRegression(), model__C=0.01, normalise=StandardScaler(); total time=   0.5s\n",
      "[CV] END model=LogisticRegression(), model__C=0.01, normalise=StandardScaler(); total time=   0.5s\n",
      "[CV] END model=LogisticRegression(), model__C=0.01, normalise=None; total time=   0.7s\n",
      "[CV] END model=LogisticRegression(), model__C=0.01, normalise=None; total time=   0.7s\n",
      "[CV] END model=LogisticRegression(), model__C=0.01, normalise=None; total time=   0.7s\n",
      "[CV] END model=LogisticRegression(), model__C=0.01, normalise=None; total time=   0.7s\n",
      "[CV] END model=LogisticRegression(), model__C=0.01, normalise=None; total time=   0.7s\n",
      "[CV] END model=LogisticRegression(), model__C=0.1, normalise=StandardScaler(); total time=   0.5s\n",
      "[CV] END model=LogisticRegression(), model__C=0.1, normalise=StandardScaler(); total time=   0.5s\n",
      "[CV] END model=LogisticRegression(), model__C=0.1, normalise=StandardScaler(); total time=   0.5s\n",
      "[CV] END model=LogisticRegression(), model__C=0.1, normalise=StandardScaler(); total time=   0.5s\n",
      "[CV] END model=LogisticRegression(), model__C=0.1, normalise=StandardScaler(); total time=   0.5s\n",
      "[CV] END model=LogisticRegression(), model__C=0.1, normalise=None; total time=   0.7s\n",
      "[CV] END model=LogisticRegression(), model__C=0.1, normalise=None; total time=   0.7s\n",
      "[CV] END model=LogisticRegression(), model__C=0.1, normalise=None; total time=   0.7s\n",
      "[CV] END model=LogisticRegression(), model__C=0.1, normalise=None; total time=   0.7s\n",
      "[CV] END model=LogisticRegression(), model__C=0.1, normalise=None; total time=   0.7s\n",
      "[CV] END model=LogisticRegression(), model__C=1, normalise=StandardScaler(); total time=   0.5s\n",
      "[CV] END model=LogisticRegression(), model__C=1, normalise=StandardScaler(); total time=   0.5s\n",
      "[CV] END model=LogisticRegression(), model__C=1, normalise=StandardScaler(); total time=   0.5s\n",
      "[CV] END model=LogisticRegression(), model__C=1, normalise=StandardScaler(); total time=   0.5s\n",
      "[CV] END model=LogisticRegression(), model__C=1, normalise=StandardScaler(); total time=   0.5s\n",
      "[CV] END model=LogisticRegression(), model__C=1, normalise=None; total time=   0.7s\n",
      "[CV] END model=LogisticRegression(), model__C=1, normalise=None; total time=   0.7s\n",
      "[CV] END model=LogisticRegression(), model__C=1, normalise=None; total time=   0.7s\n",
      "[CV] END model=LogisticRegression(), model__C=1, normalise=None; total time=   0.7s\n",
      "[CV] END model=LogisticRegression(), model__C=1, normalise=None; total time=   0.7s\n",
      "[CV] END model=LogisticRegression(), model__C=10, normalise=StandardScaler(); total time=   0.5s\n",
      "[CV] END model=LogisticRegression(), model__C=10, normalise=StandardScaler(); total time=   0.5s\n",
      "[CV] END model=LogisticRegression(), model__C=10, normalise=StandardScaler(); total time=   0.5s\n",
      "[CV] END model=LogisticRegression(), model__C=10, normalise=StandardScaler(); total time=   0.5s\n",
      "[CV] END model=LogisticRegression(), model__C=10, normalise=StandardScaler(); total time=   0.5s\n",
      "[CV] END model=LogisticRegression(), model__C=10, normalise=None; total time=   0.7s\n",
      "[CV] END model=LogisticRegression(), model__C=10, normalise=None; total time=   0.7s\n",
      "[CV] END model=LogisticRegression(), model__C=10, normalise=None; total time=   0.7s\n",
      "[CV] END model=LogisticRegression(), model__C=10, normalise=None; total time=   0.7s\n",
      "[CV] END model=LogisticRegression(), model__C=10, normalise=None; total time=   0.7s\n",
      "[CV] END model=LogisticRegression(), model__C=100, normalise=StandardScaler(); total time=   0.5s\n",
      "[CV] END model=LogisticRegression(), model__C=100, normalise=StandardScaler(); total time=   0.5s\n",
      "[CV] END model=LogisticRegression(), model__C=100, normalise=StandardScaler(); total time=   0.5s\n",
      "[CV] END model=LogisticRegression(), model__C=100, normalise=StandardScaler(); total time=   0.5s\n",
      "[CV] END model=LogisticRegression(), model__C=100, normalise=StandardScaler(); total time=   0.5s\n",
      "[CV] END model=LogisticRegression(), model__C=100, normalise=None; total time=   0.7s\n",
      "[CV] END model=LogisticRegression(), model__C=100, normalise=None; total time=   0.7s\n",
      "[CV] END model=LogisticRegression(), model__C=100, normalise=None; total time=   0.7s\n",
      "[CV] END model=LogisticRegression(), model__C=100, normalise=None; total time=   0.7s\n",
      "[CV] END model=LogisticRegression(), model__C=100, normalise=None; total time=   0.7s\n"
     ]
    }
   ],
   "source": [
    "# create a memory cache\n",
    "cachedir = mkdtemp()\n",
    "\n",
    "# create a list of tuples to store the functions that will be completed in the pipeline\n",
    "# normalize the data using a StandardScaler\n",
    "# instantiate the Logistic Regression model\n",
    "estimators = [('normalise', StandardScaler()),\n",
    "              ('model', LogisticRegression())]\n",
    "\n",
    "# intialize the pipeline, input estimators as the steps for the pipeline to take\n",
    "pipe = Pipeline(estimators)\n",
    "\n",
    "# set the parameters that you want GridSearchCV to iterate through\n",
    "# I want the pipeline to test whether a StandardScaler or none is optimal\n",
    "# then it will fit the LR model, and loop through the range of C values I have input\n",
    "parameters = [\n",
    "            {'model': [LogisticRegression()], \n",
    "             'normalise': [StandardScaler(), None],\n",
    "             'model__C': [0.001, 0.01, 0.1, 1, 10, 100]}\n",
    "]\n",
    "\n",
    "# use GridSearchCV, input the pipeline, the parameters to test and the number of times it should cross-validate\n",
    "# cross-validation creates a different number of splits of the data\n",
    "# we don't need to split the data again because cross-validation will split the data 5 times into different variations\n",
    "# of train and validation\n",
    "orig_grid = GridSearchCV(pipe, parameters, cv = 5, verbose = 2, scoring = 'roc_auc')\n",
    "\n",
    "# fit the grid on the original X_train and y_train data\n",
    "orig_fitgrid = orig_grid.fit(X_train, y_train)"
   ]
  },
  {
   "cell_type": "markdown",
   "id": "65ae4d65",
   "metadata": {},
   "source": [
    "Save the grid output using `dump` from the joblib library."
   ]
  },
  {
   "cell_type": "code",
   "execution_count": 9,
   "id": "18b4daa5",
   "metadata": {},
   "outputs": [
    {
     "data": {
      "text/plain": [
       "['Models/LR_orig_grid.pkl']"
      ]
     },
     "execution_count": 9,
     "metadata": {},
     "output_type": "execute_result"
    }
   ],
   "source": [
    "# select the output to save and give it a name\n",
    "# saves as a .pkl file\n",
    "\n",
    "joblib.dump(orig_fitgrid, 'Models/LR_orig_grid.pkl')"
   ]
  },
  {
   "cell_type": "markdown",
   "id": "097c6910",
   "metadata": {},
   "source": [
    "The grid has fit on X_train and y_train. From the gridsearch outputs we can see that the run-time using StandardScaler is faster than without. \n",
    "\n",
    "The results of the gridsearch can be saved in a dataframe using `cv_results` to get the grid outputs."
   ]
  },
  {
   "cell_type": "code",
   "execution_count": 10,
   "id": "2a4f7bad",
   "metadata": {},
   "outputs": [
    {
     "data": {
      "text/html": [
       "<div>\n",
       "<style scoped>\n",
       "    .dataframe tbody tr th:only-of-type {\n",
       "        vertical-align: middle;\n",
       "    }\n",
       "\n",
       "    .dataframe tbody tr th {\n",
       "        vertical-align: top;\n",
       "    }\n",
       "\n",
       "    .dataframe thead th {\n",
       "        text-align: right;\n",
       "    }\n",
       "</style>\n",
       "<table border=\"1\" class=\"dataframe\">\n",
       "  <thead>\n",
       "    <tr style=\"text-align: right;\">\n",
       "      <th></th>\n",
       "      <th>mean_fit_time</th>\n",
       "      <th>std_fit_time</th>\n",
       "      <th>mean_score_time</th>\n",
       "      <th>std_score_time</th>\n",
       "      <th>param_model</th>\n",
       "      <th>param_model__C</th>\n",
       "      <th>param_normalise</th>\n",
       "      <th>params</th>\n",
       "      <th>split0_test_score</th>\n",
       "      <th>split1_test_score</th>\n",
       "      <th>split2_test_score</th>\n",
       "      <th>split3_test_score</th>\n",
       "      <th>split4_test_score</th>\n",
       "      <th>mean_test_score</th>\n",
       "      <th>std_test_score</th>\n",
       "      <th>rank_test_score</th>\n",
       "    </tr>\n",
       "  </thead>\n",
       "  <tbody>\n",
       "    <tr>\n",
       "      <th>0</th>\n",
       "      <td>0.420421</td>\n",
       "      <td>0.004346</td>\n",
       "      <td>0.114254</td>\n",
       "      <td>0.001650</td>\n",
       "      <td>LogisticRegression(C=0.001)</td>\n",
       "      <td>0.001</td>\n",
       "      <td>StandardScaler()</td>\n",
       "      <td>{'model': LogisticRegression(C=0.001), 'model_...</td>\n",
       "      <td>0.676485</td>\n",
       "      <td>0.679628</td>\n",
       "      <td>0.680986</td>\n",
       "      <td>0.677596</td>\n",
       "      <td>0.678534</td>\n",
       "      <td>0.678646</td>\n",
       "      <td>0.001564</td>\n",
       "      <td>1</td>\n",
       "    </tr>\n",
       "    <tr>\n",
       "      <th>1</th>\n",
       "      <td>0.614127</td>\n",
       "      <td>0.002801</td>\n",
       "      <td>0.110755</td>\n",
       "      <td>0.000937</td>\n",
       "      <td>LogisticRegression(C=0.001)</td>\n",
       "      <td>0.001</td>\n",
       "      <td>None</td>\n",
       "      <td>{'model': LogisticRegression(C=0.001), 'model_...</td>\n",
       "      <td>0.480881</td>\n",
       "      <td>0.482750</td>\n",
       "      <td>0.479898</td>\n",
       "      <td>0.484107</td>\n",
       "      <td>0.483211</td>\n",
       "      <td>0.482169</td>\n",
       "      <td>0.001549</td>\n",
       "      <td>8</td>\n",
       "    </tr>\n",
       "    <tr>\n",
       "      <th>2</th>\n",
       "      <td>0.414687</td>\n",
       "      <td>0.003932</td>\n",
       "      <td>0.112847</td>\n",
       "      <td>0.000374</td>\n",
       "      <td>LogisticRegression(C=0.001)</td>\n",
       "      <td>0.01</td>\n",
       "      <td>StandardScaler()</td>\n",
       "      <td>{'model': LogisticRegression(C=0.001), 'model_...</td>\n",
       "      <td>0.676504</td>\n",
       "      <td>0.679623</td>\n",
       "      <td>0.680975</td>\n",
       "      <td>0.677571</td>\n",
       "      <td>0.678531</td>\n",
       "      <td>0.678641</td>\n",
       "      <td>0.001558</td>\n",
       "      <td>2</td>\n",
       "    </tr>\n",
       "    <tr>\n",
       "      <th>3</th>\n",
       "      <td>0.608759</td>\n",
       "      <td>0.008804</td>\n",
       "      <td>0.110549</td>\n",
       "      <td>0.001095</td>\n",
       "      <td>LogisticRegression(C=0.001)</td>\n",
       "      <td>0.01</td>\n",
       "      <td>None</td>\n",
       "      <td>{'model': LogisticRegression(C=0.001), 'model_...</td>\n",
       "      <td>0.480881</td>\n",
       "      <td>0.482750</td>\n",
       "      <td>0.479898</td>\n",
       "      <td>0.484107</td>\n",
       "      <td>0.483211</td>\n",
       "      <td>0.482169</td>\n",
       "      <td>0.001549</td>\n",
       "      <td>7</td>\n",
       "    </tr>\n",
       "    <tr>\n",
       "      <th>4</th>\n",
       "      <td>0.415497</td>\n",
       "      <td>0.005495</td>\n",
       "      <td>0.112234</td>\n",
       "      <td>0.001268</td>\n",
       "      <td>LogisticRegression(C=0.001)</td>\n",
       "      <td>0.1</td>\n",
       "      <td>StandardScaler()</td>\n",
       "      <td>{'model': LogisticRegression(C=0.001), 'model_...</td>\n",
       "      <td>0.676506</td>\n",
       "      <td>0.679623</td>\n",
       "      <td>0.680973</td>\n",
       "      <td>0.677569</td>\n",
       "      <td>0.678530</td>\n",
       "      <td>0.678640</td>\n",
       "      <td>0.001557</td>\n",
       "      <td>3</td>\n",
       "    </tr>\n",
       "    <tr>\n",
       "      <th>5</th>\n",
       "      <td>0.620683</td>\n",
       "      <td>0.005885</td>\n",
       "      <td>0.110915</td>\n",
       "      <td>0.001128</td>\n",
       "      <td>LogisticRegression(C=0.001)</td>\n",
       "      <td>0.1</td>\n",
       "      <td>None</td>\n",
       "      <td>{'model': LogisticRegression(C=0.001), 'model_...</td>\n",
       "      <td>0.480881</td>\n",
       "      <td>0.482750</td>\n",
       "      <td>0.479898</td>\n",
       "      <td>0.484107</td>\n",
       "      <td>0.483211</td>\n",
       "      <td>0.482169</td>\n",
       "      <td>0.001549</td>\n",
       "      <td>8</td>\n",
       "    </tr>\n",
       "    <tr>\n",
       "      <th>6</th>\n",
       "      <td>0.406610</td>\n",
       "      <td>0.003782</td>\n",
       "      <td>0.112594</td>\n",
       "      <td>0.000630</td>\n",
       "      <td>LogisticRegression(C=0.001)</td>\n",
       "      <td>1</td>\n",
       "      <td>StandardScaler()</td>\n",
       "      <td>{'model': LogisticRegression(C=0.001), 'model_...</td>\n",
       "      <td>0.676506</td>\n",
       "      <td>0.679623</td>\n",
       "      <td>0.680973</td>\n",
       "      <td>0.677569</td>\n",
       "      <td>0.678530</td>\n",
       "      <td>0.678640</td>\n",
       "      <td>0.001557</td>\n",
       "      <td>6</td>\n",
       "    </tr>\n",
       "    <tr>\n",
       "      <th>7</th>\n",
       "      <td>0.611976</td>\n",
       "      <td>0.006529</td>\n",
       "      <td>0.110589</td>\n",
       "      <td>0.000785</td>\n",
       "      <td>LogisticRegression(C=0.001)</td>\n",
       "      <td>1</td>\n",
       "      <td>None</td>\n",
       "      <td>{'model': LogisticRegression(C=0.001), 'model_...</td>\n",
       "      <td>0.480881</td>\n",
       "      <td>0.482750</td>\n",
       "      <td>0.479898</td>\n",
       "      <td>0.484107</td>\n",
       "      <td>0.483211</td>\n",
       "      <td>0.482169</td>\n",
       "      <td>0.001549</td>\n",
       "      <td>8</td>\n",
       "    </tr>\n",
       "    <tr>\n",
       "      <th>8</th>\n",
       "      <td>0.411150</td>\n",
       "      <td>0.004798</td>\n",
       "      <td>0.111797</td>\n",
       "      <td>0.000820</td>\n",
       "      <td>LogisticRegression(C=0.001)</td>\n",
       "      <td>10</td>\n",
       "      <td>StandardScaler()</td>\n",
       "      <td>{'model': LogisticRegression(C=0.001), 'model_...</td>\n",
       "      <td>0.676506</td>\n",
       "      <td>0.679623</td>\n",
       "      <td>0.680973</td>\n",
       "      <td>0.677569</td>\n",
       "      <td>0.678530</td>\n",
       "      <td>0.678640</td>\n",
       "      <td>0.001557</td>\n",
       "      <td>4</td>\n",
       "    </tr>\n",
       "    <tr>\n",
       "      <th>9</th>\n",
       "      <td>0.614943</td>\n",
       "      <td>0.009617</td>\n",
       "      <td>0.110326</td>\n",
       "      <td>0.000756</td>\n",
       "      <td>LogisticRegression(C=0.001)</td>\n",
       "      <td>10</td>\n",
       "      <td>None</td>\n",
       "      <td>{'model': LogisticRegression(C=0.001), 'model_...</td>\n",
       "      <td>0.480881</td>\n",
       "      <td>0.482750</td>\n",
       "      <td>0.479898</td>\n",
       "      <td>0.484107</td>\n",
       "      <td>0.483211</td>\n",
       "      <td>0.482169</td>\n",
       "      <td>0.001549</td>\n",
       "      <td>8</td>\n",
       "    </tr>\n",
       "    <tr>\n",
       "      <th>10</th>\n",
       "      <td>0.407507</td>\n",
       "      <td>0.002156</td>\n",
       "      <td>0.113096</td>\n",
       "      <td>0.000495</td>\n",
       "      <td>LogisticRegression(C=0.001)</td>\n",
       "      <td>100</td>\n",
       "      <td>StandardScaler()</td>\n",
       "      <td>{'model': LogisticRegression(C=0.001), 'model_...</td>\n",
       "      <td>0.676506</td>\n",
       "      <td>0.679623</td>\n",
       "      <td>0.680973</td>\n",
       "      <td>0.677569</td>\n",
       "      <td>0.678530</td>\n",
       "      <td>0.678640</td>\n",
       "      <td>0.001557</td>\n",
       "      <td>5</td>\n",
       "    </tr>\n",
       "    <tr>\n",
       "      <th>11</th>\n",
       "      <td>0.609023</td>\n",
       "      <td>0.007621</td>\n",
       "      <td>0.110820</td>\n",
       "      <td>0.000806</td>\n",
       "      <td>LogisticRegression(C=0.001)</td>\n",
       "      <td>100</td>\n",
       "      <td>None</td>\n",
       "      <td>{'model': LogisticRegression(C=0.001), 'model_...</td>\n",
       "      <td>0.480881</td>\n",
       "      <td>0.482750</td>\n",
       "      <td>0.479898</td>\n",
       "      <td>0.484107</td>\n",
       "      <td>0.483211</td>\n",
       "      <td>0.482169</td>\n",
       "      <td>0.001549</td>\n",
       "      <td>8</td>\n",
       "    </tr>\n",
       "  </tbody>\n",
       "</table>\n",
       "</div>"
      ],
      "text/plain": [
       "    mean_fit_time  std_fit_time  mean_score_time  std_score_time  \\\n",
       "0        0.420421      0.004346         0.114254        0.001650   \n",
       "1        0.614127      0.002801         0.110755        0.000937   \n",
       "2        0.414687      0.003932         0.112847        0.000374   \n",
       "3        0.608759      0.008804         0.110549        0.001095   \n",
       "4        0.415497      0.005495         0.112234        0.001268   \n",
       "5        0.620683      0.005885         0.110915        0.001128   \n",
       "6        0.406610      0.003782         0.112594        0.000630   \n",
       "7        0.611976      0.006529         0.110589        0.000785   \n",
       "8        0.411150      0.004798         0.111797        0.000820   \n",
       "9        0.614943      0.009617         0.110326        0.000756   \n",
       "10       0.407507      0.002156         0.113096        0.000495   \n",
       "11       0.609023      0.007621         0.110820        0.000806   \n",
       "\n",
       "                    param_model param_model__C   param_normalise  \\\n",
       "0   LogisticRegression(C=0.001)          0.001  StandardScaler()   \n",
       "1   LogisticRegression(C=0.001)          0.001              None   \n",
       "2   LogisticRegression(C=0.001)           0.01  StandardScaler()   \n",
       "3   LogisticRegression(C=0.001)           0.01              None   \n",
       "4   LogisticRegression(C=0.001)            0.1  StandardScaler()   \n",
       "5   LogisticRegression(C=0.001)            0.1              None   \n",
       "6   LogisticRegression(C=0.001)              1  StandardScaler()   \n",
       "7   LogisticRegression(C=0.001)              1              None   \n",
       "8   LogisticRegression(C=0.001)             10  StandardScaler()   \n",
       "9   LogisticRegression(C=0.001)             10              None   \n",
       "10  LogisticRegression(C=0.001)            100  StandardScaler()   \n",
       "11  LogisticRegression(C=0.001)            100              None   \n",
       "\n",
       "                                               params  split0_test_score  \\\n",
       "0   {'model': LogisticRegression(C=0.001), 'model_...           0.676485   \n",
       "1   {'model': LogisticRegression(C=0.001), 'model_...           0.480881   \n",
       "2   {'model': LogisticRegression(C=0.001), 'model_...           0.676504   \n",
       "3   {'model': LogisticRegression(C=0.001), 'model_...           0.480881   \n",
       "4   {'model': LogisticRegression(C=0.001), 'model_...           0.676506   \n",
       "5   {'model': LogisticRegression(C=0.001), 'model_...           0.480881   \n",
       "6   {'model': LogisticRegression(C=0.001), 'model_...           0.676506   \n",
       "7   {'model': LogisticRegression(C=0.001), 'model_...           0.480881   \n",
       "8   {'model': LogisticRegression(C=0.001), 'model_...           0.676506   \n",
       "9   {'model': LogisticRegression(C=0.001), 'model_...           0.480881   \n",
       "10  {'model': LogisticRegression(C=0.001), 'model_...           0.676506   \n",
       "11  {'model': LogisticRegression(C=0.001), 'model_...           0.480881   \n",
       "\n",
       "    split1_test_score  split2_test_score  split3_test_score  \\\n",
       "0            0.679628           0.680986           0.677596   \n",
       "1            0.482750           0.479898           0.484107   \n",
       "2            0.679623           0.680975           0.677571   \n",
       "3            0.482750           0.479898           0.484107   \n",
       "4            0.679623           0.680973           0.677569   \n",
       "5            0.482750           0.479898           0.484107   \n",
       "6            0.679623           0.680973           0.677569   \n",
       "7            0.482750           0.479898           0.484107   \n",
       "8            0.679623           0.680973           0.677569   \n",
       "9            0.482750           0.479898           0.484107   \n",
       "10           0.679623           0.680973           0.677569   \n",
       "11           0.482750           0.479898           0.484107   \n",
       "\n",
       "    split4_test_score  mean_test_score  std_test_score  rank_test_score  \n",
       "0            0.678534         0.678646        0.001564                1  \n",
       "1            0.483211         0.482169        0.001549                8  \n",
       "2            0.678531         0.678641        0.001558                2  \n",
       "3            0.483211         0.482169        0.001549                7  \n",
       "4            0.678530         0.678640        0.001557                3  \n",
       "5            0.483211         0.482169        0.001549                8  \n",
       "6            0.678530         0.678640        0.001557                6  \n",
       "7            0.483211         0.482169        0.001549                8  \n",
       "8            0.678530         0.678640        0.001557                4  \n",
       "9            0.483211         0.482169        0.001549                8  \n",
       "10           0.678530         0.678640        0.001557                5  \n",
       "11           0.483211         0.482169        0.001549                8  "
      ]
     },
     "execution_count": 10,
     "metadata": {},
     "output_type": "execute_result"
    }
   ],
   "source": [
    "orig_df = pd.DataFrame(orig_fitgrid.cv_results_)\n",
    "orig_df"
   ]
  },
  {
   "cell_type": "markdown",
   "id": "7fe34912",
   "metadata": {},
   "source": [
    "Use `best_estimator_` to get the optimal hyperparameters for this data."
   ]
  },
  {
   "cell_type": "code",
   "execution_count": 11,
   "id": "668cbb35",
   "metadata": {
    "scrolled": true
   },
   "outputs": [
    {
     "data": {
      "text/html": [
       "<style>#sk-container-id-2 {color: black;background-color: white;}#sk-container-id-2 pre{padding: 0;}#sk-container-id-2 div.sk-toggleable {background-color: white;}#sk-container-id-2 label.sk-toggleable__label {cursor: pointer;display: block;width: 100%;margin-bottom: 0;padding: 0.3em;box-sizing: border-box;text-align: center;}#sk-container-id-2 label.sk-toggleable__label-arrow:before {content: \"▸\";float: left;margin-right: 0.25em;color: #696969;}#sk-container-id-2 label.sk-toggleable__label-arrow:hover:before {color: black;}#sk-container-id-2 div.sk-estimator:hover label.sk-toggleable__label-arrow:before {color: black;}#sk-container-id-2 div.sk-toggleable__content {max-height: 0;max-width: 0;overflow: hidden;text-align: left;background-color: #f0f8ff;}#sk-container-id-2 div.sk-toggleable__content pre {margin: 0.2em;color: black;border-radius: 0.25em;background-color: #f0f8ff;}#sk-container-id-2 input.sk-toggleable__control:checked~div.sk-toggleable__content {max-height: 200px;max-width: 100%;overflow: auto;}#sk-container-id-2 input.sk-toggleable__control:checked~label.sk-toggleable__label-arrow:before {content: \"▾\";}#sk-container-id-2 div.sk-estimator input.sk-toggleable__control:checked~label.sk-toggleable__label {background-color: #d4ebff;}#sk-container-id-2 div.sk-label input.sk-toggleable__control:checked~label.sk-toggleable__label {background-color: #d4ebff;}#sk-container-id-2 input.sk-hidden--visually {border: 0;clip: rect(1px 1px 1px 1px);clip: rect(1px, 1px, 1px, 1px);height: 1px;margin: -1px;overflow: hidden;padding: 0;position: absolute;width: 1px;}#sk-container-id-2 div.sk-estimator {font-family: monospace;background-color: #f0f8ff;border: 1px dotted black;border-radius: 0.25em;box-sizing: border-box;margin-bottom: 0.5em;}#sk-container-id-2 div.sk-estimator:hover {background-color: #d4ebff;}#sk-container-id-2 div.sk-parallel-item::after {content: \"\";width: 100%;border-bottom: 1px solid gray;flex-grow: 1;}#sk-container-id-2 div.sk-label:hover label.sk-toggleable__label {background-color: #d4ebff;}#sk-container-id-2 div.sk-serial::before {content: \"\";position: absolute;border-left: 1px solid gray;box-sizing: border-box;top: 0;bottom: 0;left: 50%;z-index: 0;}#sk-container-id-2 div.sk-serial {display: flex;flex-direction: column;align-items: center;background-color: white;padding-right: 0.2em;padding-left: 0.2em;position: relative;}#sk-container-id-2 div.sk-item {position: relative;z-index: 1;}#sk-container-id-2 div.sk-parallel {display: flex;align-items: stretch;justify-content: center;background-color: white;position: relative;}#sk-container-id-2 div.sk-item::before, #sk-container-id-2 div.sk-parallel-item::before {content: \"\";position: absolute;border-left: 1px solid gray;box-sizing: border-box;top: 0;bottom: 0;left: 50%;z-index: -1;}#sk-container-id-2 div.sk-parallel-item {display: flex;flex-direction: column;z-index: 1;position: relative;background-color: white;}#sk-container-id-2 div.sk-parallel-item:first-child::after {align-self: flex-end;width: 50%;}#sk-container-id-2 div.sk-parallel-item:last-child::after {align-self: flex-start;width: 50%;}#sk-container-id-2 div.sk-parallel-item:only-child::after {width: 0;}#sk-container-id-2 div.sk-dashed-wrapped {border: 1px dashed gray;margin: 0 0.4em 0.5em 0.4em;box-sizing: border-box;padding-bottom: 0.4em;background-color: white;}#sk-container-id-2 div.sk-label label {font-family: monospace;font-weight: bold;display: inline-block;line-height: 1.2em;}#sk-container-id-2 div.sk-label-container {text-align: center;}#sk-container-id-2 div.sk-container {/* jupyter's `normalize.less` sets `[hidden] { display: none; }` but bootstrap.min.css set `[hidden] { display: none !important; }` so we also need the `!important` here to be able to override the default hidden behavior on the sphinx rendered scikit-learn.org. See: https://github.com/scikit-learn/scikit-learn/issues/21755 */display: inline-block !important;position: relative;}#sk-container-id-2 div.sk-text-repr-fallback {display: none;}</style><div id=\"sk-container-id-2\" class=\"sk-top-container\"><div class=\"sk-text-repr-fallback\"><pre>Pipeline(steps=[(&#x27;normalise&#x27;, StandardScaler()),\n",
       "                (&#x27;model&#x27;, LogisticRegression(C=0.001))])</pre><b>In a Jupyter environment, please rerun this cell to show the HTML representation or trust the notebook. <br />On GitHub, the HTML representation is unable to render, please try loading this page with nbviewer.org.</b></div><div class=\"sk-container\" hidden><div class=\"sk-item sk-dashed-wrapped\"><div class=\"sk-label-container\"><div class=\"sk-label sk-toggleable\"><input class=\"sk-toggleable__control sk-hidden--visually\" id=\"sk-estimator-id-2\" type=\"checkbox\" ><label for=\"sk-estimator-id-2\" class=\"sk-toggleable__label sk-toggleable__label-arrow\">Pipeline</label><div class=\"sk-toggleable__content\"><pre>Pipeline(steps=[(&#x27;normalise&#x27;, StandardScaler()),\n",
       "                (&#x27;model&#x27;, LogisticRegression(C=0.001))])</pre></div></div></div><div class=\"sk-serial\"><div class=\"sk-item\"><div class=\"sk-estimator sk-toggleable\"><input class=\"sk-toggleable__control sk-hidden--visually\" id=\"sk-estimator-id-3\" type=\"checkbox\" ><label for=\"sk-estimator-id-3\" class=\"sk-toggleable__label sk-toggleable__label-arrow\">StandardScaler</label><div class=\"sk-toggleable__content\"><pre>StandardScaler()</pre></div></div></div><div class=\"sk-item\"><div class=\"sk-estimator sk-toggleable\"><input class=\"sk-toggleable__control sk-hidden--visually\" id=\"sk-estimator-id-4\" type=\"checkbox\" ><label for=\"sk-estimator-id-4\" class=\"sk-toggleable__label sk-toggleable__label-arrow\">LogisticRegression</label><div class=\"sk-toggleable__content\"><pre>LogisticRegression(C=0.001)</pre></div></div></div></div></div></div></div>"
      ],
      "text/plain": [
       "Pipeline(steps=[('normalise', StandardScaler()),\n",
       "                ('model', LogisticRegression(C=0.001))])"
      ]
     },
     "execution_count": 11,
     "metadata": {},
     "output_type": "execute_result"
    }
   ],
   "source": [
    "orig_fitgrid.best_estimator_"
   ]
  },
  {
   "cell_type": "markdown",
   "id": "1e368e55",
   "metadata": {},
   "source": [
    "The best model was normalized using StandardScaler and had a C value of 0.001. To get the results from this model I need to re-fit a LR model with the parameters selected by gridsearch. First I will scale X_train and transform the X_train and X_validation data sets."
   ]
  },
  {
   "cell_type": "code",
   "execution_count": 12,
   "id": "d5841a09",
   "metadata": {},
   "outputs": [],
   "source": [
    "# instantiate the scaler\n",
    "scaler = StandardScaler()\n",
    "\n",
    "#fit the scaler on X_train\n",
    "scaler.fit(X_train)\n",
    "\n",
    "# transform X_train and X_validation\n",
    "X_train_s = scaler.transform(X_train)\n",
    "X_validation_s = scaler.transform(X_validation)"
   ]
  },
  {
   "cell_type": "markdown",
   "id": "705d8fb4",
   "metadata": {},
   "source": [
    "#### Optimized Logisitic Regression Model with Original Data"
   ]
  },
  {
   "cell_type": "code",
   "execution_count": 13,
   "id": "4552df41",
   "metadata": {},
   "outputs": [
    {
     "data": {
      "text/html": [
       "<style>#sk-container-id-3 {color: black;background-color: white;}#sk-container-id-3 pre{padding: 0;}#sk-container-id-3 div.sk-toggleable {background-color: white;}#sk-container-id-3 label.sk-toggleable__label {cursor: pointer;display: block;width: 100%;margin-bottom: 0;padding: 0.3em;box-sizing: border-box;text-align: center;}#sk-container-id-3 label.sk-toggleable__label-arrow:before {content: \"▸\";float: left;margin-right: 0.25em;color: #696969;}#sk-container-id-3 label.sk-toggleable__label-arrow:hover:before {color: black;}#sk-container-id-3 div.sk-estimator:hover label.sk-toggleable__label-arrow:before {color: black;}#sk-container-id-3 div.sk-toggleable__content {max-height: 0;max-width: 0;overflow: hidden;text-align: left;background-color: #f0f8ff;}#sk-container-id-3 div.sk-toggleable__content pre {margin: 0.2em;color: black;border-radius: 0.25em;background-color: #f0f8ff;}#sk-container-id-3 input.sk-toggleable__control:checked~div.sk-toggleable__content {max-height: 200px;max-width: 100%;overflow: auto;}#sk-container-id-3 input.sk-toggleable__control:checked~label.sk-toggleable__label-arrow:before {content: \"▾\";}#sk-container-id-3 div.sk-estimator input.sk-toggleable__control:checked~label.sk-toggleable__label {background-color: #d4ebff;}#sk-container-id-3 div.sk-label input.sk-toggleable__control:checked~label.sk-toggleable__label {background-color: #d4ebff;}#sk-container-id-3 input.sk-hidden--visually {border: 0;clip: rect(1px 1px 1px 1px);clip: rect(1px, 1px, 1px, 1px);height: 1px;margin: -1px;overflow: hidden;padding: 0;position: absolute;width: 1px;}#sk-container-id-3 div.sk-estimator {font-family: monospace;background-color: #f0f8ff;border: 1px dotted black;border-radius: 0.25em;box-sizing: border-box;margin-bottom: 0.5em;}#sk-container-id-3 div.sk-estimator:hover {background-color: #d4ebff;}#sk-container-id-3 div.sk-parallel-item::after {content: \"\";width: 100%;border-bottom: 1px solid gray;flex-grow: 1;}#sk-container-id-3 div.sk-label:hover label.sk-toggleable__label {background-color: #d4ebff;}#sk-container-id-3 div.sk-serial::before {content: \"\";position: absolute;border-left: 1px solid gray;box-sizing: border-box;top: 0;bottom: 0;left: 50%;z-index: 0;}#sk-container-id-3 div.sk-serial {display: flex;flex-direction: column;align-items: center;background-color: white;padding-right: 0.2em;padding-left: 0.2em;position: relative;}#sk-container-id-3 div.sk-item {position: relative;z-index: 1;}#sk-container-id-3 div.sk-parallel {display: flex;align-items: stretch;justify-content: center;background-color: white;position: relative;}#sk-container-id-3 div.sk-item::before, #sk-container-id-3 div.sk-parallel-item::before {content: \"\";position: absolute;border-left: 1px solid gray;box-sizing: border-box;top: 0;bottom: 0;left: 50%;z-index: -1;}#sk-container-id-3 div.sk-parallel-item {display: flex;flex-direction: column;z-index: 1;position: relative;background-color: white;}#sk-container-id-3 div.sk-parallel-item:first-child::after {align-self: flex-end;width: 50%;}#sk-container-id-3 div.sk-parallel-item:last-child::after {align-self: flex-start;width: 50%;}#sk-container-id-3 div.sk-parallel-item:only-child::after {width: 0;}#sk-container-id-3 div.sk-dashed-wrapped {border: 1px dashed gray;margin: 0 0.4em 0.5em 0.4em;box-sizing: border-box;padding-bottom: 0.4em;background-color: white;}#sk-container-id-3 div.sk-label label {font-family: monospace;font-weight: bold;display: inline-block;line-height: 1.2em;}#sk-container-id-3 div.sk-label-container {text-align: center;}#sk-container-id-3 div.sk-container {/* jupyter's `normalize.less` sets `[hidden] { display: none; }` but bootstrap.min.css set `[hidden] { display: none !important; }` so we also need the `!important` here to be able to override the default hidden behavior on the sphinx rendered scikit-learn.org. See: https://github.com/scikit-learn/scikit-learn/issues/21755 */display: inline-block !important;position: relative;}#sk-container-id-3 div.sk-text-repr-fallback {display: none;}</style><div id=\"sk-container-id-3\" class=\"sk-top-container\"><div class=\"sk-text-repr-fallback\"><pre>LogisticRegression(C=0.001, max_iter=10000, random_state=10)</pre><b>In a Jupyter environment, please rerun this cell to show the HTML representation or trust the notebook. <br />On GitHub, the HTML representation is unable to render, please try loading this page with nbviewer.org.</b></div><div class=\"sk-container\" hidden><div class=\"sk-item\"><div class=\"sk-estimator sk-toggleable\"><input class=\"sk-toggleable__control sk-hidden--visually\" id=\"sk-estimator-id-5\" type=\"checkbox\" checked><label for=\"sk-estimator-id-5\" class=\"sk-toggleable__label sk-toggleable__label-arrow\">LogisticRegression</label><div class=\"sk-toggleable__content\"><pre>LogisticRegression(C=0.001, max_iter=10000, random_state=10)</pre></div></div></div></div></div>"
      ],
      "text/plain": [
       "LogisticRegression(C=0.001, max_iter=10000, random_state=10)"
      ]
     },
     "execution_count": 13,
     "metadata": {},
     "output_type": "execute_result"
    }
   ],
   "source": [
    "#Model with original scaled data\n",
    "\n",
    "#instantiate the model\n",
    "LR_model_orig = LogisticRegression(random_state = 10, max_iter = 10000, C = 0.001)\n",
    "\n",
    "# fit the model\n",
    "LR_model_orig.fit(X_train_s, y_train)"
   ]
  },
  {
   "cell_type": "markdown",
   "id": "36df0738",
   "metadata": {},
   "source": [
    "Plot the confusion matrix using the scaled X_validation set, the y_validation set and the Logistic Regression model outputs."
   ]
  },
  {
   "cell_type": "code",
   "execution_count": 14,
   "id": "67ab1828",
   "metadata": {
    "scrolled": false
   },
   "outputs": [
    {
     "data": {
      "image/png": "[encoded data removed]",
      "text/plain": [
       "<Figure size 432x288 with 2 Axes>"
      ]
     },
     "metadata": {
      "needs_background": "light"
     },
     "output_type": "display_data"
    }
   ],
   "source": [
    "plot_confusion_matrix(LR_model_orig, X_validation_s, y_validation)\n",
    "plt.title(\"Original Data Confusion Matrix\");"
   ]
  },
  {
   "cell_type": "markdown",
   "id": "a4d8ba52",
   "metadata": {},
   "source": [
    "The model improves at predicting class 1 using scaled data, but it is still predicting Class 0 the majority of the time."
   ]
  },
  {
   "cell_type": "markdown",
   "id": "3095c3d6",
   "metadata": {},
   "source": [
    "Make predictions using the scaled X_validation_s set."
   ]
  },
  {
   "cell_type": "code",
   "execution_count": 15,
   "id": "87b734a0",
   "metadata": {},
   "outputs": [],
   "source": [
    "y_predictions_orig = LR_model_orig.predict(X_validation_s)"
   ]
  },
  {
   "cell_type": "markdown",
   "id": "b98e4fbd",
   "metadata": {},
   "source": [
    "Use the predictions and the y_validation data set to create a classification report."
   ]
  },
  {
   "cell_type": "code",
   "execution_count": 16,
   "id": "8ac7c528",
   "metadata": {
    "scrolled": true
   },
   "outputs": [
    {
     "name": "stdout",
     "output_type": "stream",
     "text": [
      "              precision    recall  f1-score   support\n",
      "\n",
      "           0       0.76      0.98      0.86     97346\n",
      "           1       0.63      0.10      0.17     32967\n",
      "\n",
      "    accuracy                           0.76    130313\n",
      "   macro avg       0.70      0.54      0.51    130313\n",
      "weighted avg       0.73      0.76      0.68    130313\n",
      "\n"
     ]
    }
   ],
   "source": [
    "report_orig = classification_report(y_validation, y_predictions_orig)\n",
    "print(report_orig)"
   ]
  },
  {
   "cell_type": "markdown",
   "id": "94efbc95",
   "metadata": {},
   "source": [
    "The optimized Logistic Regression model using the original data has improved the precision and the recall for class 1, but as seen above in the Confusion Matrix it's still doing a poor job of predicting Class 1."
   ]
  },
  {
   "cell_type": "markdown",
   "id": "e9423d20",
   "metadata": {},
   "source": [
    "Tuning the hyperparameters for the basic Logistic Regression model has already improved the precision, recall and f1-score for Class 1, as well as the AUC score. I will now repeat the same steps for the upsampled, downsampled and SMOTE upsampled data. "
   ]
  },
  {
   "cell_type": "markdown",
   "id": "ac101b87",
   "metadata": {},
   "source": [
    "---"
   ]
  },
  {
   "cell_type": "markdown",
   "id": "0f0577bc",
   "metadata": {},
   "source": [
    "###  Upsampled Data"
   ]
  },
  {
   "cell_type": "markdown",
   "id": "77a456cf",
   "metadata": {},
   "source": [
    "Read in the upsampled X_train and y_train data."
   ]
  },
  {
   "cell_type": "code",
   "execution_count": 17,
   "id": "addc050a",
   "metadata": {},
   "outputs": [],
   "source": [
    "X_train_up = pd.read_pickle(\"data/X_train_over.pkl\")\n",
    "y_train_up = pd.read_pickle(\"data/y_train_over.pkl\")"
   ]
  },
  {
   "cell_type": "code",
   "execution_count": 18,
   "id": "e4d940f9",
   "metadata": {
    "scrolled": true
   },
   "outputs": [
    {
     "name": "stdout",
     "output_type": "stream",
     "text": [
      "Fitting 5 folds for each of 12 candidates, totalling 60 fits\n",
      "[CV] END model=LogisticRegression(), model__C=0.001, normalise=StandardScaler(); total time=   0.9s\n",
      "[CV] END model=LogisticRegression(), model__C=0.001, normalise=StandardScaler(); total time=   0.8s\n",
      "[CV] END model=LogisticRegression(), model__C=0.001, normalise=StandardScaler(); total time=   0.8s\n",
      "[CV] END model=LogisticRegression(), model__C=0.001, normalise=StandardScaler(); total time=   0.8s\n",
      "[CV] END model=LogisticRegression(), model__C=0.001, normalise=StandardScaler(); total time=   0.8s\n",
      "[CV] END model=LogisticRegression(), model__C=0.001, normalise=None; total time=   0.8s\n",
      "[CV] END model=LogisticRegression(), model__C=0.001, normalise=None; total time=   0.7s\n",
      "[CV] END model=LogisticRegression(), model__C=0.001, normalise=None; total time=   0.7s\n",
      "[CV] END model=LogisticRegression(), model__C=0.001, normalise=None; total time=   0.7s\n",
      "[CV] END model=LogisticRegression(), model__C=0.001, normalise=None; total time=   0.7s\n",
      "[CV] END model=LogisticRegression(), model__C=0.01, normalise=StandardScaler(); total time=   0.8s\n",
      "[CV] END model=LogisticRegression(), model__C=0.01, normalise=StandardScaler(); total time=   0.8s\n",
      "[CV] END model=LogisticRegression(), model__C=0.01, normalise=StandardScaler(); total time=   0.8s\n",
      "[CV] END model=LogisticRegression(), model__C=0.01, normalise=StandardScaler(); total time=   0.8s\n",
      "[CV] END model=LogisticRegression(), model__C=0.01, normalise=StandardScaler(); total time=   0.8s\n",
      "[CV] END model=LogisticRegression(), model__C=0.01, normalise=None; total time=   0.7s\n",
      "[CV] END model=LogisticRegression(), model__C=0.01, normalise=None; total time=   0.7s\n",
      "[CV] END model=LogisticRegression(), model__C=0.01, normalise=None; total time=   0.7s\n",
      "[CV] END model=LogisticRegression(), model__C=0.01, normalise=None; total time=   0.7s\n",
      "[CV] END model=LogisticRegression(), model__C=0.01, normalise=None; total time=   0.7s\n",
      "[CV] END model=LogisticRegression(), model__C=0.1, normalise=StandardScaler(); total time=   0.8s\n",
      "[CV] END model=LogisticRegression(), model__C=0.1, normalise=StandardScaler(); total time=   0.8s\n",
      "[CV] END model=LogisticRegression(), model__C=0.1, normalise=StandardScaler(); total time=   0.8s\n",
      "[CV] END model=LogisticRegression(), model__C=0.1, normalise=StandardScaler(); total time=   0.8s\n",
      "[CV] END model=LogisticRegression(), model__C=0.1, normalise=StandardScaler(); total time=   0.8s\n",
      "[CV] END model=LogisticRegression(), model__C=0.1, normalise=None; total time=   0.7s\n",
      "[CV] END model=LogisticRegression(), model__C=0.1, normalise=None; total time=   0.7s\n",
      "[CV] END model=LogisticRegression(), model__C=0.1, normalise=None; total time=   0.7s\n",
      "[CV] END model=LogisticRegression(), model__C=0.1, normalise=None; total time=   0.7s\n",
      "[CV] END model=LogisticRegression(), model__C=0.1, normalise=None; total time=   0.7s\n",
      "[CV] END model=LogisticRegression(), model__C=1, normalise=StandardScaler(); total time=   0.8s\n",
      "[CV] END model=LogisticRegression(), model__C=1, normalise=StandardScaler(); total time=   0.8s\n",
      "[CV] END model=LogisticRegression(), model__C=1, normalise=StandardScaler(); total time=   0.8s\n",
      "[CV] END model=LogisticRegression(), model__C=1, normalise=StandardScaler(); total time=   0.8s\n",
      "[CV] END model=LogisticRegression(), model__C=1, normalise=StandardScaler(); total time=   0.8s\n",
      "[CV] END model=LogisticRegression(), model__C=1, normalise=None; total time=   0.7s\n",
      "[CV] END model=LogisticRegression(), model__C=1, normalise=None; total time=   0.7s\n",
      "[CV] END model=LogisticRegression(), model__C=1, normalise=None; total time=   0.7s\n",
      "[CV] END model=LogisticRegression(), model__C=1, normalise=None; total time=   0.7s\n",
      "[CV] END model=LogisticRegression(), model__C=1, normalise=None; total time=   0.7s\n",
      "[CV] END model=LogisticRegression(), model__C=10, normalise=StandardScaler(); total time=   0.8s\n",
      "[CV] END model=LogisticRegression(), model__C=10, normalise=StandardScaler(); total time=   0.8s\n",
      "[CV] END model=LogisticRegression(), model__C=10, normalise=StandardScaler(); total time=   0.8s\n",
      "[CV] END model=LogisticRegression(), model__C=10, normalise=StandardScaler(); total time=   0.8s\n",
      "[CV] END model=LogisticRegression(), model__C=10, normalise=StandardScaler(); total time=   0.8s\n",
      "[CV] END model=LogisticRegression(), model__C=10, normalise=None; total time=   0.7s\n",
      "[CV] END model=LogisticRegression(), model__C=10, normalise=None; total time=   0.7s\n",
      "[CV] END model=LogisticRegression(), model__C=10, normalise=None; total time=   0.7s\n",
      "[CV] END model=LogisticRegression(), model__C=10, normalise=None; total time=   0.7s\n",
      "[CV] END model=LogisticRegression(), model__C=10, normalise=None; total time=   0.7s\n",
      "[CV] END model=LogisticRegression(), model__C=100, normalise=StandardScaler(); total time=   0.8s\n",
      "[CV] END model=LogisticRegression(), model__C=100, normalise=StandardScaler(); total time=   0.8s\n",
      "[CV] END model=LogisticRegression(), model__C=100, normalise=StandardScaler(); total time=   0.8s\n",
      "[CV] END model=LogisticRegression(), model__C=100, normalise=StandardScaler(); total time=   0.8s\n",
      "[CV] END model=LogisticRegression(), model__C=100, normalise=StandardScaler(); total time=   0.8s\n",
      "[CV] END model=LogisticRegression(), model__C=100, normalise=None; total time=   0.7s\n",
      "[CV] END model=LogisticRegression(), model__C=100, normalise=None; total time=   0.7s\n",
      "[CV] END model=LogisticRegression(), model__C=100, normalise=None; total time=   0.7s\n",
      "[CV] END model=LogisticRegression(), model__C=100, normalise=None; total time=   0.7s\n",
      "[CV] END model=LogisticRegression(), model__C=100, normalise=None; total time=   0.7s\n"
     ]
    }
   ],
   "source": [
    "# store estimators\n",
    "estimators = [('normalise', StandardScaler()),\n",
    "              ('model', LogisticRegression())]\n",
    "\n",
    "# instantiate pipeline\n",
    "pipe = Pipeline(estimators)\n",
    "\n",
    "# create parameters for gridsearch\n",
    "parameters = [\n",
    "            {'model': [LogisticRegression()], \n",
    "             'normalise': [StandardScaler(), None],\n",
    "             'model__C': [0.001, 0.01, 0.1, 1, 10, 100]}\n",
    "]\n",
    "\n",
    "#instantiate gridsearch\n",
    "up_grid = GridSearchCV(pipe, parameters, cv = 5, verbose = 2, scoring = 'roc_auc')\n",
    "\n",
    "# fit the grid on the upsampled X_train and y_train data\n",
    "up_fitgrid = up_grid.fit(X_train_up, y_train_up)"
   ]
  },
  {
   "cell_type": "markdown",
   "id": "25fed1cf",
   "metadata": {},
   "source": [
    "Save the grid output using `dump` from the joblib library."
   ]
  },
  {
   "cell_type": "code",
   "execution_count": 19,
   "id": "4eb89885",
   "metadata": {},
   "outputs": [
    {
     "data": {
      "text/plain": [
       "['Models/LR_up_grid.pkl']"
      ]
     },
     "execution_count": 19,
     "metadata": {},
     "output_type": "execute_result"
    }
   ],
   "source": [
    "# select the output to save and give it a name\n",
    "# saves as a .pkl file\n",
    "\n",
    "joblib.dump(up_fitgrid, 'Models/LR_up_grid.pkl')"
   ]
  },
  {
   "cell_type": "markdown",
   "id": "04bef495",
   "metadata": {},
   "source": [
    "The grid has fit on X_train_up and y_train_up. \n",
    "\n",
    "The results of the gridsearch can be saved in a dataframe using `cv_results` to get the grid outputs."
   ]
  },
  {
   "cell_type": "code",
   "execution_count": 20,
   "id": "9674adeb",
   "metadata": {},
   "outputs": [
    {
     "data": {
      "text/html": [
       "<div>\n",
       "<style scoped>\n",
       "    .dataframe tbody tr th:only-of-type {\n",
       "        vertical-align: middle;\n",
       "    }\n",
       "\n",
       "    .dataframe tbody tr th {\n",
       "        vertical-align: top;\n",
       "    }\n",
       "\n",
       "    .dataframe thead th {\n",
       "        text-align: right;\n",
       "    }\n",
       "</style>\n",
       "<table border=\"1\" class=\"dataframe\">\n",
       "  <thead>\n",
       "    <tr style=\"text-align: right;\">\n",
       "      <th></th>\n",
       "      <th>mean_fit_time</th>\n",
       "      <th>std_fit_time</th>\n",
       "      <th>mean_score_time</th>\n",
       "      <th>std_score_time</th>\n",
       "      <th>param_model</th>\n",
       "      <th>param_model__C</th>\n",
       "      <th>param_normalise</th>\n",
       "      <th>params</th>\n",
       "      <th>split0_test_score</th>\n",
       "      <th>split1_test_score</th>\n",
       "      <th>split2_test_score</th>\n",
       "      <th>split3_test_score</th>\n",
       "      <th>split4_test_score</th>\n",
       "      <th>mean_test_score</th>\n",
       "      <th>std_test_score</th>\n",
       "      <th>rank_test_score</th>\n",
       "    </tr>\n",
       "  </thead>\n",
       "  <tbody>\n",
       "    <tr>\n",
       "      <th>0</th>\n",
       "      <td>0.672193</td>\n",
       "      <td>0.015622</td>\n",
       "      <td>0.172965</td>\n",
       "      <td>0.002826</td>\n",
       "      <td>LogisticRegression(C=0.001)</td>\n",
       "      <td>0.001</td>\n",
       "      <td>StandardScaler()</td>\n",
       "      <td>{'model': LogisticRegression(C=0.001), 'model_...</td>\n",
       "      <td>0.678358</td>\n",
       "      <td>0.680919</td>\n",
       "      <td>0.679750</td>\n",
       "      <td>0.678769</td>\n",
       "      <td>0.678121</td>\n",
       "      <td>0.679183</td>\n",
       "      <td>0.001031</td>\n",
       "      <td>1</td>\n",
       "    </tr>\n",
       "    <tr>\n",
       "      <th>1</th>\n",
       "      <td>0.572288</td>\n",
       "      <td>0.009363</td>\n",
       "      <td>0.168598</td>\n",
       "      <td>0.001329</td>\n",
       "      <td>LogisticRegression(C=0.001)</td>\n",
       "      <td>0.001</td>\n",
       "      <td>None</td>\n",
       "      <td>{'model': LogisticRegression(C=0.001), 'model_...</td>\n",
       "      <td>0.541776</td>\n",
       "      <td>0.541274</td>\n",
       "      <td>0.541293</td>\n",
       "      <td>0.545808</td>\n",
       "      <td>0.540755</td>\n",
       "      <td>0.542181</td>\n",
       "      <td>0.001842</td>\n",
       "      <td>7</td>\n",
       "    </tr>\n",
       "    <tr>\n",
       "      <th>2</th>\n",
       "      <td>0.648110</td>\n",
       "      <td>0.002560</td>\n",
       "      <td>0.171059</td>\n",
       "      <td>0.000917</td>\n",
       "      <td>LogisticRegression(C=0.001)</td>\n",
       "      <td>0.01</td>\n",
       "      <td>StandardScaler()</td>\n",
       "      <td>{'model': LogisticRegression(C=0.001), 'model_...</td>\n",
       "      <td>0.678356</td>\n",
       "      <td>0.680922</td>\n",
       "      <td>0.679766</td>\n",
       "      <td>0.678753</td>\n",
       "      <td>0.678120</td>\n",
       "      <td>0.679183</td>\n",
       "      <td>0.001036</td>\n",
       "      <td>2</td>\n",
       "    </tr>\n",
       "    <tr>\n",
       "      <th>3</th>\n",
       "      <td>0.553683</td>\n",
       "      <td>0.005940</td>\n",
       "      <td>0.168224</td>\n",
       "      <td>0.000178</td>\n",
       "      <td>LogisticRegression(C=0.001)</td>\n",
       "      <td>0.01</td>\n",
       "      <td>None</td>\n",
       "      <td>{'model': LogisticRegression(C=0.001), 'model_...</td>\n",
       "      <td>0.541776</td>\n",
       "      <td>0.541274</td>\n",
       "      <td>0.541293</td>\n",
       "      <td>0.545808</td>\n",
       "      <td>0.540755</td>\n",
       "      <td>0.542181</td>\n",
       "      <td>0.001842</td>\n",
       "      <td>7</td>\n",
       "    </tr>\n",
       "    <tr>\n",
       "      <th>4</th>\n",
       "      <td>0.650445</td>\n",
       "      <td>0.011650</td>\n",
       "      <td>0.172026</td>\n",
       "      <td>0.001364</td>\n",
       "      <td>LogisticRegression(C=0.001)</td>\n",
       "      <td>0.1</td>\n",
       "      <td>StandardScaler()</td>\n",
       "      <td>{'model': LogisticRegression(C=0.001), 'model_...</td>\n",
       "      <td>0.678355</td>\n",
       "      <td>0.680923</td>\n",
       "      <td>0.679767</td>\n",
       "      <td>0.678751</td>\n",
       "      <td>0.678120</td>\n",
       "      <td>0.679183</td>\n",
       "      <td>0.001036</td>\n",
       "      <td>5</td>\n",
       "    </tr>\n",
       "    <tr>\n",
       "      <th>5</th>\n",
       "      <td>0.551658</td>\n",
       "      <td>0.003733</td>\n",
       "      <td>0.168917</td>\n",
       "      <td>0.001219</td>\n",
       "      <td>LogisticRegression(C=0.001)</td>\n",
       "      <td>0.1</td>\n",
       "      <td>None</td>\n",
       "      <td>{'model': LogisticRegression(C=0.001), 'model_...</td>\n",
       "      <td>0.541776</td>\n",
       "      <td>0.541274</td>\n",
       "      <td>0.541293</td>\n",
       "      <td>0.545808</td>\n",
       "      <td>0.540755</td>\n",
       "      <td>0.542181</td>\n",
       "      <td>0.001842</td>\n",
       "      <td>7</td>\n",
       "    </tr>\n",
       "    <tr>\n",
       "      <th>6</th>\n",
       "      <td>0.645661</td>\n",
       "      <td>0.003176</td>\n",
       "      <td>0.170767</td>\n",
       "      <td>0.001421</td>\n",
       "      <td>LogisticRegression(C=0.001)</td>\n",
       "      <td>1</td>\n",
       "      <td>StandardScaler()</td>\n",
       "      <td>{'model': LogisticRegression(C=0.001), 'model_...</td>\n",
       "      <td>0.678355</td>\n",
       "      <td>0.680923</td>\n",
       "      <td>0.679767</td>\n",
       "      <td>0.678751</td>\n",
       "      <td>0.678120</td>\n",
       "      <td>0.679183</td>\n",
       "      <td>0.001036</td>\n",
       "      <td>6</td>\n",
       "    </tr>\n",
       "    <tr>\n",
       "      <th>7</th>\n",
       "      <td>0.554342</td>\n",
       "      <td>0.003853</td>\n",
       "      <td>0.167870</td>\n",
       "      <td>0.001882</td>\n",
       "      <td>LogisticRegression(C=0.001)</td>\n",
       "      <td>1</td>\n",
       "      <td>None</td>\n",
       "      <td>{'model': LogisticRegression(C=0.001), 'model_...</td>\n",
       "      <td>0.541776</td>\n",
       "      <td>0.541274</td>\n",
       "      <td>0.541293</td>\n",
       "      <td>0.545808</td>\n",
       "      <td>0.540755</td>\n",
       "      <td>0.542181</td>\n",
       "      <td>0.001842</td>\n",
       "      <td>7</td>\n",
       "    </tr>\n",
       "    <tr>\n",
       "      <th>8</th>\n",
       "      <td>0.647865</td>\n",
       "      <td>0.003517</td>\n",
       "      <td>0.170436</td>\n",
       "      <td>0.001790</td>\n",
       "      <td>LogisticRegression(C=0.001)</td>\n",
       "      <td>10</td>\n",
       "      <td>StandardScaler()</td>\n",
       "      <td>{'model': LogisticRegression(C=0.001), 'model_...</td>\n",
       "      <td>0.678355</td>\n",
       "      <td>0.680923</td>\n",
       "      <td>0.679767</td>\n",
       "      <td>0.678751</td>\n",
       "      <td>0.678120</td>\n",
       "      <td>0.679183</td>\n",
       "      <td>0.001036</td>\n",
       "      <td>4</td>\n",
       "    </tr>\n",
       "    <tr>\n",
       "      <th>9</th>\n",
       "      <td>0.553871</td>\n",
       "      <td>0.001813</td>\n",
       "      <td>0.168064</td>\n",
       "      <td>0.000814</td>\n",
       "      <td>LogisticRegression(C=0.001)</td>\n",
       "      <td>10</td>\n",
       "      <td>None</td>\n",
       "      <td>{'model': LogisticRegression(C=0.001), 'model_...</td>\n",
       "      <td>0.541776</td>\n",
       "      <td>0.541274</td>\n",
       "      <td>0.541293</td>\n",
       "      <td>0.545808</td>\n",
       "      <td>0.540755</td>\n",
       "      <td>0.542181</td>\n",
       "      <td>0.001842</td>\n",
       "      <td>7</td>\n",
       "    </tr>\n",
       "    <tr>\n",
       "      <th>10</th>\n",
       "      <td>0.649859</td>\n",
       "      <td>0.004355</td>\n",
       "      <td>0.170510</td>\n",
       "      <td>0.002152</td>\n",
       "      <td>LogisticRegression(C=0.001)</td>\n",
       "      <td>100</td>\n",
       "      <td>StandardScaler()</td>\n",
       "      <td>{'model': LogisticRegression(C=0.001), 'model_...</td>\n",
       "      <td>0.678355</td>\n",
       "      <td>0.680923</td>\n",
       "      <td>0.679767</td>\n",
       "      <td>0.678751</td>\n",
       "      <td>0.678120</td>\n",
       "      <td>0.679183</td>\n",
       "      <td>0.001036</td>\n",
       "      <td>3</td>\n",
       "    </tr>\n",
       "    <tr>\n",
       "      <th>11</th>\n",
       "      <td>0.555780</td>\n",
       "      <td>0.003637</td>\n",
       "      <td>0.167353</td>\n",
       "      <td>0.001428</td>\n",
       "      <td>LogisticRegression(C=0.001)</td>\n",
       "      <td>100</td>\n",
       "      <td>None</td>\n",
       "      <td>{'model': LogisticRegression(C=0.001), 'model_...</td>\n",
       "      <td>0.541776</td>\n",
       "      <td>0.541274</td>\n",
       "      <td>0.541293</td>\n",
       "      <td>0.545808</td>\n",
       "      <td>0.540755</td>\n",
       "      <td>0.542181</td>\n",
       "      <td>0.001842</td>\n",
       "      <td>7</td>\n",
       "    </tr>\n",
       "  </tbody>\n",
       "</table>\n",
       "</div>"
      ],
      "text/plain": [
       "    mean_fit_time  std_fit_time  mean_score_time  std_score_time  \\\n",
       "0        0.672193      0.015622         0.172965        0.002826   \n",
       "1        0.572288      0.009363         0.168598        0.001329   \n",
       "2        0.648110      0.002560         0.171059        0.000917   \n",
       "3        0.553683      0.005940         0.168224        0.000178   \n",
       "4        0.650445      0.011650         0.172026        0.001364   \n",
       "5        0.551658      0.003733         0.168917        0.001219   \n",
       "6        0.645661      0.003176         0.170767        0.001421   \n",
       "7        0.554342      0.003853         0.167870        0.001882   \n",
       "8        0.647865      0.003517         0.170436        0.001790   \n",
       "9        0.553871      0.001813         0.168064        0.000814   \n",
       "10       0.649859      0.004355         0.170510        0.002152   \n",
       "11       0.555780      0.003637         0.167353        0.001428   \n",
       "\n",
       "                    param_model param_model__C   param_normalise  \\\n",
       "0   LogisticRegression(C=0.001)          0.001  StandardScaler()   \n",
       "1   LogisticRegression(C=0.001)          0.001              None   \n",
       "2   LogisticRegression(C=0.001)           0.01  StandardScaler()   \n",
       "3   LogisticRegression(C=0.001)           0.01              None   \n",
       "4   LogisticRegression(C=0.001)            0.1  StandardScaler()   \n",
       "5   LogisticRegression(C=0.001)            0.1              None   \n",
       "6   LogisticRegression(C=0.001)              1  StandardScaler()   \n",
       "7   LogisticRegression(C=0.001)              1              None   \n",
       "8   LogisticRegression(C=0.001)             10  StandardScaler()   \n",
       "9   LogisticRegression(C=0.001)             10              None   \n",
       "10  LogisticRegression(C=0.001)            100  StandardScaler()   \n",
       "11  LogisticRegression(C=0.001)            100              None   \n",
       "\n",
       "                                               params  split0_test_score  \\\n",
       "0   {'model': LogisticRegression(C=0.001), 'model_...           0.678358   \n",
       "1   {'model': LogisticRegression(C=0.001), 'model_...           0.541776   \n",
       "2   {'model': LogisticRegression(C=0.001), 'model_...           0.678356   \n",
       "3   {'model': LogisticRegression(C=0.001), 'model_...           0.541776   \n",
       "4   {'model': LogisticRegression(C=0.001), 'model_...           0.678355   \n",
       "5   {'model': LogisticRegression(C=0.001), 'model_...           0.541776   \n",
       "6   {'model': LogisticRegression(C=0.001), 'model_...           0.678355   \n",
       "7   {'model': LogisticRegression(C=0.001), 'model_...           0.541776   \n",
       "8   {'model': LogisticRegression(C=0.001), 'model_...           0.678355   \n",
       "9   {'model': LogisticRegression(C=0.001), 'model_...           0.541776   \n",
       "10  {'model': LogisticRegression(C=0.001), 'model_...           0.678355   \n",
       "11  {'model': LogisticRegression(C=0.001), 'model_...           0.541776   \n",
       "\n",
       "    split1_test_score  split2_test_score  split3_test_score  \\\n",
       "0            0.680919           0.679750           0.678769   \n",
       "1            0.541274           0.541293           0.545808   \n",
       "2            0.680922           0.679766           0.678753   \n",
       "3            0.541274           0.541293           0.545808   \n",
       "4            0.680923           0.679767           0.678751   \n",
       "5            0.541274           0.541293           0.545808   \n",
       "6            0.680923           0.679767           0.678751   \n",
       "7            0.541274           0.541293           0.545808   \n",
       "8            0.680923           0.679767           0.678751   \n",
       "9            0.541274           0.541293           0.545808   \n",
       "10           0.680923           0.679767           0.678751   \n",
       "11           0.541274           0.541293           0.545808   \n",
       "\n",
       "    split4_test_score  mean_test_score  std_test_score  rank_test_score  \n",
       "0            0.678121         0.679183        0.001031                1  \n",
       "1            0.540755         0.542181        0.001842                7  \n",
       "2            0.678120         0.679183        0.001036                2  \n",
       "3            0.540755         0.542181        0.001842                7  \n",
       "4            0.678120         0.679183        0.001036                5  \n",
       "5            0.540755         0.542181        0.001842                7  \n",
       "6            0.678120         0.679183        0.001036                6  \n",
       "7            0.540755         0.542181        0.001842                7  \n",
       "8            0.678120         0.679183        0.001036                4  \n",
       "9            0.540755         0.542181        0.001842                7  \n",
       "10           0.678120         0.679183        0.001036                3  \n",
       "11           0.540755         0.542181        0.001842                7  "
      ]
     },
     "execution_count": 20,
     "metadata": {},
     "output_type": "execute_result"
    }
   ],
   "source": [
    "up_df = pd.DataFrame(up_fitgrid.cv_results_)\n",
    "up_df"
   ]
  },
  {
   "cell_type": "markdown",
   "id": "4f06e767",
   "metadata": {},
   "source": [
    "Use `best_estimator_` to get the optimal hyperparameters for this data."
   ]
  },
  {
   "cell_type": "code",
   "execution_count": 21,
   "id": "b51a7106",
   "metadata": {
    "scrolled": true
   },
   "outputs": [
    {
     "data": {
      "text/html": [
       "<style>#sk-container-id-4 {color: black;background-color: white;}#sk-container-id-4 pre{padding: 0;}#sk-container-id-4 div.sk-toggleable {background-color: white;}#sk-container-id-4 label.sk-toggleable__label {cursor: pointer;display: block;width: 100%;margin-bottom: 0;padding: 0.3em;box-sizing: border-box;text-align: center;}#sk-container-id-4 label.sk-toggleable__label-arrow:before {content: \"▸\";float: left;margin-right: 0.25em;color: #696969;}#sk-container-id-4 label.sk-toggleable__label-arrow:hover:before {color: black;}#sk-container-id-4 div.sk-estimator:hover label.sk-toggleable__label-arrow:before {color: black;}#sk-container-id-4 div.sk-toggleable__content {max-height: 0;max-width: 0;overflow: hidden;text-align: left;background-color: #f0f8ff;}#sk-container-id-4 div.sk-toggleable__content pre {margin: 0.2em;color: black;border-radius: 0.25em;background-color: #f0f8ff;}#sk-container-id-4 input.sk-toggleable__control:checked~div.sk-toggleable__content {max-height: 200px;max-width: 100%;overflow: auto;}#sk-container-id-4 input.sk-toggleable__control:checked~label.sk-toggleable__label-arrow:before {content: \"▾\";}#sk-container-id-4 div.sk-estimator input.sk-toggleable__control:checked~label.sk-toggleable__label {background-color: #d4ebff;}#sk-container-id-4 div.sk-label input.sk-toggleable__control:checked~label.sk-toggleable__label {background-color: #d4ebff;}#sk-container-id-4 input.sk-hidden--visually {border: 0;clip: rect(1px 1px 1px 1px);clip: rect(1px, 1px, 1px, 1px);height: 1px;margin: -1px;overflow: hidden;padding: 0;position: absolute;width: 1px;}#sk-container-id-4 div.sk-estimator {font-family: monospace;background-color: #f0f8ff;border: 1px dotted black;border-radius: 0.25em;box-sizing: border-box;margin-bottom: 0.5em;}#sk-container-id-4 div.sk-estimator:hover {background-color: #d4ebff;}#sk-container-id-4 div.sk-parallel-item::after {content: \"\";width: 100%;border-bottom: 1px solid gray;flex-grow: 1;}#sk-container-id-4 div.sk-label:hover label.sk-toggleable__label {background-color: #d4ebff;}#sk-container-id-4 div.sk-serial::before {content: \"\";position: absolute;border-left: 1px solid gray;box-sizing: border-box;top: 0;bottom: 0;left: 50%;z-index: 0;}#sk-container-id-4 div.sk-serial {display: flex;flex-direction: column;align-items: center;background-color: white;padding-right: 0.2em;padding-left: 0.2em;position: relative;}#sk-container-id-4 div.sk-item {position: relative;z-index: 1;}#sk-container-id-4 div.sk-parallel {display: flex;align-items: stretch;justify-content: center;background-color: white;position: relative;}#sk-container-id-4 div.sk-item::before, #sk-container-id-4 div.sk-parallel-item::before {content: \"\";position: absolute;border-left: 1px solid gray;box-sizing: border-box;top: 0;bottom: 0;left: 50%;z-index: -1;}#sk-container-id-4 div.sk-parallel-item {display: flex;flex-direction: column;z-index: 1;position: relative;background-color: white;}#sk-container-id-4 div.sk-parallel-item:first-child::after {align-self: flex-end;width: 50%;}#sk-container-id-4 div.sk-parallel-item:last-child::after {align-self: flex-start;width: 50%;}#sk-container-id-4 div.sk-parallel-item:only-child::after {width: 0;}#sk-container-id-4 div.sk-dashed-wrapped {border: 1px dashed gray;margin: 0 0.4em 0.5em 0.4em;box-sizing: border-box;padding-bottom: 0.4em;background-color: white;}#sk-container-id-4 div.sk-label label {font-family: monospace;font-weight: bold;display: inline-block;line-height: 1.2em;}#sk-container-id-4 div.sk-label-container {text-align: center;}#sk-container-id-4 div.sk-container {/* jupyter's `normalize.less` sets `[hidden] { display: none; }` but bootstrap.min.css set `[hidden] { display: none !important; }` so we also need the `!important` here to be able to override the default hidden behavior on the sphinx rendered scikit-learn.org. See: https://github.com/scikit-learn/scikit-learn/issues/21755 */display: inline-block !important;position: relative;}#sk-container-id-4 div.sk-text-repr-fallback {display: none;}</style><div id=\"sk-container-id-4\" class=\"sk-top-container\"><div class=\"sk-text-repr-fallback\"><pre>Pipeline(steps=[(&#x27;normalise&#x27;, StandardScaler()),\n",
       "                (&#x27;model&#x27;, LogisticRegression(C=0.001))])</pre><b>In a Jupyter environment, please rerun this cell to show the HTML representation or trust the notebook. <br />On GitHub, the HTML representation is unable to render, please try loading this page with nbviewer.org.</b></div><div class=\"sk-container\" hidden><div class=\"sk-item sk-dashed-wrapped\"><div class=\"sk-label-container\"><div class=\"sk-label sk-toggleable\"><input class=\"sk-toggleable__control sk-hidden--visually\" id=\"sk-estimator-id-6\" type=\"checkbox\" ><label for=\"sk-estimator-id-6\" class=\"sk-toggleable__label sk-toggleable__label-arrow\">Pipeline</label><div class=\"sk-toggleable__content\"><pre>Pipeline(steps=[(&#x27;normalise&#x27;, StandardScaler()),\n",
       "                (&#x27;model&#x27;, LogisticRegression(C=0.001))])</pre></div></div></div><div class=\"sk-serial\"><div class=\"sk-item\"><div class=\"sk-estimator sk-toggleable\"><input class=\"sk-toggleable__control sk-hidden--visually\" id=\"sk-estimator-id-7\" type=\"checkbox\" ><label for=\"sk-estimator-id-7\" class=\"sk-toggleable__label sk-toggleable__label-arrow\">StandardScaler</label><div class=\"sk-toggleable__content\"><pre>StandardScaler()</pre></div></div></div><div class=\"sk-item\"><div class=\"sk-estimator sk-toggleable\"><input class=\"sk-toggleable__control sk-hidden--visually\" id=\"sk-estimator-id-8\" type=\"checkbox\" ><label for=\"sk-estimator-id-8\" class=\"sk-toggleable__label sk-toggleable__label-arrow\">LogisticRegression</label><div class=\"sk-toggleable__content\"><pre>LogisticRegression(C=0.001)</pre></div></div></div></div></div></div></div>"
      ],
      "text/plain": [
       "Pipeline(steps=[('normalise', StandardScaler()),\n",
       "                ('model', LogisticRegression(C=0.001))])"
      ]
     },
     "execution_count": 21,
     "metadata": {},
     "output_type": "execute_result"
    }
   ],
   "source": [
    "up_fitgrid.best_estimator_"
   ]
  },
  {
   "cell_type": "markdown",
   "id": "78e456eb",
   "metadata": {},
   "source": [
    "The best model is normalized using Standard Scaler and has a C value of 0.001. Re-run the Logistic Regression model using Standard Scaler and C=0.001 to produce the confusion matrix and the precision, recall and f1-scores."
   ]
  },
  {
   "cell_type": "code",
   "execution_count": 22,
   "id": "163159b4",
   "metadata": {},
   "outputs": [
    {
     "data": {
      "text/html": [
       "<style>#sk-container-id-5 {color: black;background-color: white;}#sk-container-id-5 pre{padding: 0;}#sk-container-id-5 div.sk-toggleable {background-color: white;}#sk-container-id-5 label.sk-toggleable__label {cursor: pointer;display: block;width: 100%;margin-bottom: 0;padding: 0.3em;box-sizing: border-box;text-align: center;}#sk-container-id-5 label.sk-toggleable__label-arrow:before {content: \"▸\";float: left;margin-right: 0.25em;color: #696969;}#sk-container-id-5 label.sk-toggleable__label-arrow:hover:before {color: black;}#sk-container-id-5 div.sk-estimator:hover label.sk-toggleable__label-arrow:before {color: black;}#sk-container-id-5 div.sk-toggleable__content {max-height: 0;max-width: 0;overflow: hidden;text-align: left;background-color: #f0f8ff;}#sk-container-id-5 div.sk-toggleable__content pre {margin: 0.2em;color: black;border-radius: 0.25em;background-color: #f0f8ff;}#sk-container-id-5 input.sk-toggleable__control:checked~div.sk-toggleable__content {max-height: 200px;max-width: 100%;overflow: auto;}#sk-container-id-5 input.sk-toggleable__control:checked~label.sk-toggleable__label-arrow:before {content: \"▾\";}#sk-container-id-5 div.sk-estimator input.sk-toggleable__control:checked~label.sk-toggleable__label {background-color: #d4ebff;}#sk-container-id-5 div.sk-label input.sk-toggleable__control:checked~label.sk-toggleable__label {background-color: #d4ebff;}#sk-container-id-5 input.sk-hidden--visually {border: 0;clip: rect(1px 1px 1px 1px);clip: rect(1px, 1px, 1px, 1px);height: 1px;margin: -1px;overflow: hidden;padding: 0;position: absolute;width: 1px;}#sk-container-id-5 div.sk-estimator {font-family: monospace;background-color: #f0f8ff;border: 1px dotted black;border-radius: 0.25em;box-sizing: border-box;margin-bottom: 0.5em;}#sk-container-id-5 div.sk-estimator:hover {background-color: #d4ebff;}#sk-container-id-5 div.sk-parallel-item::after {content: \"\";width: 100%;border-bottom: 1px solid gray;flex-grow: 1;}#sk-container-id-5 div.sk-label:hover label.sk-toggleable__label {background-color: #d4ebff;}#sk-container-id-5 div.sk-serial::before {content: \"\";position: absolute;border-left: 1px solid gray;box-sizing: border-box;top: 0;bottom: 0;left: 50%;z-index: 0;}#sk-container-id-5 div.sk-serial {display: flex;flex-direction: column;align-items: center;background-color: white;padding-right: 0.2em;padding-left: 0.2em;position: relative;}#sk-container-id-5 div.sk-item {position: relative;z-index: 1;}#sk-container-id-5 div.sk-parallel {display: flex;align-items: stretch;justify-content: center;background-color: white;position: relative;}#sk-container-id-5 div.sk-item::before, #sk-container-id-5 div.sk-parallel-item::before {content: \"\";position: absolute;border-left: 1px solid gray;box-sizing: border-box;top: 0;bottom: 0;left: 50%;z-index: -1;}#sk-container-id-5 div.sk-parallel-item {display: flex;flex-direction: column;z-index: 1;position: relative;background-color: white;}#sk-container-id-5 div.sk-parallel-item:first-child::after {align-self: flex-end;width: 50%;}#sk-container-id-5 div.sk-parallel-item:last-child::after {align-self: flex-start;width: 50%;}#sk-container-id-5 div.sk-parallel-item:only-child::after {width: 0;}#sk-container-id-5 div.sk-dashed-wrapped {border: 1px dashed gray;margin: 0 0.4em 0.5em 0.4em;box-sizing: border-box;padding-bottom: 0.4em;background-color: white;}#sk-container-id-5 div.sk-label label {font-family: monospace;font-weight: bold;display: inline-block;line-height: 1.2em;}#sk-container-id-5 div.sk-label-container {text-align: center;}#sk-container-id-5 div.sk-container {/* jupyter's `normalize.less` sets `[hidden] { display: none; }` but bootstrap.min.css set `[hidden] { display: none !important; }` so we also need the `!important` here to be able to override the default hidden behavior on the sphinx rendered scikit-learn.org. See: https://github.com/scikit-learn/scikit-learn/issues/21755 */display: inline-block !important;position: relative;}#sk-container-id-5 div.sk-text-repr-fallback {display: none;}</style><div id=\"sk-container-id-5\" class=\"sk-top-container\"><div class=\"sk-text-repr-fallback\"><pre>LogisticRegression(C=0.001, max_iter=10000, random_state=10)</pre><b>In a Jupyter environment, please rerun this cell to show the HTML representation or trust the notebook. <br />On GitHub, the HTML representation is unable to render, please try loading this page with nbviewer.org.</b></div><div class=\"sk-container\" hidden><div class=\"sk-item\"><div class=\"sk-estimator sk-toggleable\"><input class=\"sk-toggleable__control sk-hidden--visually\" id=\"sk-estimator-id-9\" type=\"checkbox\" checked><label for=\"sk-estimator-id-9\" class=\"sk-toggleable__label sk-toggleable__label-arrow\">LogisticRegression</label><div class=\"sk-toggleable__content\"><pre>LogisticRegression(C=0.001, max_iter=10000, random_state=10)</pre></div></div></div></div></div>"
      ],
      "text/plain": [
       "LogisticRegression(C=0.001, max_iter=10000, random_state=10)"
      ]
     },
     "execution_count": 22,
     "metadata": {},
     "output_type": "execute_result"
    }
   ],
   "source": [
    "# Model with upsampled scaled data\n",
    "\n",
    "# Scale the upsampled data\n",
    "scaler = StandardScaler()\n",
    "\n",
    "# fit on X_train_up\n",
    "scaler.fit(X_train_up)\n",
    "\n",
    "# transform X_train_up and X_validation\n",
    "X_train_up_s = scaler.transform(X_train_up)\n",
    "X_validation_s = scaler.transform(X_validation)\n",
    "\n",
    "#instantiate the model\n",
    "LR_model_up = LogisticRegression(random_state = 10, max_iter = 10000, C = 0.001)\n",
    "\n",
    "# fit the model\n",
    "LR_model_up.fit(X_train_up_s, y_train_up)"
   ]
  },
  {
   "cell_type": "markdown",
   "id": "2867e7f4",
   "metadata": {},
   "source": [
    "Plot the confusion matrix and the precision, recall and f1-scores to see how the model is predicting each class."
   ]
  },
  {
   "cell_type": "code",
   "execution_count": 23,
   "id": "ba77efd3",
   "metadata": {
    "scrolled": false
   },
   "outputs": [
    {
     "data": {
      "image/png": "[encoded data removed]",
      "text/plain": [
       "<Figure size 432x288 with 2 Axes>"
      ]
     },
     "metadata": {
      "needs_background": "light"
     },
     "output_type": "display_data"
    }
   ],
   "source": [
    "plot_confusion_matrix(LR_model_up, X_validation_s, y_validation)\n",
    "plt.title(\"Upsampled Confusion Matrix\");"
   ]
  },
  {
   "cell_type": "markdown",
   "id": "8aba12f4",
   "metadata": {},
   "source": [
    "The model improves at predicting class 1 using scaled upsampled data."
   ]
  },
  {
   "cell_type": "markdown",
   "id": "bc3d98dd",
   "metadata": {},
   "source": [
    "Make predictions using the scaled X_validation_s data."
   ]
  },
  {
   "cell_type": "code",
   "execution_count": 24,
   "id": "57b645e7",
   "metadata": {},
   "outputs": [],
   "source": [
    "y_predictions_up = LR_model_up.predict(X_validation_s)"
   ]
  },
  {
   "cell_type": "markdown",
   "id": "6d72f19f",
   "metadata": {},
   "source": [
    "Create the classification report."
   ]
  },
  {
   "cell_type": "code",
   "execution_count": 25,
   "id": "419a5677",
   "metadata": {
    "scrolled": true
   },
   "outputs": [
    {
     "name": "stdout",
     "output_type": "stream",
     "text": [
      "              precision    recall  f1-score   support\n",
      "\n",
      "           0       0.83      0.63      0.72     97346\n",
      "           1       0.37      0.63      0.46     32967\n",
      "\n",
      "    accuracy                           0.63    130313\n",
      "   macro avg       0.60      0.63      0.59    130313\n",
      "weighted avg       0.72      0.63      0.66    130313\n",
      "\n"
     ]
    }
   ],
   "source": [
    "report_up = classification_report(y_validation, y_predictions_up)\n",
    "print(report_up)"
   ]
  },
  {
   "cell_type": "markdown",
   "id": "ad25eb70",
   "metadata": {},
   "source": [
    "Precision and recall scores have improved for class 1. The recall scores for both classes are the same, however the f1-scores for each class reflect the lower precision score for Class 1 as compared to Class 0. "
   ]
  },
  {
   "cell_type": "markdown",
   "id": "1ce6482f",
   "metadata": {},
   "source": [
    "---"
   ]
  },
  {
   "cell_type": "markdown",
   "id": "82eaaa9e",
   "metadata": {},
   "source": [
    "### Downsampled Data"
   ]
  },
  {
   "cell_type": "markdown",
   "id": "b6e8b2ba",
   "metadata": {},
   "source": [
    "Read in the downsampled X_train and y_train data."
   ]
  },
  {
   "cell_type": "code",
   "execution_count": 26,
   "id": "044e9ebf",
   "metadata": {},
   "outputs": [],
   "source": [
    "X_train_down = pd.read_pickle(\"data/X_train_under.pkl\")\n",
    "y_train_down = pd.read_pickle(\"data/y_train_under.pkl\")"
   ]
  },
  {
   "cell_type": "code",
   "execution_count": 27,
   "id": "e968fdbc",
   "metadata": {
    "scrolled": true
   },
   "outputs": [
    {
     "name": "stdout",
     "output_type": "stream",
     "text": [
      "Fitting 5 folds for each of 12 candidates, totalling 60 fits\n",
      "[CV] END model=LogisticRegression(), model__C=0.001, normalise=StandardScaler(); total time=   0.3s\n",
      "[CV] END model=LogisticRegression(), model__C=0.001, normalise=StandardScaler(); total time=   0.3s\n",
      "[CV] END model=LogisticRegression(), model__C=0.001, normalise=StandardScaler(); total time=   0.3s\n",
      "[CV] END model=LogisticRegression(), model__C=0.001, normalise=StandardScaler(); total time=   0.3s\n",
      "[CV] END model=LogisticRegression(), model__C=0.001, normalise=StandardScaler(); total time=   0.3s\n",
      "[CV] END model=LogisticRegression(), model__C=0.001, normalise=None; total time=   0.2s\n",
      "[CV] END model=LogisticRegression(), model__C=0.001, normalise=None; total time=   0.2s\n",
      "[CV] END model=LogisticRegression(), model__C=0.001, normalise=None; total time=   0.2s\n",
      "[CV] END model=LogisticRegression(), model__C=0.001, normalise=None; total time=   0.2s\n",
      "[CV] END model=LogisticRegression(), model__C=0.001, normalise=None; total time=   0.2s\n",
      "[CV] END model=LogisticRegression(), model__C=0.01, normalise=StandardScaler(); total time=   0.3s\n",
      "[CV] END model=LogisticRegression(), model__C=0.01, normalise=StandardScaler(); total time=   0.3s\n",
      "[CV] END model=LogisticRegression(), model__C=0.01, normalise=StandardScaler(); total time=   0.3s\n",
      "[CV] END model=LogisticRegression(), model__C=0.01, normalise=StandardScaler(); total time=   0.3s\n",
      "[CV] END model=LogisticRegression(), model__C=0.01, normalise=StandardScaler(); total time=   0.3s\n",
      "[CV] END model=LogisticRegression(), model__C=0.01, normalise=None; total time=   0.2s\n",
      "[CV] END model=LogisticRegression(), model__C=0.01, normalise=None; total time=   0.2s\n",
      "[CV] END model=LogisticRegression(), model__C=0.01, normalise=None; total time=   0.2s\n",
      "[CV] END model=LogisticRegression(), model__C=0.01, normalise=None; total time=   0.2s\n",
      "[CV] END model=LogisticRegression(), model__C=0.01, normalise=None; total time=   0.2s\n",
      "[CV] END model=LogisticRegression(), model__C=0.1, normalise=StandardScaler(); total time=   0.3s\n",
      "[CV] END model=LogisticRegression(), model__C=0.1, normalise=StandardScaler(); total time=   0.3s\n",
      "[CV] END model=LogisticRegression(), model__C=0.1, normalise=StandardScaler(); total time=   0.3s\n",
      "[CV] END model=LogisticRegression(), model__C=0.1, normalise=StandardScaler(); total time=   0.3s\n",
      "[CV] END model=LogisticRegression(), model__C=0.1, normalise=StandardScaler(); total time=   0.3s\n",
      "[CV] END model=LogisticRegression(), model__C=0.1, normalise=None; total time=   0.2s\n",
      "[CV] END model=LogisticRegression(), model__C=0.1, normalise=None; total time=   0.2s\n",
      "[CV] END model=LogisticRegression(), model__C=0.1, normalise=None; total time=   0.2s\n",
      "[CV] END model=LogisticRegression(), model__C=0.1, normalise=None; total time=   0.2s\n",
      "[CV] END model=LogisticRegression(), model__C=0.1, normalise=None; total time=   0.2s\n",
      "[CV] END model=LogisticRegression(), model__C=1, normalise=StandardScaler(); total time=   0.3s\n",
      "[CV] END model=LogisticRegression(), model__C=1, normalise=StandardScaler(); total time=   0.3s\n",
      "[CV] END model=LogisticRegression(), model__C=1, normalise=StandardScaler(); total time=   0.3s\n",
      "[CV] END model=LogisticRegression(), model__C=1, normalise=StandardScaler(); total time=   0.3s\n",
      "[CV] END model=LogisticRegression(), model__C=1, normalise=StandardScaler(); total time=   0.3s\n",
      "[CV] END model=LogisticRegression(), model__C=1, normalise=None; total time=   0.2s\n",
      "[CV] END model=LogisticRegression(), model__C=1, normalise=None; total time=   0.2s\n",
      "[CV] END model=LogisticRegression(), model__C=1, normalise=None; total time=   0.2s\n",
      "[CV] END model=LogisticRegression(), model__C=1, normalise=None; total time=   0.2s\n",
      "[CV] END model=LogisticRegression(), model__C=1, normalise=None; total time=   0.2s\n",
      "[CV] END model=LogisticRegression(), model__C=10, normalise=StandardScaler(); total time=   0.3s\n",
      "[CV] END model=LogisticRegression(), model__C=10, normalise=StandardScaler(); total time=   0.3s\n",
      "[CV] END model=LogisticRegression(), model__C=10, normalise=StandardScaler(); total time=   0.3s\n",
      "[CV] END model=LogisticRegression(), model__C=10, normalise=StandardScaler(); total time=   0.3s\n",
      "[CV] END model=LogisticRegression(), model__C=10, normalise=StandardScaler(); total time=   0.3s\n",
      "[CV] END model=LogisticRegression(), model__C=10, normalise=None; total time=   0.2s\n",
      "[CV] END model=LogisticRegression(), model__C=10, normalise=None; total time=   0.2s\n",
      "[CV] END model=LogisticRegression(), model__C=10, normalise=None; total time=   0.2s\n",
      "[CV] END model=LogisticRegression(), model__C=10, normalise=None; total time=   0.2s\n",
      "[CV] END model=LogisticRegression(), model__C=10, normalise=None; total time=   0.2s\n",
      "[CV] END model=LogisticRegression(), model__C=100, normalise=StandardScaler(); total time=   0.3s\n",
      "[CV] END model=LogisticRegression(), model__C=100, normalise=StandardScaler(); total time=   0.3s\n",
      "[CV] END model=LogisticRegression(), model__C=100, normalise=StandardScaler(); total time=   0.3s\n",
      "[CV] END model=LogisticRegression(), model__C=100, normalise=StandardScaler(); total time=   0.3s\n",
      "[CV] END model=LogisticRegression(), model__C=100, normalise=StandardScaler(); total time=   0.3s\n",
      "[CV] END model=LogisticRegression(), model__C=100, normalise=None; total time=   0.2s\n",
      "[CV] END model=LogisticRegression(), model__C=100, normalise=None; total time=   0.2s\n",
      "[CV] END model=LogisticRegression(), model__C=100, normalise=None; total time=   0.2s\n",
      "[CV] END model=LogisticRegression(), model__C=100, normalise=None; total time=   0.2s\n",
      "[CV] END model=LogisticRegression(), model__C=100, normalise=None; total time=   0.2s\n"
     ]
    }
   ],
   "source": [
    "# store estimators\n",
    "estimators = [('normalise', StandardScaler()),\n",
    "              ('model', LogisticRegression())]\n",
    "\n",
    "# instantiate pipeline\n",
    "pipe = Pipeline(estimators)\n",
    "\n",
    "# create parameters for gridsearch\n",
    "parameters = [\n",
    "            {'model': [LogisticRegression()], \n",
    "             'normalise': [StandardScaler(), None],\n",
    "             'model__C': [0.001, 0.01, 0.1, 1, 10, 100]}\n",
    "]\n",
    "\n",
    "#instantiate gridsearch\n",
    "down_grid = GridSearchCV(pipe, parameters, cv = 5, verbose = 2, scoring = 'roc_auc')\n",
    "\n",
    "# fit the grid on the upsampled X_train and y_train data\n",
    "down_fitgrid = down_grid.fit(X_train_down, y_train_down)"
   ]
  },
  {
   "cell_type": "markdown",
   "id": "7e58f70b",
   "metadata": {},
   "source": [
    "Save the grid output using `dump` from the joblib library."
   ]
  },
  {
   "cell_type": "code",
   "execution_count": 28,
   "id": "b213e81d",
   "metadata": {},
   "outputs": [
    {
     "data": {
      "text/plain": [
       "['Models/LR_down_grid.pkl']"
      ]
     },
     "execution_count": 28,
     "metadata": {},
     "output_type": "execute_result"
    }
   ],
   "source": [
    "# select the output to save and give it a name\n",
    "# saves as a .pkl file\n",
    "\n",
    "joblib.dump(down_fitgrid, 'Models/LR_down_grid.pkl')"
   ]
  },
  {
   "cell_type": "markdown",
   "id": "5b0e1146",
   "metadata": {},
   "source": [
    "The grid has fit on X_train_down and y_train_down. \n",
    "\n",
    "The results of the gridsearch can be saved in a dataframe using `cv_results` to get the grid outputs."
   ]
  },
  {
   "cell_type": "code",
   "execution_count": 29,
   "id": "0744bfab",
   "metadata": {},
   "outputs": [
    {
     "data": {
      "text/html": [
       "<div>\n",
       "<style scoped>\n",
       "    .dataframe tbody tr th:only-of-type {\n",
       "        vertical-align: middle;\n",
       "    }\n",
       "\n",
       "    .dataframe tbody tr th {\n",
       "        vertical-align: top;\n",
       "    }\n",
       "\n",
       "    .dataframe thead th {\n",
       "        text-align: right;\n",
       "    }\n",
       "</style>\n",
       "<table border=\"1\" class=\"dataframe\">\n",
       "  <thead>\n",
       "    <tr style=\"text-align: right;\">\n",
       "      <th></th>\n",
       "      <th>mean_fit_time</th>\n",
       "      <th>std_fit_time</th>\n",
       "      <th>mean_score_time</th>\n",
       "      <th>std_score_time</th>\n",
       "      <th>param_model</th>\n",
       "      <th>param_model__C</th>\n",
       "      <th>param_normalise</th>\n",
       "      <th>params</th>\n",
       "      <th>split0_test_score</th>\n",
       "      <th>split1_test_score</th>\n",
       "      <th>split2_test_score</th>\n",
       "      <th>split3_test_score</th>\n",
       "      <th>split4_test_score</th>\n",
       "      <th>mean_test_score</th>\n",
       "      <th>std_test_score</th>\n",
       "      <th>rank_test_score</th>\n",
       "    </tr>\n",
       "  </thead>\n",
       "  <tbody>\n",
       "    <tr>\n",
       "      <th>0</th>\n",
       "      <td>0.216756</td>\n",
       "      <td>0.003593</td>\n",
       "      <td>0.052445</td>\n",
       "      <td>0.001358</td>\n",
       "      <td>LogisticRegression(C=0.01)</td>\n",
       "      <td>0.001</td>\n",
       "      <td>StandardScaler()</td>\n",
       "      <td>{'model': LogisticRegression(C=0.01), 'model__...</td>\n",
       "      <td>0.676298</td>\n",
       "      <td>0.675153</td>\n",
       "      <td>0.679197</td>\n",
       "      <td>0.680878</td>\n",
       "      <td>0.682205</td>\n",
       "      <td>0.678746</td>\n",
       "      <td>0.002669</td>\n",
       "      <td>2</td>\n",
       "    </tr>\n",
       "    <tr>\n",
       "      <th>1</th>\n",
       "      <td>0.188871</td>\n",
       "      <td>0.001890</td>\n",
       "      <td>0.051577</td>\n",
       "      <td>0.000281</td>\n",
       "      <td>LogisticRegression(C=0.01)</td>\n",
       "      <td>0.001</td>\n",
       "      <td>None</td>\n",
       "      <td>{'model': LogisticRegression(C=0.01), 'model__...</td>\n",
       "      <td>0.541648</td>\n",
       "      <td>0.542883</td>\n",
       "      <td>0.539820</td>\n",
       "      <td>0.541491</td>\n",
       "      <td>0.544637</td>\n",
       "      <td>0.542096</td>\n",
       "      <td>0.001601</td>\n",
       "      <td>7</td>\n",
       "    </tr>\n",
       "    <tr>\n",
       "      <th>2</th>\n",
       "      <td>0.215715</td>\n",
       "      <td>0.006426</td>\n",
       "      <td>0.051941</td>\n",
       "      <td>0.000242</td>\n",
       "      <td>LogisticRegression(C=0.01)</td>\n",
       "      <td>0.01</td>\n",
       "      <td>StandardScaler()</td>\n",
       "      <td>{'model': LogisticRegression(C=0.01), 'model__...</td>\n",
       "      <td>0.676299</td>\n",
       "      <td>0.675169</td>\n",
       "      <td>0.679167</td>\n",
       "      <td>0.680879</td>\n",
       "      <td>0.682219</td>\n",
       "      <td>0.678747</td>\n",
       "      <td>0.002667</td>\n",
       "      <td>1</td>\n",
       "    </tr>\n",
       "    <tr>\n",
       "      <th>3</th>\n",
       "      <td>0.182076</td>\n",
       "      <td>0.003286</td>\n",
       "      <td>0.051939</td>\n",
       "      <td>0.000308</td>\n",
       "      <td>LogisticRegression(C=0.01)</td>\n",
       "      <td>0.01</td>\n",
       "      <td>None</td>\n",
       "      <td>{'model': LogisticRegression(C=0.01), 'model__...</td>\n",
       "      <td>0.541648</td>\n",
       "      <td>0.542883</td>\n",
       "      <td>0.539820</td>\n",
       "      <td>0.541491</td>\n",
       "      <td>0.544637</td>\n",
       "      <td>0.542096</td>\n",
       "      <td>0.001601</td>\n",
       "      <td>7</td>\n",
       "    </tr>\n",
       "    <tr>\n",
       "      <th>4</th>\n",
       "      <td>0.212665</td>\n",
       "      <td>0.001473</td>\n",
       "      <td>0.052164</td>\n",
       "      <td>0.000511</td>\n",
       "      <td>LogisticRegression(C=0.01)</td>\n",
       "      <td>0.1</td>\n",
       "      <td>StandardScaler()</td>\n",
       "      <td>{'model': LogisticRegression(C=0.01), 'model__...</td>\n",
       "      <td>0.676299</td>\n",
       "      <td>0.675171</td>\n",
       "      <td>0.679162</td>\n",
       "      <td>0.680878</td>\n",
       "      <td>0.682219</td>\n",
       "      <td>0.678746</td>\n",
       "      <td>0.002666</td>\n",
       "      <td>3</td>\n",
       "    </tr>\n",
       "    <tr>\n",
       "      <th>5</th>\n",
       "      <td>0.183063</td>\n",
       "      <td>0.001937</td>\n",
       "      <td>0.051968</td>\n",
       "      <td>0.000422</td>\n",
       "      <td>LogisticRegression(C=0.01)</td>\n",
       "      <td>0.1</td>\n",
       "      <td>None</td>\n",
       "      <td>{'model': LogisticRegression(C=0.01), 'model__...</td>\n",
       "      <td>0.541648</td>\n",
       "      <td>0.542883</td>\n",
       "      <td>0.539820</td>\n",
       "      <td>0.541491</td>\n",
       "      <td>0.544637</td>\n",
       "      <td>0.542096</td>\n",
       "      <td>0.001601</td>\n",
       "      <td>7</td>\n",
       "    </tr>\n",
       "    <tr>\n",
       "      <th>6</th>\n",
       "      <td>0.211963</td>\n",
       "      <td>0.000565</td>\n",
       "      <td>0.051728</td>\n",
       "      <td>0.000266</td>\n",
       "      <td>LogisticRegression(C=0.01)</td>\n",
       "      <td>1</td>\n",
       "      <td>StandardScaler()</td>\n",
       "      <td>{'model': LogisticRegression(C=0.01), 'model__...</td>\n",
       "      <td>0.676299</td>\n",
       "      <td>0.675171</td>\n",
       "      <td>0.679162</td>\n",
       "      <td>0.680878</td>\n",
       "      <td>0.682218</td>\n",
       "      <td>0.678746</td>\n",
       "      <td>0.002666</td>\n",
       "      <td>4</td>\n",
       "    </tr>\n",
       "    <tr>\n",
       "      <th>7</th>\n",
       "      <td>0.179450</td>\n",
       "      <td>0.003753</td>\n",
       "      <td>0.051544</td>\n",
       "      <td>0.000154</td>\n",
       "      <td>LogisticRegression(C=0.01)</td>\n",
       "      <td>1</td>\n",
       "      <td>None</td>\n",
       "      <td>{'model': LogisticRegression(C=0.01), 'model__...</td>\n",
       "      <td>0.541648</td>\n",
       "      <td>0.542883</td>\n",
       "      <td>0.539820</td>\n",
       "      <td>0.541491</td>\n",
       "      <td>0.544637</td>\n",
       "      <td>0.542096</td>\n",
       "      <td>0.001601</td>\n",
       "      <td>7</td>\n",
       "    </tr>\n",
       "    <tr>\n",
       "      <th>8</th>\n",
       "      <td>0.210384</td>\n",
       "      <td>0.002759</td>\n",
       "      <td>0.051757</td>\n",
       "      <td>0.000125</td>\n",
       "      <td>LogisticRegression(C=0.01)</td>\n",
       "      <td>10</td>\n",
       "      <td>StandardScaler()</td>\n",
       "      <td>{'model': LogisticRegression(C=0.01), 'model__...</td>\n",
       "      <td>0.676299</td>\n",
       "      <td>0.675171</td>\n",
       "      <td>0.679162</td>\n",
       "      <td>0.680878</td>\n",
       "      <td>0.682219</td>\n",
       "      <td>0.678746</td>\n",
       "      <td>0.002666</td>\n",
       "      <td>5</td>\n",
       "    </tr>\n",
       "    <tr>\n",
       "      <th>9</th>\n",
       "      <td>0.183231</td>\n",
       "      <td>0.001408</td>\n",
       "      <td>0.051738</td>\n",
       "      <td>0.000386</td>\n",
       "      <td>LogisticRegression(C=0.01)</td>\n",
       "      <td>10</td>\n",
       "      <td>None</td>\n",
       "      <td>{'model': LogisticRegression(C=0.01), 'model__...</td>\n",
       "      <td>0.541648</td>\n",
       "      <td>0.542883</td>\n",
       "      <td>0.539820</td>\n",
       "      <td>0.541491</td>\n",
       "      <td>0.544637</td>\n",
       "      <td>0.542096</td>\n",
       "      <td>0.001601</td>\n",
       "      <td>7</td>\n",
       "    </tr>\n",
       "    <tr>\n",
       "      <th>10</th>\n",
       "      <td>0.211968</td>\n",
       "      <td>0.001827</td>\n",
       "      <td>0.051807</td>\n",
       "      <td>0.000277</td>\n",
       "      <td>LogisticRegression(C=0.01)</td>\n",
       "      <td>100</td>\n",
       "      <td>StandardScaler()</td>\n",
       "      <td>{'model': LogisticRegression(C=0.01), 'model__...</td>\n",
       "      <td>0.676299</td>\n",
       "      <td>0.675171</td>\n",
       "      <td>0.679162</td>\n",
       "      <td>0.680878</td>\n",
       "      <td>0.682219</td>\n",
       "      <td>0.678746</td>\n",
       "      <td>0.002666</td>\n",
       "      <td>6</td>\n",
       "    </tr>\n",
       "    <tr>\n",
       "      <th>11</th>\n",
       "      <td>0.182786</td>\n",
       "      <td>0.001656</td>\n",
       "      <td>0.051499</td>\n",
       "      <td>0.000461</td>\n",
       "      <td>LogisticRegression(C=0.01)</td>\n",
       "      <td>100</td>\n",
       "      <td>None</td>\n",
       "      <td>{'model': LogisticRegression(C=0.01), 'model__...</td>\n",
       "      <td>0.541648</td>\n",
       "      <td>0.542883</td>\n",
       "      <td>0.539820</td>\n",
       "      <td>0.541491</td>\n",
       "      <td>0.544637</td>\n",
       "      <td>0.542096</td>\n",
       "      <td>0.001601</td>\n",
       "      <td>7</td>\n",
       "    </tr>\n",
       "  </tbody>\n",
       "</table>\n",
       "</div>"
      ],
      "text/plain": [
       "    mean_fit_time  std_fit_time  mean_score_time  std_score_time  \\\n",
       "0        0.216756      0.003593         0.052445        0.001358   \n",
       "1        0.188871      0.001890         0.051577        0.000281   \n",
       "2        0.215715      0.006426         0.051941        0.000242   \n",
       "3        0.182076      0.003286         0.051939        0.000308   \n",
       "4        0.212665      0.001473         0.052164        0.000511   \n",
       "5        0.183063      0.001937         0.051968        0.000422   \n",
       "6        0.211963      0.000565         0.051728        0.000266   \n",
       "7        0.179450      0.003753         0.051544        0.000154   \n",
       "8        0.210384      0.002759         0.051757        0.000125   \n",
       "9        0.183231      0.001408         0.051738        0.000386   \n",
       "10       0.211968      0.001827         0.051807        0.000277   \n",
       "11       0.182786      0.001656         0.051499        0.000461   \n",
       "\n",
       "                   param_model param_model__C   param_normalise  \\\n",
       "0   LogisticRegression(C=0.01)          0.001  StandardScaler()   \n",
       "1   LogisticRegression(C=0.01)          0.001              None   \n",
       "2   LogisticRegression(C=0.01)           0.01  StandardScaler()   \n",
       "3   LogisticRegression(C=0.01)           0.01              None   \n",
       "4   LogisticRegression(C=0.01)            0.1  StandardScaler()   \n",
       "5   LogisticRegression(C=0.01)            0.1              None   \n",
       "6   LogisticRegression(C=0.01)              1  StandardScaler()   \n",
       "7   LogisticRegression(C=0.01)              1              None   \n",
       "8   LogisticRegression(C=0.01)             10  StandardScaler()   \n",
       "9   LogisticRegression(C=0.01)             10              None   \n",
       "10  LogisticRegression(C=0.01)            100  StandardScaler()   \n",
       "11  LogisticRegression(C=0.01)            100              None   \n",
       "\n",
       "                                               params  split0_test_score  \\\n",
       "0   {'model': LogisticRegression(C=0.01), 'model__...           0.676298   \n",
       "1   {'model': LogisticRegression(C=0.01), 'model__...           0.541648   \n",
       "2   {'model': LogisticRegression(C=0.01), 'model__...           0.676299   \n",
       "3   {'model': LogisticRegression(C=0.01), 'model__...           0.541648   \n",
       "4   {'model': LogisticRegression(C=0.01), 'model__...           0.676299   \n",
       "5   {'model': LogisticRegression(C=0.01), 'model__...           0.541648   \n",
       "6   {'model': LogisticRegression(C=0.01), 'model__...           0.676299   \n",
       "7   {'model': LogisticRegression(C=0.01), 'model__...           0.541648   \n",
       "8   {'model': LogisticRegression(C=0.01), 'model__...           0.676299   \n",
       "9   {'model': LogisticRegression(C=0.01), 'model__...           0.541648   \n",
       "10  {'model': LogisticRegression(C=0.01), 'model__...           0.676299   \n",
       "11  {'model': LogisticRegression(C=0.01), 'model__...           0.541648   \n",
       "\n",
       "    split1_test_score  split2_test_score  split3_test_score  \\\n",
       "0            0.675153           0.679197           0.680878   \n",
       "1            0.542883           0.539820           0.541491   \n",
       "2            0.675169           0.679167           0.680879   \n",
       "3            0.542883           0.539820           0.541491   \n",
       "4            0.675171           0.679162           0.680878   \n",
       "5            0.542883           0.539820           0.541491   \n",
       "6            0.675171           0.679162           0.680878   \n",
       "7            0.542883           0.539820           0.541491   \n",
       "8            0.675171           0.679162           0.680878   \n",
       "9            0.542883           0.539820           0.541491   \n",
       "10           0.675171           0.679162           0.680878   \n",
       "11           0.542883           0.539820           0.541491   \n",
       "\n",
       "    split4_test_score  mean_test_score  std_test_score  rank_test_score  \n",
       "0            0.682205         0.678746        0.002669                2  \n",
       "1            0.544637         0.542096        0.001601                7  \n",
       "2            0.682219         0.678747        0.002667                1  \n",
       "3            0.544637         0.542096        0.001601                7  \n",
       "4            0.682219         0.678746        0.002666                3  \n",
       "5            0.544637         0.542096        0.001601                7  \n",
       "6            0.682218         0.678746        0.002666                4  \n",
       "7            0.544637         0.542096        0.001601                7  \n",
       "8            0.682219         0.678746        0.002666                5  \n",
       "9            0.544637         0.542096        0.001601                7  \n",
       "10           0.682219         0.678746        0.002666                6  \n",
       "11           0.544637         0.542096        0.001601                7  "
      ]
     },
     "execution_count": 29,
     "metadata": {},
     "output_type": "execute_result"
    }
   ],
   "source": [
    "down_df = pd.DataFrame(down_fitgrid.cv_results_)\n",
    "down_df"
   ]
  },
  {
   "cell_type": "code",
   "execution_count": 30,
   "id": "d213d46d",
   "metadata": {
    "scrolled": true
   },
   "outputs": [
    {
     "data": {
      "text/html": [
       "<style>#sk-container-id-6 {color: black;background-color: white;}#sk-container-id-6 pre{padding: 0;}#sk-container-id-6 div.sk-toggleable {background-color: white;}#sk-container-id-6 label.sk-toggleable__label {cursor: pointer;display: block;width: 100%;margin-bottom: 0;padding: 0.3em;box-sizing: border-box;text-align: center;}#sk-container-id-6 label.sk-toggleable__label-arrow:before {content: \"▸\";float: left;margin-right: 0.25em;color: #696969;}#sk-container-id-6 label.sk-toggleable__label-arrow:hover:before {color: black;}#sk-container-id-6 div.sk-estimator:hover label.sk-toggleable__label-arrow:before {color: black;}#sk-container-id-6 div.sk-toggleable__content {max-height: 0;max-width: 0;overflow: hidden;text-align: left;background-color: #f0f8ff;}#sk-container-id-6 div.sk-toggleable__content pre {margin: 0.2em;color: black;border-radius: 0.25em;background-color: #f0f8ff;}#sk-container-id-6 input.sk-toggleable__control:checked~div.sk-toggleable__content {max-height: 200px;max-width: 100%;overflow: auto;}#sk-container-id-6 input.sk-toggleable__control:checked~label.sk-toggleable__label-arrow:before {content: \"▾\";}#sk-container-id-6 div.sk-estimator input.sk-toggleable__control:checked~label.sk-toggleable__label {background-color: #d4ebff;}#sk-container-id-6 div.sk-label input.sk-toggleable__control:checked~label.sk-toggleable__label {background-color: #d4ebff;}#sk-container-id-6 input.sk-hidden--visually {border: 0;clip: rect(1px 1px 1px 1px);clip: rect(1px, 1px, 1px, 1px);height: 1px;margin: -1px;overflow: hidden;padding: 0;position: absolute;width: 1px;}#sk-container-id-6 div.sk-estimator {font-family: monospace;background-color: #f0f8ff;border: 1px dotted black;border-radius: 0.25em;box-sizing: border-box;margin-bottom: 0.5em;}#sk-container-id-6 div.sk-estimator:hover {background-color: #d4ebff;}#sk-container-id-6 div.sk-parallel-item::after {content: \"\";width: 100%;border-bottom: 1px solid gray;flex-grow: 1;}#sk-container-id-6 div.sk-label:hover label.sk-toggleable__label {background-color: #d4ebff;}#sk-container-id-6 div.sk-serial::before {content: \"\";position: absolute;border-left: 1px solid gray;box-sizing: border-box;top: 0;bottom: 0;left: 50%;z-index: 0;}#sk-container-id-6 div.sk-serial {display: flex;flex-direction: column;align-items: center;background-color: white;padding-right: 0.2em;padding-left: 0.2em;position: relative;}#sk-container-id-6 div.sk-item {position: relative;z-index: 1;}#sk-container-id-6 div.sk-parallel {display: flex;align-items: stretch;justify-content: center;background-color: white;position: relative;}#sk-container-id-6 div.sk-item::before, #sk-container-id-6 div.sk-parallel-item::before {content: \"\";position: absolute;border-left: 1px solid gray;box-sizing: border-box;top: 0;bottom: 0;left: 50%;z-index: -1;}#sk-container-id-6 div.sk-parallel-item {display: flex;flex-direction: column;z-index: 1;position: relative;background-color: white;}#sk-container-id-6 div.sk-parallel-item:first-child::after {align-self: flex-end;width: 50%;}#sk-container-id-6 div.sk-parallel-item:last-child::after {align-self: flex-start;width: 50%;}#sk-container-id-6 div.sk-parallel-item:only-child::after {width: 0;}#sk-container-id-6 div.sk-dashed-wrapped {border: 1px dashed gray;margin: 0 0.4em 0.5em 0.4em;box-sizing: border-box;padding-bottom: 0.4em;background-color: white;}#sk-container-id-6 div.sk-label label {font-family: monospace;font-weight: bold;display: inline-block;line-height: 1.2em;}#sk-container-id-6 div.sk-label-container {text-align: center;}#sk-container-id-6 div.sk-container {/* jupyter's `normalize.less` sets `[hidden] { display: none; }` but bootstrap.min.css set `[hidden] { display: none !important; }` so we also need the `!important` here to be able to override the default hidden behavior on the sphinx rendered scikit-learn.org. See: https://github.com/scikit-learn/scikit-learn/issues/21755 */display: inline-block !important;position: relative;}#sk-container-id-6 div.sk-text-repr-fallback {display: none;}</style><div id=\"sk-container-id-6\" class=\"sk-top-container\"><div class=\"sk-text-repr-fallback\"><pre>Pipeline(steps=[(&#x27;normalise&#x27;, StandardScaler()),\n",
       "                (&#x27;model&#x27;, LogisticRegression(C=0.01))])</pre><b>In a Jupyter environment, please rerun this cell to show the HTML representation or trust the notebook. <br />On GitHub, the HTML representation is unable to render, please try loading this page with nbviewer.org.</b></div><div class=\"sk-container\" hidden><div class=\"sk-item sk-dashed-wrapped\"><div class=\"sk-label-container\"><div class=\"sk-label sk-toggleable\"><input class=\"sk-toggleable__control sk-hidden--visually\" id=\"sk-estimator-id-10\" type=\"checkbox\" ><label for=\"sk-estimator-id-10\" class=\"sk-toggleable__label sk-toggleable__label-arrow\">Pipeline</label><div class=\"sk-toggleable__content\"><pre>Pipeline(steps=[(&#x27;normalise&#x27;, StandardScaler()),\n",
       "                (&#x27;model&#x27;, LogisticRegression(C=0.01))])</pre></div></div></div><div class=\"sk-serial\"><div class=\"sk-item\"><div class=\"sk-estimator sk-toggleable\"><input class=\"sk-toggleable__control sk-hidden--visually\" id=\"sk-estimator-id-11\" type=\"checkbox\" ><label for=\"sk-estimator-id-11\" class=\"sk-toggleable__label sk-toggleable__label-arrow\">StandardScaler</label><div class=\"sk-toggleable__content\"><pre>StandardScaler()</pre></div></div></div><div class=\"sk-item\"><div class=\"sk-estimator sk-toggleable\"><input class=\"sk-toggleable__control sk-hidden--visually\" id=\"sk-estimator-id-12\" type=\"checkbox\" ><label for=\"sk-estimator-id-12\" class=\"sk-toggleable__label sk-toggleable__label-arrow\">LogisticRegression</label><div class=\"sk-toggleable__content\"><pre>LogisticRegression(C=0.01)</pre></div></div></div></div></div></div></div>"
      ],
      "text/plain": [
       "Pipeline(steps=[('normalise', StandardScaler()),\n",
       "                ('model', LogisticRegression(C=0.01))])"
      ]
     },
     "execution_count": 30,
     "metadata": {},
     "output_type": "execute_result"
    }
   ],
   "source": [
    "down_fitgrid.best_estimator_"
   ]
  },
  {
   "cell_type": "markdown",
   "id": "dbf9937e",
   "metadata": {},
   "source": [
    "The best model is normalized using Standard Scaler and has a C value of 0.01. Re-run the Logistic Regression model using Standard Scaler and C=0.01 to produce the confusion matrix and the precision, recall and f1-scores."
   ]
  },
  {
   "cell_type": "code",
   "execution_count": 31,
   "id": "a3172486",
   "metadata": {},
   "outputs": [
    {
     "data": {
      "text/html": [
       "<style>#sk-container-id-7 {color: black;background-color: white;}#sk-container-id-7 pre{padding: 0;}#sk-container-id-7 div.sk-toggleable {background-color: white;}#sk-container-id-7 label.sk-toggleable__label {cursor: pointer;display: block;width: 100%;margin-bottom: 0;padding: 0.3em;box-sizing: border-box;text-align: center;}#sk-container-id-7 label.sk-toggleable__label-arrow:before {content: \"▸\";float: left;margin-right: 0.25em;color: #696969;}#sk-container-id-7 label.sk-toggleable__label-arrow:hover:before {color: black;}#sk-container-id-7 div.sk-estimator:hover label.sk-toggleable__label-arrow:before {color: black;}#sk-container-id-7 div.sk-toggleable__content {max-height: 0;max-width: 0;overflow: hidden;text-align: left;background-color: #f0f8ff;}#sk-container-id-7 div.sk-toggleable__content pre {margin: 0.2em;color: black;border-radius: 0.25em;background-color: #f0f8ff;}#sk-container-id-7 input.sk-toggleable__control:checked~div.sk-toggleable__content {max-height: 200px;max-width: 100%;overflow: auto;}#sk-container-id-7 input.sk-toggleable__control:checked~label.sk-toggleable__label-arrow:before {content: \"▾\";}#sk-container-id-7 div.sk-estimator input.sk-toggleable__control:checked~label.sk-toggleable__label {background-color: #d4ebff;}#sk-container-id-7 div.sk-label input.sk-toggleable__control:checked~label.sk-toggleable__label {background-color: #d4ebff;}#sk-container-id-7 input.sk-hidden--visually {border: 0;clip: rect(1px 1px 1px 1px);clip: rect(1px, 1px, 1px, 1px);height: 1px;margin: -1px;overflow: hidden;padding: 0;position: absolute;width: 1px;}#sk-container-id-7 div.sk-estimator {font-family: monospace;background-color: #f0f8ff;border: 1px dotted black;border-radius: 0.25em;box-sizing: border-box;margin-bottom: 0.5em;}#sk-container-id-7 div.sk-estimator:hover {background-color: #d4ebff;}#sk-container-id-7 div.sk-parallel-item::after {content: \"\";width: 100%;border-bottom: 1px solid gray;flex-grow: 1;}#sk-container-id-7 div.sk-label:hover label.sk-toggleable__label {background-color: #d4ebff;}#sk-container-id-7 div.sk-serial::before {content: \"\";position: absolute;border-left: 1px solid gray;box-sizing: border-box;top: 0;bottom: 0;left: 50%;z-index: 0;}#sk-container-id-7 div.sk-serial {display: flex;flex-direction: column;align-items: center;background-color: white;padding-right: 0.2em;padding-left: 0.2em;position: relative;}#sk-container-id-7 div.sk-item {position: relative;z-index: 1;}#sk-container-id-7 div.sk-parallel {display: flex;align-items: stretch;justify-content: center;background-color: white;position: relative;}#sk-container-id-7 div.sk-item::before, #sk-container-id-7 div.sk-parallel-item::before {content: \"\";position: absolute;border-left: 1px solid gray;box-sizing: border-box;top: 0;bottom: 0;left: 50%;z-index: -1;}#sk-container-id-7 div.sk-parallel-item {display: flex;flex-direction: column;z-index: 1;position: relative;background-color: white;}#sk-container-id-7 div.sk-parallel-item:first-child::after {align-self: flex-end;width: 50%;}#sk-container-id-7 div.sk-parallel-item:last-child::after {align-self: flex-start;width: 50%;}#sk-container-id-7 div.sk-parallel-item:only-child::after {width: 0;}#sk-container-id-7 div.sk-dashed-wrapped {border: 1px dashed gray;margin: 0 0.4em 0.5em 0.4em;box-sizing: border-box;padding-bottom: 0.4em;background-color: white;}#sk-container-id-7 div.sk-label label {font-family: monospace;font-weight: bold;display: inline-block;line-height: 1.2em;}#sk-container-id-7 div.sk-label-container {text-align: center;}#sk-container-id-7 div.sk-container {/* jupyter's `normalize.less` sets `[hidden] { display: none; }` but bootstrap.min.css set `[hidden] { display: none !important; }` so we also need the `!important` here to be able to override the default hidden behavior on the sphinx rendered scikit-learn.org. See: https://github.com/scikit-learn/scikit-learn/issues/21755 */display: inline-block !important;position: relative;}#sk-container-id-7 div.sk-text-repr-fallback {display: none;}</style><div id=\"sk-container-id-7\" class=\"sk-top-container\"><div class=\"sk-text-repr-fallback\"><pre>LogisticRegression(C=0.01, max_iter=10000, random_state=10)</pre><b>In a Jupyter environment, please rerun this cell to show the HTML representation or trust the notebook. <br />On GitHub, the HTML representation is unable to render, please try loading this page with nbviewer.org.</b></div><div class=\"sk-container\" hidden><div class=\"sk-item\"><div class=\"sk-estimator sk-toggleable\"><input class=\"sk-toggleable__control sk-hidden--visually\" id=\"sk-estimator-id-13\" type=\"checkbox\" checked><label for=\"sk-estimator-id-13\" class=\"sk-toggleable__label sk-toggleable__label-arrow\">LogisticRegression</label><div class=\"sk-toggleable__content\"><pre>LogisticRegression(C=0.01, max_iter=10000, random_state=10)</pre></div></div></div></div></div>"
      ],
      "text/plain": [
       "LogisticRegression(C=0.01, max_iter=10000, random_state=10)"
      ]
     },
     "execution_count": 31,
     "metadata": {},
     "output_type": "execute_result"
    }
   ],
   "source": [
    "#Model with downsampled scaled data\n",
    "\n",
    "# Scale the downsampled data\n",
    "# instantiate the scaler\n",
    "scaler = StandardScaler()\n",
    "\n",
    "# fit the scaler on X_train_down data\n",
    "scaler.fit(X_train_down)\n",
    "\n",
    "# transform X_train_down and X_validation\n",
    "X_train_down_s = scaler.transform(X_train_down)\n",
    "X_validation_s = scaler.transform(X_validation)\n",
    "\n",
    "#instantiate the model\n",
    "LR_model_down = LogisticRegression(random_state = 10, max_iter = 10000, C = 0.01)\n",
    "\n",
    "# fit the model on the downsampled X_train_down and y_train_down data sets\n",
    "LR_model_down.fit(X_train_down_s, y_train_down)"
   ]
  },
  {
   "cell_type": "markdown",
   "id": "89791974",
   "metadata": {},
   "source": [
    "Compare the results of the confusion matrix and classification report."
   ]
  },
  {
   "cell_type": "code",
   "execution_count": 32,
   "id": "57425e5b",
   "metadata": {
    "scrolled": false
   },
   "outputs": [
    {
     "data": {
      "image/png": "[encoded data removed]",
      "text/plain": [
       "<Figure size 432x288 with 2 Axes>"
      ]
     },
     "metadata": {
      "needs_background": "light"
     },
     "output_type": "display_data"
    }
   ],
   "source": [
    "plot_confusion_matrix(LR_model_down, X_validation_s, y_validation)\n",
    "plt.title(\"Downsampled Confusion Matrix\");"
   ]
  },
  {
   "cell_type": "markdown",
   "id": "5827eaa9",
   "metadata": {},
   "source": [
    "The model improves at predicting class 1 using scaled downsampled data."
   ]
  },
  {
   "cell_type": "code",
   "execution_count": 33,
   "id": "f842a82a",
   "metadata": {},
   "outputs": [],
   "source": [
    "y_predictions_down = LR_model_down.predict(X_validation_s)"
   ]
  },
  {
   "cell_type": "code",
   "execution_count": 34,
   "id": "81a354f7",
   "metadata": {
    "scrolled": false
   },
   "outputs": [
    {
     "name": "stdout",
     "output_type": "stream",
     "text": [
      "              precision    recall  f1-score   support\n",
      "\n",
      "           0       0.83      0.63      0.72     97346\n",
      "           1       0.37      0.63      0.46     32967\n",
      "\n",
      "    accuracy                           0.63    130313\n",
      "   macro avg       0.60      0.63      0.59    130313\n",
      "weighted avg       0.72      0.63      0.66    130313\n",
      "\n"
     ]
    }
   ],
   "source": [
    "report_down = classification_report(y_validation, y_predictions_down)\n",
    "print(report_down)"
   ]
  },
  {
   "cell_type": "markdown",
   "id": "fcc2c1f1",
   "metadata": {},
   "source": [
    "The scores for the downsampled data are exactly the same as for the upsampled data, showing that both balancing techniques have improved the model's performance. "
   ]
  },
  {
   "cell_type": "markdown",
   "id": "8707d4b7",
   "metadata": {},
   "source": [
    "---"
   ]
  },
  {
   "cell_type": "markdown",
   "id": "6baef686",
   "metadata": {},
   "source": [
    "### SMOTE Upsampled Data"
   ]
  },
  {
   "cell_type": "markdown",
   "id": "9fbe3d48",
   "metadata": {},
   "source": [
    "Read in the SMOTE upsampled X_train and y_train data."
   ]
  },
  {
   "cell_type": "code",
   "execution_count": 35,
   "id": "b7220ddd",
   "metadata": {},
   "outputs": [],
   "source": [
    "X_train_smote = pd.read_pickle(\"data/X_train_smote.pkl\")\n",
    "y_train_smote = pd.read_pickle(\"data/y_train_smote.pkl\")"
   ]
  },
  {
   "cell_type": "code",
   "execution_count": 36,
   "id": "a60a8c3c",
   "metadata": {
    "scrolled": true
   },
   "outputs": [
    {
     "name": "stdout",
     "output_type": "stream",
     "text": [
      "Fitting 5 folds for each of 12 candidates, totalling 60 fits\n",
      "[CV] END model=LogisticRegression(), model__C=0.001, normalise=StandardScaler(); total time=   0.9s\n",
      "[CV] END model=LogisticRegression(), model__C=0.001, normalise=StandardScaler(); total time=   0.9s\n",
      "[CV] END model=LogisticRegression(), model__C=0.001, normalise=StandardScaler(); total time=   0.9s\n",
      "[CV] END model=LogisticRegression(), model__C=0.001, normalise=StandardScaler(); total time=   0.9s\n",
      "[CV] END model=LogisticRegression(), model__C=0.001, normalise=StandardScaler(); total time=   0.9s\n",
      "[CV] END model=LogisticRegression(), model__C=0.001, normalise=None; total time=   0.7s\n",
      "[CV] END model=LogisticRegression(), model__C=0.001, normalise=None; total time=   0.7s\n",
      "[CV] END model=LogisticRegression(), model__C=0.001, normalise=None; total time=   0.7s\n",
      "[CV] END model=LogisticRegression(), model__C=0.001, normalise=None; total time=   0.8s\n",
      "[CV] END model=LogisticRegression(), model__C=0.001, normalise=None; total time=   0.7s\n",
      "[CV] END model=LogisticRegression(), model__C=0.01, normalise=StandardScaler(); total time=   0.9s\n",
      "[CV] END model=LogisticRegression(), model__C=0.01, normalise=StandardScaler(); total time=   0.9s\n",
      "[CV] END model=LogisticRegression(), model__C=0.01, normalise=StandardScaler(); total time=   0.9s\n",
      "[CV] END model=LogisticRegression(), model__C=0.01, normalise=StandardScaler(); total time=   0.9s\n",
      "[CV] END model=LogisticRegression(), model__C=0.01, normalise=StandardScaler(); total time=   0.9s\n",
      "[CV] END model=LogisticRegression(), model__C=0.01, normalise=None; total time=   0.7s\n",
      "[CV] END model=LogisticRegression(), model__C=0.01, normalise=None; total time=   0.7s\n",
      "[CV] END model=LogisticRegression(), model__C=0.01, normalise=None; total time=   0.7s\n",
      "[CV] END model=LogisticRegression(), model__C=0.01, normalise=None; total time=   0.7s\n",
      "[CV] END model=LogisticRegression(), model__C=0.01, normalise=None; total time=   0.7s\n",
      "[CV] END model=LogisticRegression(), model__C=0.1, normalise=StandardScaler(); total time=   0.9s\n",
      "[CV] END model=LogisticRegression(), model__C=0.1, normalise=StandardScaler(); total time=   1.0s\n",
      "[CV] END model=LogisticRegression(), model__C=0.1, normalise=StandardScaler(); total time=   1.0s\n",
      "[CV] END model=LogisticRegression(), model__C=0.1, normalise=StandardScaler(); total time=   1.0s\n",
      "[CV] END model=LogisticRegression(), model__C=0.1, normalise=StandardScaler(); total time=   1.0s\n",
      "[CV] END model=LogisticRegression(), model__C=0.1, normalise=None; total time=   0.7s\n",
      "[CV] END model=LogisticRegression(), model__C=0.1, normalise=None; total time=   0.7s\n",
      "[CV] END model=LogisticRegression(), model__C=0.1, normalise=None; total time=   0.7s\n",
      "[CV] END model=LogisticRegression(), model__C=0.1, normalise=None; total time=   0.7s\n",
      "[CV] END model=LogisticRegression(), model__C=0.1, normalise=None; total time=   0.7s\n",
      "[CV] END model=LogisticRegression(), model__C=1, normalise=StandardScaler(); total time=   1.0s\n",
      "[CV] END model=LogisticRegression(), model__C=1, normalise=StandardScaler(); total time=   1.0s\n",
      "[CV] END model=LogisticRegression(), model__C=1, normalise=StandardScaler(); total time=   1.0s\n",
      "[CV] END model=LogisticRegression(), model__C=1, normalise=StandardScaler(); total time=   1.0s\n",
      "[CV] END model=LogisticRegression(), model__C=1, normalise=StandardScaler(); total time=   1.0s\n",
      "[CV] END model=LogisticRegression(), model__C=1, normalise=None; total time=   0.7s\n",
      "[CV] END model=LogisticRegression(), model__C=1, normalise=None; total time=   0.7s\n",
      "[CV] END model=LogisticRegression(), model__C=1, normalise=None; total time=   0.7s\n",
      "[CV] END model=LogisticRegression(), model__C=1, normalise=None; total time=   0.7s\n",
      "[CV] END model=LogisticRegression(), model__C=1, normalise=None; total time=   0.7s\n",
      "[CV] END model=LogisticRegression(), model__C=10, normalise=StandardScaler(); total time=   1.0s\n",
      "[CV] END model=LogisticRegression(), model__C=10, normalise=StandardScaler(); total time=   1.0s\n",
      "[CV] END model=LogisticRegression(), model__C=10, normalise=StandardScaler(); total time=   1.1s\n",
      "[CV] END model=LogisticRegression(), model__C=10, normalise=StandardScaler(); total time=   1.0s\n",
      "[CV] END model=LogisticRegression(), model__C=10, normalise=StandardScaler(); total time=   1.1s\n",
      "[CV] END model=LogisticRegression(), model__C=10, normalise=None; total time=   0.7s\n",
      "[CV] END model=LogisticRegression(), model__C=10, normalise=None; total time=   0.7s\n",
      "[CV] END model=LogisticRegression(), model__C=10, normalise=None; total time=   0.7s\n",
      "[CV] END model=LogisticRegression(), model__C=10, normalise=None; total time=   0.7s\n",
      "[CV] END model=LogisticRegression(), model__C=10, normalise=None; total time=   0.7s\n",
      "[CV] END model=LogisticRegression(), model__C=100, normalise=StandardScaler(); total time=   1.1s\n",
      "[CV] END model=LogisticRegression(), model__C=100, normalise=StandardScaler(); total time=   1.1s\n",
      "[CV] END model=LogisticRegression(), model__C=100, normalise=StandardScaler(); total time=   1.1s\n",
      "[CV] END model=LogisticRegression(), model__C=100, normalise=StandardScaler(); total time=   1.1s\n",
      "[CV] END model=LogisticRegression(), model__C=100, normalise=StandardScaler(); total time=   1.1s\n",
      "[CV] END model=LogisticRegression(), model__C=100, normalise=None; total time=   0.7s\n",
      "[CV] END model=LogisticRegression(), model__C=100, normalise=None; total time=   0.7s\n",
      "[CV] END model=LogisticRegression(), model__C=100, normalise=None; total time=   0.7s\n",
      "[CV] END model=LogisticRegression(), model__C=100, normalise=None; total time=   0.7s\n",
      "[CV] END model=LogisticRegression(), model__C=100, normalise=None; total time=   0.7s\n"
     ]
    }
   ],
   "source": [
    "# store estimators\n",
    "estimators = [('normalise', StandardScaler()),\n",
    "              ('model', LogisticRegression())]\n",
    "\n",
    "# instantiate pipeline\n",
    "pipe = Pipeline(estimators)\n",
    "\n",
    "# create parameters for gridsearch\n",
    "parameters = [\n",
    "            {'model': [LogisticRegression()], \n",
    "             'normalise': [StandardScaler(), None],\n",
    "             'model__C': [0.001, 0.01, 0.1, 1, 10, 100]}\n",
    "]\n",
    "\n",
    "#instantiate gridsearch\n",
    "smote_grid = GridSearchCV(pipe, parameters, cv = 5, verbose = 2, scoring = 'roc_auc')\n",
    "\n",
    "# fit the grid on the upsampled X_train and y_train data\n",
    "smote_fitgrid = smote_grid.fit(X_train_smote, y_train_smote)"
   ]
  },
  {
   "cell_type": "markdown",
   "id": "03539f58",
   "metadata": {},
   "source": [
    "Save the grid output using `dump` from the joblib library."
   ]
  },
  {
   "cell_type": "code",
   "execution_count": 37,
   "id": "599fe8cf",
   "metadata": {},
   "outputs": [
    {
     "data": {
      "text/plain": [
       "['Models/LR_smote_grid.pkl']"
      ]
     },
     "execution_count": 37,
     "metadata": {},
     "output_type": "execute_result"
    }
   ],
   "source": [
    "# select the output to save and give it a name\n",
    "# saves as a .pkl file\n",
    "\n",
    "joblib.dump(smote_fitgrid, 'Models/LR_smote_grid.pkl')"
   ]
  },
  {
   "cell_type": "markdown",
   "id": "6f8a58f8",
   "metadata": {},
   "source": [
    "The grid has fit on X_train_smote and y_train_smote. \n",
    "\n",
    "The results of the gridsearch can be saved in a dataframe using `cv_results` to get the grid outputs."
   ]
  },
  {
   "cell_type": "code",
   "execution_count": 38,
   "id": "42271b7e",
   "metadata": {},
   "outputs": [
    {
     "data": {
      "text/html": [
       "<div>\n",
       "<style scoped>\n",
       "    .dataframe tbody tr th:only-of-type {\n",
       "        vertical-align: middle;\n",
       "    }\n",
       "\n",
       "    .dataframe tbody tr th {\n",
       "        vertical-align: top;\n",
       "    }\n",
       "\n",
       "    .dataframe thead th {\n",
       "        text-align: right;\n",
       "    }\n",
       "</style>\n",
       "<table border=\"1\" class=\"dataframe\">\n",
       "  <thead>\n",
       "    <tr style=\"text-align: right;\">\n",
       "      <th></th>\n",
       "      <th>mean_fit_time</th>\n",
       "      <th>std_fit_time</th>\n",
       "      <th>mean_score_time</th>\n",
       "      <th>std_score_time</th>\n",
       "      <th>param_model</th>\n",
       "      <th>param_model__C</th>\n",
       "      <th>param_normalise</th>\n",
       "      <th>params</th>\n",
       "      <th>split0_test_score</th>\n",
       "      <th>split1_test_score</th>\n",
       "      <th>split2_test_score</th>\n",
       "      <th>split3_test_score</th>\n",
       "      <th>split4_test_score</th>\n",
       "      <th>mean_test_score</th>\n",
       "      <th>std_test_score</th>\n",
       "      <th>rank_test_score</th>\n",
       "    </tr>\n",
       "  </thead>\n",
       "  <tbody>\n",
       "    <tr>\n",
       "      <th>0</th>\n",
       "      <td>0.717077</td>\n",
       "      <td>0.017837</td>\n",
       "      <td>0.170095</td>\n",
       "      <td>0.001170</td>\n",
       "      <td>LogisticRegression(C=10)</td>\n",
       "      <td>0.001</td>\n",
       "      <td>StandardScaler()</td>\n",
       "      <td>{'model': LogisticRegression(C=10), 'model__C'...</td>\n",
       "      <td>0.653871</td>\n",
       "      <td>0.705576</td>\n",
       "      <td>0.802140</td>\n",
       "      <td>0.801355</td>\n",
       "      <td>0.801821</td>\n",
       "      <td>0.752953</td>\n",
       "      <td>0.061987</td>\n",
       "      <td>6</td>\n",
       "    </tr>\n",
       "    <tr>\n",
       "      <th>1</th>\n",
       "      <td>0.575941</td>\n",
       "      <td>0.005469</td>\n",
       "      <td>0.168525</td>\n",
       "      <td>0.001508</td>\n",
       "      <td>LogisticRegression(C=10)</td>\n",
       "      <td>0.001</td>\n",
       "      <td>None</td>\n",
       "      <td>{'model': LogisticRegression(C=10), 'model__C'...</td>\n",
       "      <td>0.541774</td>\n",
       "      <td>0.543005</td>\n",
       "      <td>0.539864</td>\n",
       "      <td>0.543086</td>\n",
       "      <td>0.541228</td>\n",
       "      <td>0.541791</td>\n",
       "      <td>0.001199</td>\n",
       "      <td>7</td>\n",
       "    </tr>\n",
       "    <tr>\n",
       "      <th>2</th>\n",
       "      <td>0.751185</td>\n",
       "      <td>0.004808</td>\n",
       "      <td>0.171837</td>\n",
       "      <td>0.000961</td>\n",
       "      <td>LogisticRegression(C=10)</td>\n",
       "      <td>0.01</td>\n",
       "      <td>StandardScaler()</td>\n",
       "      <td>{'model': LogisticRegression(C=10), 'model__C'...</td>\n",
       "      <td>0.654322</td>\n",
       "      <td>0.705823</td>\n",
       "      <td>0.802047</td>\n",
       "      <td>0.801129</td>\n",
       "      <td>0.801680</td>\n",
       "      <td>0.753000</td>\n",
       "      <td>0.061733</td>\n",
       "      <td>5</td>\n",
       "    </tr>\n",
       "    <tr>\n",
       "      <th>3</th>\n",
       "      <td>0.560430</td>\n",
       "      <td>0.005058</td>\n",
       "      <td>0.168891</td>\n",
       "      <td>0.001227</td>\n",
       "      <td>LogisticRegression(C=10)</td>\n",
       "      <td>0.01</td>\n",
       "      <td>None</td>\n",
       "      <td>{'model': LogisticRegression(C=10), 'model__C'...</td>\n",
       "      <td>0.541774</td>\n",
       "      <td>0.543005</td>\n",
       "      <td>0.539864</td>\n",
       "      <td>0.543086</td>\n",
       "      <td>0.541228</td>\n",
       "      <td>0.541791</td>\n",
       "      <td>0.001199</td>\n",
       "      <td>7</td>\n",
       "    </tr>\n",
       "    <tr>\n",
       "      <th>4</th>\n",
       "      <td>0.796362</td>\n",
       "      <td>0.013796</td>\n",
       "      <td>0.170324</td>\n",
       "      <td>0.001860</td>\n",
       "      <td>LogisticRegression(C=10)</td>\n",
       "      <td>0.1</td>\n",
       "      <td>StandardScaler()</td>\n",
       "      <td>{'model': LogisticRegression(C=10), 'model__C'...</td>\n",
       "      <td>0.654387</td>\n",
       "      <td>0.705859</td>\n",
       "      <td>0.802029</td>\n",
       "      <td>0.801089</td>\n",
       "      <td>0.801654</td>\n",
       "      <td>0.753004</td>\n",
       "      <td>0.061693</td>\n",
       "      <td>4</td>\n",
       "    </tr>\n",
       "    <tr>\n",
       "      <th>5</th>\n",
       "      <td>0.556307</td>\n",
       "      <td>0.006210</td>\n",
       "      <td>0.169280</td>\n",
       "      <td>0.001966</td>\n",
       "      <td>LogisticRegression(C=10)</td>\n",
       "      <td>0.1</td>\n",
       "      <td>None</td>\n",
       "      <td>{'model': LogisticRegression(C=10), 'model__C'...</td>\n",
       "      <td>0.541774</td>\n",
       "      <td>0.543005</td>\n",
       "      <td>0.539864</td>\n",
       "      <td>0.543086</td>\n",
       "      <td>0.541228</td>\n",
       "      <td>0.541791</td>\n",
       "      <td>0.001199</td>\n",
       "      <td>7</td>\n",
       "    </tr>\n",
       "    <tr>\n",
       "      <th>6</th>\n",
       "      <td>0.836543</td>\n",
       "      <td>0.020413</td>\n",
       "      <td>0.168436</td>\n",
       "      <td>0.001121</td>\n",
       "      <td>LogisticRegression(C=10)</td>\n",
       "      <td>1</td>\n",
       "      <td>StandardScaler()</td>\n",
       "      <td>{'model': LogisticRegression(C=10), 'model__C'...</td>\n",
       "      <td>0.654396</td>\n",
       "      <td>0.705863</td>\n",
       "      <td>0.802027</td>\n",
       "      <td>0.801083</td>\n",
       "      <td>0.801650</td>\n",
       "      <td>0.753004</td>\n",
       "      <td>0.061688</td>\n",
       "      <td>3</td>\n",
       "    </tr>\n",
       "    <tr>\n",
       "      <th>7</th>\n",
       "      <td>0.558193</td>\n",
       "      <td>0.007780</td>\n",
       "      <td>0.168127</td>\n",
       "      <td>0.000870</td>\n",
       "      <td>LogisticRegression(C=10)</td>\n",
       "      <td>1</td>\n",
       "      <td>None</td>\n",
       "      <td>{'model': LogisticRegression(C=10), 'model__C'...</td>\n",
       "      <td>0.541774</td>\n",
       "      <td>0.543005</td>\n",
       "      <td>0.539864</td>\n",
       "      <td>0.543086</td>\n",
       "      <td>0.541228</td>\n",
       "      <td>0.541791</td>\n",
       "      <td>0.001199</td>\n",
       "      <td>7</td>\n",
       "    </tr>\n",
       "    <tr>\n",
       "      <th>8</th>\n",
       "      <td>0.879160</td>\n",
       "      <td>0.018663</td>\n",
       "      <td>0.170657</td>\n",
       "      <td>0.001715</td>\n",
       "      <td>LogisticRegression(C=10)</td>\n",
       "      <td>10</td>\n",
       "      <td>StandardScaler()</td>\n",
       "      <td>{'model': LogisticRegression(C=10), 'model__C'...</td>\n",
       "      <td>0.654397</td>\n",
       "      <td>0.705864</td>\n",
       "      <td>0.802026</td>\n",
       "      <td>0.801083</td>\n",
       "      <td>0.801650</td>\n",
       "      <td>0.753004</td>\n",
       "      <td>0.061687</td>\n",
       "      <td>1</td>\n",
       "    </tr>\n",
       "    <tr>\n",
       "      <th>9</th>\n",
       "      <td>0.558733</td>\n",
       "      <td>0.003383</td>\n",
       "      <td>0.167809</td>\n",
       "      <td>0.002349</td>\n",
       "      <td>LogisticRegression(C=10)</td>\n",
       "      <td>10</td>\n",
       "      <td>None</td>\n",
       "      <td>{'model': LogisticRegression(C=10), 'model__C'...</td>\n",
       "      <td>0.541774</td>\n",
       "      <td>0.543005</td>\n",
       "      <td>0.539864</td>\n",
       "      <td>0.543086</td>\n",
       "      <td>0.541228</td>\n",
       "      <td>0.541791</td>\n",
       "      <td>0.001199</td>\n",
       "      <td>7</td>\n",
       "    </tr>\n",
       "    <tr>\n",
       "      <th>10</th>\n",
       "      <td>0.926034</td>\n",
       "      <td>0.027239</td>\n",
       "      <td>0.170605</td>\n",
       "      <td>0.002052</td>\n",
       "      <td>LogisticRegression(C=10)</td>\n",
       "      <td>100</td>\n",
       "      <td>StandardScaler()</td>\n",
       "      <td>{'model': LogisticRegression(C=10), 'model__C'...</td>\n",
       "      <td>0.654398</td>\n",
       "      <td>0.705864</td>\n",
       "      <td>0.802026</td>\n",
       "      <td>0.801083</td>\n",
       "      <td>0.801650</td>\n",
       "      <td>0.753004</td>\n",
       "      <td>0.061687</td>\n",
       "      <td>2</td>\n",
       "    </tr>\n",
       "    <tr>\n",
       "      <th>11</th>\n",
       "      <td>0.554874</td>\n",
       "      <td>0.004122</td>\n",
       "      <td>0.168863</td>\n",
       "      <td>0.001016</td>\n",
       "      <td>LogisticRegression(C=10)</td>\n",
       "      <td>100</td>\n",
       "      <td>None</td>\n",
       "      <td>{'model': LogisticRegression(C=10), 'model__C'...</td>\n",
       "      <td>0.541774</td>\n",
       "      <td>0.543005</td>\n",
       "      <td>0.539864</td>\n",
       "      <td>0.543086</td>\n",
       "      <td>0.541228</td>\n",
       "      <td>0.541791</td>\n",
       "      <td>0.001199</td>\n",
       "      <td>7</td>\n",
       "    </tr>\n",
       "  </tbody>\n",
       "</table>\n",
       "</div>"
      ],
      "text/plain": [
       "    mean_fit_time  std_fit_time  mean_score_time  std_score_time  \\\n",
       "0        0.717077      0.017837         0.170095        0.001170   \n",
       "1        0.575941      0.005469         0.168525        0.001508   \n",
       "2        0.751185      0.004808         0.171837        0.000961   \n",
       "3        0.560430      0.005058         0.168891        0.001227   \n",
       "4        0.796362      0.013796         0.170324        0.001860   \n",
       "5        0.556307      0.006210         0.169280        0.001966   \n",
       "6        0.836543      0.020413         0.168436        0.001121   \n",
       "7        0.558193      0.007780         0.168127        0.000870   \n",
       "8        0.879160      0.018663         0.170657        0.001715   \n",
       "9        0.558733      0.003383         0.167809        0.002349   \n",
       "10       0.926034      0.027239         0.170605        0.002052   \n",
       "11       0.554874      0.004122         0.168863        0.001016   \n",
       "\n",
       "                 param_model param_model__C   param_normalise  \\\n",
       "0   LogisticRegression(C=10)          0.001  StandardScaler()   \n",
       "1   LogisticRegression(C=10)          0.001              None   \n",
       "2   LogisticRegression(C=10)           0.01  StandardScaler()   \n",
       "3   LogisticRegression(C=10)           0.01              None   \n",
       "4   LogisticRegression(C=10)            0.1  StandardScaler()   \n",
       "5   LogisticRegression(C=10)            0.1              None   \n",
       "6   LogisticRegression(C=10)              1  StandardScaler()   \n",
       "7   LogisticRegression(C=10)              1              None   \n",
       "8   LogisticRegression(C=10)             10  StandardScaler()   \n",
       "9   LogisticRegression(C=10)             10              None   \n",
       "10  LogisticRegression(C=10)            100  StandardScaler()   \n",
       "11  LogisticRegression(C=10)            100              None   \n",
       "\n",
       "                                               params  split0_test_score  \\\n",
       "0   {'model': LogisticRegression(C=10), 'model__C'...           0.653871   \n",
       "1   {'model': LogisticRegression(C=10), 'model__C'...           0.541774   \n",
       "2   {'model': LogisticRegression(C=10), 'model__C'...           0.654322   \n",
       "3   {'model': LogisticRegression(C=10), 'model__C'...           0.541774   \n",
       "4   {'model': LogisticRegression(C=10), 'model__C'...           0.654387   \n",
       "5   {'model': LogisticRegression(C=10), 'model__C'...           0.541774   \n",
       "6   {'model': LogisticRegression(C=10), 'model__C'...           0.654396   \n",
       "7   {'model': LogisticRegression(C=10), 'model__C'...           0.541774   \n",
       "8   {'model': LogisticRegression(C=10), 'model__C'...           0.654397   \n",
       "9   {'model': LogisticRegression(C=10), 'model__C'...           0.541774   \n",
       "10  {'model': LogisticRegression(C=10), 'model__C'...           0.654398   \n",
       "11  {'model': LogisticRegression(C=10), 'model__C'...           0.541774   \n",
       "\n",
       "    split1_test_score  split2_test_score  split3_test_score  \\\n",
       "0            0.705576           0.802140           0.801355   \n",
       "1            0.543005           0.539864           0.543086   \n",
       "2            0.705823           0.802047           0.801129   \n",
       "3            0.543005           0.539864           0.543086   \n",
       "4            0.705859           0.802029           0.801089   \n",
       "5            0.543005           0.539864           0.543086   \n",
       "6            0.705863           0.802027           0.801083   \n",
       "7            0.543005           0.539864           0.543086   \n",
       "8            0.705864           0.802026           0.801083   \n",
       "9            0.543005           0.539864           0.543086   \n",
       "10           0.705864           0.802026           0.801083   \n",
       "11           0.543005           0.539864           0.543086   \n",
       "\n",
       "    split4_test_score  mean_test_score  std_test_score  rank_test_score  \n",
       "0            0.801821         0.752953        0.061987                6  \n",
       "1            0.541228         0.541791        0.001199                7  \n",
       "2            0.801680         0.753000        0.061733                5  \n",
       "3            0.541228         0.541791        0.001199                7  \n",
       "4            0.801654         0.753004        0.061693                4  \n",
       "5            0.541228         0.541791        0.001199                7  \n",
       "6            0.801650         0.753004        0.061688                3  \n",
       "7            0.541228         0.541791        0.001199                7  \n",
       "8            0.801650         0.753004        0.061687                1  \n",
       "9            0.541228         0.541791        0.001199                7  \n",
       "10           0.801650         0.753004        0.061687                2  \n",
       "11           0.541228         0.541791        0.001199                7  "
      ]
     },
     "execution_count": 38,
     "metadata": {},
     "output_type": "execute_result"
    }
   ],
   "source": [
    "smote_df = pd.DataFrame(smote_fitgrid.cv_results_)\n",
    "smote_df"
   ]
  },
  {
   "cell_type": "code",
   "execution_count": 39,
   "id": "e72a308c",
   "metadata": {
    "scrolled": true
   },
   "outputs": [
    {
     "data": {
      "text/html": [
       "<style>#sk-container-id-8 {color: black;background-color: white;}#sk-container-id-8 pre{padding: 0;}#sk-container-id-8 div.sk-toggleable {background-color: white;}#sk-container-id-8 label.sk-toggleable__label {cursor: pointer;display: block;width: 100%;margin-bottom: 0;padding: 0.3em;box-sizing: border-box;text-align: center;}#sk-container-id-8 label.sk-toggleable__label-arrow:before {content: \"▸\";float: left;margin-right: 0.25em;color: #696969;}#sk-container-id-8 label.sk-toggleable__label-arrow:hover:before {color: black;}#sk-container-id-8 div.sk-estimator:hover label.sk-toggleable__label-arrow:before {color: black;}#sk-container-id-8 div.sk-toggleable__content {max-height: 0;max-width: 0;overflow: hidden;text-align: left;background-color: #f0f8ff;}#sk-container-id-8 div.sk-toggleable__content pre {margin: 0.2em;color: black;border-radius: 0.25em;background-color: #f0f8ff;}#sk-container-id-8 input.sk-toggleable__control:checked~div.sk-toggleable__content {max-height: 200px;max-width: 100%;overflow: auto;}#sk-container-id-8 input.sk-toggleable__control:checked~label.sk-toggleable__label-arrow:before {content: \"▾\";}#sk-container-id-8 div.sk-estimator input.sk-toggleable__control:checked~label.sk-toggleable__label {background-color: #d4ebff;}#sk-container-id-8 div.sk-label input.sk-toggleable__control:checked~label.sk-toggleable__label {background-color: #d4ebff;}#sk-container-id-8 input.sk-hidden--visually {border: 0;clip: rect(1px 1px 1px 1px);clip: rect(1px, 1px, 1px, 1px);height: 1px;margin: -1px;overflow: hidden;padding: 0;position: absolute;width: 1px;}#sk-container-id-8 div.sk-estimator {font-family: monospace;background-color: #f0f8ff;border: 1px dotted black;border-radius: 0.25em;box-sizing: border-box;margin-bottom: 0.5em;}#sk-container-id-8 div.sk-estimator:hover {background-color: #d4ebff;}#sk-container-id-8 div.sk-parallel-item::after {content: \"\";width: 100%;border-bottom: 1px solid gray;flex-grow: 1;}#sk-container-id-8 div.sk-label:hover label.sk-toggleable__label {background-color: #d4ebff;}#sk-container-id-8 div.sk-serial::before {content: \"\";position: absolute;border-left: 1px solid gray;box-sizing: border-box;top: 0;bottom: 0;left: 50%;z-index: 0;}#sk-container-id-8 div.sk-serial {display: flex;flex-direction: column;align-items: center;background-color: white;padding-right: 0.2em;padding-left: 0.2em;position: relative;}#sk-container-id-8 div.sk-item {position: relative;z-index: 1;}#sk-container-id-8 div.sk-parallel {display: flex;align-items: stretch;justify-content: center;background-color: white;position: relative;}#sk-container-id-8 div.sk-item::before, #sk-container-id-8 div.sk-parallel-item::before {content: \"\";position: absolute;border-left: 1px solid gray;box-sizing: border-box;top: 0;bottom: 0;left: 50%;z-index: -1;}#sk-container-id-8 div.sk-parallel-item {display: flex;flex-direction: column;z-index: 1;position: relative;background-color: white;}#sk-container-id-8 div.sk-parallel-item:first-child::after {align-self: flex-end;width: 50%;}#sk-container-id-8 div.sk-parallel-item:last-child::after {align-self: flex-start;width: 50%;}#sk-container-id-8 div.sk-parallel-item:only-child::after {width: 0;}#sk-container-id-8 div.sk-dashed-wrapped {border: 1px dashed gray;margin: 0 0.4em 0.5em 0.4em;box-sizing: border-box;padding-bottom: 0.4em;background-color: white;}#sk-container-id-8 div.sk-label label {font-family: monospace;font-weight: bold;display: inline-block;line-height: 1.2em;}#sk-container-id-8 div.sk-label-container {text-align: center;}#sk-container-id-8 div.sk-container {/* jupyter's `normalize.less` sets `[hidden] { display: none; }` but bootstrap.min.css set `[hidden] { display: none !important; }` so we also need the `!important` here to be able to override the default hidden behavior on the sphinx rendered scikit-learn.org. See: https://github.com/scikit-learn/scikit-learn/issues/21755 */display: inline-block !important;position: relative;}#sk-container-id-8 div.sk-text-repr-fallback {display: none;}</style><div id=\"sk-container-id-8\" class=\"sk-top-container\"><div class=\"sk-text-repr-fallback\"><pre>Pipeline(steps=[(&#x27;normalise&#x27;, StandardScaler()),\n",
       "                (&#x27;model&#x27;, LogisticRegression(C=10))])</pre><b>In a Jupyter environment, please rerun this cell to show the HTML representation or trust the notebook. <br />On GitHub, the HTML representation is unable to render, please try loading this page with nbviewer.org.</b></div><div class=\"sk-container\" hidden><div class=\"sk-item sk-dashed-wrapped\"><div class=\"sk-label-container\"><div class=\"sk-label sk-toggleable\"><input class=\"sk-toggleable__control sk-hidden--visually\" id=\"sk-estimator-id-14\" type=\"checkbox\" ><label for=\"sk-estimator-id-14\" class=\"sk-toggleable__label sk-toggleable__label-arrow\">Pipeline</label><div class=\"sk-toggleable__content\"><pre>Pipeline(steps=[(&#x27;normalise&#x27;, StandardScaler()),\n",
       "                (&#x27;model&#x27;, LogisticRegression(C=10))])</pre></div></div></div><div class=\"sk-serial\"><div class=\"sk-item\"><div class=\"sk-estimator sk-toggleable\"><input class=\"sk-toggleable__control sk-hidden--visually\" id=\"sk-estimator-id-15\" type=\"checkbox\" ><label for=\"sk-estimator-id-15\" class=\"sk-toggleable__label sk-toggleable__label-arrow\">StandardScaler</label><div class=\"sk-toggleable__content\"><pre>StandardScaler()</pre></div></div></div><div class=\"sk-item\"><div class=\"sk-estimator sk-toggleable\"><input class=\"sk-toggleable__control sk-hidden--visually\" id=\"sk-estimator-id-16\" type=\"checkbox\" ><label for=\"sk-estimator-id-16\" class=\"sk-toggleable__label sk-toggleable__label-arrow\">LogisticRegression</label><div class=\"sk-toggleable__content\"><pre>LogisticRegression(C=10)</pre></div></div></div></div></div></div></div>"
      ],
      "text/plain": [
       "Pipeline(steps=[('normalise', StandardScaler()),\n",
       "                ('model', LogisticRegression(C=10))])"
      ]
     },
     "execution_count": 39,
     "metadata": {},
     "output_type": "execute_result"
    }
   ],
   "source": [
    "smote_fitgrid.best_estimator_"
   ]
  },
  {
   "cell_type": "markdown",
   "id": "b0dc19c1",
   "metadata": {},
   "source": [
    "The best model is normalized using Standard Scaler and has a C value of 10. Re-run the Logistic Regression model using Standard Scaler and C=10 to produce the confusion matrix and the precision, recall and f1-scores."
   ]
  },
  {
   "cell_type": "code",
   "execution_count": 40,
   "id": "1928af4c",
   "metadata": {},
   "outputs": [
    {
     "data": {
      "text/html": [
       "<style>#sk-container-id-9 {color: black;background-color: white;}#sk-container-id-9 pre{padding: 0;}#sk-container-id-9 div.sk-toggleable {background-color: white;}#sk-container-id-9 label.sk-toggleable__label {cursor: pointer;display: block;width: 100%;margin-bottom: 0;padding: 0.3em;box-sizing: border-box;text-align: center;}#sk-container-id-9 label.sk-toggleable__label-arrow:before {content: \"▸\";float: left;margin-right: 0.25em;color: #696969;}#sk-container-id-9 label.sk-toggleable__label-arrow:hover:before {color: black;}#sk-container-id-9 div.sk-estimator:hover label.sk-toggleable__label-arrow:before {color: black;}#sk-container-id-9 div.sk-toggleable__content {max-height: 0;max-width: 0;overflow: hidden;text-align: left;background-color: #f0f8ff;}#sk-container-id-9 div.sk-toggleable__content pre {margin: 0.2em;color: black;border-radius: 0.25em;background-color: #f0f8ff;}#sk-container-id-9 input.sk-toggleable__control:checked~div.sk-toggleable__content {max-height: 200px;max-width: 100%;overflow: auto;}#sk-container-id-9 input.sk-toggleable__control:checked~label.sk-toggleable__label-arrow:before {content: \"▾\";}#sk-container-id-9 div.sk-estimator input.sk-toggleable__control:checked~label.sk-toggleable__label {background-color: #d4ebff;}#sk-container-id-9 div.sk-label input.sk-toggleable__control:checked~label.sk-toggleable__label {background-color: #d4ebff;}#sk-container-id-9 input.sk-hidden--visually {border: 0;clip: rect(1px 1px 1px 1px);clip: rect(1px, 1px, 1px, 1px);height: 1px;margin: -1px;overflow: hidden;padding: 0;position: absolute;width: 1px;}#sk-container-id-9 div.sk-estimator {font-family: monospace;background-color: #f0f8ff;border: 1px dotted black;border-radius: 0.25em;box-sizing: border-box;margin-bottom: 0.5em;}#sk-container-id-9 div.sk-estimator:hover {background-color: #d4ebff;}#sk-container-id-9 div.sk-parallel-item::after {content: \"\";width: 100%;border-bottom: 1px solid gray;flex-grow: 1;}#sk-container-id-9 div.sk-label:hover label.sk-toggleable__label {background-color: #d4ebff;}#sk-container-id-9 div.sk-serial::before {content: \"\";position: absolute;border-left: 1px solid gray;box-sizing: border-box;top: 0;bottom: 0;left: 50%;z-index: 0;}#sk-container-id-9 div.sk-serial {display: flex;flex-direction: column;align-items: center;background-color: white;padding-right: 0.2em;padding-left: 0.2em;position: relative;}#sk-container-id-9 div.sk-item {position: relative;z-index: 1;}#sk-container-id-9 div.sk-parallel {display: flex;align-items: stretch;justify-content: center;background-color: white;position: relative;}#sk-container-id-9 div.sk-item::before, #sk-container-id-9 div.sk-parallel-item::before {content: \"\";position: absolute;border-left: 1px solid gray;box-sizing: border-box;top: 0;bottom: 0;left: 50%;z-index: -1;}#sk-container-id-9 div.sk-parallel-item {display: flex;flex-direction: column;z-index: 1;position: relative;background-color: white;}#sk-container-id-9 div.sk-parallel-item:first-child::after {align-self: flex-end;width: 50%;}#sk-container-id-9 div.sk-parallel-item:last-child::after {align-self: flex-start;width: 50%;}#sk-container-id-9 div.sk-parallel-item:only-child::after {width: 0;}#sk-container-id-9 div.sk-dashed-wrapped {border: 1px dashed gray;margin: 0 0.4em 0.5em 0.4em;box-sizing: border-box;padding-bottom: 0.4em;background-color: white;}#sk-container-id-9 div.sk-label label {font-family: monospace;font-weight: bold;display: inline-block;line-height: 1.2em;}#sk-container-id-9 div.sk-label-container {text-align: center;}#sk-container-id-9 div.sk-container {/* jupyter's `normalize.less` sets `[hidden] { display: none; }` but bootstrap.min.css set `[hidden] { display: none !important; }` so we also need the `!important` here to be able to override the default hidden behavior on the sphinx rendered scikit-learn.org. See: https://github.com/scikit-learn/scikit-learn/issues/21755 */display: inline-block !important;position: relative;}#sk-container-id-9 div.sk-text-repr-fallback {display: none;}</style><div id=\"sk-container-id-9\" class=\"sk-top-container\"><div class=\"sk-text-repr-fallback\"><pre>LogisticRegression(C=10, max_iter=10000, random_state=10)</pre><b>In a Jupyter environment, please rerun this cell to show the HTML representation or trust the notebook. <br />On GitHub, the HTML representation is unable to render, please try loading this page with nbviewer.org.</b></div><div class=\"sk-container\" hidden><div class=\"sk-item\"><div class=\"sk-estimator sk-toggleable\"><input class=\"sk-toggleable__control sk-hidden--visually\" id=\"sk-estimator-id-17\" type=\"checkbox\" checked><label for=\"sk-estimator-id-17\" class=\"sk-toggleable__label sk-toggleable__label-arrow\">LogisticRegression</label><div class=\"sk-toggleable__content\"><pre>LogisticRegression(C=10, max_iter=10000, random_state=10)</pre></div></div></div></div></div>"
      ],
      "text/plain": [
       "LogisticRegression(C=10, max_iter=10000, random_state=10)"
      ]
     },
     "execution_count": 40,
     "metadata": {},
     "output_type": "execute_result"
    }
   ],
   "source": [
    "#Model with SMOTE upsampled scaled data\n",
    "\n",
    "# Scale the SMOTE upsampled data\n",
    "#instantiate the scaler\n",
    "scaler = StandardScaler()\n",
    "\n",
    "# fit the scaler on the smote data\n",
    "scaler.fit(X_train_smote)\n",
    "\n",
    "# transform X_train_smote and X_validation\n",
    "X_train_smote_s = scaler.transform(X_train_smote)\n",
    "X_validation_s = scaler.transform(X_validation)\n",
    "\n",
    "\n",
    "#instantiate the model\n",
    "LR_model_smote = LogisticRegression(random_state = 10, max_iter = 10000, C = 10)\n",
    "\n",
    "# fit the model on the scaled X_train_smote_s and y_train_smote_s\n",
    "LR_model_smote.fit(X_train_smote_s, y_train_smote)"
   ]
  },
  {
   "cell_type": "code",
   "execution_count": 41,
   "id": "fbad5e1a",
   "metadata": {
    "scrolled": false
   },
   "outputs": [
    {
     "data": {
      "image/png": "[encoded data removed]",
      "text/plain": [
       "<Figure size 432x288 with 2 Axes>"
      ]
     },
     "metadata": {
      "needs_background": "light"
     },
     "output_type": "display_data"
    }
   ],
   "source": [
    "plot_confusion_matrix(LR_model_smote, X_validation_s, y_validation)\n",
    "plt.title(\"SMOTE Upsampled Confusion Matrix\");"
   ]
  },
  {
   "cell_type": "markdown",
   "id": "647d8dd1",
   "metadata": {},
   "source": [
    "The model improves at predicting class 1 with the SMOTE upsampled data, but it seems to be predicting class 0 more than class 1. "
   ]
  },
  {
   "cell_type": "markdown",
   "id": "b686891f",
   "metadata": {},
   "source": [
    "Calculate the model predictions using the scaled X_validation data."
   ]
  },
  {
   "cell_type": "code",
   "execution_count": 42,
   "id": "8f51bf0c",
   "metadata": {},
   "outputs": [],
   "source": [
    "y_predictions_smote = LR_model_smote.predict(X_validation_s)"
   ]
  },
  {
   "cell_type": "markdown",
   "id": "74732f5c",
   "metadata": {},
   "source": [
    "Create a classification report."
   ]
  },
  {
   "cell_type": "code",
   "execution_count": 43,
   "id": "d5c1806f",
   "metadata": {
    "scrolled": false
   },
   "outputs": [
    {
     "name": "stdout",
     "output_type": "stream",
     "text": [
      "              precision    recall  f1-score   support\n",
      "\n",
      "           0       0.81      0.77      0.79     97346\n",
      "           1       0.40      0.45      0.43     32967\n",
      "\n",
      "    accuracy                           0.69    130313\n",
      "   macro avg       0.60      0.61      0.61    130313\n",
      "weighted avg       0.70      0.69      0.70    130313\n",
      "\n"
     ]
    }
   ],
   "source": [
    "report_smote = classification_report(y_validation, y_predictions_smote)\n",
    "print(report_smote)"
   ]
  },
  {
   "cell_type": "markdown",
   "id": "180e2007",
   "metadata": {},
   "source": [
    "Precision and recall scores have decreased for class 1 using SMOTE upsampled data, as compared to the upsampled/downsampled data.  "
   ]
  },
  {
   "cell_type": "markdown",
   "id": "68c851ac",
   "metadata": {},
   "source": [
    "---"
   ]
  },
  {
   "cell_type": "markdown",
   "id": "b7619036",
   "metadata": {},
   "source": [
    "## Model Summary Table\n",
    "\n",
    "The results of the classification reports of each model are summarized in the table below.\n",
    "\n",
    "| Data        | Class   | Precision | Recall | F1   |\n",
    "|-------------|---------|-----------|--------|------|\n",
    "| Original    |         |           |        |      |\n",
    "|             | Class 0 | 0.76      | 0.98   | 0.86 |\n",
    "|             | Class 1 | 0.63      | 0.10   | 0.17 |\n",
    "| Upsampled   |         |           |        |      |\n",
    "|             | Class 0 | 0.83      | 0.63   | 0.72 |\n",
    "|             | Class 1 | 0.37      | 0.63   | 0.46 |\n",
    "| Downsampled |         |           |        |      |\n",
    "|             | Class 0 | 0.83      | 0.63   | 0.72 |\n",
    "|             | Class 1 | 0.37      | 0.63   | 0.46 |\n",
    "| SMOTE       |         |           |        |      |\n",
    "|             | Class 0 | 0.81      | 0.77   | 0.79 |\n",
    "|             | Class 1 | 0.40      | 0.45   | 0.43 | "
   ]
  },
  {
   "cell_type": "markdown",
   "id": "22a05353",
   "metadata": {},
   "source": [
    "---"
   ]
  },
  {
   "cell_type": "markdown",
   "id": "358b1204",
   "metadata": {},
   "source": [
    "## Feature Evaluation"
   ]
  },
  {
   "cell_type": "markdown",
   "id": "0755aad8",
   "metadata": {},
   "source": [
    "The best results from the optimized models were from the upsampled and downsampled data sets. Since I got the same f1-scores for each model, I will evaluate the features using the downsampled data."
   ]
  },
  {
   "cell_type": "markdown",
   "id": "b3e6b2d0",
   "metadata": {},
   "source": [
    "Get the coefficients for each feature from the downsampled model using `coef`."
   ]
  },
  {
   "cell_type": "code",
   "execution_count": 44,
   "id": "1797be8b",
   "metadata": {},
   "outputs": [],
   "source": [
    "LR_down_coefs = LR_model_down.coef_"
   ]
  },
  {
   "cell_type": "markdown",
   "id": "1ffcbc0a",
   "metadata": {},
   "source": [
    "Create a dataframe with the feature names and the coefficient values."
   ]
  },
  {
   "cell_type": "code",
   "execution_count": 45,
   "id": "e1bdcab1",
   "metadata": {},
   "outputs": [
    {
     "data": {
      "text/html": [
       "<div>\n",
       "<style scoped>\n",
       "    .dataframe tbody tr th:only-of-type {\n",
       "        vertical-align: middle;\n",
       "    }\n",
       "\n",
       "    .dataframe tbody tr th {\n",
       "        vertical-align: top;\n",
       "    }\n",
       "\n",
       "    .dataframe thead th {\n",
       "        text-align: right;\n",
       "    }\n",
       "</style>\n",
       "<table border=\"1\" class=\"dataframe\">\n",
       "  <thead>\n",
       "    <tr style=\"text-align: right;\">\n",
       "      <th></th>\n",
       "      <th>Coefs</th>\n",
       "    </tr>\n",
       "    <tr>\n",
       "      <th>Feature</th>\n",
       "      <th></th>\n",
       "    </tr>\n",
       "  </thead>\n",
       "  <tbody>\n",
       "    <tr>\n",
       "      <th>Year</th>\n",
       "      <td>0.330665</td>\n",
       "    </tr>\n",
       "    <tr>\n",
       "      <th>Quarter</th>\n",
       "      <td>0.048220</td>\n",
       "    </tr>\n",
       "    <tr>\n",
       "      <th>DayofMonth</th>\n",
       "      <td>-0.018848</td>\n",
       "    </tr>\n",
       "    <tr>\n",
       "      <th>DayofWeek</th>\n",
       "      <td>0.081982</td>\n",
       "    </tr>\n",
       "    <tr>\n",
       "      <th>CRSDepTime</th>\n",
       "      <td>0.242304</td>\n",
       "    </tr>\n",
       "    <tr>\n",
       "      <th>CRSElapsedTime</th>\n",
       "      <td>0.190570</td>\n",
       "    </tr>\n",
       "    <tr>\n",
       "      <th>PRCP</th>\n",
       "      <td>0.220298</td>\n",
       "    </tr>\n",
       "    <tr>\n",
       "      <th>TMIN</th>\n",
       "      <td>0.079663</td>\n",
       "    </tr>\n",
       "    <tr>\n",
       "      <th>WDF2</th>\n",
       "      <td>-0.003309</td>\n",
       "    </tr>\n",
       "    <tr>\n",
       "      <th>WSF2</th>\n",
       "      <td>0.069792</td>\n",
       "    </tr>\n",
       "    <tr>\n",
       "      <th>Dest_State_Population</th>\n",
       "      <td>0.053850</td>\n",
       "    </tr>\n",
       "    <tr>\n",
       "      <th>Alaska Airlines Inc.</th>\n",
       "      <td>0.005578</td>\n",
       "    </tr>\n",
       "    <tr>\n",
       "      <th>American Airlines Inc.</th>\n",
       "      <td>0.005220</td>\n",
       "    </tr>\n",
       "    <tr>\n",
       "      <th>Delta Air Lines Inc.</th>\n",
       "      <td>-0.011049</td>\n",
       "    </tr>\n",
       "    <tr>\n",
       "      <th>Endeavor Air Inc.</th>\n",
       "      <td>-0.231403</td>\n",
       "    </tr>\n",
       "    <tr>\n",
       "      <th>Envoy Air</th>\n",
       "      <td>0.009461</td>\n",
       "    </tr>\n",
       "    <tr>\n",
       "      <th>ExpressJet Airlines Inc.</th>\n",
       "      <td>-0.017571</td>\n",
       "    </tr>\n",
       "    <tr>\n",
       "      <th>Frontier Airlines Inc.</th>\n",
       "      <td>-0.021475</td>\n",
       "    </tr>\n",
       "    <tr>\n",
       "      <th>JetBlue Airways</th>\n",
       "      <td>0.057008</td>\n",
       "    </tr>\n",
       "    <tr>\n",
       "      <th>Mesa Airlines Inc.</th>\n",
       "      <td>-0.051905</td>\n",
       "    </tr>\n",
       "    <tr>\n",
       "      <th>PSA Airlines Inc.</th>\n",
       "      <td>-0.004778</td>\n",
       "    </tr>\n",
       "    <tr>\n",
       "      <th>Republic Airways</th>\n",
       "      <td>-0.079588</td>\n",
       "    </tr>\n",
       "    <tr>\n",
       "      <th>SkyWest Airlines Inc.</th>\n",
       "      <td>0.053933</td>\n",
       "    </tr>\n",
       "    <tr>\n",
       "      <th>Southwest Airlines Co.</th>\n",
       "      <td>0.229421</td>\n",
       "    </tr>\n",
       "    <tr>\n",
       "      <th>Spirit Air Lines</th>\n",
       "      <td>0.115638</td>\n",
       "    </tr>\n",
       "    <tr>\n",
       "      <th>United Air Lines Inc.</th>\n",
       "      <td>-0.005611</td>\n",
       "    </tr>\n",
       "  </tbody>\n",
       "</table>\n",
       "</div>"
      ],
      "text/plain": [
       "                             Coefs\n",
       "Feature                           \n",
       "Year                      0.330665\n",
       "Quarter                   0.048220\n",
       "DayofMonth               -0.018848\n",
       "DayofWeek                 0.081982\n",
       "CRSDepTime                0.242304\n",
       "CRSElapsedTime            0.190570\n",
       "PRCP                      0.220298\n",
       "TMIN                      0.079663\n",
       "WDF2                     -0.003309\n",
       "WSF2                      0.069792\n",
       "Dest_State_Population     0.053850\n",
       "Alaska Airlines Inc.      0.005578\n",
       "American Airlines Inc.    0.005220\n",
       "Delta Air Lines Inc.     -0.011049\n",
       "Endeavor Air Inc.        -0.231403\n",
       "Envoy Air                 0.009461\n",
       "ExpressJet Airlines Inc. -0.017571\n",
       "Frontier Airlines Inc.   -0.021475\n",
       "JetBlue Airways           0.057008\n",
       "Mesa Airlines Inc.       -0.051905\n",
       "PSA Airlines Inc.        -0.004778\n",
       "Republic Airways         -0.079588\n",
       "SkyWest Airlines Inc.     0.053933\n",
       "Southwest Airlines Co.    0.229421\n",
       "Spirit Air Lines          0.115638\n",
       "United Air Lines Inc.    -0.005611"
      ]
     },
     "execution_count": 45,
     "metadata": {},
     "output_type": "execute_result"
    }
   ],
   "source": [
    "# Put the feature names and their coefficient values into a data frame\n",
    "coef_df = pd.DataFrame({'Feature': X_train.columns, 'Coefs': LR_model_down.coef_[0]})\n",
    "\n",
    "# set the index as the variable name for plotting\n",
    "coef_df = coef_df.set_index(\"Feature\")\n",
    "coef_df"
   ]
  },
  {
   "cell_type": "markdown",
   "id": "484b3106",
   "metadata": {},
   "source": [
    "Plot out the values of each coefficient to see the feature importance for each class."
   ]
  },
  {
   "cell_type": "code",
   "execution_count": 46,
   "id": "4df305da",
   "metadata": {},
   "outputs": [
    {
     "data": {
      "image/png": "[encoded data removed]",
      "text/plain": [
       "<Figure size 1080x720 with 1 Axes>"
      ]
     },
     "metadata": {
      "needs_background": "light"
     },
     "output_type": "display_data"
    }
   ],
   "source": [
    "coef_df.plot(kind = \"barh\", figsize = (15,10))\n",
    "\n",
    "plt.title(\"Feature Coefficients\", fontsize = 15)\n",
    "plt.xlabel(\"Coefficients\", fontsize = 12)\n",
    "plt.ylabel(\"Feature\", fontsize = 12)\n",
    "\n",
    "plt.show()"
   ]
  },
  {
   "cell_type": "markdown",
   "id": "8e900a2a",
   "metadata": {},
   "source": [
    "Observations:\n",
    "\n",
    "- The year coefficient is the largest positive coefficient for Class 1 meaning that flights in 2021 are more likely to be delayed which was shown in the EDA section. In 2020 there was a decrease in the number of flights operating per day and we also know that less people were flying so there were less delays as a result. When travel returned to near pre-pandemic levels there were more likely to be delays since there were more travelers and a shortage of staff for all of these flights;\n",
    "- Departure Time (CRSDepTime) has a positive coefficient for Class 1, meaning that flights that depart later in the day are more likely to be delayed, this makes sense since we expect more delays later in the day since there are likely to be knock-on effects which could cause delays later in the day;\n",
    "- Elapsed Time (CRSElapsedTime) also has a positive coefficient for Class 1, meaning that flights that are longer distances are more likely to be delayed;\n",
    "- Precipitation (PRCP) increases the likelihood of delays, and where precipitation is lower the flights are more likely to leave on time;\n",
    "- Southwest Airlines have a positive coefficient meaning that flying with this airline is likely to increase the chances of a delay, additionally Endeavor Air Inc. has a negative coefficient meaning that flying with this airline is more likely to result in an on-time departure."
   ]
  },
  {
   "cell_type": "markdown",
   "id": "b808851e",
   "metadata": {},
   "source": [
    "Calculate the odds ratio for each class by indexing the coefficients and using `np.exp` to calculate the exponential function of each coefficient. Start with class 1."
   ]
  },
  {
   "cell_type": "code",
   "execution_count": 47,
   "id": "8de3df69",
   "metadata": {},
   "outputs": [],
   "source": [
    "odds = np.exp(LR_model_down.coef_)"
   ]
  },
  {
   "cell_type": "code",
   "execution_count": 48,
   "id": "162b2578",
   "metadata": {},
   "outputs": [
    {
     "data": {
      "text/plain": [
       "array([[1.39189394, 1.04940146, 0.98132829, 1.08543643, 1.2741815 ,\n",
       "        1.20993868, 1.24644814, 1.08292243, 0.99669664, 1.07228559,\n",
       "        1.0553264 , 1.00559343, 1.00523332, 0.9890122 , 0.79342002,\n",
       "        1.009506  , 0.98258281, 0.97875363, 1.05866425, 0.9494191 ,\n",
       "        0.99523321, 0.92349683, 1.05541396, 1.25787108, 1.12258921,\n",
       "        0.99440504]])"
      ]
     },
     "execution_count": 48,
     "metadata": {},
     "output_type": "execute_result"
    }
   ],
   "source": [
    "odds"
   ]
  },
  {
   "cell_type": "markdown",
   "id": "c507629b",
   "metadata": {},
   "source": [
    "Plot the odds ratio for each feature by class."
   ]
  },
  {
   "cell_type": "code",
   "execution_count": 49,
   "id": "6a3bbd81",
   "metadata": {
    "scrolled": false
   },
   "outputs": [
    {
     "ename": "NameError",
     "evalue": "name 'odds_df' is not defined",
     "output_type": "error",
     "traceback": [
      "\u001b[0;31m---------------------------------------------------------------------------\u001b[0m",
      "\u001b[0;31mNameError\u001b[0m                                 Traceback (most recent call last)",
      "\u001b[0;32m/var/folders/z5/1yfbtl1s4fvfx1dypyr78xq40000gn/T/ipykernel_11978/4112296501.py\u001b[0m in \u001b[0;36m<module>\u001b[0;34m\u001b[0m\n\u001b[0;32m----> 1\u001b[0;31m \u001b[0modds_df\u001b[0m\u001b[0;34m.\u001b[0m\u001b[0mplot\u001b[0m\u001b[0;34m(\u001b[0m\u001b[0mkind\u001b[0m \u001b[0;34m=\u001b[0m \u001b[0;34m\"barh\"\u001b[0m\u001b[0;34m,\u001b[0m \u001b[0mstacked\u001b[0m \u001b[0;34m=\u001b[0m \u001b[0;32mFalse\u001b[0m\u001b[0;34m,\u001b[0m \u001b[0mfigsize\u001b[0m \u001b[0;34m=\u001b[0m \u001b[0;34m(\u001b[0m\u001b[0;36m15\u001b[0m\u001b[0;34m,\u001b[0m\u001b[0;36m10\u001b[0m\u001b[0;34m)\u001b[0m\u001b[0;34m)\u001b[0m\u001b[0;34m\u001b[0m\u001b[0;34m\u001b[0m\u001b[0m\n\u001b[0m\u001b[1;32m      2\u001b[0m \u001b[0mplt\u001b[0m\u001b[0;34m.\u001b[0m\u001b[0maxvline\u001b[0m\u001b[0;34m(\u001b[0m\u001b[0mx\u001b[0m \u001b[0;34m=\u001b[0m \u001b[0;36m1\u001b[0m\u001b[0;34m,\u001b[0m \u001b[0mc\u001b[0m \u001b[0;34m=\u001b[0m \u001b[0;34m\"gray\"\u001b[0m\u001b[0;34m,\u001b[0m \u001b[0mlinestyle\u001b[0m\u001b[0;34m=\u001b[0m\u001b[0;34m\"--\"\u001b[0m\u001b[0;34m)\u001b[0m\u001b[0;34m\u001b[0m\u001b[0;34m\u001b[0m\u001b[0m\n\u001b[1;32m      3\u001b[0m \u001b[0;34m\u001b[0m\u001b[0m\n\u001b[1;32m      4\u001b[0m \u001b[0mplt\u001b[0m\u001b[0;34m.\u001b[0m\u001b[0mtitle\u001b[0m\u001b[0;34m(\u001b[0m\u001b[0;34m\"Odds Ratio\"\u001b[0m\u001b[0;34m)\u001b[0m\u001b[0;34m\u001b[0m\u001b[0;34m\u001b[0m\u001b[0m\n\u001b[1;32m      5\u001b[0m \u001b[0mplt\u001b[0m\u001b[0;34m.\u001b[0m\u001b[0mxlabel\u001b[0m\u001b[0;34m(\u001b[0m\u001b[0;34m\"Odds\"\u001b[0m\u001b[0;34m)\u001b[0m\u001b[0;34m\u001b[0m\u001b[0;34m\u001b[0m\u001b[0m\n",
      "\u001b[0;31mNameError\u001b[0m: name 'odds_df' is not defined"
     ]
    }
   ],
   "source": [
    "odds_df.plot(kind = \"barh\", stacked = False, figsize = (15,10))\n",
    "plt.axvline(x = 1, c = \"gray\", linestyle=\"--\")\n",
    "\n",
    "plt.title(\"Odds Ratio\")\n",
    "plt.xlabel(\"Odds\")\n",
    "plt.ylabel(\"Feature Name\")\n",
    "\n",
    "plt.show()"
   ]
  },
  {
   "cell_type": "markdown",
   "id": "f706ca24",
   "metadata": {},
   "source": [
    "Observations:\n",
    "\n",
    "- The odds ratio shows similar patterns to the coefficients, such that Year, Elapsed Time, Departure Time, Precipitation and Southwest Airlines are more likely to increase the odds of a flight being delayed."
   ]
  },
  {
   "cell_type": "markdown",
   "id": "00924974",
   "metadata": {},
   "source": [
    "---"
   ]
  },
  {
   "cell_type": "markdown",
   "id": "56f244ab",
   "metadata": {},
   "source": [
    "## Next Steps\n",
    "\n",
    "I'm going to use Decision Trees in the next notebook (Notebook 6) to test if the precision and recall scores improve with another model."
   ]
  },
  {
   "cell_type": "markdown",
   "id": "0aeee270",
   "metadata": {},
   "source": [
    "---"
   ]
  }
 ],
 "metadata": {
  "kernelspec": {
   "display_name": "Python 3 (ipykernel)",
   "language": "python",
   "name": "python3"
  },
  "language_info": {
   "codemirror_mode": {
    "name": "ipython",
    "version": 3
   },
   "file_extension": ".py",
   "mimetype": "text/x-python",
   "name": "python",
   "nbconvert_exporter": "python",
   "pygments_lexer": "ipython3",
   "version": "3.9.7"
  },
  "toc": {
   "base_numbering": 1,
   "nav_menu": {},
   "number_sections": true,
   "sideBar": true,
   "skip_h1_title": false,
   "title_cell": "Table of Contents",
   "title_sidebar": "Contents",
   "toc_cell": true,
   "toc_position": {},
   "toc_section_display": false,
   "toc_window_display": false
  },
  "varInspector": {
   "cols": {
    "lenName": 16,
    "lenType": 16,
    "lenVar": 40
   },
   "kernels_config": {
    "python": {
     "delete_cmd_postfix": "",
     "delete_cmd_prefix": "del ",
     "library": "var_list.py",
     "varRefreshCmd": "print(var_dic_list())"
    },
    "r": {
     "delete_cmd_postfix": ") ",
     "delete_cmd_prefix": "rm(",
     "library": "var_list.r",
     "varRefreshCmd": "cat(var_dic_list()) "
    }
   },
   "types_to_exclude": [
    "module",
    "function",
    "builtin_function_or_method",
    "instance",
    "_Feature"
   ],
   "window_display": false
  }
 },
 "nbformat": 4,
 "nbformat_minor": 5
}
